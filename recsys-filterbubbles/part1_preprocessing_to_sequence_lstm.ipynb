{
 "cells": [
  {
   "cell_type": "code",
   "execution_count": 9,
   "id": "a3abbbcc-60dc-4faf-8002-e3e832ee965f",
   "metadata": {},
   "outputs": [],
   "source": [
    "import os\n",
    "import numpy as np"
   ]
  },
  {
   "cell_type": "markdown",
   "id": "4eabcf71-e5fc-4b3f-be73-f68d52b177c3",
   "metadata": {},
   "source": [
    "# Make sure you are in the recsys-filterbubbles/ directory"
   ]
  },
  {
   "cell_type": "code",
   "execution_count": 5,
   "id": "8c82eea0-8902-4d27-928b-58c28f26d3f7",
   "metadata": {},
   "outputs": [],
   "source": [
    "assert os.getcwd().split('/')[-1] == 'recsys-filterbubbles'"
   ]
  },
  {
   "cell_type": "markdown",
   "id": "c291acaf-bb4e-4d18-9170-da492ffd8399",
   "metadata": {},
   "source": [
    "# Preprocessing"
   ]
  },
  {
   "cell_type": "markdown",
   "id": "43dd8d0e-69f8-4a4b-87da-7dd1a120e78b",
   "metadata": {},
   "source": [
    "Our LSTM takes in a specific input format. In this section, we convert our saved dataframe into sequences of items for next item prediction.\n",
    "\n",
    "Please configure the constants at the top of **mitigating-filter-bubbles-final/recsys-filterbubbles/preprocess_for_lstm.py**"
   ]
  },
  {
   "cell_type": "code",
   "execution_count": 7,
   "id": "912d1591-a317-4aa3-ab8b-bf0b8fbba76a",
   "metadata": {},
   "outputs": [
    {
     "name": "stdout",
     "output_type": "stream",
     "text": [
      "Starting data retrieval for: /raid/home/myang349/mitigating-filter-bubbles-final/recsys-filterbubbles/data/\n",
      "\n",
      "Preprocessing Data into Sequence...\n",
      "\n",
      "Original # of interactions: 105745\n",
      "Post-Filtering # Of Interactions: 105745\n",
      "# of Training Points: 83807\n",
      "# of Valid Points: 10464\n",
      "# of Test Points: 11474\n",
      "\n",
      "Re-indexing to fill in gaps\n",
      "Max item id in df: 1741\n",
      "Max itemid in data (before re-indexing): 1742\n",
      "Max itemid in data (after re-indexing): 1742\n",
      "\n",
      "Pickling the community mapping...\n",
      "\n",
      "Pickling the re-indexed datasets...\n",
      "Done!\n"
     ]
    }
   ],
   "source": [
    "%run preprocess_for_lstm.py"
   ]
  },
  {
   "cell_type": "markdown",
   "id": "a9cfc90a-7cfb-4787-8484-39acf47153ec",
   "metadata": {},
   "source": [
    "# Explanation of Output Files"
   ]
  },
  {
   "cell_type": "markdown",
   "id": "5faac689-0ac4-4930-b19e-3a826e03d07d",
   "metadata": {},
   "source": [
    "The above script produces the following files (in the directory `mitigating-filter-bubbles-final/recsys-filterbubbles/data/twitch_sequence`)\n",
    "- train.data\n",
    "    - First 80% of a user's interactions\n",
    "- valid.data\n",
    "    - Second to last 10% of a user's interactions\n",
    "- test.data\n",
    "    - Last 10% of a user's interactions\n",
    "- lstm_idx_communities.data\n",
    "    - maps the item ids in (train.data, valid.data, test.data) to their original "
   ]
  },
  {
   "cell_type": "markdown",
   "id": "7132bb01-f8c2-4235-ad9f-62ad8347d784",
   "metadata": {},
   "source": [
    "## Output data format"
   ]
  },
  {
   "cell_type": "code",
   "execution_count": 11,
   "id": "624a7a2d-f19d-4aef-b599-e011fecff596",
   "metadata": {},
   "outputs": [],
   "source": [
    "train_data = np.load(os.path.join(os.getcwd(), \"data/twitch_sequence/train.data\"), allow_pickle=True)"
   ]
  },
  {
   "cell_type": "code",
   "execution_count": 15,
   "id": "ffb7f410-53f5-4182-8808-67ae57748db7",
   "metadata": {},
   "outputs": [],
   "source": [
    "# train[i][0] gives us an interaction sequence \"i\"\n",
    "# train[i][1] gives us the ground truth for the sequence \"i\""
   ]
  },
  {
   "cell_type": "code",
   "execution_count": 20,
   "id": "5dd737ef-fb36-4792-8f4f-9bf19bc2bdc3",
   "metadata": {},
   "outputs": [
    {
     "name": "stdout",
     "output_type": "stream",
     "text": [
      "[0 0 0 0 0 0 0 0 0 0 0 0 0 0 0 0 0 0 0 0 0 0 0 0 0 0 0 0 0 0 0 0 0 0 0 0 0\n",
      " 0 0 1 2 3 4 1 5 1 5 6 7]\n"
     ]
    }
   ],
   "source": [
    "print(np.array(train[10][0]))"
   ]
  },
  {
   "cell_type": "code",
   "execution_count": 22,
   "id": "c34cffaf-4def-412a-9285-d71fc89c3487",
   "metadata": {},
   "outputs": [
    {
     "name": "stdout",
     "output_type": "stream",
     "text": [
      "6\n"
     ]
    }
   ],
   "source": [
    "print(np.array(train[10][1]))"
   ]
  },
  {
   "cell_type": "code",
   "execution_count": null,
   "id": "03e9c4ef-8901-49ea-b16c-77e8bb4d431c",
   "metadata": {},
   "outputs": [],
   "source": []
  }
 ],
 "metadata": {
  "kernelspec": {
   "display_name": "cse_prod_env",
   "language": "python",
   "name": "cse_prod_env"
  },
  "language_info": {
   "codemirror_mode": {
    "name": "ipython",
    "version": 3
   },
   "file_extension": ".py",
   "mimetype": "text/x-python",
   "name": "python",
   "nbconvert_exporter": "python",
   "pygments_lexer": "ipython3",
   "version": "3.9.7"
  }
 },
 "nbformat": 4,
 "nbformat_minor": 5
}

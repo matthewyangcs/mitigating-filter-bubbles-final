{
 "cells": [
  {
   "cell_type": "code",
   "execution_count": 1,
   "id": "aeaeca7e-89f5-4f69-ba7c-52351a6d0bce",
   "metadata": {},
   "outputs": [],
   "source": [
    "%load_ext autoreload"
   ]
  },
  {
   "cell_type": "code",
   "execution_count": 2,
   "id": "663a63bf-7bb5-4a2f-934e-40c91fcf9daf",
   "metadata": {},
   "outputs": [],
   "source": [
    "%autoreload 2"
   ]
  },
  {
   "cell_type": "markdown",
   "id": "9999155f-8b24-40e6-acce-f1aa7ed1ad20",
   "metadata": {},
   "source": [
    "# Imports"
   ]
  },
  {
   "cell_type": "code",
   "execution_count": 4,
   "id": "ed058c53-0dd1-45e8-9656-f898e26c5509",
   "metadata": {},
   "outputs": [],
   "source": [
    "import torch\n",
    "import torch.nn as nn\n",
    "import torch.nn.functional as F\n",
    "import os\n",
    "import torch.optim as optim\n",
    "from os import listdir\n",
    "from os.path import isfile, join\n",
    "from tracin.tracin import (\n",
    "    save_tracin_checkpoint,\n",
    "    load_tracin_checkpoint,\n",
    "    calculate_tracin_influence,\n",
    ")\n",
    "import pandas as pd\n",
    "from LSTM_clean.utils import filter_and_split_data, sequence_generator, load_community_dict, get_communities, shannon_index, gini_simpson_index, num_unique, average_diversity\n",
    "from LSTM_clean import utils\n",
    "from LSTM_clean.model import LSTM \n",
    "from collections import Counter\n",
    "import numpy as np\n",
    "import pickle\n",
    "from collections import defaultdict\n",
    "import copy\n",
    "from torch.optim import SGD\n",
    "from lstm_wrapper import train_model, get_topk_predictions\n",
    "import matplotlib.pyplot as plt\n",
    "from copy import deepcopy\n",
    "import math\n",
    "import seaborn as sns\n",
    "import random\n",
    "sns.set(style='darkgrid')"
   ]
  },
  {
   "cell_type": "markdown",
   "id": "d0e85b41-3236-44b0-9def-f1f247fed07b",
   "metadata": {},
   "source": [
    "# Analysis Tools"
   ]
  },
  {
   "cell_type": "code",
   "execution_count": 5,
   "id": "f94775fe-ac1a-43d8-9033-9f4c20552c0c",
   "metadata": {},
   "outputs": [],
   "source": [
    "def plot_counts(counts: dict[str, int], title='placholder_title', xlabel='x', ylabel='count') -> plt.Figure:\n",
    "    \"\"\"Plots a histogram from dict\"\"\"\n",
    "    fig = plt.figure()\n",
    "\n",
    "    # Creating the barplot\n",
    "    plt.bar(counts.keys(), counts.values())\n",
    "    plt.xlabel(xlabel)\n",
    "    plt.ylabel(ylabel)\n",
    "    plt.title(title)\n",
    "\n",
    "def line_plot(hm):\n",
    "    # line plot\n",
    "    fig = plt.figure()\n",
    "    ax = plt.axes()\n",
    "    ax.plot(sorted(hm.keys()), [hm[x] for x in sorted(hm.keys())])"
   ]
  },
  {
   "cell_type": "markdown",
   "id": "9034cb9f-af2a-489a-b0cb-883ad5d19d6a",
   "metadata": {},
   "source": [
    "# Loading data"
   ]
  },
  {
   "cell_type": "code",
   "execution_count": 6,
   "id": "026ef750-c1a4-42bd-9451-e5668f4a70b6",
   "metadata": {},
   "outputs": [],
   "source": [
    "# Data Location\n",
    "# Use SAVE_PREFIX to mark different datasets\n",
    "SAVE_PREFIX = \"\"\n",
    "SAVE_FOLDER = os.path.join(os.getcwd(), \"data/twitch_sequence/\")\n",
    "SAVE_TRAIN_NAME = SAVE_PREFIX + \"train.data\"\n",
    "SAVE_VALID_NAME = SAVE_PREFIX + \"valid.data\"\n",
    "SAVE_TEST_NAME = SAVE_PREFIX + \"test.data\"\n",
    "SAVE_COMMUNITY_NAME = SAVE_PREFIX + \"lstm_idx_communities.data\""
   ]
  },
  {
   "cell_type": "code",
   "execution_count": 7,
   "id": "88f79666-7702-4096-95d5-2a51fcf88876",
   "metadata": {},
   "outputs": [],
   "source": [
    "train_data = np.load(os.path.join(SAVE_FOLDER, SAVE_TRAIN_NAME), allow_pickle=True)\n",
    "valid_data = np.load(os.path.join(SAVE_FOLDER, SAVE_VALID_NAME), allow_pickle=True)\n",
    "test_data = np.load(os.path.join(SAVE_FOLDER, SAVE_TEST_NAME), allow_pickle=True)"
   ]
  },
  {
   "cell_type": "markdown",
   "id": "0479bf29-88c5-47a9-ad89-6b99dd27f790",
   "metadata": {
    "tags": []
   },
   "source": [
    "# Bucketing Training Data"
   ]
  },
  {
   "cell_type": "code",
   "execution_count": 8,
   "id": "39de5485-095a-4778-abf2-a66de1dd20ab",
   "metadata": {},
   "outputs": [],
   "source": [
    "community_dict = load_community_dict(os.path.join(SAVE_FOLDER, SAVE_COMMUNITY_NAME))"
   ]
  },
  {
   "cell_type": "code",
   "execution_count": 9,
   "id": "57b09134-e3cf-4e06-adde-5159ef61de73",
   "metadata": {},
   "outputs": [],
   "source": [
    "# Generate sequences and gt\n",
    "sequences = [pt[0] for pt in train_data]\n",
    "gt = [pt[1] for pt in train_data]"
   ]
  },
  {
   "cell_type": "markdown",
   "id": "dbf63613-7f7e-4814-a38c-056b8b6acf9e",
   "metadata": {
    "tags": []
   },
   "source": [
    "## Bucket #1 - Filter Bubble"
   ]
  },
  {
   "cell_type": "code",
   "execution_count": 10,
   "id": "9f258061-e01a-4d27-8a42-3642678df20a",
   "metadata": {},
   "outputs": [],
   "source": [
    "def is_filter_bubble(sequence, label):\n",
    "    communities = get_communities(sequence, community_dict)\n",
    "    hm_communities = Counter(communities)\n",
    "    for k, v in hm_communities.items():\n",
    "        if v >= 0.95 * len(communities) and k == community_dict[label]:\n",
    "            return 1.0\n",
    "    return 0.0"
   ]
  },
  {
   "cell_type": "code",
   "execution_count": 11,
   "id": "80acadbd-2e90-42a7-ac44-aea8185cc47d",
   "metadata": {},
   "outputs": [],
   "source": [
    "# Filter bubble\n",
    "nums = []\n",
    "train_pts_filter_bubble = []\n",
    "for i, sequence in enumerate(sequences):\n",
    "    if len(get_communities(sequence, community_dict)) <= 30:\n",
    "        continue\n",
    "    nums.append(is_filter_bubble(sequence, gt[i]))\n",
    "    if nums[-1] == 1:\n",
    "        train_pts_filter_bubble.append([sequence, gt[i]])\n",
    "with open(os.path.join(SAVE_FOLDER, 'train_pts_filter_bubble.data'), \"wb+\") as f:\n",
    "    pickle.dump(train_pts_filter_bubble, f)"
   ]
  },
  {
   "cell_type": "code",
   "execution_count": 12,
   "id": "c8bb5e6f-416a-463e-92d0-4e91ae54c398",
   "metadata": {},
   "outputs": [
    {
     "data": {
      "image/png": "[encoded data removed]",
      "text/plain": [
       "<Figure size 432x288 with 1 Axes>"
      ]
     },
     "metadata": {},
     "output_type": "display_data"
    }
   ],
   "source": [
    "plot_counts(Counter(len(get_communities(x[0], community_dict)) for x in train_pts_filter_bubble))"
   ]
  },
  {
   "cell_type": "code",
   "execution_count": 13,
   "id": "6699488e-d19b-4bd3-8665-7b23e30896df",
   "metadata": {},
   "outputs": [
    {
     "data": {
      "text/plain": [
       "10582"
      ]
     },
     "execution_count": 13,
     "metadata": {},
     "output_type": "execute_result"
    }
   ],
   "source": [
    "len(train_pts_filter_bubble)"
   ]
  },
  {
   "cell_type": "markdown",
   "id": "4b0560b0-cf57-45c8-aefd-adbf52fbf963",
   "metadata": {},
   "source": [
    "## Bucket #2 - Breaking Bubble"
   ]
  },
  {
   "cell_type": "code",
   "execution_count": 24,
   "id": "e8d4cc17-7f57-4baa-b678-531d3ef9ee2b",
   "metadata": {},
   "outputs": [],
   "source": [
    "# Checks label is a brand new community\n",
    "def is_breaking_bubble(sequence, label):\n",
    "    communities = get_communities(sequence, community_dict)\n",
    "    hm_communities = Counter(communities)\n",
    "    for k, v in hm_communities.items():\n",
    "        if v >= 0.8 * len(communities) and community_dict[label] not in communities:\n",
    "            return 1.0\n",
    "    return 0.0"
   ]
  },
  {
   "cell_type": "code",
   "execution_count": 114,
   "id": "ae56215a-1ad1-41ae-b951-e00a565c8980",
   "metadata": {},
   "outputs": [],
   "source": [
    "# Breaking bubble\n",
    "nums = []\n",
    "train_pts_breaking_bubble = []\n",
    "for i, sequence in enumerate(sequences):\n",
    "    if len(get_communities(sequence, community_dict)) < 8:\n",
    "        continue\n",
    "    nums.append(is_breaking_bubble(sequence, gt[i]))\n",
    "    if nums[-1] == 1:\n",
    "        train_pts_breaking_bubble.append([sequence, gt[i]])\n",
    "with open(os.path.join(SAVE_FOLDER, 'train_pts_breaking_bubble.data'), \"wb+\") as f:\n",
    "    pickle.dump(train_pts_breaking_bubble, f)"
   ]
  },
  {
   "cell_type": "code",
   "execution_count": 95,
   "id": "9b5aefbd-b6f5-433d-a751-57831f1b29a9",
   "metadata": {},
   "outputs": [
    {
     "data": {
      "text/plain": [
       "819"
      ]
     },
     "execution_count": 95,
     "metadata": {},
     "output_type": "execute_result"
    }
   ],
   "source": [
    "len(train_pts_breaking_bubble)"
   ]
  },
  {
   "cell_type": "markdown",
   "id": "a9f11378-8fcd-40f5-9335-0336e0cba095",
   "metadata": {},
   "source": [
    "## Bucket #3 - Diverse"
   ]
  },
  {
   "cell_type": "code",
   "execution_count": 27,
   "id": "ee1c335a-a32f-4cc0-97e4-c1262d8c2fe9",
   "metadata": {},
   "outputs": [],
   "source": [
    "def is_diverse(sequence, label):\n",
    "    communities = get_communities(sequence, community_dict)\n",
    "    diversity = gini_simpson_index(communities, community_dict)\n",
    "    if diversity > 0.5 and community_dict[label] not in communities:\n",
    "        return 1.0\n",
    "    return 0.0"
   ]
  },
  {
   "cell_type": "code",
   "execution_count": 115,
   "id": "511ebdb6-0247-49c7-aa40-4d070144d0ba",
   "metadata": {},
   "outputs": [],
   "source": [
    "# Diverse pts\n",
    "nums = []\n",
    "train_pts_diverse = []\n",
    "for i, sequence in enumerate(sequences):\n",
    "    nums.append(is_diverse(sequence, gt[i]))\n",
    "    if nums[-1] == 1:\n",
    "        train_pts_diverse.append([sequence, gt[i]])\n",
    "with open(os.path.join(SAVE_FOLDER, 'train_pts_diverse.data'), \"wb+\") as f:\n",
    "    pickle.dump(train_pts_diverse, f)"
   ]
  },
  {
   "cell_type": "code",
   "execution_count": 116,
   "id": "ca32c5da-58b7-4499-820f-469dcdddd3ba",
   "metadata": {},
   "outputs": [
    {
     "data": {
      "text/plain": [
       "2201"
      ]
     },
     "execution_count": 116,
     "metadata": {},
     "output_type": "execute_result"
    }
   ],
   "source": [
    "len(train_pts_diverse)"
   ]
  },
  {
   "cell_type": "markdown",
   "id": "d6859a5f-40c3-4959-ba33-51f1a42ce0d5",
   "metadata": {},
   "source": [
    "# Bucketing Validation Data"
   ]
  },
  {
   "cell_type": "markdown",
   "id": "3bd80e9f-dbcb-4e91-a3be-969a50277fcf",
   "metadata": {},
   "source": [
    "## Loading Model"
   ]
  },
  {
   "cell_type": "code",
   "execution_count": 14,
   "id": "a955315c-ab6a-4f74-92e3-cefb48c53e6d",
   "metadata": {},
   "outputs": [
    {
     "name": "stdout",
     "output_type": "stream",
     "text": [
      "Device is cuda\n"
     ]
    },
    {
     "data": {
      "text/plain": [
       "LSTM(\n",
       "  (item_emb): Embedding(1743, 128, padding_idx=0)\n",
       "  (LSTM): LSTM(128, 64, batch_first=True)\n",
       "  (fc): Linear(in_features=64, out_features=1743, bias=True)\n",
       ")"
      ]
     },
     "execution_count": 14,
     "metadata": {},
     "output_type": "execute_result"
    }
   ],
   "source": [
    "# Parameter may need to change if you re-ran all the prior pre-processing experiments\n",
    "OUTPUT_SIZE=1743\n",
    "\n",
    "device = torch.device(\"cuda\")\n",
    "print(\"Device is\", device)\n",
    "model = LSTM(input_size=128, output_size=OUTPUT_SIZE, hidden_dim=64, n_layers=1, device=device) \n",
    "model.LSTM.flatten_parameters()\n",
    "optimizer = optim.SGD(model.parameters(), lr=5e-2, momentum=0.9)\n",
    "model.to(device)"
   ]
  },
  {
   "cell_type": "code",
   "execution_count": 15,
   "id": "9a2c3701-c0b3-4506-a3d7-e511db597380",
   "metadata": {},
   "outputs": [],
   "source": [
    "model, _, epoch, loss = load_tracin_checkpoint(model, optimizer, os.path.join(os.getcwd(), \"checkpoints/lstm_checkpoint_epoch600.pt\"))"
   ]
  },
  {
   "cell_type": "markdown",
   "id": "26d1cee4-7ed8-4957-97c5-790e61f9b7ea",
   "metadata": {},
   "source": [
    "## Loading Communities and Generating Labels"
   ]
  },
  {
   "cell_type": "code",
   "execution_count": 16,
   "id": "8de903ef-2faf-4f30-a80c-315e09c1bf38",
   "metadata": {},
   "outputs": [],
   "source": [
    "community_dict = load_community_dict(os.path.join(SAVE_FOLDER, SAVE_COMMUNITY_NAME))"
   ]
  },
  {
   "cell_type": "code",
   "execution_count": 18,
   "id": "0ce40eb9-1897-4c79-a83f-67df0941029b",
   "metadata": {},
   "outputs": [],
   "source": [
    "# Generate sequences and gt\n",
    "sequences = [pt[0] for pt in valid_data]\n",
    "gt = [pt[1] for pt in valid_data]\n",
    "\n",
    "# Generate predictions\n",
    "predictions = get_topk_predictions(model, sequences, k=10)"
   ]
  },
  {
   "cell_type": "markdown",
   "id": "47f5b2aa-5a4c-4c2e-9aed-ec20abd794d3",
   "metadata": {},
   "source": [
    "## Bucket #1 - Filter Bubble"
   ]
  },
  {
   "cell_type": "code",
   "execution_count": 19,
   "id": "836e7a40-5a3c-4c8a-9f73-60abeadeb551",
   "metadata": {},
   "outputs": [],
   "source": [
    "assert len(sequences) == len(predictions)"
   ]
  },
  {
   "cell_type": "code",
   "execution_count": 41,
   "id": "7c449f92-0e1e-40db-8718-a81ef76fb3e1",
   "metadata": {},
   "outputs": [],
   "source": [
    "nums = []\n",
    "valid_pts_filter_bubble = []\n",
    "for i, sequence in enumerate(sequences):\n",
    "    if len(get_communities(sequence, community_dict)) <= 30:\n",
    "        continue\n",
    "    for next_item in predictions[i]:\n",
    "        assert len(predictions[i]) <= 10\n",
    "        nums.append(is_filter_bubble(sequence, next_item))\n",
    "        if nums[-1] == 1:\n",
    "            valid_pts_filter_bubble.append([sequence, next_item])\n",
    "with open(os.path.join(SAVE_FOLDER, 'valid_pts_filter_bubble.data'), \"wb+\") as f:\n",
    "    pickle.dump(valid_pts_filter_bubble, f)"
   ]
  },
  {
   "cell_type": "code",
   "execution_count": 39,
   "id": "d5cd6b8e-ef71-4b22-a3b7-1d42add39aa2",
   "metadata": {},
   "outputs": [
    {
     "data": {
      "text/plain": [
       "30689"
      ]
     },
     "execution_count": 39,
     "metadata": {},
     "output_type": "execute_result"
    }
   ],
   "source": [
    "len(valid_pts_filter_bubble)"
   ]
  },
  {
   "cell_type": "code",
   "execution_count": 33,
   "id": "23b39922-ddda-4305-99cb-31d6c286bd0c",
   "metadata": {},
   "outputs": [],
   "source": [
    "# for i in range(5):\n",
    "#     print(get_communities(valid_pts_filter_bubble[i][0], community_dict))\n",
    "#     print(get_communities([valid_pts_filter_bubble[i][1]], community_dict))\n",
    "#     print('\\n')"
   ]
  },
  {
   "cell_type": "markdown",
   "id": "d5183962-be71-413b-8220-57f31fa70562",
   "metadata": {},
   "source": [
    "## Bucket #2 - Breaking Bubble"
   ]
  },
  {
   "cell_type": "code",
   "execution_count": 42,
   "id": "49a31732-aa4a-4bae-a1c9-07dc481f21f0",
   "metadata": {},
   "outputs": [],
   "source": [
    "nums = []\n",
    "valid_pts_breaking_bubble = []\n",
    "for i, sequence in enumerate(sequences):\n",
    "    for next_item in predictions[i]:\n",
    "        nums.append(is_breaking_bubble(sequence, next_item))\n",
    "        if nums[-1] == 1:\n",
    "            valid_pts_breaking_bubble.append([sequence, next_item])\n",
    "with open(os.path.join(SAVE_FOLDER, 'valid_pts_breaking_bubble.data'), \"wb+\") as f:\n",
    "    pickle.dump(valid_pts_breaking_bubble, f)"
   ]
  },
  {
   "cell_type": "code",
   "execution_count": 36,
   "id": "acf97b4a-93ec-42c6-8470-dbf60da05236",
   "metadata": {},
   "outputs": [
    {
     "data": {
      "text/plain": [
       "1379"
      ]
     },
     "execution_count": 36,
     "metadata": {},
     "output_type": "execute_result"
    }
   ],
   "source": [
    "len(valid_pts_breaking_bubble)"
   ]
  },
  {
   "cell_type": "code",
   "execution_count": 43,
   "id": "fa52a1ee-1341-4701-a47b-d79ec1bf939b",
   "metadata": {},
   "outputs": [],
   "source": [
    "# for i in range(5):\n",
    "#     print(get_communities(valid_pts_breaking_bubble[i][0], community_dict))\n",
    "#     print(get_communities([valid_pts_breaking_bubble[i][1]], community_dict))\n",
    "#     print('\\n')"
   ]
  },
  {
   "cell_type": "code",
   "execution_count": 44,
   "id": "2a3adb29-fbb1-4a4a-ac43-f7dbedb2d321",
   "metadata": {},
   "outputs": [
    {
     "data": {
      "text/plain": [
       "'/raid/home/myang349/mitigating-filter-bubbles-final/recsys-filterbubbles/data/twitch_sequence/'"
      ]
     },
     "execution_count": 44,
     "metadata": {},
     "output_type": "execute_result"
    }
   ],
   "source": [
    "SAVE_FOLDER"
   ]
  },
  {
   "cell_type": "code",
   "execution_count": null,
   "id": "d70ae0d9-8547-4668-8b19-a26466855155",
   "metadata": {},
   "outputs": [],
   "source": []
  }
 ],
 "metadata": {
  "kernelspec": {
   "display_name": "cse_prod_env",
   "language": "python",
   "name": "cse_prod_env"
  },
  "language_info": {
   "codemirror_mode": {
    "name": "ipython",
    "version": 3
   },
   "file_extension": ".py",
   "mimetype": "text/x-python",
   "name": "python",
   "nbconvert_exporter": "python",
   "pygments_lexer": "ipython3",
   "version": "3.9.7"
  }
 },
 "nbformat": 4,
 "nbformat_minor": 5
}

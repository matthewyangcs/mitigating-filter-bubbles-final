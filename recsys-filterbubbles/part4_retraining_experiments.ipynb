{
 "cells": [
  {
   "cell_type": "code",
   "execution_count": 2,
   "id": "aeaeca7e-89f5-4f69-ba7c-52351a6d0bce",
   "metadata": {},
   "outputs": [],
   "source": [
    "%load_ext autoreload"
   ]
  },
  {
   "cell_type": "code",
   "execution_count": 3,
   "id": "663a63bf-7bb5-4a2f-934e-40c91fcf9daf",
   "metadata": {},
   "outputs": [],
   "source": [
    "%autoreload 2"
   ]
  },
  {
   "cell_type": "markdown",
   "id": "9999155f-8b24-40e6-acce-f1aa7ed1ad20",
   "metadata": {},
   "source": [
    "# Imports"
   ]
  },
  {
   "cell_type": "code",
   "execution_count": 336,
   "id": "ed058c53-0dd1-45e8-9656-f898e26c5509",
   "metadata": {},
   "outputs": [],
   "source": [
    "import torch\n",
    "import torch.nn as nn\n",
    "import torch.nn.functional as F\n",
    "import os\n",
    "import torch.optim as optim\n",
    "from os import listdir\n",
    "from os.path import isfile, join\n",
    "from tracin.tracin import (\n",
    "    save_tracin_checkpoint,\n",
    "    load_tracin_checkpoint,\n",
    "    calculate_tracin_influence,\n",
    ")\n",
    "import pandas as pd\n",
    "from LSTM_clean.utils import filter_and_split_data, sequence_generator, load_community_dict, get_communities, shannon_index, gini_simpson_index, num_unique, average_diversity\n",
    "\n",
    "from LSTM_clean import utils\n",
    "from LSTM_clean.model import LSTM \n",
    "from collections import Counter\n",
    "import numpy as np\n",
    "import pickle\n",
    "from collections import defaultdict\n",
    "import copy\n",
    "from torch.optim import SGD\n",
    "from lstm_wrapper import train_model, get_topk_predictions, train_model2\n",
    "import matplotlib.pyplot as plt\n",
    "from copy import deepcopy\n",
    "import math\n",
    "import seaborn as sns\n",
    "import random\n",
    "import sys\n",
    "sns.set(style='darkgrid')"
   ]
  },
  {
   "cell_type": "markdown",
   "id": "d0e85b41-3236-44b0-9def-f1f247fed07b",
   "metadata": {},
   "source": [
    "# Analysis Tools"
   ]
  },
  {
   "cell_type": "code",
   "execution_count": 196,
   "id": "f94775fe-ac1a-43d8-9033-9f4c20552c0c",
   "metadata": {},
   "outputs": [],
   "source": [
    "def plot_counts(counts: dict[str, int], title='placholder_title', xlabel='x', ylabel='count') -> plt.Figure:\n",
    "    \"\"\"Plots a histogram from dict\"\"\"\n",
    "    fig = plt.figure()\n",
    "\n",
    "    # Creating the barplot\n",
    "    plt.bar(counts.keys(), counts.values())\n",
    "    plt.xlabel(xlabel)\n",
    "    plt.ylabel(ylabel)\n",
    "    plt.title(title)\n",
    "\n",
    "def line_plot(hm):\n",
    "    # line plot\n",
    "    fig = plt.figure()\n",
    "    ax = plt.axes()\n",
    "    ax.plot(sorted(hm.keys()), [hm[x] for x in sorted(hm.keys())])\n",
    "    \n",
    "    \n",
    "class HiddenPrints:\n",
    "    def __enter__(self):\n",
    "        self._original_stdout = sys.stdout\n",
    "        sys.stdout = open(os.devnull, 'w')\n",
    "\n",
    "    def __exit__(self, exc_type, exc_val, exc_tb):\n",
    "        sys.stdout.close()\n",
    "        sys.stdout = self._original_stdout"
   ]
  },
  {
   "cell_type": "markdown",
   "id": "9034cb9f-af2a-489a-b0cb-883ad5d19d6a",
   "metadata": {},
   "source": [
    "# Loading data"
   ]
  },
  {
   "cell_type": "code",
   "execution_count": 197,
   "id": "026ef750-c1a4-42bd-9451-e5668f4a70b6",
   "metadata": {},
   "outputs": [],
   "source": [
    "# Data Location\n",
    "# Use SAVE_PREFIX to mark different datasets\n",
    "SAVE_PREFIX = \"\"\n",
    "SAVE_FOLDER = os.path.join(os.getcwd(), \"data/twitch_sequence/\")\n",
    "SAVE_TRAIN_NAME = SAVE_PREFIX + \"train.data\"\n",
    "SAVE_VALID_NAME = SAVE_PREFIX + \"valid.data\"\n",
    "SAVE_TEST_NAME = SAVE_PREFIX + \"test.data\"\n",
    "SAVE_COMMUNITY_NAME = SAVE_PREFIX + \"lstm_idx_communities.data\""
   ]
  },
  {
   "cell_type": "code",
   "execution_count": 287,
   "id": "88f79666-7702-4096-95d5-2a51fcf88876",
   "metadata": {},
   "outputs": [],
   "source": [
    "train_data = np.load(os.path.join(SAVE_FOLDER, SAVE_TRAIN_NAME), allow_pickle=True)\n",
    "valid_data = np.load(os.path.join(SAVE_FOLDER, SAVE_VALID_NAME), allow_pickle=True)\n",
    "test_data = np.load(os.path.join(SAVE_FOLDER, SAVE_TEST_NAME), allow_pickle=True)"
   ]
  },
  {
   "cell_type": "markdown",
   "id": "477b52cf-4dbb-4875-b126-b8d5dc29413d",
   "metadata": {},
   "source": [
    "# Experiment Prep"
   ]
  },
  {
   "cell_type": "code",
   "execution_count": 288,
   "id": "39de5485-095a-4778-abf2-a66de1dd20ab",
   "metadata": {},
   "outputs": [],
   "source": [
    "community_dict = load_community_dict(os.path.join(SAVE_FOLDER, SAVE_COMMUNITY_NAME))"
   ]
  },
  {
   "cell_type": "code",
   "execution_count": 289,
   "id": "57b09134-e3cf-4e06-adde-5159ef61de73",
   "metadata": {},
   "outputs": [],
   "source": [
    "# Generate sequences and gt\n",
    "sequences = [pt[0] for pt in train_data]\n",
    "gt = [pt[1] for pt in train_data]"
   ]
  },
  {
   "cell_type": "markdown",
   "id": "b122b7a8-47b3-45b4-ba68-22a136f42d51",
   "metadata": {},
   "source": [
    "# Experiment #1 - Remove Filter Bubble Points"
   ]
  },
  {
   "cell_type": "code",
   "execution_count": 290,
   "id": "f0ccfeac-74ee-4208-8324-37cc4bd3fa19",
   "metadata": {},
   "outputs": [],
   "source": [
    "def is_filter_bubble(sequence, label):\n",
    "    communities = get_communities(sequence, community_dict)\n",
    "    hm_communities = Counter(communities)\n",
    "    for k, v in hm_communities.items():\n",
    "        if v >= 0.95 * len(communities) and k == community_dict[label]:\n",
    "            return 1.0\n",
    "    return 0.0"
   ]
  },
  {
   "cell_type": "code",
   "execution_count": 291,
   "id": "8d473f56-c2b2-4939-96cc-3e1b6d5d2854",
   "metadata": {},
   "outputs": [],
   "source": [
    "train_data_exp1 = []\n",
    "\n",
    "for i, sequence in enumerate(sequences):\n",
    "    if (len(get_communities(sequence, community_dict)) <= 30) or not (is_filter_bubble(sequence, gt[i])):\n",
    "        train_data_exp1.append(deepcopy([sequence, gt[i]]))"
   ]
  },
  {
   "cell_type": "code",
   "execution_count": 292,
   "id": "324b352e-efd1-4193-8045-fef156b75e82",
   "metadata": {},
   "outputs": [
    {
     "data": {
      "text/plain": [
       "0.12626630233751357"
      ]
     },
     "execution_count": 292,
     "metadata": {},
     "output_type": "execute_result"
    }
   ],
   "source": [
    "1 - len(train_data_exp1) / len(train_data)"
   ]
  },
  {
   "cell_type": "code",
   "execution_count": 293,
   "id": "b3215a09-d09f-4563-8c54-2202f5c253a4",
   "metadata": {},
   "outputs": [
    {
     "data": {
      "text/plain": [
       "10582"
      ]
     },
     "execution_count": 293,
     "metadata": {},
     "output_type": "execute_result"
    }
   ],
   "source": [
    "len(train_data) - len(train_data_exp1)"
   ]
  },
  {
   "cell_type": "markdown",
   "id": "bbf5d4cc-ade5-4e56-a888-32f46e93232e",
   "metadata": {},
   "source": [
    "# Experiment #2 - Remove a random 12.5% of training data"
   ]
  },
  {
   "cell_type": "code",
   "execution_count": 294,
   "id": "385ba37a-56c9-42fb-8a43-bf5df32bdcea",
   "metadata": {},
   "outputs": [],
   "source": [
    "idx_set = set(np.random.choice(len(train_data), size=10582, replace=False))"
   ]
  },
  {
   "cell_type": "code",
   "execution_count": 295,
   "id": "2c8b4400-5c92-413e-8373-cf91517786d0",
   "metadata": {},
   "outputs": [],
   "source": [
    "train_data_exp2 = [row for i, row in enumerate(train_data) if i not in idx_set]"
   ]
  },
  {
   "cell_type": "code",
   "execution_count": 296,
   "id": "f48d3f7c-13e4-4116-acef-6ec0602fa36d",
   "metadata": {},
   "outputs": [
    {
     "data": {
      "text/plain": [
       "73225"
      ]
     },
     "execution_count": 296,
     "metadata": {},
     "output_type": "execute_result"
    }
   ],
   "source": [
    "len(train_data_exp2)"
   ]
  },
  {
   "cell_type": "markdown",
   "id": "42ab15c6-8291-4faf-8070-392f6cc3738f",
   "metadata": {},
   "source": [
    "# Experiment #3 - Augment with Breaking Bubble Points (x10)"
   ]
  },
  {
   "cell_type": "code",
   "execution_count": 297,
   "id": "4e6fef5a-92cc-4e16-8c33-30eee4961e44",
   "metadata": {},
   "outputs": [],
   "source": [
    "# Checks label is a brand new community\n",
    "def is_breaking_bubble(sequence, label):\n",
    "    communities = get_communities(sequence, community_dict)\n",
    "    hm_communities = Counter(communities)\n",
    "    for k, v in hm_communities.items():\n",
    "        if v >= 0.8 * len(communities) and community_dict[label] not in communities:\n",
    "            return 1.0\n",
    "    return 0.0"
   ]
  },
  {
   "cell_type": "code",
   "execution_count": 298,
   "id": "6d0b2bc1-f1a3-4fb3-9213-0488e576a719",
   "metadata": {},
   "outputs": [
    {
     "data": {
      "text/plain": [
       "819"
      ]
     },
     "execution_count": 298,
     "metadata": {},
     "output_type": "execute_result"
    }
   ],
   "source": [
    "# Breaking bubble\n",
    "nums = []\n",
    "train_pts_breaking_bubble = []\n",
    "for i, sequence in enumerate(sequences):\n",
    "    if len(get_communities(sequence, community_dict)) < 8:\n",
    "        continue\n",
    "    nums.append(is_breaking_bubble(sequence, gt[i]))\n",
    "    if nums[-1] == 1:\n",
    "        train_pts_breaking_bubble.append([sequence, gt[i]])\n",
    "len(train_pts_breaking_bubble)"
   ]
  },
  {
   "cell_type": "markdown",
   "id": "54cf5f9f-0e50-4bb8-9111-1345479bc9af",
   "metadata": {},
   "source": [
    "## x10"
   ]
  },
  {
   "cell_type": "code",
   "execution_count": 299,
   "id": "c8a8c0f3-72d7-4cdd-a97a-9924b18eb9bc",
   "metadata": {},
   "outputs": [],
   "source": [
    "train_data_exp3 = deepcopy(train_data)\n",
    "for i in range(10):\n",
    "    train_data_exp3 += deepcopy(train_pts_breaking_bubble)"
   ]
  },
  {
   "cell_type": "code",
   "execution_count": 300,
   "id": "42832bd5-cba5-48e0-aa21-a7563827efc8",
   "metadata": {},
   "outputs": [
    {
     "data": {
      "text/plain": [
       "91997"
      ]
     },
     "execution_count": 300,
     "metadata": {},
     "output_type": "execute_result"
    }
   ],
   "source": [
    "len(train_data_exp3)"
   ]
  },
  {
   "cell_type": "markdown",
   "id": "1ef5496a-ba81-4a96-ac86-ea65097cfbf5",
   "metadata": {},
   "source": [
    "# Experiment #4 - Augment with random selection of points"
   ]
  },
  {
   "cell_type": "code",
   "execution_count": 301,
   "id": "463037c8-6d8c-4d53-8362-f6dc2fea5c0f",
   "metadata": {},
   "outputs": [],
   "source": [
    "idx_list = np.random.choice(len(train_data), size=819)\n",
    "addtl_data = []\n",
    "for val in idx_list:\n",
    "    addtl_data.append(deepcopy(train_data[val]))"
   ]
  },
  {
   "cell_type": "markdown",
   "id": "1c5dc0a9-4df4-4793-aa57-8acde6eeffba",
   "metadata": {},
   "source": [
    "## x10"
   ]
  },
  {
   "cell_type": "code",
   "execution_count": 302,
   "id": "72f7cd96-367e-4b71-8262-3a035775b083",
   "metadata": {},
   "outputs": [],
   "source": [
    "train_data_exp4 = deepcopy(train_data)\n",
    "for i in range(10):\n",
    "    train_data_exp4 += deepcopy(addtl_data)"
   ]
  },
  {
   "cell_type": "code",
   "execution_count": 303,
   "id": "92a87293-d7d2-42c2-ace9-c3fb34fea74c",
   "metadata": {},
   "outputs": [],
   "source": [
    "assert len(train_data_exp3) == len(train_data_exp4)"
   ]
  },
  {
   "cell_type": "code",
   "execution_count": 304,
   "id": "b1a916a0-f673-4081-809b-b7e0eeb8c7de",
   "metadata": {},
   "outputs": [
    {
     "data": {
      "text/plain": [
       "91997"
      ]
     },
     "execution_count": 304,
     "metadata": {},
     "output_type": "execute_result"
    }
   ],
   "source": [
    "len(train_data_exp4)"
   ]
  },
  {
   "cell_type": "markdown",
   "id": "1cf60543-5515-4751-ac04-116939175f20",
   "metadata": {},
   "source": [
    "# Experiment #5 - Remove Filter Bubble Points + Augment with Breaking Bubble Points"
   ]
  },
  {
   "cell_type": "code",
   "execution_count": 305,
   "id": "0b2b6f7a-e843-4b1b-acdf-7ba2d4b2114b",
   "metadata": {},
   "outputs": [],
   "source": [
    "train_data_exp5 = []\n",
    "\n",
    "# Remove filter bubble\n",
    "for i, sequence in enumerate(sequences):\n",
    "    if (len(get_communities(sequence, community_dict)) <= 30) or not (is_filter_bubble(sequence, gt[i])):\n",
    "        train_data_exp5.append([sequence, gt[i]])"
   ]
  },
  {
   "cell_type": "code",
   "execution_count": 306,
   "id": "6fa72b63-57b3-48ce-8874-53702ac21a4e",
   "metadata": {},
   "outputs": [],
   "source": [
    "# Breaking bubble\n",
    "nums = []\n",
    "augment_breaking_bubble = []\n",
    "for i, sequence in enumerate(sequences):\n",
    "    if len(get_communities(sequence, community_dict)) < 8:\n",
    "        continue\n",
    "    nums.append(is_breaking_bubble(sequence, gt[i]))\n",
    "    if nums[-1] == 1:\n",
    "        augment_breaking_bubble.append([sequence, gt[i]])"
   ]
  },
  {
   "cell_type": "code",
   "execution_count": 307,
   "id": "d1bc49f2-0539-4cc5-9496-01252399f7ed",
   "metadata": {},
   "outputs": [],
   "source": [
    "# Putting it together\n",
    "for i in range(10):\n",
    "    train_data_exp5 += deepcopy(augment_breaking_bubble)"
   ]
  },
  {
   "cell_type": "markdown",
   "id": "fd09222a-319a-4fc9-9a9f-03f20da55cd9",
   "metadata": {},
   "source": [
    "# MODEL TRAINING"
   ]
  },
  {
   "cell_type": "code",
   "execution_count": 103,
   "id": "27db8028-24a7-434c-89d0-5ed932074a9e",
   "metadata": {},
   "outputs": [],
   "source": [
    "EPOCHS = 200\n",
    "OUTPUT_SIZE = 1743"
   ]
  },
  {
   "cell_type": "code",
   "execution_count": null,
   "id": "a50bab36-b0f2-439c-81d8-b69f66a9ecca",
   "metadata": {},
   "outputs": [
    {
     "name": "stdout",
     "output_type": "stream",
     "text": [
      "Device is cuda\n",
      "Train: 67307, Valid: 10464\n",
      "Model is  LSTM(\n",
      "  (item_emb): Embedding(1743, 128, padding_idx=0)\n",
      "  (LSTM): LSTM(128, 64, batch_first=True)\n",
      "  (fc): Linear(in_features=64, out_features=1743, bias=True)\n",
      ")\n",
      "\n",
      "Training and testing\n",
      "train # = 67307, test # = 10464\n",
      "\n",
      "Epoch 0\tTrain Loss: 0.014642574947001875\tTest MRR: 0.00794307617083256\tTest Recall@10: 0.011372324159021407\tElapsed time: 1.3929903507232666\n",
      "saving checkpoint to /raid/home/myang349/mitigating-filter-bubbles-final/recsys-filterbubbles/checkpoints_exp1/0.pt\n",
      "Epoch 5\tTrain Loss: 0.014374292675939126\tTest MRR: 0.049587439012427494\tTest Recall@10: 0.10311544342507645\tElapsed time: 6.133145093917847\n",
      "Epoch 10\tTrain Loss: 0.013792065473022034\tTest MRR: 0.05292938096440965\tTest Recall@10: 0.1180237003058104\tElapsed time: 6.514334678649902\n",
      "saving checkpoint to /raid/home/myang349/mitigating-filter-bubbles-final/recsys-filterbubbles/checkpoints_exp1/10.pt\n",
      "Epoch 15\tTrain Loss: 0.013198858752178338\tTest MRR: 0.06017428369712951\tTest Recall@10: 0.12490443425076453\tElapsed time: 6.525900840759277\n",
      "Epoch 20\tTrain Loss: 0.012837436277932568\tTest MRR: 0.07077440430571447\tTest Recall@10: 0.15032492354740062\tElapsed time: 6.196615219116211\n",
      "saving checkpoint to /raid/home/myang349/mitigating-filter-bubbles-final/recsys-filterbubbles/checkpoints_exp1/20.pt\n",
      "Epoch 25\tTrain Loss: 0.012535728555926684\tTest MRR: 0.08283331615839307\tTest Recall@10: 0.1765099388379205\tElapsed time: 6.311641454696655\n",
      "Epoch 30\tTrain Loss: 0.012250240891895121\tTest MRR: 0.10066535362460945\tTest Recall@10: 0.20814220183486237\tElapsed time: 6.61570405960083\n",
      "saving checkpoint to /raid/home/myang349/mitigating-filter-bubbles-final/recsys-filterbubbles/checkpoints_exp1/30.pt\n",
      "Epoch 35\tTrain Loss: 0.011954961839048754\tTest MRR: 0.11724341371282361\tTest Recall@10: 0.23948776758409787\tElapsed time: 6.206739664077759\n",
      "Epoch 40\tTrain Loss: 0.01166029600019057\tTest MRR: 0.13057506405819\tTest Recall@10: 0.27102446483180426\tElapsed time: 6.04876708984375\n",
      "saving checkpoint to /raid/home/myang349/mitigating-filter-bubbles-final/recsys-filterbubbles/checkpoints_exp1/40.pt\n",
      "Epoch 45\tTrain Loss: 0.011384051001286059\tTest MRR: 0.1420685998100219\tTest Recall@10: 0.29204892966360857\tElapsed time: 6.1168577671051025\n",
      "Epoch 50\tTrain Loss: 0.01113058589923004\tTest MRR: 0.15255642050660825\tTest Recall@10: 0.3047591743119266\tElapsed time: 6.144505739212036\n",
      "saving checkpoint to /raid/home/myang349/mitigating-filter-bubbles-final/recsys-filterbubbles/checkpoints_exp1/50.pt\n",
      "Epoch 55\tTrain Loss: 0.010905478903101258\tTest MRR: 0.1578979529048339\tTest Recall@10: 0.31823394495412843\tElapsed time: 5.804274082183838\n",
      "Epoch 60\tTrain Loss: 0.010707849670353027\tTest MRR: 0.1646658936799314\tTest Recall@10: 0.33228211009174313\tElapsed time: 6.16165018081665\n",
      "saving checkpoint to /raid/home/myang349/mitigating-filter-bubbles-final/recsys-filterbubbles/checkpoints_exp1/60.pt\n",
      "Epoch 65\tTrain Loss: 0.010528511864802458\tTest MRR: 0.17045613625790165\tTest Recall@10: 0.34451452599388377\tElapsed time: 5.527456998825073\n",
      "Epoch 70\tTrain Loss: 0.010366746762844284\tTest MRR: 0.17466533986523453\tTest Recall@10: 0.3543577981651376\tElapsed time: 5.93915867805481\n",
      "saving checkpoint to /raid/home/myang349/mitigating-filter-bubbles-final/recsys-filterbubbles/checkpoints_exp1/70.pt\n",
      "Epoch 75\tTrain Loss: 0.010226018746861595\tTest MRR: 0.1794318673686212\tTest Recall@10: 0.36534785932721714\tElapsed time: 6.145030498504639\n",
      "Epoch 80\tTrain Loss: 0.010090957992256502\tTest MRR: 0.1827870133622734\tTest Recall@10: 0.3730886850152905\tElapsed time: 6.0176825523376465\n",
      "saving checkpoint to /raid/home/myang349/mitigating-filter-bubbles-final/recsys-filterbubbles/checkpoints_exp1/80.pt\n",
      "Epoch 85\tTrain Loss: 0.009965113392539615\tTest MRR: 0.185268341323957\tTest Recall@10: 0.3774847094801223\tElapsed time: 5.728200674057007\n",
      "Epoch 90\tTrain Loss: 0.009861801078939551\tTest MRR: 0.18593828904534793\tTest Recall@10: 0.38130733944954126\tElapsed time: 6.039213180541992\n",
      "saving checkpoint to /raid/home/myang349/mitigating-filter-bubbles-final/recsys-filterbubbles/checkpoints_exp1/90.pt\n",
      "Epoch 95\tTrain Loss: 0.009750977094121678\tTest MRR: 0.1897561788955428\tTest Recall@10: 0.38799694189602446\tElapsed time: 5.960883855819702\n",
      "Epoch 100\tTrain Loss: 0.009656057155596151\tTest MRR: 0.19275098996615753\tTest Recall@10: 0.3948776758409786\tElapsed time: 6.0586278438568115\n",
      "saving checkpoint to /raid/home/myang349/mitigating-filter-bubbles-final/recsys-filterbubbles/checkpoints_exp1/100.pt\n",
      "Epoch 105\tTrain Loss: 0.0095614194285523\tTest MRR: 0.194082355674616\tTest Recall@10: 0.39325305810397554\tElapsed time: 5.860122442245483\n",
      "Epoch 110\tTrain Loss: 0.009479048142047839\tTest MRR: 0.1973570858996099\tTest Recall@10: 0.39975152905198774\tElapsed time: 6.116342544555664\n",
      "saving checkpoint to /raid/home/myang349/mitigating-filter-bubbles-final/recsys-filterbubbles/checkpoints_exp1/110.pt\n",
      "Epoch 115\tTrain Loss: 0.00939894491912036\tTest MRR: 0.19922057108624122\tTest Recall@10: 0.4047209480122324\tElapsed time: 6.536601305007935\n",
      "Epoch 120\tTrain Loss: 0.009323138288957313\tTest MRR: 0.20162445400364154\tTest Recall@10: 0.4073967889908257\tElapsed time: 6.189904451370239\n",
      "saving checkpoint to /raid/home/myang349/mitigating-filter-bubbles-final/recsys-filterbubbles/checkpoints_exp1/120.pt\n",
      "Epoch 125\tTrain Loss: 0.009253885057848256\tTest MRR: 0.20207231939744721\tTest Recall@10: 0.41303516819571867\tElapsed time: 5.8937342166900635\n",
      "Epoch 130\tTrain Loss: 0.009186143519621326\tTest MRR: 0.20434957977423265\tTest Recall@10: 0.41590214067278286\tElapsed time: 5.261797666549683\n",
      "saving checkpoint to /raid/home/myang349/mitigating-filter-bubbles-final/recsys-filterbubbles/checkpoints_exp1/130.pt\n",
      "Epoch 135\tTrain Loss: 0.009118143503023394\tTest MRR: 0.20462572858044883\tTest Recall@10: 0.415519877675841\tElapsed time: 5.846681833267212\n",
      "Epoch 140\tTrain Loss: 0.009061931793341206\tTest MRR: 0.20767419433762038\tTest Recall@10: 0.42364296636085624\tElapsed time: 5.722575426101685\n",
      "saving checkpoint to /raid/home/myang349/mitigating-filter-bubbles-final/recsys-filterbubbles/checkpoints_exp1/140.pt\n",
      "Epoch 145\tTrain Loss: 0.009002731914997193\tTest MRR: 0.20934492879516103\tTest Recall@10: 0.42545871559633025\tElapsed time: 6.178485155105591\n",
      "Epoch 150\tTrain Loss: 0.008945158661551555\tTest MRR: 0.209194437997889\tTest Recall@10: 0.42737003058103973\tElapsed time: 6.307055950164795\n",
      "saving checkpoint to /raid/home/myang349/mitigating-filter-bubbles-final/recsys-filterbubbles/checkpoints_exp1/150.pt\n",
      "Epoch 155\tTrain Loss: 0.00889269300731132\tTest MRR: 0.2111095124151671\tTest Recall@10: 0.4294724770642202\tElapsed time: 6.449073076248169\n",
      "Epoch 160\tTrain Loss: 0.00884048674534396\tTest MRR: 0.21106358545690151\tTest Recall@10: 0.4326261467889908\tElapsed time: 6.036266565322876\n",
      "saving checkpoint to /raid/home/myang349/mitigating-filter-bubbles-final/recsys-filterbubbles/checkpoints_exp1/160.pt\n",
      "Epoch 165\tTrain Loss: 0.008803172018491606\tTest MRR: 0.2117062190546503\tTest Recall@10: 0.42937691131498473\tElapsed time: 6.346530914306641\n",
      "Epoch 170\tTrain Loss: 0.008744746115851406\tTest MRR: 0.21405143013498248\tTest Recall@10: 0.43826452599388377\tElapsed time: 6.1500537395477295\n",
      "saving checkpoint to /raid/home/myang349/mitigating-filter-bubbles-final/recsys-filterbubbles/checkpoints_exp1/170.pt\n",
      "Epoch 175\tTrain Loss: 0.008697655033515843\tTest MRR: 0.21417948253482647\tTest Recall@10: 0.4372133027522936\tElapsed time: 6.129734516143799\n",
      "Epoch 180\tTrain Loss: 0.008665645251997508\tTest MRR: 0.21552562261898797\tTest Recall@10: 0.43577981651376146\tElapsed time: 6.2116711139678955\n",
      "saving checkpoint to /raid/home/myang349/mitigating-filter-bubbles-final/recsys-filterbubbles/checkpoints_exp1/180.pt\n",
      "Epoch 185\tTrain Loss: 0.008616876639012307\tTest MRR: 0.21640129845824285\tTest Recall@10: 0.4408448012232416\tElapsed time: 5.954685926437378\n",
      "Epoch 190\tTrain Loss: 0.008587807567018962\tTest MRR: 0.2164756959803375\tTest Recall@10: 0.44285168195718655\tElapsed time: 6.1652138233184814\n",
      "saving checkpoint to /raid/home/myang349/mitigating-filter-bubbles-final/recsys-filterbubbles/checkpoints_exp1/190.pt\n",
      "Epoch 195\tTrain Loss: 0.008541990715395364\tTest MRR: 0.2176985541319411\tTest Recall@10: 0.4455275229357798\tElapsed time: 5.3267271518707275\n",
      "Epoch 200\tTrain Loss: 0.00850118429537137\tTest MRR: 0.21734777968190439\tTest Recall@10: 0.442947247706422\tElapsed time: 5.462375164031982\n",
      "saving checkpoint to /raid/home/myang349/mitigating-filter-bubbles-final/recsys-filterbubbles/checkpoints_exp1/200.pt\n",
      "\n",
      "Finished!\n"
     ]
    }
   ],
   "source": [
    "model_exp1 = train_model2(\n",
    "    train_data_exp1,\n",
    "    valid_data,\n",
    "    epochs=EPOCHS,\n",
    "    output_size=OUTPUT_SIZE,\n",
    "    checkpoints_folder_name='checkpoints_exp1',\n",
    ")"
   ]
  },
  {
   "cell_type": "code",
   "execution_count": null,
   "id": "e6b9a2d7-b009-4916-af6d-3920ffaa14ff",
   "metadata": {},
   "outputs": [
    {
     "name": "stdout",
     "output_type": "stream",
     "text": [
      "Device is cuda\n",
      "Train: 67307, Valid: 10464\n",
      "Model is  LSTM(\n",
      "  (item_emb): Embedding(1743, 128, padding_idx=0)\n",
      "  (LSTM): LSTM(128, 64, batch_first=True)\n",
      "  (fc): Linear(in_features=64, out_features=1743, bias=True)\n",
      ")\n",
      "\n",
      "Training and testing\n",
      "train # = 67307, test # = 10464\n",
      "\n",
      "Epoch 0\tTrain Loss: 0.01463501072996859\tTest MRR: 0.007797949159827661\tTest Recall@10: 0.012710244648318042\tElapsed time: 1.4163739681243896\n",
      "saving checkpoint to /raid/home/myang349/mitigating-filter-bubbles-final/recsys-filterbubbles/checkpoints_exp1/0.pt\n",
      "Epoch 5\tTrain Loss: 0.014391997094753495\tTest MRR: 0.04570655887111048\tTest Recall@10: 0.09537461773700306\tElapsed time: 6.468673467636108\n",
      "Epoch 10\tTrain Loss: 0.013833914789689539\tTest MRR: 0.050879581103864216\tTest Recall@10: 0.10904051987767584\tElapsed time: 5.817203521728516\n",
      "saving checkpoint to /raid/home/myang349/mitigating-filter-bubbles-final/recsys-filterbubbles/checkpoints_exp1/10.pt\n",
      "Epoch 15\tTrain Loss: 0.013248563232562433\tTest MRR: 0.05902298817970654\tTest Recall@10: 0.1257645259938838\tElapsed time: 6.087278604507446\n",
      "Epoch 20\tTrain Loss: 0.012895638657177305\tTest MRR: 0.0726543940684616\tTest Recall@10: 0.15433868501529052\tElapsed time: 6.265429258346558\n",
      "saving checkpoint to /raid/home/myang349/mitigating-filter-bubbles-final/recsys-filterbubbles/checkpoints_exp1/20.pt\n",
      "Epoch 25\tTrain Loss: 0.012580667923603643\tTest MRR: 0.08805444383079947\tTest Recall@10: 0.18702217125382262\tElapsed time: 5.776087045669556\n",
      "Epoch 30\tTrain Loss: 0.012264711791274896\tTest MRR: 0.10713172749136217\tTest Recall@10: 0.22018348623853212\tElapsed time: 5.350308895111084\n",
      "saving checkpoint to /raid/home/myang349/mitigating-filter-bubbles-final/recsys-filterbubbles/checkpoints_exp1/30.pt\n",
      "Epoch 35\tTrain Loss: 0.011940417140321557\tTest MRR: 0.12259029526933661\tTest Recall@10: 0.24875764525993885\tElapsed time: 5.806519985198975\n",
      "Epoch 40\tTrain Loss: 0.011629571511847576\tTest MRR: 0.13875521670006638\tTest Recall@10: 0.2805810397553517\tElapsed time: 5.408505201339722\n",
      "saving checkpoint to /raid/home/myang349/mitigating-filter-bubbles-final/recsys-filterbubbles/checkpoints_exp1/40.pt\n",
      "Epoch 45\tTrain Loss: 0.011337001115379915\tTest MRR: 0.15028987888100506\tTest Recall@10: 0.29759174311926606\tElapsed time: 5.87177038192749\n",
      "Epoch 50\tTrain Loss: 0.011073234475981821\tTest MRR: 0.15642156936602156\tTest Recall@10: 0.31269113149847094\tElapsed time: 5.915593862533569\n",
      "saving checkpoint to /raid/home/myang349/mitigating-filter-bubbles-final/recsys-filterbubbles/checkpoints_exp1/50.pt\n",
      "Epoch 55\tTrain Loss: 0.010837083613316216\tTest MRR: 0.1653347006476976\tTest Recall@10: 0.3286506116207951\tElapsed time: 5.571439743041992\n",
      "Epoch 60\tTrain Loss: 0.01063293076479676\tTest MRR: 0.1707519034906739\tTest Recall@10: 0.3407874617737003\tElapsed time: 5.8002729415893555\n",
      "saving checkpoint to /raid/home/myang349/mitigating-filter-bubbles-final/recsys-filterbubbles/checkpoints_exp1/60.pt\n",
      "Epoch 65\tTrain Loss: 0.010448283649853611\tTest MRR: 0.1745578923559674\tTest Recall@10: 0.35063073394495414\tElapsed time: 5.698605537414551\n",
      "Epoch 70\tTrain Loss: 0.010286075850994048\tTest MRR: 0.17874438881970983\tTest Recall@10: 0.362098623853211\tElapsed time: 5.5680928230285645\n",
      "saving checkpoint to /raid/home/myang349/mitigating-filter-bubbles-final/recsys-filterbubbles/checkpoints_exp1/70.pt\n",
      "Epoch 75\tTrain Loss: 0.010139012716814954\tTest MRR: 0.1822280601128965\tTest Recall@10: 0.37003058103975534\tElapsed time: 5.739990472793579\n",
      "Epoch 80\tTrain Loss: 0.009997179821805093\tTest MRR: 0.18606549979153497\tTest Recall@10: 0.37605122324159024\tElapsed time: 6.0019371509552\n",
      "saving checkpoint to /raid/home/myang349/mitigating-filter-bubbles-final/recsys-filterbubbles/checkpoints_exp1/80.pt\n",
      "Epoch 85\tTrain Loss: 0.009869846915175727\tTest MRR: 0.18887464516188973\tTest Recall@10: 0.3826452599388379\tElapsed time: 6.287479639053345\n",
      "Epoch 90\tTrain Loss: 0.009758899433168235\tTest MRR: 0.1918132766923456\tTest Recall@10: 0.38732798165137616\tElapsed time: 5.913716077804565\n",
      "saving checkpoint to /raid/home/myang349/mitigating-filter-bubbles-final/recsys-filterbubbles/checkpoints_exp1/90.pt\n",
      "Epoch 95\tTrain Loss: 0.009649815446672642\tTest MRR: 0.195107941708978\tTest Recall@10: 0.39201070336391436\tElapsed time: 5.547277212142944\n",
      "Epoch 100\tTrain Loss: 0.009552520900614496\tTest MRR: 0.19663551773393745\tTest Recall@10: 0.3973623853211009\tElapsed time: 5.843952178955078\n",
      "saving checkpoint to /raid/home/myang349/mitigating-filter-bubbles-final/recsys-filterbubbles/checkpoints_exp1/100.pt\n",
      "Epoch 105\tTrain Loss: 0.00946841247793006\tTest MRR: 0.1987284726872189\tTest Recall@10: 0.4013761467889908\tElapsed time: 5.8315346240997314\n",
      "Epoch 110\tTrain Loss: 0.009377918438657316\tTest MRR: 0.20171112060519625\tTest Recall@10: 0.40271406727828746\tElapsed time: 6.329468488693237\n",
      "saving checkpoint to /raid/home/myang349/mitigating-filter-bubbles-final/recsys-filterbubbles/checkpoints_exp1/110.pt\n",
      "Epoch 115\tTrain Loss: 0.00929204924586538\tTest MRR: 0.20114725337083142\tTest Recall@10: 0.40452981651376146\tElapsed time: 5.941359758377075\n",
      "Epoch 120\tTrain Loss: 0.009216236735558495\tTest MRR: 0.20368142723557298\tTest Recall@10: 0.40854357798165136\tElapsed time: 6.107856750488281\n",
      "saving checkpoint to /raid/home/myang349/mitigating-filter-bubbles-final/recsys-filterbubbles/checkpoints_exp1/120.pt\n",
      "Epoch 125\tTrain Loss: 0.009149874459456146\tTest MRR: 0.20654031306462464\tTest Recall@10: 0.4129396024464832\tElapsed time: 5.935009717941284\n",
      "Epoch 130\tTrain Loss: 0.009083360737769667\tTest MRR: 0.2064696067586345\tTest Recall@10: 0.41676223241590216\tElapsed time: 6.273033618927002\n",
      "saving checkpoint to /raid/home/myang349/mitigating-filter-bubbles-final/recsys-filterbubbles/checkpoints_exp1/130.pt\n",
      "Epoch 135\tTrain Loss: 0.009015005624244512\tTest MRR: 0.20701087075770372\tTest Recall@10: 0.41991590214067276\tElapsed time: 6.264257192611694\n",
      "Epoch 140\tTrain Loss: 0.008955664955420387\tTest MRR: 0.20820839777073982\tTest Recall@10: 0.4216360856269113\tElapsed time: 6.278397083282471\n",
      "saving checkpoint to /raid/home/myang349/mitigating-filter-bubbles-final/recsys-filterbubbles/checkpoints_exp1/140.pt\n",
      "Epoch 145\tTrain Loss: 0.008893453805825327\tTest MRR: 0.2100536928151038\tTest Recall@10: 0.4257454128440367\tElapsed time: 6.219054937362671\n",
      "Epoch 150\tTrain Loss: 0.008838832866333123\tTest MRR: 0.21158922801494923\tTest Recall@10: 0.42746559633027525\tElapsed time: 6.3756020069122314\n",
      "saving checkpoint to /raid/home/myang349/mitigating-filter-bubbles-final/recsys-filterbubbles/checkpoints_exp1/150.pt\n",
      "Epoch 155\tTrain Loss: 0.008841015391528534\tTest MRR: 0.2112848231420957\tTest Recall@10: 0.42746559633027525\tElapsed time: 6.03363823890686\n",
      "Epoch 160\tTrain Loss: 0.008746457060595517\tTest MRR: 0.2146301992745522\tTest Recall@10: 0.43004587155963303\tElapsed time: 5.8002448081970215\n",
      "saving checkpoint to /raid/home/myang349/mitigating-filter-bubbles-final/recsys-filterbubbles/checkpoints_exp1/160.pt\n",
      "Epoch 165\tTrain Loss: 0.00869675231100002\tTest MRR: 0.21456487314313344\tTest Recall@10: 0.4377866972477064\tElapsed time: 5.201940298080444\n",
      "Epoch 170\tTrain Loss: 0.008643777096246896\tTest MRR: 0.21727265319966493\tTest Recall@10: 0.4390290519877676\tElapsed time: 5.378028392791748\n",
      "saving checkpoint to /raid/home/myang349/mitigating-filter-bubbles-final/recsys-filterbubbles/checkpoints_exp1/170.pt\n",
      "Epoch 175\tTrain Loss: 0.008588144601986288\tTest MRR: 0.2173656740566535\tTest Recall@10: 0.4402714067278288\tElapsed time: 5.777095317840576\n",
      "Epoch 180\tTrain Loss: 0.008548893681916017\tTest MRR: 0.21718076632967226\tTest Recall@10: 0.4394113149847095\tElapsed time: 6.17792272567749\n",
      "saving checkpoint to /raid/home/myang349/mitigating-filter-bubbles-final/recsys-filterbubbles/checkpoints_exp1/180.pt\n",
      "Epoch 185\tTrain Loss: 0.00852574746981769\tTest MRR: 0.21773895920098552\tTest Recall@10: 0.44390290519877673\tElapsed time: 6.494619131088257\n",
      "Epoch 190\tTrain Loss: 0.008469108709375879\tTest MRR: 0.21985110043896697\tTest Recall@10: 0.4444762996941896\tElapsed time: 6.5941455364227295\n",
      "saving checkpoint to /raid/home/myang349/mitigating-filter-bubbles-final/recsys-filterbubbles/checkpoints_exp1/190.pt\n",
      "Epoch 195\tTrain Loss: 0.008429882723240833\tTest MRR: 0.21959704546518446\tTest Recall@10: 0.4460053516819572\tElapsed time: 6.067982196807861\n",
      "Epoch 200\tTrain Loss: 0.008389421938780093\tTest MRR: 0.22142149842114384\tTest Recall@10: 0.4478211009174312\tElapsed time: 5.895939350128174\n",
      "saving checkpoint to /raid/home/myang349/mitigating-filter-bubbles-final/recsys-filterbubbles/checkpoints_exp1/200.pt\n",
      "\n",
      "Finished!\n"
     ]
    }
   ],
   "source": [
    "model_exp2 = train_model2(\n",
    "    train_data_exp2,\n",
    "    valid_data,\n",
    "    epochs=EPOCHS,\n",
    "    output_size=OUTPUT_SIZE,\n",
    "    checkpoints_folder_name='checkpoints_exp2',\n",
    ")"
   ]
  },
  {
   "cell_type": "code",
   "execution_count": 178,
   "id": "4a3e80ef-f71e-4b6f-b22b-9c604c520fe7",
   "metadata": {},
   "outputs": [
    {
     "name": "stdout",
     "output_type": "stream",
     "text": [
      "Device is cuda\n",
      "Train: 91997, Valid: 10464\n",
      "Model is  LSTM(\n",
      "  (item_emb): Embedding(1743, 128, padding_idx=0)\n",
      "  (LSTM): LSTM(128, 64, batch_first=True)\n",
      "  (fc): Linear(in_features=64, out_features=1743, bias=True)\n",
      ")\n",
      "\n",
      "Training and testing\n",
      "train # = 91997, test # = 10464\n",
      "\n",
      "Epoch 0\tTrain Loss: 0.014578206653935609\tTest MRR: 0.01404339200359645\tTest Recall@10: 0.02570718654434251\tElapsed time: 1.8234646320343018\n",
      "saving checkpoint to /raid/home/myang349/mitigating-filter-bubbles-final/recsys-filterbubbles/checkpoints_exp3/0.pt\n",
      "Epoch 5\tTrain Loss: 0.014182381525399074\tTest MRR: 0.0491101980748597\tTest Recall@10: 0.10712920489296636\tElapsed time: 8.246484994888306\n",
      "Epoch 10\tTrain Loss: 0.01334685893771827\tTest MRR: 0.05128082649508877\tTest Recall@10: 0.10693807339449542\tElapsed time: 8.829949617385864\n",
      "saving checkpoint to /raid/home/myang349/mitigating-filter-bubbles-final/recsys-filterbubbles/checkpoints_exp3/10.pt\n",
      "Epoch 15\tTrain Loss: 0.012929109832129417\tTest MRR: 0.058167599095286064\tTest Recall@10: 0.12958715596330275\tElapsed time: 7.548969507217407\n",
      "Epoch 20\tTrain Loss: 0.012546749095916127\tTest MRR: 0.08106347127799175\tTest Recall@10: 0.169151376146789\tElapsed time: 8.063924789428711\n",
      "saving checkpoint to /raid/home/myang349/mitigating-filter-bubbles-final/recsys-filterbubbles/checkpoints_exp3/20.pt\n",
      "Epoch 25\tTrain Loss: 0.012147041090543122\tTest MRR: 0.10020562440779004\tTest Recall@10: 0.21731651376146788\tElapsed time: 8.560308694839478\n",
      "Epoch 30\tTrain Loss: 0.011729280628603367\tTest MRR: 0.12135354941222878\tTest Recall@10: 0.25649847094801226\tElapsed time: 8.174115180969238\n",
      "saving checkpoint to /raid/home/myang349/mitigating-filter-bubbles-final/recsys-filterbubbles/checkpoints_exp3/30.pt\n",
      "Epoch 35\tTrain Loss: 0.011365391922324648\tTest MRR: 0.1371305578840747\tTest Recall@10: 0.2827790519877676\tElapsed time: 8.148085594177246\n",
      "Epoch 40\tTrain Loss: 0.011051209487076608\tTest MRR: 0.1471664431026293\tTest Recall@10: 0.29835626911314983\tElapsed time: 8.08168363571167\n",
      "saving checkpoint to /raid/home/myang349/mitigating-filter-bubbles-final/recsys-filterbubbles/checkpoints_exp3/40.pt\n",
      "Epoch 45\tTrain Loss: 0.010779624532271681\tTest MRR: 0.1542940977471852\tTest Recall@10: 0.31336009174311924\tElapsed time: 8.334634065628052\n",
      "Epoch 50\tTrain Loss: 0.010541652841905004\tTest MRR: 0.16109238728346098\tTest Recall@10: 0.329032874617737\tElapsed time: 8.378695011138916\n",
      "saving checkpoint to /raid/home/myang349/mitigating-filter-bubbles-final/recsys-filterbubbles/checkpoints_exp3/50.pt\n",
      "Epoch 55\tTrain Loss: 0.01033780696525604\tTest MRR: 0.16498806886767275\tTest Recall@10: 0.34288990825688076\tElapsed time: 8.435939073562622\n",
      "Epoch 60\tTrain Loss: 0.010158488033546\tTest MRR: 0.1677526033190782\tTest Recall@10: 0.353019877675841\tElapsed time: 7.942317485809326\n",
      "saving checkpoint to /raid/home/myang349/mitigating-filter-bubbles-final/recsys-filterbubbles/checkpoints_exp3/60.pt\n",
      "Epoch 65\tTrain Loss: 0.009992555803450112\tTest MRR: 0.17036611131912555\tTest Recall@10: 0.35789373088685017\tElapsed time: 7.443488597869873\n",
      "Epoch 70\tTrain Loss: 0.009840975829137025\tTest MRR: 0.1754914717441677\tTest Recall@10: 0.36754587155963303\tElapsed time: 8.088014841079712\n",
      "saving checkpoint to /raid/home/myang349/mitigating-filter-bubbles-final/recsys-filterbubbles/checkpoints_exp3/70.pt\n",
      "Epoch 75\tTrain Loss: 0.009700565320926603\tTest MRR: 0.17822779873879693\tTest Recall@10: 0.3724197247706422\tElapsed time: 8.389597415924072\n",
      "Epoch 80\tTrain Loss: 0.009577617283270268\tTest MRR: 0.18152150331079403\tTest Recall@10: 0.3798738532110092\tElapsed time: 8.488379001617432\n",
      "saving checkpoint to /raid/home/myang349/mitigating-filter-bubbles-final/recsys-filterbubbles/checkpoints_exp3/80.pt\n",
      "Epoch 85\tTrain Loss: 0.009457686266779947\tTest MRR: 0.18209008244535532\tTest Recall@10: 0.3845565749235474\tElapsed time: 8.042026996612549\n",
      "Epoch 90\tTrain Loss: 0.009346120187530987\tTest MRR: 0.18441666993889788\tTest Recall@10: 0.3882836391437309\tElapsed time: 8.326982259750366\n",
      "saving checkpoint to /raid/home/myang349/mitigating-filter-bubbles-final/recsys-filterbubbles/checkpoints_exp3/90.pt\n",
      "Epoch 95\tTrain Loss: 0.009246784768620332\tTest MRR: 0.18678581049601256\tTest Recall@10: 0.3922018348623853\tElapsed time: 8.216514587402344\n",
      "Epoch 100\tTrain Loss: 0.00915320459129471\tTest MRR: 0.18803510088965245\tTest Recall@10: 0.3964067278287462\tElapsed time: 8.376742362976074\n",
      "saving checkpoint to /raid/home/myang349/mitigating-filter-bubbles-final/recsys-filterbubbles/checkpoints_exp3/100.pt\n",
      "Epoch 105\tTrain Loss: 0.009063998267683181\tTest MRR: 0.1898746140599523\tTest Recall@10: 0.3988914373088685\tElapsed time: 8.682712316513062\n",
      "Epoch 110\tTrain Loss: 0.008978391772543802\tTest MRR: 0.1922591305091024\tTest Recall@10: 0.4050076452599388\tElapsed time: 7.937000274658203\n",
      "saving checkpoint to /raid/home/myang349/mitigating-filter-bubbles-final/recsys-filterbubbles/checkpoints_exp3/110.pt\n",
      "Epoch 115\tTrain Loss: 0.008900545928235071\tTest MRR: 0.1951937757293528\tTest Recall@10: 0.41121941896024466\tElapsed time: 7.650120258331299\n",
      "Epoch 120\tTrain Loss: 0.008825750241172362\tTest MRR: 0.19604450739373278\tTest Recall@10: 0.4132262996941896\tElapsed time: 8.094337463378906\n",
      "saving checkpoint to /raid/home/myang349/mitigating-filter-bubbles-final/recsys-filterbubbles/checkpoints_exp3/120.pt\n",
      "Epoch 125\tTrain Loss: 0.008760402177649182\tTest MRR: 0.19966027611938333\tTest Recall@10: 0.4190558103975535\tElapsed time: 8.378538608551025\n",
      "Epoch 130\tTrain Loss: 0.008683765903924334\tTest MRR: 0.19987451348821614\tTest Recall@10: 0.42230504587155965\tElapsed time: 8.067471504211426\n",
      "saving checkpoint to /raid/home/myang349/mitigating-filter-bubbles-final/recsys-filterbubbles/checkpoints_exp3/130.pt\n",
      "Epoch 135\tTrain Loss: 0.008618935106375883\tTest MRR: 0.2021249449100671\tTest Recall@10: 0.42373853211009177\tElapsed time: 8.344617366790771\n",
      "Epoch 140\tTrain Loss: 0.008552015196382063\tTest MRR: 0.20454890262067163\tTest Recall@10: 0.4268922018348624\tElapsed time: 8.186514854431152\n",
      "saving checkpoint to /raid/home/myang349/mitigating-filter-bubbles-final/recsys-filterbubbles/checkpoints_exp3/140.pt\n",
      "Epoch 145\tTrain Loss: 0.008499284785085433\tTest MRR: 0.2043881976726611\tTest Recall@10: 0.43071483180428133\tElapsed time: 8.175702095031738\n",
      "Epoch 150\tTrain Loss: 0.008431606653370385\tTest MRR: 0.2043394108507092\tTest Recall@10: 0.43109709480122327\tElapsed time: 8.139416217803955\n",
      "saving checkpoint to /raid/home/myang349/mitigating-filter-bubbles-final/recsys-filterbubbles/checkpoints_exp3/150.pt\n",
      "Epoch 155\tTrain Loss: 0.00837673996008418\tTest MRR: 0.2080020135552912\tTest Recall@10: 0.43119266055045874\tElapsed time: 9.267191886901855\n",
      "Epoch 160\tTrain Loss: 0.008329316528094575\tTest MRR: 0.20654054157129134\tTest Recall@10: 0.4334862385321101\tElapsed time: 7.923851013183594\n",
      "saving checkpoint to /raid/home/myang349/mitigating-filter-bubbles-final/recsys-filterbubbles/checkpoints_exp3/160.pt\n",
      "Epoch 165\tTrain Loss: 0.008268946304071666\tTest MRR: 0.20819314097022604\tTest Recall@10: 0.4389334862385321\tElapsed time: 7.056712865829468\n",
      "Epoch 170\tTrain Loss: 0.008220437529403319\tTest MRR: 0.20840400333107165\tTest Recall@10: 0.44094036697247707\tElapsed time: 8.572407245635986\n",
      "saving checkpoint to /raid/home/myang349/mitigating-filter-bubbles-final/recsys-filterbubbles/checkpoints_exp3/170.pt\n",
      "Epoch 175\tTrain Loss: 0.00818728766213337\tTest MRR: 0.21075252236904168\tTest Recall@10: 0.4448585626911315\tElapsed time: 8.25106430053711\n",
      "Epoch 180\tTrain Loss: 0.00817295896391097\tTest MRR: 0.2113021941996928\tTest Recall@10: 0.43979357798165136\tElapsed time: 8.170966148376465\n",
      "saving checkpoint to /raid/home/myang349/mitigating-filter-bubbles-final/recsys-filterbubbles/checkpoints_exp3/180.pt\n",
      "Epoch 185\tTrain Loss: 0.008110398622782736\tTest MRR: 0.2124113501961221\tTest Recall@10: 0.44533639143730885\tElapsed time: 8.161086797714233\n",
      "Epoch 190\tTrain Loss: 0.008171393814110963\tTest MRR: 0.2115381120924023\tTest Recall@10: 0.44399847094801226\tElapsed time: 8.255680084228516\n",
      "saving checkpoint to /raid/home/myang349/mitigating-filter-bubbles-final/recsys-filterbubbles/checkpoints_exp3/190.pt\n",
      "Epoch 195\tTrain Loss: 0.008021812891871252\tTest MRR: 0.21339076225186626\tTest Recall@10: 0.44935015290519875\tElapsed time: 8.902582883834839\n",
      "Epoch 200\tTrain Loss: 0.00797862549798002\tTest MRR: 0.21401147192808287\tTest Recall@10: 0.44801223241590216\tElapsed time: 8.20670747756958\n",
      "saving checkpoint to /raid/home/myang349/mitigating-filter-bubbles-final/recsys-filterbubbles/checkpoints_exp3/200.pt\n",
      "\n",
      "Finished!\n"
     ]
    }
   ],
   "source": [
    "model_exp3 = train_model2(\n",
    "    train_data_exp3,\n",
    "    valid_data,\n",
    "    epochs=EPOCHS,\n",
    "    output_size=OUTPUT_SIZE,\n",
    "    checkpoints_folder_name='checkpoints_exp3',\n",
    ")"
   ]
  },
  {
   "cell_type": "code",
   "execution_count": 179,
   "id": "adaf4795-eb1c-4690-b0bd-616a9fe847b8",
   "metadata": {},
   "outputs": [
    {
     "name": "stdout",
     "output_type": "stream",
     "text": [
      "Device is cuda\n",
      "Train: 91997, Valid: 10464\n",
      "Model is  LSTM(\n",
      "  (item_emb): Embedding(1743, 128, padding_idx=0)\n",
      "  (LSTM): LSTM(128, 64, batch_first=True)\n",
      "  (fc): Linear(in_features=64, out_features=1743, bias=True)\n",
      ")\n",
      "\n",
      "Training and testing\n",
      "train # = 91997, test # = 10464\n",
      "\n",
      "Epoch 0\tTrain Loss: 0.014600723027180037\tTest MRR: 0.006168047508904193\tTest Recall@10: 0.008983180428134556\tElapsed time: 1.8328452110290527\n",
      "saving checkpoint to /raid/home/myang349/mitigating-filter-bubbles-final/recsys-filterbubbles/checkpoints_exp4/0.pt\n",
      "Epoch 5\tTrain Loss: 0.014209012676208204\tTest MRR: 0.04920008655442122\tTest Recall@10: 0.11142966360856268\tElapsed time: 8.445865392684937\n",
      "Epoch 10\tTrain Loss: 0.013389912196052725\tTest MRR: 0.05525328660619977\tTest Recall@10: 0.1162079510703364\tElapsed time: 9.025402545928955\n",
      "saving checkpoint to /raid/home/myang349/mitigating-filter-bubbles-final/recsys-filterbubbles/checkpoints_exp4/10.pt\n",
      "Epoch 15\tTrain Loss: 0.012821518613049296\tTest MRR: 0.0754050587558352\tTest Recall@10: 0.15969036697247707\tElapsed time: 8.325538158416748\n",
      "Epoch 20\tTrain Loss: 0.012323259919869187\tTest MRR: 0.10216015905182856\tTest Recall@10: 0.21645642201834864\tElapsed time: 8.436631679534912\n",
      "saving checkpoint to /raid/home/myang349/mitigating-filter-bubbles-final/recsys-filterbubbles/checkpoints_exp4/20.pt\n",
      "Epoch 25\tTrain Loss: 0.011829904599419218\tTest MRR: 0.12985972012137495\tTest Recall@10: 0.2626146788990826\tElapsed time: 7.2367939949035645\n",
      "Epoch 30\tTrain Loss: 0.011360702682376194\tTest MRR: 0.15006074962436802\tTest Recall@10: 0.2940558103975535\tElapsed time: 7.5782082080841064\n",
      "saving checkpoint to /raid/home/myang349/mitigating-filter-bubbles-final/recsys-filterbubbles/checkpoints_exp4/30.pt\n",
      "Epoch 35\tTrain Loss: 0.01095509953357184\tTest MRR: 0.16030414467736234\tTest Recall@10: 0.3186162079510703\tElapsed time: 8.223039150238037\n",
      "Epoch 40\tTrain Loss: 0.010637110507554207\tTest MRR: 0.16908454633987655\tTest Recall@10: 0.3384938837920489\tElapsed time: 8.497226476669312\n",
      "saving checkpoint to /raid/home/myang349/mitigating-filter-bubbles-final/recsys-filterbubbles/checkpoints_exp4/40.pt\n",
      "Epoch 45\tTrain Loss: 0.01036851583388139\tTest MRR: 0.17539186884123428\tTest Recall@10: 0.3541666666666667\tElapsed time: 8.543012142181396\n",
      "Epoch 50\tTrain Loss: 0.010139475827974002\tTest MRR: 0.18056724390683032\tTest Recall@10: 0.3662079510703364\tElapsed time: 8.166059970855713\n",
      "saving checkpoint to /raid/home/myang349/mitigating-filter-bubbles-final/recsys-filterbubbles/checkpoints_exp4/50.pt\n",
      "Epoch 55\tTrain Loss: 0.009939239228737256\tTest MRR: 0.1858059512404558\tTest Recall@10: 0.3753822629969419\tElapsed time: 7.912555456161499\n",
      "Epoch 60\tTrain Loss: 0.00975995152051321\tTest MRR: 0.18900728228146316\tTest Recall@10: 0.38321865443425074\tElapsed time: 8.229008674621582\n",
      "saving checkpoint to /raid/home/myang349/mitigating-filter-bubbles-final/recsys-filterbubbles/checkpoints_exp4/60.pt\n",
      "Epoch 65\tTrain Loss: 0.009608769023664757\tTest MRR: 0.19209344172906012\tTest Recall@10: 0.3918195718654434\tElapsed time: 8.044415473937988\n",
      "Epoch 70\tTrain Loss: 0.009464251123923422\tTest MRR: 0.19566003616982627\tTest Recall@10: 0.395164373088685\tElapsed time: 8.194626331329346\n",
      "saving checkpoint to /raid/home/myang349/mitigating-filter-bubbles-final/recsys-filterbubbles/checkpoints_exp4/70.pt\n",
      "Epoch 75\tTrain Loss: 0.009332999678574571\tTest MRR: 0.19861499155104625\tTest Recall@10: 0.4037652905198777\tElapsed time: 7.605024814605713\n",
      "Epoch 80\tTrain Loss: 0.009219228533924534\tTest MRR: 0.2010189639123354\tTest Recall@10: 0.4066322629969419\tElapsed time: 7.562238931655884\n",
      "saving checkpoint to /raid/home/myang349/mitigating-filter-bubbles-final/recsys-filterbubbles/checkpoints_exp4/80.pt\n",
      "Epoch 85\tTrain Loss: 0.009104031109867667\tTest MRR: 0.20336802424722125\tTest Recall@10: 0.41131498470948014\tElapsed time: 8.258846282958984\n",
      "Epoch 90\tTrain Loss: 0.009000535708273935\tTest MRR: 0.20562984842115214\tTest Recall@10: 0.4154243119266055\tElapsed time: 7.803680658340454\n",
      "saving checkpoint to /raid/home/myang349/mitigating-filter-bubbles-final/recsys-filterbubbles/checkpoints_exp4/90.pt\n",
      "Epoch 95\tTrain Loss: 0.008912955584566958\tTest MRR: 0.20721644635836386\tTest Recall@10: 0.4176223241590214\tElapsed time: 8.008845806121826\n",
      "Epoch 100\tTrain Loss: 0.008814697759478544\tTest MRR: 0.20769462427129676\tTest Recall@10: 0.4216360856269113\tElapsed time: 8.360240459442139\n",
      "saving checkpoint to /raid/home/myang349/mitigating-filter-bubbles-final/recsys-filterbubbles/checkpoints_exp4/100.pt\n",
      "Epoch 105\tTrain Loss: 0.00873946318910494\tTest MRR: 0.20996479468479118\tTest Recall@10: 0.42746559633027525\tElapsed time: 8.23031210899353\n",
      "Epoch 110\tTrain Loss: 0.008660455534639235\tTest MRR: 0.2106599627041817\tTest Recall@10: 0.4271788990825688\tElapsed time: 7.8163743019104\n",
      "saving checkpoint to /raid/home/myang349/mitigating-filter-bubbles-final/recsys-filterbubbles/checkpoints_exp4/110.pt\n",
      "Epoch 115\tTrain Loss: 0.008591266839801263\tTest MRR: 0.21184841458388465\tTest Recall@10: 0.4322438837920489\tElapsed time: 7.744871139526367\n",
      "Epoch 120\tTrain Loss: 0.008541331054897482\tTest MRR: 0.21267666283424078\tTest Recall@10: 0.4372133027522936\tElapsed time: 8.733660221099854\n",
      "saving checkpoint to /raid/home/myang349/mitigating-filter-bubbles-final/recsys-filterbubbles/checkpoints_exp4/120.pt\n",
      "Epoch 125\tTrain Loss: 0.0084495620444952\tTest MRR: 0.21255380227387738\tTest Recall@10: 0.4378822629969419\tElapsed time: 7.844521760940552\n",
      "Epoch 130\tTrain Loss: 0.008392116275198005\tTest MRR: 0.21291003304956263\tTest Recall@10: 0.44094036697247707\tElapsed time: 7.6731977462768555\n",
      "saving checkpoint to /raid/home/myang349/mitigating-filter-bubbles-final/recsys-filterbubbles/checkpoints_exp4/130.pt\n",
      "Epoch 135\tTrain Loss: 0.008331280666256652\tTest MRR: 0.21541563426683666\tTest Recall@10: 0.44399847094801226\tElapsed time: 7.91335654258728\n",
      "Epoch 140\tTrain Loss: 0.00827662712613081\tTest MRR: 0.21501086348651438\tTest Recall@10: 0.44619648318042815\tElapsed time: 7.91364049911499\n",
      "saving checkpoint to /raid/home/myang349/mitigating-filter-bubbles-final/recsys-filterbubbles/checkpoints_exp4/140.pt\n",
      "Epoch 145\tTrain Loss: 0.008220501580570014\tTest MRR: 0.2170532324708192\tTest Recall@10: 0.4488723241590214\tElapsed time: 7.751421928405762\n",
      "Epoch 150\tTrain Loss: 0.008182927867799382\tTest MRR: 0.21657832371314215\tTest Recall@10: 0.4482033639143731\tElapsed time: 7.729051351547241\n",
      "saving checkpoint to /raid/home/myang349/mitigating-filter-bubbles-final/recsys-filterbubbles/checkpoints_exp4/150.pt\n",
      "Epoch 155\tTrain Loss: 0.008116746993980075\tTest MRR: 0.21621430018571197\tTest Recall@10: 0.44829892966360857\tElapsed time: 8.335802555084229\n",
      "Epoch 160\tTrain Loss: 0.008091071906934071\tTest MRR: 0.21646828609668264\tTest Recall@10: 0.45059250764525993\tElapsed time: 8.379554033279419\n",
      "saving checkpoint to /raid/home/myang349/mitigating-filter-bubbles-final/recsys-filterbubbles/checkpoints_exp4/160.pt\n",
      "Epoch 165\tTrain Loss: 0.008062986137672682\tTest MRR: 0.21340353703347442\tTest Recall@10: 0.4433295107033639\tElapsed time: 7.85285758972168\n",
      "Epoch 170\tTrain Loss: 0.008028948334378637\tTest MRR: 0.21868044488474855\tTest Recall@10: 0.454032874617737\tElapsed time: 7.806011199951172\n",
      "saving checkpoint to /raid/home/myang349/mitigating-filter-bubbles-final/recsys-filterbubbles/checkpoints_exp4/170.pt\n",
      "Epoch 175\tTrain Loss: 0.008230411629431292\tTest MRR: 0.2171684908805732\tTest Recall@10: 0.4497324159021407\tElapsed time: 8.035462617874146\n",
      "Epoch 180\tTrain Loss: 0.008031979368276121\tTest MRR: 0.21846719174404877\tTest Recall@10: 0.45756880733944955\tElapsed time: 8.083371639251709\n",
      "saving checkpoint to /raid/home/myang349/mitigating-filter-bubbles-final/recsys-filterbubbles/checkpoints_exp4/180.pt\n",
      "Epoch 185\tTrain Loss: 0.007955220577096064\tTest MRR: 0.22010625559261804\tTest Recall@10: 0.45785550458715596\tElapsed time: 7.399680852890015\n",
      "Epoch 190\tTrain Loss: 0.007895044145754426\tTest MRR: 0.22013364697247262\tTest Recall@10: 0.46120030581039756\tElapsed time: 7.52810001373291\n",
      "saving checkpoint to /raid/home/myang349/mitigating-filter-bubbles-final/recsys-filterbubbles/checkpoints_exp4/190.pt\n",
      "Epoch 195\tTrain Loss: 0.007879546388695573\tTest MRR: 0.22058781185934623\tTest Recall@10: 0.4608180428134557\tElapsed time: 8.363920450210571\n",
      "Epoch 200\tTrain Loss: 0.007822125375569524\tTest MRR: 0.2217655560867943\tTest Recall@10: 0.4625382262996942\tElapsed time: 8.233679056167603\n",
      "saving checkpoint to /raid/home/myang349/mitigating-filter-bubbles-final/recsys-filterbubbles/checkpoints_exp4/200.pt\n",
      "\n",
      "Finished!\n"
     ]
    }
   ],
   "source": [
    "model_exp4 = train_model2(\n",
    "    train_data_exp4,\n",
    "    valid_data,\n",
    "    epochs=EPOCHS,\n",
    "    output_size=OUTPUT_SIZE,\n",
    "    checkpoints_folder_name='checkpoints_exp4',\n",
    ")"
   ]
  },
  {
   "cell_type": "code",
   "execution_count": 180,
   "id": "29927db8-c859-4dfb-af64-0c32c4e0893a",
   "metadata": {},
   "outputs": [
    {
     "name": "stdout",
     "output_type": "stream",
     "text": [
      "Device is cuda\n",
      "Train: 81415, Valid: 10464\n",
      "Model is  LSTM(\n",
      "  (item_emb): Embedding(1743, 128, padding_idx=0)\n",
      "  (LSTM): LSTM(128, 64, batch_first=True)\n",
      "  (fc): Linear(in_features=64, out_features=1743, bias=True)\n",
      ")\n",
      "\n",
      "Training and testing\n",
      "train # = 81415, test # = 10464\n",
      "\n",
      "Epoch 0\tTrain Loss: 0.01466070652037341\tTest MRR: 0.010603990195566897\tTest Recall@10: 0.01930428134556575\tElapsed time: 1.7866673469543457\n",
      "saving checkpoint to /raid/home/myang349/mitigating-filter-bubbles-final/recsys-filterbubbles/checkpoints_exp5/0.pt\n",
      "Epoch 5\tTrain Loss: 0.014225517490356273\tTest MRR: 0.04874048679926645\tTest Recall@10: 0.10607798165137615\tElapsed time: 6.662287712097168\n",
      "Epoch 10\tTrain Loss: 0.013349653305047152\tTest MRR: 0.050466908222527744\tTest Recall@10: 0.10196865443425077\tElapsed time: 6.513912200927734\n",
      "saving checkpoint to /raid/home/myang349/mitigating-filter-bubbles-final/recsys-filterbubbles/checkpoints_exp5/10.pt\n",
      "Epoch 15\tTrain Loss: 0.012998475221951236\tTest MRR: 0.05462736083650436\tTest Recall@10: 0.11878822629969418\tElapsed time: 7.238423824310303\n",
      "Epoch 20\tTrain Loss: 0.01271150879255788\tTest MRR: 0.06432056445062727\tTest Recall@10: 0.14506880733944955\tElapsed time: 7.553083181381226\n",
      "saving checkpoint to /raid/home/myang349/mitigating-filter-bubbles-final/recsys-filterbubbles/checkpoints_exp5/20.pt\n",
      "Epoch 25\tTrain Loss: 0.01243483901777937\tTest MRR: 0.07920573269419282\tTest Recall@10: 0.17163608562691132\tElapsed time: 7.169210910797119\n",
      "Epoch 30\tTrain Loss: 0.01213894585298612\tTest MRR: 0.09547233550318585\tTest Recall@10: 0.20212155963302753\tElapsed time: 7.539449453353882\n",
      "saving checkpoint to /raid/home/myang349/mitigating-filter-bubbles-final/recsys-filterbubbles/checkpoints_exp5/30.pt\n",
      "Epoch 35\tTrain Loss: 0.011828216504590894\tTest MRR: 0.11111187487645906\tTest Recall@10: 0.23174694189602446\tElapsed time: 7.17910361289978\n",
      "Epoch 40\tTrain Loss: 0.01155749818349378\tTest MRR: 0.12266741658325901\tTest Recall@10: 0.2515290519877676\tElapsed time: 7.151805877685547\n",
      "saving checkpoint to /raid/home/myang349/mitigating-filter-bubbles-final/recsys-filterbubbles/checkpoints_exp5/40.pt\n",
      "Epoch 45\tTrain Loss: 0.011285574865349972\tTest MRR: 0.13301041632194194\tTest Recall@10: 0.26710626911314983\tElapsed time: 7.459700584411621\n",
      "Epoch 50\tTrain Loss: 0.01104653896032384\tTest MRR: 0.13739678655915363\tTest Recall@10: 0.27800076452599387\tElapsed time: 7.572926759719849\n",
      "saving checkpoint to /raid/home/myang349/mitigating-filter-bubbles-final/recsys-filterbubbles/checkpoints_exp5/50.pt\n",
      "Epoch 55\tTrain Loss: 0.010836539684770764\tTest MRR: 0.14266386367504535\tTest Recall@10: 0.29061544342507645\tElapsed time: 7.28648829460144\n",
      "Epoch 60\tTrain Loss: 0.010682294515604939\tTest MRR: 0.14710452952460035\tTest Recall@10: 0.30131880733944955\tElapsed time: 7.564046382904053\n",
      "saving checkpoint to /raid/home/myang349/mitigating-filter-bubbles-final/recsys-filterbubbles/checkpoints_exp5/60.pt\n",
      "Epoch 65\tTrain Loss: 0.010463795398806337\tTest MRR: 0.14924383728770677\tTest Recall@10: 0.3128822629969419\tElapsed time: 6.486208200454712\n",
      "Epoch 70\tTrain Loss: 0.010294634800376627\tTest MRR: 0.1535450344501809\tTest Recall@10: 0.3246368501529052\tElapsed time: 7.245292663574219\n",
      "saving checkpoint to /raid/home/myang349/mitigating-filter-bubbles-final/recsys-filterbubbles/checkpoints_exp5/70.pt\n",
      "Epoch 75\tTrain Loss: 0.010149052986779202\tTest MRR: 0.15820947162620783\tTest Recall@10: 0.3316131498470948\tElapsed time: 7.437914609909058\n",
      "Epoch 80\tTrain Loss: 0.009992046828923878\tTest MRR: 0.16110390697706017\tTest Recall@10: 0.3411697247706422\tElapsed time: 7.284748554229736\n",
      "saving checkpoint to /raid/home/myang349/mitigating-filter-bubbles-final/recsys-filterbubbles/checkpoints_exp5/80.pt\n",
      "Epoch 85\tTrain Loss: 0.009855418199623992\tTest MRR: 0.16357474574766478\tTest Recall@10: 0.3452790519877676\tElapsed time: 7.150613784790039\n",
      "Epoch 90\tTrain Loss: 0.009729507961020177\tTest MRR: 0.16636616056478926\tTest Recall@10: 0.3525420489296636\tElapsed time: 7.458227872848511\n",
      "saving checkpoint to /raid/home/myang349/mitigating-filter-bubbles-final/recsys-filterbubbles/checkpoints_exp5/90.pt\n",
      "Epoch 95\tTrain Loss: 0.009610546495085272\tTest MRR: 0.16890114169106935\tTest Recall@10: 0.35646024464831805\tElapsed time: 7.3100738525390625\n",
      "Epoch 100\tTrain Loss: 0.009499571380938534\tTest MRR: 0.17243697839032474\tTest Recall@10: 0.36381880733944955\tElapsed time: 7.184582471847534\n",
      "saving checkpoint to /raid/home/myang349/mitigating-filter-bubbles-final/recsys-filterbubbles/checkpoints_exp5/100.pt\n",
      "Epoch 105\tTrain Loss: 0.009391943531752964\tTest MRR: 0.17444204150214498\tTest Recall@10: 0.36993501529051986\tElapsed time: 7.855509519577026\n",
      "Epoch 110\tTrain Loss: 0.009282838934024122\tTest MRR: 0.1762137761594597\tTest Recall@10: 0.37413990825688076\tElapsed time: 7.106078624725342\n",
      "saving checkpoint to /raid/home/myang349/mitigating-filter-bubbles-final/recsys-filterbubbles/checkpoints_exp5/110.pt\n",
      "Epoch 115\tTrain Loss: 0.009187110841570766\tTest MRR: 0.17885239443782713\tTest Recall@10: 0.3790137614678899\tElapsed time: 7.027556657791138\n",
      "Epoch 120\tTrain Loss: 0.009104531123956913\tTest MRR: 0.18086545660235728\tTest Recall@10: 0.38522553516819574\tElapsed time: 6.552370309829712\n",
      "saving checkpoint to /raid/home/myang349/mitigating-filter-bubbles-final/recsys-filterbubbles/checkpoints_exp5/120.pt\n",
      "Epoch 125\tTrain Loss: 0.009018101797733203\tTest MRR: 0.1822443403759857\tTest Recall@10: 0.3872324159021407\tElapsed time: 7.3545355796813965\n",
      "Epoch 130\tTrain Loss: 0.008930586657762484\tTest MRR: 0.18429748546200092\tTest Recall@10: 0.38771024464831805\tElapsed time: 7.157449960708618\n",
      "saving checkpoint to /raid/home/myang349/mitigating-filter-bubbles-final/recsys-filterbubbles/checkpoints_exp5/130.pt\n",
      "Epoch 135\tTrain Loss: 0.008853273874036966\tTest MRR: 0.1849878625021085\tTest Recall@10: 0.39172400611620795\tElapsed time: 7.325087308883667\n",
      "Epoch 140\tTrain Loss: 0.0087810200307847\tTest MRR: 0.1863204642810481\tTest Recall@10: 0.395164373088685\tElapsed time: 7.419144630432129\n",
      "saving checkpoint to /raid/home/myang349/mitigating-filter-bubbles-final/recsys-filterbubbles/checkpoints_exp5/140.pt\n",
      "Epoch 145\tTrain Loss: 0.008717147463378176\tTest MRR: 0.1885147866466269\tTest Recall@10: 0.398987003058104\tElapsed time: 6.9885804653167725\n",
      "Epoch 150\tTrain Loss: 0.008643076905840805\tTest MRR: 0.18960892227739737\tTest Recall@10: 0.40175840978593275\tElapsed time: 7.770665645599365\n",
      "saving checkpoint to /raid/home/myang349/mitigating-filter-bubbles-final/recsys-filterbubbles/checkpoints_exp5/150.pt\n",
      "Epoch 155\tTrain Loss: 0.008580082572407726\tTest MRR: 0.19091024697034453\tTest Recall@10: 0.4031918960244648\tElapsed time: 7.629104852676392\n",
      "Epoch 160\tTrain Loss: 0.008529940414822586\tTest MRR: 0.19233445423563386\tTest Recall@10: 0.40825688073394495\tElapsed time: 7.425286054611206\n",
      "saving checkpoint to /raid/home/myang349/mitigating-filter-bubbles-final/recsys-filterbubbles/checkpoints_exp5/160.pt\n",
      "Epoch 165\tTrain Loss: 0.008522025468908349\tTest MRR: 0.1908526043414877\tTest Recall@10: 0.40854357798165136\tElapsed time: 7.340882062911987\n",
      "Epoch 170\tTrain Loss: 0.008413545814697011\tTest MRR: 0.19530601287520014\tTest Recall@10: 0.4088302752293578\tElapsed time: 6.886456251144409\n",
      "saving checkpoint to /raid/home/myang349/mitigating-filter-bubbles-final/recsys-filterbubbles/checkpoints_exp5/170.pt\n",
      "Epoch 175\tTrain Loss: 0.00838684138853881\tTest MRR: 0.19021676724719722\tTest Recall@10: 0.4041475535168196\tElapsed time: 7.132354974746704\n",
      "Epoch 180\tTrain Loss: 0.008422452576702337\tTest MRR: 0.19188256582615193\tTest Recall@10: 0.40758792048929665\tElapsed time: 7.508056163787842\n",
      "saving checkpoint to /raid/home/myang349/mitigating-filter-bubbles-final/recsys-filterbubbles/checkpoints_exp5/180.pt\n",
      "Epoch 185\tTrain Loss: 0.008278382221296423\tTest MRR: 0.19749329977827448\tTest Recall@10: 0.41370412844036697\tElapsed time: 7.297771692276001\n",
      "Epoch 190\tTrain Loss: 0.0082151462126809\tTest MRR: 0.19737751046305455\tTest Recall@10: 0.4160932721712538\tElapsed time: 7.233255863189697\n",
      "saving checkpoint to /raid/home/myang349/mitigating-filter-bubbles-final/recsys-filterbubbles/checkpoints_exp5/190.pt\n",
      "Epoch 195\tTrain Loss: 0.00817190809993847\tTest MRR: 0.19620892186035732\tTest Recall@10: 0.41771788990825687\tElapsed time: 7.19849157333374\n",
      "Epoch 200\tTrain Loss: 0.00812265159085101\tTest MRR: 0.1979934029352127\tTest Recall@10: 0.41771788990825687\tElapsed time: 7.410162925720215\n",
      "saving checkpoint to /raid/home/myang349/mitigating-filter-bubbles-final/recsys-filterbubbles/checkpoints_exp5/200.pt\n",
      "\n",
      "Finished!\n"
     ]
    }
   ],
   "source": [
    "model_exp5 = train_model2(\n",
    "    train_data_exp5,\n",
    "    valid_data,\n",
    "    epochs=EPOCHS,\n",
    "    output_size=OUTPUT_SIZE,\n",
    "    checkpoints_folder_name='checkpoints_exp5',\n",
    ")"
   ]
  },
  {
   "cell_type": "markdown",
   "id": "e58d30d7-38fc-41d2-a768-b4970829d9bd",
   "metadata": {},
   "source": [
    "# Evaluating Recall and Diversity of All Models"
   ]
  },
  {
   "cell_type": "markdown",
   "id": "7796e2ba-b39c-4ad5-a5f2-1160f9cbbed2",
   "metadata": {},
   "source": [
    "## Loading baseline"
   ]
  },
  {
   "cell_type": "code",
   "execution_count": 184,
   "id": "0445e810-4b02-47ba-b7b6-5fd78a5bb045",
   "metadata": {},
   "outputs": [
    {
     "name": "stdout",
     "output_type": "stream",
     "text": [
      "Device is cuda\n"
     ]
    }
   ],
   "source": [
    "# Parameter may need to change if you re-ran all the prior pre-processing experiments\n",
    "OUTPUT_SIZE=1743\n",
    "\n",
    "device = torch.device(\"cuda\")\n",
    "print(\"Device is\", device)\n",
    "m0 = LSTM(input_size=128, output_size=OUTPUT_SIZE, hidden_dim=64, n_layers=1, device=device) \n",
    "m0.LSTM.flatten_parameters()\n",
    "optimizer = optim.SGD(m0.parameters(), lr=5e-2, momentum=0.9)\n",
    "m0.to(device)\n",
    "m0, _, epoch, loss = load_tracin_checkpoint(m0, optimizer, os.path.join(os.getcwd(), \"checkpoints/lstm_checkpoint_epoch600.pt\"))"
   ]
  },
  {
   "cell_type": "markdown",
   "id": "9bfaa188-33c8-48ed-9743-33f5e6837ce6",
   "metadata": {},
   "source": [
    "## Loading Others"
   ]
  },
  {
   "cell_type": "code",
   "execution_count": 185,
   "id": "5b1c6f88-2768-4602-9b8f-e1a6d3732f65",
   "metadata": {},
   "outputs": [],
   "source": [
    "m1 = model_exp1[0]\n",
    "m2 = model_exp2[0]\n",
    "m3 = model_exp3[0]\n",
    "m4 = model_exp4[0]\n",
    "m5 = model_exp5[0]\n",
    "models = [m0, m1, m2, m3, m4, m5]"
   ]
  },
  {
   "cell_type": "markdown",
   "id": "61ecf7dc-6b53-4ad0-8d3b-5175d53d7990",
   "metadata": {},
   "source": [
    "## Performance Metrics"
   ]
  },
  {
   "cell_type": "code",
   "execution_count": 331,
   "id": "da8e54e5-b70c-4e3c-9907-a79ea8cd07db",
   "metadata": {},
   "outputs": [],
   "source": [
    "def recall(predictions, sequences, gt, k=10):\n",
    "    assert len(sequences) == len(predictions)\n",
    "    hit = 0\n",
    "    total = 0\n",
    "    for i, val in enumerate(gt):\n",
    "        try:\n",
    "            assert len(predictions[i]) >= k\n",
    "        except:\n",
    "            print(len(predictions), len(gt), i, k)\n",
    "            raise('lol')\n",
    "        if val in predictions[i][:k]:\n",
    "            hit += 1\n",
    "        total += 1  \n",
    "    # should be around .505\n",
    "    return (hit/total)\n",
    "\n",
    "def MRR(predictions, sequences, gt):\n",
    "    assert len(sequences) == len(predictions)\n",
    "    sum_rr = 0\n",
    "    total = 0\n",
    "    for i, val in enumerate(gt):\n",
    "        if val in predictions[i]:\n",
    "            sum_rr += 1 / (1 + predictions[i].index(val))\n",
    "        total += 1\n",
    "    return (sum_rr/total)"
   ]
  },
  {
   "cell_type": "markdown",
   "id": "60c9049c-3601-4b0d-b8c6-443814e75cab",
   "metadata": {},
   "source": [
    "## On Validation Dataset"
   ]
  },
  {
   "cell_type": "code",
   "execution_count": 211,
   "id": "3074f69f-6312-4a7c-94db-6a1c6ae4dab1",
   "metadata": {},
   "outputs": [],
   "source": [
    "# Generate sequences and gt\n",
    "sequences = [pt[0] for pt in valid_data]\n",
    "gt = [pt[1] for pt in valid_data]"
   ]
  },
  {
   "cell_type": "code",
   "execution_count": 217,
   "id": "9a74c623-2603-4ebd-abbc-141bacbf9d1a",
   "metadata": {},
   "outputs": [
    {
     "name": "stdout",
     "output_type": "stream",
     "text": [
      "\n",
      "Model 0\n",
      "Recall@10: 0.4969418960244648\n",
      "MRR: 0.22120315761370749\n",
      "Average Gini-Simpson Index: 0.16448967889908378\n",
      "\n",
      "Model 1\n",
      "Recall@10: 0.45670871559633025\n",
      "MRR: 0.2093223250691707\n",
      "Average Gini-Simpson Index: 0.1736792813455677\n",
      "\n",
      "Model 2\n",
      "Recall@10: 0.465118501529052\n",
      "MRR: 0.2092364675865241\n",
      "Average Gini-Simpson Index: 0.15562691131498574\n",
      "\n",
      "Model 3\n",
      "Recall@10: 0.44801223241590216\n",
      "MRR: 0.19728934578418406\n",
      "Average Gini-Simpson Index: 0.2699216360856218\n",
      "\n",
      "Model 4\n",
      "Recall@10: 0.4625382262996942\n",
      "MRR: 0.2047840138221433\n",
      "Average Gini-Simpson Index: 0.1619495412844053\n",
      "\n",
      "Model 5\n",
      "Recall@10: 0.41771788990825687\n",
      "MRR: 0.18098624611669176\n",
      "Average Gini-Simpson Index: 0.324461009174305\n"
     ]
    }
   ],
   "source": [
    "for i, model in enumerate(models):\n",
    "    predictions = get_topk_predictions(model, sequences, k=10)\n",
    "    diversity_scores = average_diversity(predictions, community_dict, diversity_metric=gini_simpson_index, k=10)\n",
    "    print(f\"\\nModel {i}\")\n",
    "    print(f\"Recall@10: {recall(predictions, sequences, gt, 10)}\")\n",
    "    print(f\"MRR: {MRR(predictions, sequences, gt)}\")\n",
    "    print(f\"Average Gini-Simpson Index: {sum(diversity_scores)/len(diversity_scores)}\")"
   ]
  },
  {
   "cell_type": "markdown",
   "id": "b03eba27-341f-4cba-8646-c506468075f7",
   "metadata": {},
   "source": [
    "# On Test Dataset"
   ]
  },
  {
   "cell_type": "code",
   "execution_count": 221,
   "id": "6fa16b87-75f2-4274-b672-4c0c9825863c",
   "metadata": {},
   "outputs": [],
   "source": [
    "# Generate sequences and gt\n",
    "sequences = [pt[0] for pt in test_data]\n",
    "gt = [pt[1] for pt in test_data]"
   ]
  },
  {
   "cell_type": "code",
   "execution_count": 222,
   "id": "51bdec2e-43f4-49b5-ad64-942cd1d1671d",
   "metadata": {},
   "outputs": [
    {
     "name": "stdout",
     "output_type": "stream",
     "text": [
      "\n",
      "Model 0\n",
      "Recall@10: 0.5000871535645808\n",
      "MRR: 0.22734512258217984\n",
      "Average Gini-Simpson Index: 0.16546975771309233\n",
      "\n",
      "Model 1\n",
      "Recall@10: 0.4730695485445355\n",
      "MRR: 0.21869551172976312\n",
      "Average Gini-Simpson Index: 0.17008366742200012\n",
      "\n",
      "Model 2\n",
      "Recall@10: 0.4696705595258846\n",
      "MRR: 0.2156470045458185\n",
      "Average Gini-Simpson Index: 0.15761896461565386\n",
      "\n",
      "Model 3\n",
      "Recall@10: 0.45633606414502353\n",
      "MRR: 0.20196015975386666\n",
      "Average Gini-Simpson Index: 0.27464005577827433\n",
      "\n",
      "Model 4\n",
      "Recall@10: 0.47219801289872754\n",
      "MRR: 0.2109810032897005\n",
      "Average Gini-Simpson Index: 0.1628656092034182\n",
      "\n",
      "Model 5\n",
      "Recall@10: 0.4308000697228517\n",
      "MRR: 0.18594026245673329\n",
      "Average Gini-Simpson Index: 0.33233048631687884\n"
     ]
    }
   ],
   "source": [
    "for i, model in enumerate(models):\n",
    "    predictions = get_topk_predictions(model, sequences, k=10)\n",
    "    diversity_scores = average_diversity(predictions, community_dict, diversity_metric=gini_simpson_index, k=10)\n",
    "    print(f\"\\nModel {i}\")\n",
    "    print(f\"Recall@10: {recall(predictions, sequences, gt, 10)}\")\n",
    "    print(f\"MRR: {MRR(predictions, sequences, gt)}\")\n",
    "    print(f\"Average Gini-Simpson Index: {sum(diversity_scores)/len(diversity_scores)}\")"
   ]
  },
  {
   "cell_type": "markdown",
   "id": "b72d9030-6145-40d6-aabb-03f496c5fdcd",
   "metadata": {},
   "source": [
    "# Run Massive Experiment — 10 iterations each"
   ]
  },
  {
   "cell_type": "code",
   "execution_count": 317,
   "id": "7ed7ae3a-677f-42cf-96e9-7410a75576b0",
   "metadata": {},
   "outputs": [],
   "source": [
    "community_dict = load_community_dict(os.path.join(SAVE_FOLDER, SAVE_COMMUNITY_NAME))"
   ]
  },
  {
   "cell_type": "code",
   "execution_count": 334,
   "id": "4e90b955-9466-4e75-a85c-6911cb5b8c66",
   "metadata": {},
   "outputs": [],
   "source": [
    "all_valid_recall = defaultdict(list)\n",
    "all_valid_mrr = defaultdict(list)\n",
    "all_valid_gini_simpson = defaultdict(list)\n",
    "\n",
    "all_test_recall = defaultdict(list)\n",
    "all_test_mrr = defaultdict(list)\n",
    "all_test_gini_simpson = defaultdict(list)"
   ]
  },
  {
   "cell_type": "markdown",
   "id": "258a5843-79a3-4805-93db-e0a931e4982a",
   "metadata": {},
   "source": [
    "## We use this to check that our data doesn't get severely messed up over time"
   ]
  },
  {
   "cell_type": "code",
   "execution_count": 319,
   "id": "ff21f564-56d1-4134-b988-de2bcaea360e",
   "metadata": {},
   "outputs": [],
   "source": [
    "datasets = [train_data, train_data_exp1, train_data_exp2, train_data_exp3, train_data_exp4, train_data_exp5]\n",
    "\n",
    "# These are the correct sizes (shouldn't change) of our experiment datasets\n",
    "correct_sizes = {\n",
    "    0: 83807,\n",
    "    1: 73225,\n",
    "    2: 73225,\n",
    "    3: 91997,\n",
    "    4: 91997,\n",
    "    5: 81415,\n",
    "}"
   ]
  },
  {
   "cell_type": "code",
   "execution_count": null,
   "id": "7df653ae-5f08-4669-8cea-51ffdb12d33a",
   "metadata": {},
   "outputs": [
    {
     "name": "stdout",
     "output_type": "stream",
     "text": [
      "Finished Iteration 0/10, for Model 0\n",
      "Validation Recall@10: 0.4644495412844037\n",
      "Finished Iteration 0/10, for Model 1\n",
      "Validation Recall@10: 0.4496368501529052\n",
      "Finished Iteration 0/10, for Model 2\n",
      "Validation Recall@10: 0.45451070336391436\n",
      "Finished Iteration 0/10, for Model 3\n",
      "Validation Recall@10: 0.4518348623853211\n",
      "Finished Iteration 0/10, for Model 4\n",
      "Validation Recall@10: 0.4617737003058104\n",
      "Finished Iteration 0/10, for Model 5\n",
      "Validation Recall@10: 0.4243119266055046\n",
      "Finished Iteration 1/10, for Model 0\n",
      "Validation Recall@10: 0.472381498470948\n"
     ]
    }
   ],
   "source": [
    "for _ in range(10):   \n",
    "    for i, data in enumerate(datasets):\n",
    "        # Shuffle data\n",
    "        np.random.shuffle(data)\n",
    "        assert correct_sizes[i] == len(data)\n",
    "        \n",
    "        # Train Model\n",
    "        with HiddenPrints():\n",
    "            model = train_model2(\n",
    "                data,\n",
    "                valid_data,\n",
    "                epochs=200,\n",
    "                output_size=OUTPUT_SIZE,\n",
    "                checkpoints_folder_name='temp_checkpoints',\n",
    "            )[0]\n",
    "\n",
    "        # Prepare valid/test data\n",
    "        valid_sequences = [pt[0] for pt in valid_data]\n",
    "        valid_gt = [pt[1] for pt in valid_data]\n",
    "        test_sequences = [pt[0] for pt in test_data]\n",
    "        test_gt = [pt[1] for pt in test_data]\n",
    "        \n",
    "        # Compute statistics on valid\n",
    "        predictions = get_topk_predictions(model, valid_sequences, k=10)\n",
    "        diversity_scores = average_diversity(predictions, community_dict, diversity_metric=gini_simpson_index, k=10)\n",
    "        all_valid_recall[i].append(recall(predictions, valid_sequences, valid_gt, 10))\n",
    "        all_valid_mrr[i].append(MRR(predictions, valid_sequences, valid_gt))\n",
    "        all_valid_gini_simpson[i].append(sum(diversity_scores)/len(diversity_scores))\n",
    "                                \n",
    "        # Compute statistics on test\n",
    "        predictions = get_topk_predictions(model, test_sequences, k=10)\n",
    "        diversity_scores = average_diversity(predictions, community_dict, diversity_metric=gini_simpson_index, k=10)\n",
    "        all_test_recall[i].append(recall(predictions, test_sequences, test_gt, 10))\n",
    "        all_test_mrr[i].append(MRR(predictions, test_sequences, test_gt))\n",
    "        all_test_gini_simpson[i].append(sum(diversity_scores)/len(diversity_scores))\n",
    "        \n",
    "        print(f\"Finished Iteration {_}/10, for Model {i}\")\n",
    "        print(f\"Validation Recall@10: {all_valid_recall[i][-1]}\")"
   ]
  },
  {
   "cell_type": "code",
   "execution_count": null,
   "id": "0efab045-3339-4399-aec5-6f7ab169f372",
   "metadata": {},
   "outputs": [],
   "source": [
    "with open('results_on_valid.pickle', 'wb') as f:\n",
    "    pickle.dump([all_valid_recall, all_valid_mrr, all_valid_gini_simpson], f)\n",
    "    \n",
    "with open('results_on_test.pickle', 'wb') as f:\n",
    "    pickle.dump([all_test_recall, all_test_mrr, all_test_gini_simpson], f)"
   ]
  },
  {
   "cell_type": "code",
   "execution_count": null,
   "id": "9f15f5af-40ad-46f4-8506-b4a5a77d688e",
   "metadata": {},
   "outputs": [],
   "source": []
  }
 ],
 "metadata": {
  "kernelspec": {
   "display_name": "cse_prod_env",
   "language": "python",
   "name": "cse_prod_env"
  },
  "language_info": {
   "codemirror_mode": {
    "name": "ipython",
    "version": 3
   },
   "file_extension": ".py",
   "mimetype": "text/x-python",
   "name": "python",
   "nbconvert_exporter": "python",
   "pygments_lexer": "ipython3",
   "version": "3.9.7"
  }
 },
 "nbformat": 4,
 "nbformat_minor": 5
}

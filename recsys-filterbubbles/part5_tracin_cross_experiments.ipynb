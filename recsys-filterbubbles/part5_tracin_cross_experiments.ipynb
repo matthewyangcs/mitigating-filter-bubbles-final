{
 "cells": [
  {
   "cell_type": "code",
   "execution_count": null,
   "id": "7b96135d",
   "metadata": {},
   "outputs": [],
   "source": [
    "import torch\n",
    "from torch.cuda import random\n",
    "import torch.nn as nn\n",
    "import torch.nn.functional as F\n",
    "import os\n",
    "import torch.optim as optim\n",
    "from os import listdir\n",
    "from os.path import isfile, join\n",
    "from tracin.tracin_batched import save_tracin_checkpoint, load_tracin_checkpoint,  approximate_tracin_batched\n",
    "import pandas as pd\n",
    "from LSTM_clean.model import LSTM\n",
    "import numpy as np\n",
    "import re\n",
    "from statistics import mean\n",
    "import scipy.stats as stats\n",
    "import pandas as pd\n",
    "from sklearn.utils import shuffle\n",
    "from copy import deepcopy"
   ]
  },
  {
   "cell_type": "code",
   "execution_count": null,
   "id": "9cd3ea62",
   "metadata": {},
   "outputs": [],
   "source": [
    "OUTPUT_SIZE = 1743"
   ]
  },
  {
   "cell_type": "code",
   "execution_count": null,
   "id": "5c660c94",
   "metadata": {},
   "outputs": [],
   "source": [
    "curr_dir = os.getcwd()\n",
    "path = curr_dir + \"/checkpoints_subset/\"\n",
    "checkpoints = []\n",
    "with os.scandir(path) as listOfEntries:\n",
    "    for entry in listOfEntries:\n",
    "        # print all entries that are files\n",
    "        if entry.is_file():\n",
    "            checkpoints.append(os.path.join(path,entry.name))\n",
    "last_checkpoint_epoch = max([re.sub('[^0-9]','', a)[2:] for a in checkpoints])\n",
    "last_checkpoint = sorted(checkpoints)[-1][:-5] + str(last_checkpoint_epoch) + \".pt\""
   ]
  },
  {
   "cell_type": "code",
   "execution_count": null,
   "id": "f9a5490b",
   "metadata": {},
   "outputs": [],
   "source": [
    "os.environ[\"CUDA_DEVICE_ORDER\"]=\"PCI_BUS_ID\"\n",
    "os.environ[\"CUDA_VISIBLE_DEVICES\"]='6'\n",
    "\n",
    "cpu_device = torch.device(\"cpu\")\n",
    "print(\"CPU Device is \", cpu_device)\n",
    "\n",
    "device = torch.device(\"cuda\" if torch.cuda.is_available() else \"cpu\")\n",
    "print(\"device is \", device)"
   ]
  },
  {
   "cell_type": "code",
   "execution_count": null,
   "id": "5e8c2ea5",
   "metadata": {},
   "outputs": [],
   "source": [
    "train = np.load(os.path.join(os.getcwd(), \"data/twitch_sequence/train.data\"), allow_pickle=True)"
   ]
  },
  {
   "cell_type": "code",
   "execution_count": null,
   "id": "83fbb91d",
   "metadata": {},
   "outputs": [],
   "source": [
    "model = LSTM(\n",
    "        input_size=128,\n",
    "        output_size=OUTPUT_SIZE,\n",
    "        hidden_dim=64,\n",
    "        n_layers=1,\n",
    "        device=cpu_device,\n",
    "    )"
   ]
  },
  {
   "cell_type": "code",
   "execution_count": null,
   "id": "a2d64a3a",
   "metadata": {},
   "outputs": [],
   "source": [
    "train_num = len(train)\n",
    "train_labels = []\n",
    "\n",
    "for i in range(train_num):\n",
    "    train_labels.append(train[i][1])\n",
    "train = [train[i][0] for i in range(train_num)]"
   ]
  }
 ],
 "metadata": {
  "kernelspec": {
   "display_name": "Python 3 (ipykernel)",
   "language": "python",
   "name": "python3"
  },
  "language_info": {
   "codemirror_mode": {
    "name": "ipython",
    "version": 3
   },
   "file_extension": ".py",
   "mimetype": "text/x-python",
   "name": "python",
   "nbconvert_exporter": "python",
   "pygments_lexer": "ipython3",
   "version": "3.9.7"
  }
 },
 "nbformat": 4,
 "nbformat_minor": 5
}

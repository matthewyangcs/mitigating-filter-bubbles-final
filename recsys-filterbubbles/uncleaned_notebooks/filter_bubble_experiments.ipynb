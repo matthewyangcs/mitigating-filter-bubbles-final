{
 "cells": [
  {
   "cell_type": "code",
   "execution_count": 1,
   "id": "70da6389-9a23-45e7-9efa-d83fc854abb9",
   "metadata": {},
   "outputs": [],
   "source": [
    "%load_ext autoreload"
   ]
  },
  {
   "cell_type": "code",
   "execution_count": 2,
   "id": "1b5f6d80-0a74-44ee-8165-b62787de921d",
   "metadata": {},
   "outputs": [],
   "source": [
    "%autoreload 2"
   ]
  },
  {
   "cell_type": "code",
   "execution_count": 3,
   "id": "69f57cd7-0a34-4659-af6d-b3caced06895",
   "metadata": {},
   "outputs": [
    {
     "name": "stdout",
     "output_type": "stream",
     "text": [
      "/raid/home/myang349/recsys-filterbubbles\n"
     ]
    }
   ],
   "source": [
    "cd /raid/home/myang349/recsys-filterbubbles/"
   ]
  },
  {
   "cell_type": "markdown",
   "id": "a4ea183d-dc55-4198-bdfb-51b52282cfb5",
   "metadata": {},
   "source": [
    "# Imports"
   ]
  },
  {
   "cell_type": "code",
   "execution_count": 60,
   "id": "f6cda501-8f39-4917-b693-4d4ac98bb1b9",
   "metadata": {},
   "outputs": [],
   "source": [
    "import torch\n",
    "import torch.nn as nn\n",
    "import torch.nn.functional as F\n",
    "import os\n",
    "import torch.optim as optim\n",
    "from os import listdir\n",
    "from os.path import isfile, join\n",
    "from tracin.tracin import (\n",
    "    save_tracin_checkpoint,\n",
    "    load_tracin_checkpoint,\n",
    "    calculate_tracin_influence,\n",
    ")\n",
    "import pandas as pd\n",
    "from LSTM_clean.utils import filter_and_split_data, sequence_generator, load_community_dict, get_communities \n",
    "from LSTM_clean.model import LSTM \n",
    "from collections import Counter\n",
    "import numpy as np\n",
    "import pickle\n",
    "from collections import defaultdict\n",
    "import copy\n",
    "from torch.optim import SGD\n",
    "from lstm_wrapper import train_model, get_topk_predictions\n",
    "from dataclasses import dataclass"
   ]
  },
  {
   "cell_type": "markdown",
   "id": "1b3c4acb-300f-419e-ac3c-497a6cda175c",
   "metadata": {},
   "source": [
    "# Loading Data"
   ]
  },
  {
   "cell_type": "code",
   "execution_count": 35,
   "id": "952f56b9-ff9c-47a9-8214-60a86c291ca2",
   "metadata": {},
   "outputs": [],
   "source": [
    "# Data Location\n",
    "SAVE_FOLDER = \"/raid/home/myang349/recsys-filterbubbles/data/twitch_sequence/\"\n",
    "SAVE_TRAIN_NAME = \"train.data\"\n",
    "SAVE_VALID_NAME = \"valid.data\"\n",
    "SAVE_TEST_NAME = \"test.data\"\n",
    "SAVE_COMMUNITY_NAME = \"lstm_idx_communities.data\""
   ]
  },
  {
   "cell_type": "code",
   "execution_count": 7,
   "id": "9374a04b-0e03-441b-b0cd-a8ea651bf954",
   "metadata": {},
   "outputs": [],
   "source": [
    "train_data = np.load(os.path.join(SAVE_FOLDER, SAVE_TRAIN_NAME), allow_pickle=True)\n",
    "valid_data = np.load(os.path.join(SAVE_FOLDER, SAVE_VALID_NAME), allow_pickle=True)\n",
    "test_data = np.load(os.path.join(SAVE_FOLDER, SAVE_TEST_NAME), allow_pickle=True)"
   ]
  },
  {
   "cell_type": "markdown",
   "id": "cac87f8b-02b1-4680-ad33-94ab15896c9d",
   "metadata": {},
   "source": [
    "# Training"
   ]
  },
  {
   "cell_type": "code",
   "execution_count": 27,
   "id": "0b46fdd8-8b71-47b0-9207-39d3b82c62a8",
   "metadata": {},
   "outputs": [
    {
     "name": "stdout",
     "output_type": "stream",
     "text": [
      "Device is cuda\n",
      "Train: 8913, Valid: 8913\n",
      "Model is  LSTM(\n",
      "  (item_emb): Embedding(5400, 128, padding_idx=0)\n",
      "  (LSTM): LSTM(128, 64, batch_first=True)\n",
      "  (fc): Linear(in_features=64, out_features=5400, bias=True)\n",
      ")\n",
      "\n",
      "Training and testing\n",
      "train # = 71465, test # = 8913\n",
      "\n",
      "Epoch 0\tTrain Loss: 0.01684189193737329\tTest MRR: 0.0017184427417579165\tTest Recall@10: 0.0015707393694603389\tElapsed time: 2.0691840648651123\n",
      "saving checkpoint to /raid/home/myang349/recsys-filterbubbles/checkpoints/lstm_checkpoint_epoch0.pt\n",
      "Epoch 5\tTrain Loss: 0.01664521665659193\tTest MRR: 0.03481820928986362\tTest Recall@10: 0.0681027712330304\tElapsed time: 7.843021631240845\n",
      "Epoch 10\tTrain Loss: 0.016193900378232637\tTest MRR: 0.04010922302584377\tTest Recall@10: 0.0834735779198923\tElapsed time: 8.28197979927063\n",
      "saving checkpoint to /raid/home/myang349/recsys-filterbubbles/checkpoints/lstm_checkpoint_epoch10.pt\n",
      "Epoch 15\tTrain Loss: 0.01554064027058572\tTest MRR: 0.04159635914246864\tTest Recall@10: 0.08021990351172445\tElapsed time: 7.945987939834595\n",
      "Epoch 20\tTrain Loss: 0.015033055726304012\tTest MRR: 0.047304080997911516\tTest Recall@10: 0.09918097161449568\tElapsed time: 7.621302843093872\n",
      "saving checkpoint to /raid/home/myang349/recsys-filterbubbles/checkpoints/lstm_checkpoint_epoch20.pt\n",
      "Epoch 25\tTrain Loss: 0.014694447892045638\tTest MRR: 0.05984147932086631\tTest Recall@10: 0.12812745428026479\tElapsed time: 7.521528720855713\n",
      "Epoch 30\tTrain Loss: 0.014427907336945048\tTest MRR: 0.07186594313307858\tTest Recall@10: 0.14518119600583418\tElapsed time: 8.373656034469604\n",
      "saving checkpoint to /raid/home/myang349/recsys-filterbubbles/checkpoints/lstm_checkpoint_epoch30.pt\n",
      "Epoch 35\tTrain Loss: 0.01418173731328358\tTest MRR: 0.08383710098963255\tTest Recall@10: 0.1641422641086054\tElapsed time: 8.315910577774048\n",
      "Epoch 40\tTrain Loss: 0.014087437605879534\tTest MRR: 0.08774472260836239\tTest Recall@10: 0.17188376528665994\tElapsed time: 7.687042236328125\n",
      "saving checkpoint to /raid/home/myang349/recsys-filterbubbles/checkpoints/lstm_checkpoint_epoch40.pt\n",
      "Epoch 45\tTrain Loss: 0.01383365168578478\tTest MRR: 0.10147977703480116\tTest Recall@10: 0.19611802984404803\tElapsed time: 8.00577688217163\n",
      "Epoch 50\tTrain Loss: 0.013602969638613885\tTest MRR: 0.11428629033747084\tTest Recall@10: 0.22360596880960396\tElapsed time: 6.915724039077759\n",
      "saving checkpoint to /raid/home/myang349/recsys-filterbubbles/checkpoints/lstm_checkpoint_epoch50.pt\n",
      "Epoch 55\tTrain Loss: 0.013504495175683973\tTest MRR: 0.11871281481424142\tTest Recall@10: 0.23067429597217548\tElapsed time: 7.632559776306152\n",
      "Epoch 60\tTrain Loss: 0.01329684931077759\tTest MRR: 0.1245832052425518\tTest Recall@10: 0.24840121171322788\tElapsed time: 7.884630918502808\n",
      "saving checkpoint to /raid/home/myang349/recsys-filterbubbles/checkpoints/lstm_checkpoint_epoch60.pt\n",
      "Epoch 65\tTrain Loss: 0.01309751842768074\tTest MRR: 0.13294777846479264\tTest Recall@10: 0.2625378660383709\tElapsed time: 8.105828285217285\n",
      "Epoch 70\tTrain Loss: 0.013193838439377728\tTest MRR: 0.1220087607894624\tTest Recall@10: 0.24065971053517335\tElapsed time: 8.083301305770874\n",
      "saving checkpoint to /raid/home/myang349/recsys-filterbubbles/checkpoints/lstm_checkpoint_epoch70.pt\n",
      "Epoch 75\tTrain Loss: 0.012929272569936475\tTest MRR: 0.13811226951432107\tTest Recall@10: 0.2700549758779311\tElapsed time: 8.227632761001587\n",
      "Epoch 80\tTrain Loss: 0.013111884087034315\tTest MRR: 0.12891684660055266\tTest Recall@10: 0.2524402558061259\tElapsed time: 8.293558597564697\n",
      "saving checkpoint to /raid/home/myang349/recsys-filterbubbles/checkpoints/lstm_checkpoint_epoch80.pt\n",
      "Epoch 85\tTrain Loss: 0.012965202858656037\tTest MRR: 0.13373603736454243\tTest Recall@10: 0.26309884438460673\tElapsed time: 8.021297693252563\n",
      "Epoch 90\tTrain Loss: 0.012983798820577274\tTest MRR: 0.1332803656725179\tTest Recall@10: 0.2615281050151464\tElapsed time: 8.036245822906494\n",
      "saving checkpoint to /raid/home/myang349/recsys-filterbubbles/checkpoints/lstm_checkpoint_epoch90.pt\n",
      "Epoch 95\tTrain Loss: 0.01277293543080657\tTest MRR: 0.14271918805527928\tTest Recall@10: 0.2767867160327611\tElapsed time: 8.021073818206787\n",
      "Epoch 100\tTrain Loss: 0.012613000124453131\tTest MRR: 0.14712278059355258\tTest Recall@10: 0.28565017390328734\tElapsed time: 8.215017557144165\n",
      "saving checkpoint to /raid/home/myang349/recsys-filterbubbles/checkpoints/lstm_checkpoint_epoch100.pt\n",
      "Epoch 105\tTrain Loss: 0.012456930331734124\tTest MRR: 0.15212565893799965\tTest Recall@10: 0.2990014585437002\tElapsed time: 8.39984393119812\n",
      "Epoch 110\tTrain Loss: 0.01230602456567036\tTest MRR: 0.15729144625358488\tTest Recall@10: 0.3051722203522944\tElapsed time: 8.479271650314331\n",
      "saving checkpoint to /raid/home/myang349/recsys-filterbubbles/checkpoints/lstm_checkpoint_epoch110.pt\n",
      "Epoch 115\tTrain Loss: 0.012155121915578793\tTest MRR: 0.16183389531161788\tTest Recall@10: 0.3126893301918546\tElapsed time: 7.689210891723633\n",
      "Epoch 120\tTrain Loss: 0.01205224494424317\tTest MRR: 0.1637783625001094\tTest Recall@10: 0.3195332660159318\tElapsed time: 6.838113784790039\n",
      "saving checkpoint to /raid/home/myang349/recsys-filterbubbles/checkpoints/lstm_checkpoint_epoch120.pt\n",
      "Epoch 125\tTrain Loss: 0.011928607277712378\tTest MRR: 0.1684471187642492\tTest Recall@10: 0.3261528105015146\tElapsed time: 7.096883058547974\n",
      "Epoch 130\tTrain Loss: 0.011795867429373105\tTest MRR: 0.1721493156521128\tTest Recall@10: 0.33153820262537864\tElapsed time: 7.767867088317871\n",
      "saving checkpoint to /raid/home/myang349/recsys-filterbubbles/checkpoints/lstm_checkpoint_epoch130.pt\n",
      "Epoch 135\tTrain Loss: 0.011776823568133938\tTest MRR: 0.17190131501806122\tTest Recall@10: 0.33120161561763717\tElapsed time: 8.34716248512268\n",
      "Epoch 140\tTrain Loss: 0.011621517502201502\tTest MRR: 0.17497779231693575\tTest Recall@10: 0.33905531246493886\tElapsed time: 7.795090198516846\n",
      "saving checkpoint to /raid/home/myang349/recsys-filterbubbles/checkpoints/lstm_checkpoint_epoch140.pt\n",
      "Epoch 145\tTrain Loss: 0.01152336734725556\tTest MRR: 0.17900881681940167\tTest Recall@10: 0.3450016829350387\tElapsed time: 7.405712842941284\n",
      "Epoch 150\tTrain Loss: 0.011446972669968284\tTest MRR: 0.17813158793549608\tTest Recall@10: 0.3471334006507349\tElapsed time: 7.893333673477173\n",
      "saving checkpoint to /raid/home/myang349/recsys-filterbubbles/checkpoints/lstm_checkpoint_epoch150.pt\n",
      "Epoch 155\tTrain Loss: 0.011338252850428911\tTest MRR: 0.18426023365403435\tTest Recall@10: 0.3536407494670706\tElapsed time: 7.902543783187866\n",
      "Epoch 160\tTrain Loss: 0.011253385571179744\tTest MRR: 0.1872419714869057\tTest Recall@10: 0.35812857623695726\tElapsed time: 7.7969841957092285\n",
      "saving checkpoint to /raid/home/myang349/recsys-filterbubbles/checkpoints/lstm_checkpoint_epoch160.pt\n",
      "Epoch 165\tTrain Loss: 0.011181797798107096\tTest MRR: 0.1891291789904597\tTest Recall@10: 0.36261640300684395\tElapsed time: 8.628883361816406\n",
      "Epoch 170\tTrain Loss: 0.011082715393655705\tTest MRR: 0.1919052265426755\tTest Recall@10: 0.3654212947380231\tElapsed time: 7.859920978546143\n",
      "saving checkpoint to /raid/home/myang349/recsys-filterbubbles/checkpoints/lstm_checkpoint_epoch170.pt\n",
      "Epoch 175\tTrain Loss: 0.011017758329345173\tTest MRR: 0.19377161228021536\tTest Recall@10: 0.36968473016941544\tElapsed time: 8.614978790283203\n",
      "Epoch 180\tTrain Loss: 0.010930895480083417\tTest MRR: 0.19536396763813574\tTest Recall@10: 0.3714798608773701\tElapsed time: 8.91782021522522\n",
      "saving checkpoint to /raid/home/myang349/recsys-filterbubbles/checkpoints/lstm_checkpoint_epoch180.pt\n",
      "Epoch 185\tTrain Loss: 0.010856699051120038\tTest MRR: 0.19634891425828505\tTest Recall@10: 0.37574329630876246\tElapsed time: 7.875487565994263\n",
      "Epoch 190\tTrain Loss: 0.010782002124961191\tTest MRR: 0.19872849909689638\tTest Recall@10: 0.378099405362953\tElapsed time: 8.104435920715332\n",
      "saving checkpoint to /raid/home/myang349/recsys-filterbubbles/checkpoints/lstm_checkpoint_epoch190.pt\n",
      "Epoch 195\tTrain Loss: 0.010723128105606083\tTest MRR: 0.19985439745053354\tTest Recall@10: 0.3825872321328397\tElapsed time: 7.638046979904175\n",
      "Epoch 200\tTrain Loss: 0.010656174417056822\tTest MRR: 0.20046662237893884\tTest Recall@10: 0.38471894984853583\tElapsed time: 6.630012512207031\n",
      "saving checkpoint to /raid/home/myang349/recsys-filterbubbles/checkpoints/lstm_checkpoint_epoch200.pt\n",
      "\n",
      "Finished!\n"
     ]
    }
   ],
   "source": [
    "model = train_model()"
   ]
  },
  {
   "cell_type": "markdown",
   "id": "67b7cefe-bb27-4c4d-aa8f-ebe692a1eb40",
   "metadata": {},
   "source": [
    "# Experimentation"
   ]
  },
  {
   "cell_type": "markdown",
   "id": "0b3259c5-9d7b-4b76-a59c-1b1a4f38fa7c",
   "metadata": {},
   "source": [
    "## Verify the recall"
   ]
  },
  {
   "cell_type": "code",
   "execution_count": 31,
   "id": "117b69c6-644b-498b-bebf-9af26adc8cf1",
   "metadata": {},
   "outputs": [],
   "source": [
    "# Generate sequences and gt\n",
    "sequences = [pt[0] for pt in valid_data]\n",
    "gt = [pt[1] for pt in valid_data]"
   ]
  },
  {
   "cell_type": "code",
   "execution_count": 48,
   "id": "ba2e1f5c-5ce6-4a9f-9bea-4cba9aef9020",
   "metadata": {},
   "outputs": [],
   "source": [
    "# Generate predictions\n",
    "predictions = get_topk_predictions(model, sequences, k=50)"
   ]
  },
  {
   "cell_type": "code",
   "execution_count": 49,
   "id": "a63b5581-62dd-42cb-af6b-0b62d6d713cc",
   "metadata": {},
   "outputs": [
    {
     "data": {
      "text/plain": [
       "0.6037248962190059"
      ]
     },
     "execution_count": 49,
     "metadata": {},
     "output_type": "execute_result"
    }
   ],
   "source": [
    "assert len(sequences) == len(predictions)\n",
    "hit = 0\n",
    "total = 0\n",
    "for i, val in enumerate(gt):\n",
    "    if val in predictions[i]:\n",
    "        hit += 1\n",
    "    total += 1  \n",
    "hit/total"
   ]
  },
  {
   "cell_type": "markdown",
   "id": "716768a9-6d50-4edf-823a-a34334e77d35",
   "metadata": {},
   "source": [
    "## Diversity of watch history vs diversity of predictions"
   ]
  },
  {
   "cell_type": "code",
   "execution_count": 50,
   "id": "e01d78bd-f62f-46b2-bd95-d9302d8e4738",
   "metadata": {},
   "outputs": [],
   "source": [
    "community_dict = load_community_dict(os.path.join(SAVE_FOLDER, SAVE_COMMUNITY_NAME))"
   ]
  },
  {
   "cell_type": "code",
   "execution_count": 55,
   "id": "e73ea5de-d724-42dc-b132-1eed33df767b",
   "metadata": {},
   "outputs": [],
   "source": [
    "# Converting prev and predictions to be equal length and in community embedding\n",
    "prev_comm = []\n",
    "pred_comm = []\n",
    "for i in range(len(sequences)):\n",
    "    prev = sequences[i]\n",
    "    n = len([x for x in prev if x != 0])\n",
    "    pred = predictions[i][:n]\n",
    "    \n",
    "    prev_comm.append(get_communities(prev, community_dict))\n",
    "    pred_comm.append(get_communities(pred, community_dict))"
   ]
  },
  {
   "cell_type": "code",
   "execution_count": 57,
   "id": "20f1d583-02ba-4a6b-b613-b9f5afad3562",
   "metadata": {},
   "outputs": [],
   "source": [
    "for i in range(5):\n",
    "    assert len(prev_comm[i]) ==len(pred_comm[i])"
   ]
  },
  {
   "cell_type": "code",
   "execution_count": 78,
   "id": "21214d49-58f4-40a4-9a57-419928f78bd5",
   "metadata": {},
   "outputs": [],
   "source": [
    "# Helper class for storing info\n",
    "@dataclass\n",
    "class Info:\n",
    "    num_datapoints: int\n",
    "    num_communities: int\n",
    "    \n",
    "    def get_avg_community_count():\n",
    "        return self.num_communities / self.num_datapoints"
   ]
  },
  {
   "cell_type": "code",
   "execution_count": 79,
   "id": "ce0dd1d2-85e8-47ee-b199-36a0e19ea7a6",
   "metadata": {},
   "outputs": [],
   "source": [
    "hm_hist = defaultdict(lambda: Info(0,0))\n",
    "hm_pred = defaultdict(lambda: Info(0,0))"
   ]
  },
  {
   "cell_type": "code",
   "execution_count": 100,
   "id": "a436367f-c736-4aae-8097-4850647b73c1",
   "metadata": {},
   "outputs": [],
   "source": [
    "prev_num_comm = 0\n",
    "pred_num_comm = 0\n",
    "n = len(prev_comm)\n",
    "\n",
    "for i in range(n):\n",
    "    if len(prev_comm[i]) < threshold:\n",
    "        continue\n",
    "    prev_num_comm += len(set(prev_comm[i]))\n",
    "    pred_num_comm += len(set(pred_comm[i]))"
   ]
  },
  {
   "cell_type": "markdown",
   "id": "7dc8ad41-e20c-4780-b3bf-16cd546d5a5d",
   "metadata": {},
   "source": [
    "# Analyzing recmomendation distribution"
   ]
  },
  {
   "cell_type": "code",
   "execution_count": null,
   "id": "ee0ec6f6-4fe5-4af9-9aab-a2341f24147f",
   "metadata": {},
   "outputs": [],
   "source": []
  },
  {
   "cell_type": "code",
   "execution_count": 103,
   "id": "59e4aaef-d5d4-404e-8b54-7579e0b26b36",
   "metadata": {},
   "outputs": [
    {
     "data": {
      "text/plain": [
       "8"
      ]
     },
     "execution_count": 103,
     "metadata": {},
     "output_type": "execute_result"
    }
   ],
   "source": [
    "min(len(x) for x in pred_comm)"
   ]
  },
  {
   "cell_type": "code",
   "execution_count": 105,
   "id": "ea7bccc6-64d3-47c0-97e3-51c77b2145b4",
   "metadata": {},
   "outputs": [
    {
     "data": {
      "text/plain": [
       "15550"
      ]
     },
     "execution_count": 105,
     "metadata": {},
     "output_type": "execute_result"
    }
   ],
   "source": [
    "prev_num_comm"
   ]
  },
  {
   "cell_type": "code",
   "execution_count": 102,
   "id": "b9e8ee61-3c74-4a3d-aed0-063b39aa3838",
   "metadata": {},
   "outputs": [
    {
     "data": {
      "text/plain": [
       "28544"
      ]
     },
     "execution_count": 102,
     "metadata": {},
     "output_type": "execute_result"
    }
   ],
   "source": [
    "pred_num_comm"
   ]
  },
  {
   "cell_type": "code",
   "execution_count": 106,
   "id": "aab6b39b-dba9-4422-bbbb-b5fbabef36a7",
   "metadata": {},
   "outputs": [
    {
     "data": {
      "text/plain": [
       "[5,\n",
       " 5,\n",
       " 5,\n",
       " 5,\n",
       " 5,\n",
       " 5,\n",
       " 5,\n",
       " 5,\n",
       " 5,\n",
       " 5,\n",
       " 5,\n",
       " 5,\n",
       " 5,\n",
       " 5,\n",
       " 5,\n",
       " 5,\n",
       " 5,\n",
       " 5,\n",
       " 5,\n",
       " 5,\n",
       " 5,\n",
       " 5,\n",
       " 5,\n",
       " 5,\n",
       " 5,\n",
       " 5,\n",
       " 5,\n",
       " 5,\n",
       " 5,\n",
       " 5,\n",
       " 5,\n",
       " 5,\n",
       " 5,\n",
       " 5,\n",
       " 5,\n",
       " 5,\n",
       " 5,\n",
       " 5,\n",
       " 5]"
      ]
     },
     "execution_count": 106,
     "metadata": {},
     "output_type": "execute_result"
    }
   ],
   "source": [
    "pred_comm[0]"
   ]
  },
  {
   "cell_type": "code",
   "execution_count": null,
   "id": "1dc4ffee-c0a7-48c2-8d24-711e332b0648",
   "metadata": {},
   "outputs": [],
   "source": []
  }
 ],
 "metadata": {
  "kernelspec": {
   "display_name": "cse_v1",
   "language": "python",
   "name": "cse_v1"
  },
  "language_info": {
   "codemirror_mode": {
    "name": "ipython",
    "version": 3
   },
   "file_extension": ".py",
   "mimetype": "text/x-python",
   "name": "python",
   "nbconvert_exporter": "python",
   "pygments_lexer": "ipython3",
   "version": "3.9.7"
  }
 },
 "nbformat": 4,
 "nbformat_minor": 5
}

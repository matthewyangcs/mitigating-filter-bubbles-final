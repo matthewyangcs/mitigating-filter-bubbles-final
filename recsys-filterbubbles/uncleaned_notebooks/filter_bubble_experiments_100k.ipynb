{
 "cells": [
  {
   "cell_type": "code",
   "execution_count": 1,
   "id": "70da6389-9a23-45e7-9efa-d83fc854abb9",
   "metadata": {},
   "outputs": [],
   "source": [
    "%load_ext autoreload"
   ]
  },
  {
   "cell_type": "code",
   "execution_count": 2,
   "id": "1b5f6d80-0a74-44ee-8165-b62787de921d",
   "metadata": {},
   "outputs": [],
   "source": [
    "%autoreload 2"
   ]
  },
  {
   "cell_type": "code",
   "execution_count": 3,
   "id": "69f57cd7-0a34-4659-af6d-b3caced06895",
   "metadata": {},
   "outputs": [
    {
     "name": "stdout",
     "output_type": "stream",
     "text": [
      "/raid/home/myang349/recsys-filterbubbles\n"
     ]
    }
   ],
   "source": [
    "cd /raid/home/myang349/recsys-filterbubbles/"
   ]
  },
  {
   "cell_type": "markdown",
   "id": "a4ea183d-dc55-4198-bdfb-51b52282cfb5",
   "metadata": {},
   "source": [
    "# Imports"
   ]
  },
  {
   "cell_type": "code",
   "execution_count": 4,
   "id": "1d29fc5f-de79-45e5-9e66-b2296644c2d1",
   "metadata": {},
   "outputs": [],
   "source": [
    "import torch\n",
    "torch.cuda.empty_cache()"
   ]
  },
  {
   "cell_type": "code",
   "execution_count": 5,
   "id": "f6cda501-8f39-4917-b693-4d4ac98bb1b9",
   "metadata": {},
   "outputs": [],
   "source": [
    "import torch\n",
    "import torch.nn as nn\n",
    "import torch.nn.functional as F\n",
    "import os\n",
    "import torch.optim as optim\n",
    "from os import listdir\n",
    "from os.path import isfile, join\n",
    "from tracin.tracin import (\n",
    "    save_tracin_checkpoint,\n",
    "    load_tracin_checkpoint,\n",
    "    calculate_tracin_influence,\n",
    ")\n",
    "import pandas as pd\n",
    "from LSTM_clean.utils import filter_and_split_data, sequence_generator, load_community_dict, get_communities \n",
    "from LSTM_clean.model import LSTM \n",
    "from collections import Counter\n",
    "import numpy as np\n",
    "import pickle\n",
    "from collections import defaultdict\n",
    "import copy\n",
    "from torch.optim import SGD\n",
    "from lstm_wrapper import train_model, get_topk_predictions\n",
    "from dataclasses import dataclass"
   ]
  },
  {
   "cell_type": "markdown",
   "id": "1b3c4acb-300f-419e-ac3c-497a6cda175c",
   "metadata": {},
   "source": [
    "# Loading Data"
   ]
  },
  {
   "cell_type": "code",
   "execution_count": 6,
   "id": "952f56b9-ff9c-47a9-8214-60a86c291ca2",
   "metadata": {},
   "outputs": [],
   "source": [
    "# Data Location\n",
    "# Use SAVE_PREFIX to mark different datasets\n",
    "SAVE_PREFIX = \"100k\"\n",
    "SAVE_FOLDER = \"/raid/home/myang349/recsys-filterbubbles/data/twitch_sequence/\"\n",
    "SAVE_TRAIN_NAME = SAVE_PREFIX + \"train.data\"\n",
    "SAVE_VALID_NAME = SAVE_PREFIX + \"valid.data\"\n",
    "SAVE_TEST_NAME = SAVE_PREFIX + \"test.data\"\n",
    "SAVE_COMMUNITY_NAME = SAVE_PREFIX + \"lstm_idx_communities.data\""
   ]
  },
  {
   "cell_type": "code",
   "execution_count": 7,
   "id": "9374a04b-0e03-441b-b0cd-a8ea651bf954",
   "metadata": {},
   "outputs": [],
   "source": [
    "train_data = np.load(os.path.join(SAVE_FOLDER, SAVE_TRAIN_NAME), allow_pickle=True)\n",
    "valid_data = np.load(os.path.join(SAVE_FOLDER, SAVE_VALID_NAME), allow_pickle=True)\n",
    "test_data = np.load(os.path.join(SAVE_FOLDER, SAVE_TEST_NAME), allow_pickle=True)"
   ]
  },
  {
   "cell_type": "markdown",
   "id": "cac87f8b-02b1-4680-ad33-94ab15896c9d",
   "metadata": {},
   "source": [
    "# Training"
   ]
  },
  {
   "cell_type": "code",
   "execution_count": 8,
   "id": "0b46fdd8-8b71-47b0-9207-39d3b82c62a8",
   "metadata": {},
   "outputs": [
    {
     "name": "stdout",
     "output_type": "stream",
     "text": [
      "Device is cuda\n",
      "Train: 71465, Valid: 8913\n",
      "Model is  LSTM(\n",
      "  (item_emb): Embedding(5400, 128, padding_idx=0)\n",
      "  (LSTM): LSTM(128, 64, batch_first=True)\n",
      "  (fc): Linear(in_features=64, out_features=5400, bias=True)\n",
      ")\n",
      "\n",
      "Training and testing\n",
      "train # = 71465, test # = 8913\n",
      "\n",
      "Epoch 0\tTrain Loss: 0.016824991931727123\tTest MRR: 0.0033817594200573073\tTest Recall@10: 0.005834174800852687\tElapsed time: 1.9552690982818604\n",
      "saving checkpoint to /raid/home/myang349/recsys-filterbubbles/checkpoints/lstm_checkpoint_epoch0.pt\n",
      "Epoch 5\tTrain Loss: 0.0166483138261962\tTest MRR: 0.03344252038281658\tTest Recall@10: 0.06181981375518905\tElapsed time: 7.962569952011108\n",
      "Epoch 10\tTrain Loss: 0.01630291481394385\tTest MRR: 0.04028087609152543\tTest Recall@10: 0.08661505665881297\tElapsed time: 8.038089513778687\n",
      "saving checkpoint to /raid/home/myang349/recsys-filterbubbles/checkpoints/lstm_checkpoint_epoch10.pt\n",
      "Epoch 15\tTrain Loss: 0.015593860768741401\tTest MRR: 0.04103156270250585\tTest Recall@10: 0.08179064288118479\tElapsed time: 8.845062732696533\n",
      "Epoch 20\tTrain Loss: 0.015028837467269135\tTest MRR: 0.04897059114350671\tTest Recall@10: 0.10243464602266353\tElapsed time: 8.779832363128662\n",
      "saving checkpoint to /raid/home/myang349/recsys-filterbubbles/checkpoints/lstm_checkpoint_epoch20.pt\n",
      "Epoch 25\tTrain Loss: 0.01468247405161411\tTest MRR: 0.06182115411428263\tTest Recall@10: 0.1266689105800516\tElapsed time: 8.137736082077026\n",
      "Epoch 30\tTrain Loss: 0.014419473614576257\tTest MRR: 0.0709459776718732\tTest Recall@10: 0.14181532592841917\tElapsed time: 8.697082757949829\n",
      "saving checkpoint to /raid/home/myang349/recsys-filterbubbles/checkpoints/lstm_checkpoint_epoch30.pt\n",
      "Epoch 35\tTrain Loss: 0.014154920215696098\tTest MRR: 0.08492596592573576\tTest Recall@10: 0.16571300347806575\tElapsed time: 9.384252309799194\n",
      "Epoch 40\tTrain Loss: 0.013900012752453159\tTest MRR: 0.09713872044301754\tTest Recall@10: 0.19387411645910468\tElapsed time: 8.6641206741333\n",
      "saving checkpoint to /raid/home/myang349/recsys-filterbubbles/checkpoints/lstm_checkpoint_epoch40.pt\n",
      "Epoch 45\tTrain Loss: 0.013653574461600999\tTest MRR: 0.1078623280688966\tTest Recall@10: 0.2156400762930551\tElapsed time: 8.50905728340149\n",
      "Epoch 50\tTrain Loss: 0.013406957506107615\tTest MRR: 0.1160612025981119\tTest Recall@10: 0.23134746998765848\tElapsed time: 9.091602563858032\n",
      "saving checkpoint to /raid/home/myang349/recsys-filterbubbles/checkpoints/lstm_checkpoint_epoch50.pt\n",
      "Epoch 55\tTrain Loss: 0.013183422144670512\tTest MRR: 0.12560318512386048\tTest Recall@10: 0.24952316840569955\tElapsed time: 8.697802543640137\n",
      "Epoch 60\tTrain Loss: 0.013170030456822673\tTest MRR: 0.12964657885711534\tTest Recall@10: 0.2576012565914956\tElapsed time: 7.657236337661743\n",
      "saving checkpoint to /raid/home/myang349/recsys-filterbubbles/checkpoints/lstm_checkpoint_epoch60.pt\n",
      "Epoch 65\tTrain Loss: 0.013304568614784903\tTest MRR: 0.12106843855960815\tTest Recall@10: 0.24346460226635253\tElapsed time: 6.949000120162964\n",
      "Epoch 70\tTrain Loss: 0.013118461117003485\tTest MRR: 0.12719627871376982\tTest Recall@10: 0.25457197352182204\tElapsed time: 6.876894950866699\n",
      "saving checkpoint to /raid/home/myang349/recsys-filterbubbles/checkpoints/lstm_checkpoint_epoch70.pt\n",
      "Epoch 75\tTrain Loss: 0.012793496837227638\tTest MRR: 0.13995379427781382\tTest Recall@10: 0.27319645461685177\tElapsed time: 8.554789543151855\n",
      "Epoch 80\tTrain Loss: 0.012619142212744633\tTest MRR: 0.1455220751855833\tTest Recall@10: 0.2844160215415685\tElapsed time: 8.46504521369934\n",
      "saving checkpoint to /raid/home/myang349/recsys-filterbubbles/checkpoints/lstm_checkpoint_epoch80.pt\n",
      "Epoch 85\tTrain Loss: 0.012459343248523574\tTest MRR: 0.15154424332077068\tTest Recall@10: 0.2950746101200494\tElapsed time: 8.599884033203125\n",
      "Epoch 90\tTrain Loss: 0.01230452488228196\tTest MRR: 0.15508225511979093\tTest Recall@10: 0.3018063502748794\tElapsed time: 8.344619989395142\n",
      "saving checkpoint to /raid/home/myang349/recsys-filterbubbles/checkpoints/lstm_checkpoint_epoch90.pt\n",
      "Epoch 95\tTrain Loss: 0.012168772275824998\tTest MRR: 0.158337510550539\tTest Recall@10: 0.3083136990912151\tElapsed time: 9.203548908233643\n",
      "Epoch 100\tTrain Loss: 0.012189193797113178\tTest MRR: 0.15810003972348907\tTest Recall@10: 0.30865028609895656\tElapsed time: 8.324140548706055\n",
      "saving checkpoint to /raid/home/myang349/recsys-filterbubbles/checkpoints/lstm_checkpoint_epoch100.pt\n",
      "Epoch 105\tTrain Loss: 0.011963333653526276\tTest MRR: 0.1651762928413951\tTest Recall@10: 0.32099180971614494\tElapsed time: 8.299130916595459\n",
      "Epoch 110\tTrain Loss: 0.014472010607216663\tTest MRR: 0.07175508146331834\tTest Recall@10: 0.1492202400987322\tElapsed time: 8.530410528182983\n",
      "saving checkpoint to /raid/home/myang349/recsys-filterbubbles/checkpoints/lstm_checkpoint_epoch110.pt\n",
      "Epoch 115\tTrain Loss: 0.013243256157026543\tTest MRR: 0.11651682026564131\tTest Recall@10: 0.23381577471109616\tElapsed time: 7.738523483276367\n",
      "Epoch 120\tTrain Loss: 0.012926243931703534\tTest MRR: 0.13227976088041787\tTest Recall@10: 0.2625378660383709\tElapsed time: 8.031611919403076\n",
      "saving checkpoint to /raid/home/myang349/recsys-filterbubbles/checkpoints/lstm_checkpoint_epoch120.pt\n",
      "Epoch 125\tTrain Loss: 0.0126948799336673\tTest MRR: 0.14124659945973644\tTest Recall@10: 0.2806013687871648\tElapsed time: 8.233336687088013\n",
      "Epoch 130\tTrain Loss: 0.0124908690938654\tTest MRR: 0.14792072960446404\tTest Recall@10: 0.29137215303489283\tElapsed time: 7.77929949760437\n",
      "saving checkpoint to /raid/home/myang349/recsys-filterbubbles/checkpoints/lstm_checkpoint_epoch130.pt\n",
      "Epoch 135\tTrain Loss: 0.012340639013360999\tTest MRR: 0.15159346117737033\tTest Recall@10: 0.29686974082800405\tElapsed time: 6.405299663543701\n",
      "Epoch 140\tTrain Loss: 0.012269243836728169\tTest MRR: 0.1535768219202105\tTest Recall@10: 0.3023673286211152\tElapsed time: 6.388529062271118\n",
      "saving checkpoint to /raid/home/myang349/recsys-filterbubbles/checkpoints/lstm_checkpoint_epoch140.pt\n",
      "Epoch 145\tTrain Loss: 0.012354841301024674\tTest MRR: 0.14779273593245823\tTest Recall@10: 0.3004600022439134\tElapsed time: 7.812040090560913\n",
      "Epoch 150\tTrain Loss: 0.012086551611279871\tTest MRR: 0.15748348688494992\tTest Recall@10: 0.30876248176820376\tElapsed time: 7.309082269668579\n",
      "saving checkpoint to /raid/home/myang349/recsys-filterbubbles/checkpoints/lstm_checkpoint_epoch150.pt\n",
      "Epoch 155\tTrain Loss: 0.01196120860719584\tTest MRR: 0.16104106729958548\tTest Recall@10: 0.31796252664647146\tElapsed time: 7.770404100418091\n",
      "Epoch 160\tTrain Loss: 0.011808418465287842\tTest MRR: 0.16643293102799303\tTest Recall@10: 0.32570402782452595\tElapsed time: 8.305563926696777\n",
      "saving checkpoint to /raid/home/myang349/recsys-filterbubbles/checkpoints/lstm_checkpoint_epoch160.pt\n",
      "Epoch 165\tTrain Loss: 0.011771776680681793\tTest MRR: 0.16897173060046433\tTest Recall@10: 0.3307528329406485\tElapsed time: 7.827984571456909\n",
      "Epoch 170\tTrain Loss: 0.011624885127516546\tTest MRR: 0.17178564144989003\tTest Recall@10: 0.3333333333333333\tElapsed time: 8.041290760040283\n",
      "saving checkpoint to /raid/home/myang349/recsys-filterbubbles/checkpoints/lstm_checkpoint_epoch170.pt\n",
      "Epoch 175\tTrain Loss: 0.011542657824015673\tTest MRR: 0.17424694029515636\tTest Recall@10: 0.3353528553797823\tElapsed time: 8.317676544189453\n",
      "Epoch 180\tTrain Loss: 0.014209389611520903\tTest MRR: 0.06338862304181817\tTest Recall@10: 0.1440592393133625\tElapsed time: 7.5820229053497314\n",
      "saving checkpoint to /raid/home/myang349/recsys-filterbubbles/checkpoints/lstm_checkpoint_epoch180.pt\n",
      "Epoch 185\tTrain Loss: 0.013818234202326833\tTest MRR: 0.07597802572833831\tTest Recall@10: 0.16391787277011108\tElapsed time: 7.877562761306763\n",
      "Epoch 190\tTrain Loss: 0.014014953400300881\tTest MRR: 0.06725002581486314\tTest Recall@10: 0.144395826321104\tElapsed time: 7.875483512878418\n",
      "saving checkpoint to /raid/home/myang349/recsys-filterbubbles/checkpoints/lstm_checkpoint_epoch190.pt\n",
      "Epoch 195\tTrain Loss: 0.013783167925323357\tTest MRR: 0.08285816953801854\tTest Recall@10: 0.17311791764837878\tElapsed time: 7.6471662521362305\n",
      "Epoch 200\tTrain Loss: 0.013350123814669764\tTest MRR: 0.10549532380196898\tTest Recall@10: 0.21272298889262875\tElapsed time: 8.021088361740112\n",
      "saving checkpoint to /raid/home/myang349/recsys-filterbubbles/checkpoints/lstm_checkpoint_epoch200.pt\n",
      "Epoch 205\tTrain Loss: 0.012881239398168164\tTest MRR: 0.1285650347248917\tTest Recall@10: 0.25670369123751824\tElapsed time: 8.715843439102173\n",
      "Epoch 210\tTrain Loss: 0.01268390977657059\tTest MRR: 0.13531701887268696\tTest Recall@10: 0.2697183888701896\tElapsed time: 7.616290092468262\n",
      "saving checkpoint to /raid/home/myang349/recsys-filterbubbles/checkpoints/lstm_checkpoint_epoch210.pt\n",
      "Epoch 215\tTrain Loss: 0.01266428059963802\tTest MRR: 0.13374194989968438\tTest Recall@10: 0.2734208459553461\tElapsed time: 6.976294040679932\n",
      "Epoch 220\tTrain Loss: 0.01238751256973842\tTest MRR: 0.14396285183434201\tTest Recall@10: 0.2866599349265118\tElapsed time: 7.212612628936768\n",
      "saving checkpoint to /raid/home/myang349/recsys-filterbubbles/checkpoints/lstm_checkpoint_epoch220.pt\n",
      "Epoch 225\tTrain Loss: 0.012231528563003365\tTest MRR: 0.14926619273863714\tTest Recall@10: 0.2950746101200494\tElapsed time: 8.291238784790039\n",
      "Epoch 230\tTrain Loss: 0.01211885658311667\tTest MRR: 0.1523833656038143\tTest Recall@10: 0.30146976326713787\tElapsed time: 7.472867250442505\n",
      "saving checkpoint to /raid/home/myang349/recsys-filterbubbles/checkpoints/lstm_checkpoint_epoch230.pt\n",
      "Epoch 235\tTrain Loss: 0.012027277453054302\tTest MRR: 0.15413635443757567\tTest Recall@10: 0.3034892853135869\tElapsed time: 7.585747241973877\n",
      "Epoch 240\tTrain Loss: 0.011942446137595559\tTest MRR: 0.15801821382823406\tTest Recall@10: 0.3077527207449792\tElapsed time: 8.43526840209961\n",
      "saving checkpoint to /raid/home/myang349/recsys-filterbubbles/checkpoints/lstm_checkpoint_epoch240.pt\n",
      "Epoch 245\tTrain Loss: 0.011860382079010554\tTest MRR: 0.16012405386850492\tTest Recall@10: 0.31066980814540557\tElapsed time: 7.701371431350708\n",
      "Epoch 250\tTrain Loss: 0.011758792711456903\tTest MRR: 0.16220836867803282\tTest Recall@10: 0.3147088522383036\tElapsed time: 7.578311920166016\n",
      "saving checkpoint to /raid/home/myang349/recsys-filterbubbles/checkpoints/lstm_checkpoint_epoch250.pt\n",
      "Epoch 255\tTrain Loss: 0.011660818819117949\tTest MRR: 0.1661141791440835\tTest Recall@10: 0.32177717940087514\tElapsed time: 8.12479043006897\n",
      "Epoch 260\tTrain Loss: 0.011588037348457475\tTest MRR: 0.1674350584308447\tTest Recall@10: 0.3252552451475373\tElapsed time: 8.032259464263916\n",
      "saving checkpoint to /raid/home/myang349/recsys-filterbubbles/checkpoints/lstm_checkpoint_epoch260.pt\n",
      "Epoch 265\tTrain Loss: 0.011538799116144919\tTest MRR: 0.16461228272220657\tTest Recall@10: 0.32368450577807695\tElapsed time: 7.8886237144470215\n",
      "Epoch 270\tTrain Loss: 0.011462111404025012\tTest MRR: 0.17027515544228913\tTest Recall@10: 0.33120161561763717\tElapsed time: 7.817075967788696\n",
      "saving checkpoint to /raid/home/myang349/recsys-filterbubbles/checkpoints/lstm_checkpoint_epoch270.pt\n",
      "Epoch 275\tTrain Loss: 0.011395536763151122\tTest MRR: 0.17164817939349597\tTest Recall@10: 0.334455290025805\tElapsed time: 7.986955642700195\n",
      "Epoch 280\tTrain Loss: 0.011335353348225632\tTest MRR: 0.1736086077808734\tTest Recall@10: 0.33782116010322\tElapsed time: 8.200758457183838\n",
      "saving checkpoint to /raid/home/myang349/recsys-filterbubbles/checkpoints/lstm_checkpoint_epoch280.pt\n",
      "Epoch 285\tTrain Loss: 0.011279894968181096\tTest MRR: 0.17475869999973476\tTest Recall@10: 0.3424211825423539\tElapsed time: 7.56365442276001\n",
      "Epoch 290\tTrain Loss: 0.011339671158235119\tTest MRR: 0.14422747337317002\tTest Recall@10: 0.29069897901940983\tElapsed time: 7.071550130844116\n",
      "saving checkpoint to /raid/home/myang349/recsys-filterbubbles/checkpoints/lstm_checkpoint_epoch290.pt\n",
      "Epoch 295\tTrain Loss: 0.011331764028494881\tTest MRR: 0.1699066571174165\tTest Recall@10: 0.33625042073375966\tElapsed time: 7.561725616455078\n",
      "Epoch 300\tTrain Loss: 0.011282484087526677\tTest MRR: 0.17244467131385013\tTest Recall@10: 0.33894311679569167\tElapsed time: 7.605855226516724\n",
      "saving checkpoint to /raid/home/myang349/recsys-filterbubbles/checkpoints/lstm_checkpoint_epoch300.pt\n",
      "Epoch 305\tTrain Loss: 0.011193165158254642\tTest MRR: 0.17491009716206346\tTest Recall@10: 0.34219679120385954\tElapsed time: 7.967186450958252\n",
      "Epoch 310\tTrain Loss: 0.011141838223724162\tTest MRR: 0.1769676621182867\tTest Recall@10: 0.3444407045888029\tElapsed time: 7.893648624420166\n",
      "saving checkpoint to /raid/home/myang349/recsys-filterbubbles/checkpoints/lstm_checkpoint_epoch310.pt\n",
      "Epoch 315\tTrain Loss: 0.011076213060279077\tTest MRR: 0.17941261231370362\tTest Recall@10: 0.3510602490743857\tElapsed time: 7.6712260246276855\n",
      "Epoch 320\tTrain Loss: 0.011032832361940723\tTest MRR: 0.18011700434289604\tTest Recall@10: 0.3521822057668574\tElapsed time: 7.773566484451294\n",
      "saving checkpoint to /raid/home/myang349/recsys-filterbubbles/checkpoints/lstm_checkpoint_epoch320.pt\n",
      "Epoch 325\tTrain Loss: 0.010967109615854643\tTest MRR: 0.18189981174385053\tTest Recall@10: 0.3565578368674969\tElapsed time: 7.80342960357666\n",
      "Epoch 330\tTrain Loss: 0.01091930605854271\tTest MRR: 0.18347309797311587\tTest Recall@10: 0.35812857623695726\tElapsed time: 7.817708730697632\n",
      "saving checkpoint to /raid/home/myang349/recsys-filterbubbles/checkpoints/lstm_checkpoint_epoch330.pt\n",
      "Epoch 335\tTrain Loss: 0.010864357823864504\tTest MRR: 0.1851217127715303\tTest Recall@10: 0.3627285986760911\tElapsed time: 7.971593141555786\n",
      "Epoch 340\tTrain Loss: 0.010825978060728823\tTest MRR: 0.18545319319570078\tTest Recall@10: 0.36519690339952876\tElapsed time: 8.345625638961792\n",
      "saving checkpoint to /raid/home/myang349/recsys-filterbubbles/checkpoints/lstm_checkpoint_epoch340.pt\n",
      "Epoch 345\tTrain Loss: 0.010783975622948043\tTest MRR: 0.1870337816817623\tTest Recall@10: 0.3648603163917873\tElapsed time: 8.347028732299805\n",
      "Epoch 350\tTrain Loss: 0.010758134952279074\tTest MRR: 0.1874258075452302\tTest Recall@10: 0.3655334904072703\tElapsed time: 7.856500148773193\n",
      "saving checkpoint to /raid/home/myang349/recsys-filterbubbles/checkpoints/lstm_checkpoint_epoch350.pt\n",
      "Epoch 355\tTrain Loss: 0.010696298971158133\tTest MRR: 0.1892620563656362\tTest Recall@10: 0.36867496914619097\tElapsed time: 7.803408861160278\n",
      "Epoch 360\tTrain Loss: 0.01066208237373311\tTest MRR: 0.18830345104519286\tTest Recall@10: 0.3702457085156513\tElapsed time: 7.822247505187988\n",
      "saving checkpoint to /raid/home/myang349/recsys-filterbubbles/checkpoints/lstm_checkpoint_epoch360.pt\n",
      "Epoch 365\tTrain Loss: 0.01078950866211339\tTest MRR: 0.18691556627435013\tTest Recall@10: 0.36250420733759675\tElapsed time: 7.347886323928833\n",
      "Epoch 370\tTrain Loss: 0.010694281075571747\tTest MRR: 0.18867290229918746\tTest Recall@10: 0.3674408167844721\tElapsed time: 7.896194934844971\n",
      "saving checkpoint to /raid/home/myang349/recsys-filterbubbles/checkpoints/lstm_checkpoint_epoch370.pt\n",
      "Epoch 375\tTrain Loss: 0.010632623532233241\tTest MRR: 0.19046471412817795\tTest Recall@10: 0.3715920565466173\tElapsed time: 7.781522035598755\n",
      "Epoch 380\tTrain Loss: 0.010579113275352738\tTest MRR: 0.19249405176584164\tTest Recall@10: 0.3732749915853248\tElapsed time: 8.325195074081421\n",
      "saving checkpoint to /raid/home/myang349/recsys-filterbubbles/checkpoints/lstm_checkpoint_epoch380.pt\n",
      "Epoch 385\tTrain Loss: 0.010531795783013883\tTest MRR: 0.19245229158270752\tTest Recall@10: 0.3752945136317738\tElapsed time: 8.332412719726562\n",
      "Epoch 390\tTrain Loss: 0.01050180061397447\tTest MRR: 0.19311952602155386\tTest Recall@10: 0.38034331874789634\tElapsed time: 8.53297758102417\n",
      "saving checkpoint to /raid/home/myang349/recsys-filterbubbles/checkpoints/lstm_checkpoint_epoch390.pt\n",
      "Epoch 395\tTrain Loss: 0.01044588301168949\tTest MRR: 0.19347310772402787\tTest Recall@10: 0.3820262537866038\tElapsed time: 8.224122047424316\n",
      "Epoch 400\tTrain Loss: 0.010398061719358089\tTest MRR: 0.1959001513906198\tTest Recall@10: 0.38438236284079436\tElapsed time: 8.052977323532104\n",
      "saving checkpoint to /raid/home/myang349/recsys-filterbubbles/checkpoints/lstm_checkpoint_epoch400.pt\n",
      "Epoch 405\tTrain Loss: 0.010354724484494841\tTest MRR: 0.19730394407803178\tTest Recall@10: 0.3878604285874565\tElapsed time: 8.366549253463745\n",
      "Epoch 410\tTrain Loss: 0.010362872438184578\tTest MRR: 0.1983167718096788\tTest Recall@10: 0.38887018961068104\tElapsed time: 8.433212995529175\n",
      "saving checkpoint to /raid/home/myang349/recsys-filterbubbles/checkpoints/lstm_checkpoint_epoch410.pt\n",
      "Epoch 415\tTrain Loss: 0.010284759398980629\tTest MRR: 0.1997767076351693\tTest Recall@10: 0.39156288567261305\tElapsed time: 8.439323663711548\n",
      "Epoch 420\tTrain Loss: 0.010247624463400497\tTest MRR: 0.19974799347481623\tTest Recall@10: 0.38887018961068104\tElapsed time: 9.18429946899414\n",
      "saving checkpoint to /raid/home/myang349/recsys-filterbubbles/checkpoints/lstm_checkpoint_epoch420.pt\n",
      "Epoch 425\tTrain Loss: 0.010199138187906735\tTest MRR: 0.20206193060096694\tTest Recall@10: 0.3950409514192752\tElapsed time: 8.704545497894287\n",
      "Epoch 430\tTrain Loss: 0.010181902778212872\tTest MRR: 0.20269151380833003\tTest Recall@10: 0.3988556041736789\tElapsed time: 7.119505167007446\n",
      "saving checkpoint to /raid/home/myang349/recsys-filterbubbles/checkpoints/lstm_checkpoint_epoch430.pt\n",
      "Epoch 435\tTrain Loss: 0.010129765517431569\tTest MRR: 0.20432293219644318\tTest Recall@10: 0.4008751262201279\tElapsed time: 8.166295051574707\n",
      "Epoch 440\tTrain Loss: 0.010113337184569988\tTest MRR: 0.20343867328779647\tTest Recall@10: 0.4024458655895882\tElapsed time: 8.626345157623291\n",
      "saving checkpoint to /raid/home/myang349/recsys-filterbubbles/checkpoints/lstm_checkpoint_epoch440.pt\n",
      "Epoch 445\tTrain Loss: 0.010065871686888052\tTest MRR: 0.20485755112189832\tTest Recall@10: 0.4036800179513071\tElapsed time: 8.880308389663696\n",
      "Epoch 450\tTrain Loss: 0.010032891596638864\tTest MRR: 0.20548917744045933\tTest Recall@10: 0.4031190396050712\tElapsed time: 8.461896419525146\n",
      "saving checkpoint to /raid/home/myang349/recsys-filterbubbles/checkpoints/lstm_checkpoint_epoch450.pt\n",
      "Epoch 455\tTrain Loss: 0.010613631268024011\tTest MRR: 0.19284040931528462\tTest Recall@10: 0.38168966677886235\tElapsed time: 8.24199914932251\n",
      "Epoch 460\tTrain Loss: 0.010265505906875494\tTest MRR: 0.20271224891822343\tTest Recall@10: 0.3925726466958375\tElapsed time: 8.967707872390747\n",
      "saving checkpoint to /raid/home/myang349/recsys-filterbubbles/checkpoints/lstm_checkpoint_epoch460.pt\n",
      "Epoch 465\tTrain Loss: 0.010118411194992093\tTest MRR: 0.2046812734086491\tTest Recall@10: 0.3964994951194884\tElapsed time: 8.761735200881958\n",
      "Epoch 470\tTrain Loss: 0.010082045277346175\tTest MRR: 0.20543839501940436\tTest Recall@10: 0.40076293055088075\tElapsed time: 7.946155786514282\n",
      "saving checkpoint to /raid/home/myang349/recsys-filterbubbles/checkpoints/lstm_checkpoint_epoch470.pt\n",
      "Epoch 475\tTrain Loss: 0.010052717887170085\tTest MRR: 0.20162877480231492\tTest Recall@10: 0.39526534275776953\tElapsed time: 7.706671476364136\n",
      "Epoch 480\tTrain Loss: 0.010018141918733507\tTest MRR: 0.2061152868765784\tTest Recall@10: 0.4010995175586222\tElapsed time: 8.376792192459106\n",
      "saving checkpoint to /raid/home/myang349/recsys-filterbubbles/checkpoints/lstm_checkpoint_epoch480.pt\n",
      "Epoch 485\tTrain Loss: 0.009982205451448093\tTest MRR: 0.20639705797751617\tTest Recall@10: 0.4023336699203411\tElapsed time: 7.6984193325042725\n",
      "Epoch 490\tTrain Loss: 0.009946671718564584\tTest MRR: 0.2087466707446125\tTest Recall@10: 0.40412880062829576\tElapsed time: 7.2374420166015625\n",
      "saving checkpoint to /raid/home/myang349/recsys-filterbubbles/checkpoints/lstm_checkpoint_epoch490.pt\n",
      "Epoch 495\tTrain Loss: 0.009910797170384022\tTest MRR: 0.21004104929118764\tTest Recall@10: 0.40513856165152023\tElapsed time: 8.153202533721924\n",
      "Epoch 500\tTrain Loss: 0.0098847178109071\tTest MRR: 0.21012173718068933\tTest Recall@10: 0.40727027936721644\tElapsed time: 6.998958349227905\n",
      "saving checkpoint to /raid/home/myang349/recsys-filterbubbles/checkpoints/lstm_checkpoint_epoch500.pt\n",
      "Epoch 505\tTrain Loss: 0.009851403217373055\tTest MRR: 0.21120005632750105\tTest Recall@10: 0.4081678447211938\tElapsed time: 6.876121520996094\n",
      "Epoch 510\tTrain Loss: 0.00982475045228917\tTest MRR: 0.21127724952892152\tTest Recall@10: 0.4100751710983956\tElapsed time: 7.471017599105835\n",
      "saving checkpoint to /raid/home/myang349/recsys-filterbubbles/checkpoints/lstm_checkpoint_epoch510.pt\n",
      "Epoch 515\tTrain Loss: 0.009804360511078926\tTest MRR: 0.21118903305709147\tTest Recall@10: 0.4102995624368899\tElapsed time: 8.220818758010864\n",
      "Epoch 520\tTrain Loss: 0.009775472593083973\tTest MRR: 0.2124174295866531\tTest Recall@10: 0.4115337147986088\tElapsed time: 7.22926926612854\n",
      "saving checkpoint to /raid/home/myang349/recsys-filterbubbles/checkpoints/lstm_checkpoint_epoch520.pt\n",
      "Epoch 525\tTrain Loss: 0.00975181408378181\tTest MRR: 0.21309638385043575\tTest Recall@10: 0.4128800628295748\tElapsed time: 7.946301221847534\n",
      "Epoch 530\tTrain Loss: 0.009845353393885634\tTest MRR: 0.21190066811596395\tTest Recall@10: 0.40727027936721644\tElapsed time: 7.818464040756226\n",
      "saving checkpoint to /raid/home/myang349/recsys-filterbubbles/checkpoints/lstm_checkpoint_epoch530.pt\n",
      "Epoch 535\tTrain Loss: 0.009735637110458798\tTest MRR: 0.2138743250552222\tTest Recall@10: 0.41388982385279927\tElapsed time: 8.344266891479492\n",
      "Epoch 540\tTrain Loss: 0.0097051058674279\tTest MRR: 0.21422909557577613\tTest Recall@10: 0.41568495456075394\tElapsed time: 7.913681507110596\n",
      "saving checkpoint to /raid/home/myang349/recsys-filterbubbles/checkpoints/lstm_checkpoint_epoch540.pt\n",
      "Epoch 545\tTrain Loss: 0.00976949412335811\tTest MRR: 0.21452559152172157\tTest Recall@10: 0.4148995848760238\tElapsed time: 7.6501195430755615\n",
      "Epoch 550\tTrain Loss: 0.009703418698594759\tTest MRR: 0.21458811086577992\tTest Recall@10: 0.41669471558397847\tElapsed time: 8.01555848121643\n",
      "saving checkpoint to /raid/home/myang349/recsys-filterbubbles/checkpoints/lstm_checkpoint_epoch550.pt\n",
      "Epoch 555\tTrain Loss: 0.009625278836675131\tTest MRR: 0.2159218174881407\tTest Recall@10: 0.41647032424548414\tElapsed time: 8.077496528625488\n",
      "Epoch 560\tTrain Loss: 0.009591056267526096\tTest MRR: 0.2168227876282139\tTest Recall@10: 0.41770447660720295\tElapsed time: 7.854155778884888\n",
      "saving checkpoint to /raid/home/myang349/recsys-filterbubbles/checkpoints/lstm_checkpoint_epoch560.pt\n",
      "Epoch 565\tTrain Loss: 0.009656087935016728\tTest MRR: 0.2161437361157007\tTest Recall@10: 0.4181532592841916\tElapsed time: 7.9665687084198\n",
      "Epoch 570\tTrain Loss: 0.009720760098049458\tTest MRR: 0.21453240810032598\tTest Recall@10: 0.41321664983731626\tElapsed time: 8.164817333221436\n",
      "saving checkpoint to /raid/home/myang349/recsys-filterbubbles/checkpoints/lstm_checkpoint_epoch570.pt\n",
      "Epoch 575\tTrain Loss: 0.009554824056447215\tTest MRR: 0.21839782867465718\tTest Recall@10: 0.41781667227645014\tElapsed time: 6.509291410446167\n",
      "Epoch 580\tTrain Loss: 0.009507324486576818\tTest MRR: 0.21895620557368875\tTest Recall@10: 0.41916302030741615\tElapsed time: 6.480230331420898\n",
      "saving checkpoint to /raid/home/myang349/recsys-filterbubbles/checkpoints/lstm_checkpoint_epoch580.pt\n",
      "Epoch 585\tTrain Loss: 0.009491173315104932\tTest MRR: 0.22013945051038958\tTest Recall@10: 0.4169191069224728\tElapsed time: 6.751940727233887\n",
      "Epoch 590\tTrain Loss: 0.009455566650456814\tTest MRR: 0.22078964648328453\tTest Recall@10: 0.4199483899921463\tElapsed time: 7.346379280090332\n",
      "saving checkpoint to /raid/home/myang349/recsys-filterbubbles/checkpoints/lstm_checkpoint_epoch590.pt\n",
      "Epoch 595\tTrain Loss: 0.009432916745323502\tTest MRR: 0.22040790887264108\tTest Recall@10: 0.4209581510153708\tElapsed time: 8.206738948822021\n",
      "Epoch 600\tTrain Loss: 0.009406335824416499\tTest MRR: 0.22165215577933958\tTest Recall@10: 0.42320206440031416\tElapsed time: 8.75587010383606\n",
      "saving checkpoint to /raid/home/myang349/recsys-filterbubbles/checkpoints/lstm_checkpoint_epoch600.pt\n",
      "\n",
      "Finished!\n"
     ]
    }
   ],
   "source": [
    "model = train_model()"
   ]
  },
  {
   "cell_type": "markdown",
   "id": "67b7cefe-bb27-4c4d-aa8f-ebe692a1eb40",
   "metadata": {},
   "source": [
    "# Experimentation"
   ]
  },
  {
   "cell_type": "markdown",
   "id": "0b3259c5-9d7b-4b76-a59c-1b1a4f38fa7c",
   "metadata": {},
   "source": [
    "## Verify the recall"
   ]
  },
  {
   "cell_type": "code",
   "execution_count": 9,
   "id": "117b69c6-644b-498b-bebf-9af26adc8cf1",
   "metadata": {},
   "outputs": [],
   "source": [
    "# Generate sequences and gt\n",
    "sequences = [pt[0] for pt in valid_data]\n",
    "gt = [pt[1] for pt in valid_data]"
   ]
  },
  {
   "cell_type": "code",
   "execution_count": 10,
   "id": "ba2e1f5c-5ce6-4a9f-9bea-4cba9aef9020",
   "metadata": {},
   "outputs": [],
   "source": [
    "# Generate predictions\n",
    "predictions = get_topk_predictions(model, sequences, k=50)"
   ]
  },
  {
   "cell_type": "code",
   "execution_count": 11,
   "id": "a63b5581-62dd-42cb-af6b-0b62d6d713cc",
   "metadata": {},
   "outputs": [
    {
     "data": {
      "text/plain": [
       "0.6748569505217099"
      ]
     },
     "execution_count": 11,
     "metadata": {},
     "output_type": "execute_result"
    }
   ],
   "source": [
    "assert len(sequences) == len(predictions)\n",
    "hit = 0\n",
    "total = 0\n",
    "for i, val in enumerate(gt):\n",
    "    if val in predictions[i]:\n",
    "        hit += 1\n",
    "    total += 1  \n",
    "hit/total"
   ]
  },
  {
   "cell_type": "markdown",
   "id": "716768a9-6d50-4edf-823a-a34334e77d35",
   "metadata": {},
   "source": [
    "## Diversity of watch history vs diversity of predictions"
   ]
  },
  {
   "cell_type": "code",
   "execution_count": 12,
   "id": "e01d78bd-f62f-46b2-bd95-d9302d8e4738",
   "metadata": {},
   "outputs": [],
   "source": [
    "community_dict = load_community_dict(os.path.join(SAVE_FOLDER, SAVE_COMMUNITY_NAME))"
   ]
  },
  {
   "cell_type": "code",
   "execution_count": 13,
   "id": "e73ea5de-d724-42dc-b132-1eed33df767b",
   "metadata": {},
   "outputs": [],
   "source": [
    "# Converting prev and predictions to be equal length and in community embedding\n",
    "prev_comm = []\n",
    "pred_comm = []\n",
    "for i in range(len(sequences)):\n",
    "    prev = sequences[i]\n",
    "    n = len([x for x in prev if x != 0])\n",
    "    pred = predictions[i][:n]\n",
    "    \n",
    "    prev_comm.append(get_communities(prev, community_dict))\n",
    "    pred_comm.append(get_communities(pred, community_dict))"
   ]
  },
  {
   "cell_type": "code",
   "execution_count": 14,
   "id": "20f1d583-02ba-4a6b-b613-b9f5afad3562",
   "metadata": {},
   "outputs": [],
   "source": [
    "for i in range(5):\n",
    "    assert len(prev_comm[i]) ==len(pred_comm[i])"
   ]
  },
  {
   "cell_type": "code",
   "execution_count": 20,
   "id": "a436367f-c736-4aae-8097-4850647b73c1",
   "metadata": {},
   "outputs": [],
   "source": [
    "prev_num_comm = 0\n",
    "pred_num_comm = 0\n",
    "n = len(prev_comm)\n",
    "threshold = 0\n",
    "\n",
    "for i in range(n):\n",
    "    if len(prev_comm[i]) < threshold:\n",
    "        continue\n",
    "    prev_num_comm += len(set(prev_comm[i]))\n",
    "    pred_num_comm += len(set(pred_comm[i]))"
   ]
  },
  {
   "cell_type": "code",
   "execution_count": 21,
   "id": "40d3c8a5-d8eb-4f3a-b2b3-2142cf4cac31",
   "metadata": {},
   "outputs": [
    {
     "data": {
      "text/plain": [
       "21446"
      ]
     },
     "execution_count": 21,
     "metadata": {},
     "output_type": "execute_result"
    }
   ],
   "source": [
    "prev_num_comm"
   ]
  },
  {
   "cell_type": "code",
   "execution_count": 22,
   "id": "0b4b8509-b5fa-46fc-a8b6-a1402fbabd4c",
   "metadata": {},
   "outputs": [
    {
     "data": {
      "text/plain": [
       "33416"
      ]
     },
     "execution_count": 22,
     "metadata": {},
     "output_type": "execute_result"
    }
   ],
   "source": [
    "pred_num_comm"
   ]
  },
  {
   "cell_type": "markdown",
   "id": "7dc8ad41-e20c-4780-b3bf-16cd546d5a5d",
   "metadata": {},
   "source": [
    "# Analyzing recommendation distribution"
   ]
  },
  {
   "cell_type": "code",
   "execution_count": null,
   "id": "ee0ec6f6-4fe5-4af9-9aab-a2341f24147f",
   "metadata": {},
   "outputs": [],
   "source": []
  },
  {
   "cell_type": "code",
   "execution_count": 103,
   "id": "59e4aaef-d5d4-404e-8b54-7579e0b26b36",
   "metadata": {},
   "outputs": [
    {
     "data": {
      "text/plain": [
       "8"
      ]
     },
     "execution_count": 103,
     "metadata": {},
     "output_type": "execute_result"
    }
   ],
   "source": [
    "min(len(x) for x in pred_comm)"
   ]
  },
  {
   "cell_type": "code",
   "execution_count": 105,
   "id": "ea7bccc6-64d3-47c0-97e3-51c77b2145b4",
   "metadata": {},
   "outputs": [
    {
     "data": {
      "text/plain": [
       "15550"
      ]
     },
     "execution_count": 105,
     "metadata": {},
     "output_type": "execute_result"
    }
   ],
   "source": [
    "prev_num_comm"
   ]
  },
  {
   "cell_type": "code",
   "execution_count": 102,
   "id": "b9e8ee61-3c74-4a3d-aed0-063b39aa3838",
   "metadata": {},
   "outputs": [
    {
     "data": {
      "text/plain": [
       "28544"
      ]
     },
     "execution_count": 102,
     "metadata": {},
     "output_type": "execute_result"
    }
   ],
   "source": [
    "pred_num_comm"
   ]
  },
  {
   "cell_type": "code",
   "execution_count": 106,
   "id": "aab6b39b-dba9-4422-bbbb-b5fbabef36a7",
   "metadata": {},
   "outputs": [
    {
     "data": {
      "text/plain": [
       "[5,\n",
       " 5,\n",
       " 5,\n",
       " 5,\n",
       " 5,\n",
       " 5,\n",
       " 5,\n",
       " 5,\n",
       " 5,\n",
       " 5,\n",
       " 5,\n",
       " 5,\n",
       " 5,\n",
       " 5,\n",
       " 5,\n",
       " 5,\n",
       " 5,\n",
       " 5,\n",
       " 5,\n",
       " 5,\n",
       " 5,\n",
       " 5,\n",
       " 5,\n",
       " 5,\n",
       " 5,\n",
       " 5,\n",
       " 5,\n",
       " 5,\n",
       " 5,\n",
       " 5,\n",
       " 5,\n",
       " 5,\n",
       " 5,\n",
       " 5,\n",
       " 5,\n",
       " 5,\n",
       " 5,\n",
       " 5,\n",
       " 5]"
      ]
     },
     "execution_count": 106,
     "metadata": {},
     "output_type": "execute_result"
    }
   ],
   "source": [
    "pred_comm[0]"
   ]
  },
  {
   "cell_type": "code",
   "execution_count": null,
   "id": "1dc4ffee-c0a7-48c2-8d24-711e332b0648",
   "metadata": {},
   "outputs": [],
   "source": []
  }
 ],
 "metadata": {
  "kernelspec": {
   "display_name": "cse_v1",
   "language": "python",
   "name": "cse_v1"
  },
  "language_info": {
   "codemirror_mode": {
    "name": "ipython",
    "version": 3
   },
   "file_extension": ".py",
   "mimetype": "text/x-python",
   "name": "python",
   "nbconvert_exporter": "python",
   "pygments_lexer": "ipython3",
   "version": "3.9.7"
  }
 },
 "nbformat": 4,
 "nbformat_minor": 5
}

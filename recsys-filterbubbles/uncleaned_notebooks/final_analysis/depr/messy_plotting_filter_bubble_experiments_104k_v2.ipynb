{
 "cells": [
  {
   "cell_type": "code",
   "execution_count": 1,
   "id": "70da6389-9a23-45e7-9efa-d83fc854abb9",
   "metadata": {},
   "outputs": [],
   "source": [
    "%load_ext autoreload"
   ]
  },
  {
   "cell_type": "code",
   "execution_count": 2,
   "id": "1b5f6d80-0a74-44ee-8165-b62787de921d",
   "metadata": {},
   "outputs": [],
   "source": [
    "%autoreload 2"
   ]
  },
  {
   "cell_type": "code",
   "execution_count": 3,
   "id": "69f57cd7-0a34-4659-af6d-b3caced06895",
   "metadata": {},
   "outputs": [
    {
     "name": "stdout",
     "output_type": "stream",
     "text": [
      "/raid/home/myang349/recsys-filterbubbles\n"
     ]
    }
   ],
   "source": [
    "cd /raid/home/myang349/recsys-filterbubbles/"
   ]
  },
  {
   "cell_type": "markdown",
   "id": "a4ea183d-dc55-4198-bdfb-51b52282cfb5",
   "metadata": {
    "tags": []
   },
   "source": [
    "# Imports"
   ]
  },
  {
   "cell_type": "code",
   "execution_count": 4,
   "id": "f6cda501-8f39-4917-b693-4d4ac98bb1b9",
   "metadata": {},
   "outputs": [],
   "source": [
    "import torch\n",
    "import torch.nn as nn\n",
    "import torch.nn.functional as F\n",
    "import os\n",
    "import torch.optim as optim\n",
    "from os import listdir\n",
    "from os.path import isfile, join\n",
    "from tracin.tracin import (\n",
    "    save_tracin_checkpoint,\n",
    "    load_tracin_checkpoint,\n",
    "    calculate_tracin_influence,\n",
    ")\n",
    "import pandas as pd\n",
    "from LSTM_clean.utils import filter_and_split_data, sequence_generator, load_community_dict, get_communities, shannon_index, gini_simpson_index, num_unique\n",
    "from LSTM_clean.model import LSTM \n",
    "from collections import Counter\n",
    "import numpy as np\n",
    "import pickle\n",
    "from collections import defaultdict\n",
    "import copy\n",
    "from torch.optim import SGD\n",
    "from lstm_wrapper import train_model, get_topk_predictions\n",
    "from dataclasses import dataclass\n",
    "import matplotlib.pyplot as plt\n",
    "from copy import deepcopy\n",
    "import math"
   ]
  },
  {
   "cell_type": "markdown",
   "id": "1b3c4acb-300f-419e-ac3c-497a6cda175c",
   "metadata": {},
   "source": [
    "# Loading Data"
   ]
  },
  {
   "cell_type": "code",
   "execution_count": 5,
   "id": "952f56b9-ff9c-47a9-8214-60a86c291ca2",
   "metadata": {},
   "outputs": [],
   "source": [
    "# Data Location\n",
    "# Use SAVE_PREFIX to mark different datasets\n",
    "SAVE_PREFIX = \"104k\"\n",
    "SAVE_FOLDER = \"/raid/home/myang349/recsys-filterbubbles/data/twitch_sequence/\"\n",
    "SAVE_TRAIN_NAME = SAVE_PREFIX + \"train.data\"\n",
    "SAVE_VALID_NAME = SAVE_PREFIX + \"valid.data\"\n",
    "SAVE_TEST_NAME = SAVE_PREFIX + \"test.data\"\n",
    "SAVE_COMMUNITY_NAME = SAVE_PREFIX + \"lstm_idx_communities.data\""
   ]
  },
  {
   "cell_type": "code",
   "execution_count": 6,
   "id": "9374a04b-0e03-441b-b0cd-a8ea651bf954",
   "metadata": {},
   "outputs": [],
   "source": [
    "train_data = np.load(os.path.join(SAVE_FOLDER, SAVE_TRAIN_NAME), allow_pickle=True)\n",
    "valid_data = np.load(os.path.join(SAVE_FOLDER, SAVE_VALID_NAME), allow_pickle=True)\n",
    "test_data = np.load(os.path.join(SAVE_FOLDER, SAVE_TEST_NAME), allow_pickle=True)"
   ]
  },
  {
   "cell_type": "markdown",
   "id": "cac87f8b-02b1-4680-ad33-94ab15896c9d",
   "metadata": {},
   "source": [
    "# Loading model"
   ]
  },
  {
   "cell_type": "code",
   "execution_count": 7,
   "id": "454be3f5-0dbf-47fd-8911-0b1d9f4d1999",
   "metadata": {},
   "outputs": [
    {
     "name": "stdout",
     "output_type": "stream",
     "text": [
      "Device is cuda\n"
     ]
    }
   ],
   "source": [
    "# model = train_model()\n",
    "\n",
    "# Init\n",
    "device = torch.device(\"cuda\" if torch.cuda.is_available() else \"cpu\")\n",
    "print(\"Device is\", device)\n",
    "model = LSTM(input_size=128, output_size=3312, hidden_dim=64, n_layers=1, device=device) \n",
    "model.LSTM.flatten_parameters()\n",
    "optimizer = optim.SGD(model.parameters(), lr=5e-2, momentum=0.9)\n",
    "\n",
    "# Loading\n",
    "model, _, epoch, loss = load_tracin_checkpoint(model, optimizer, \"/raid/home/myang349/recsys-filterbubbles/checkpoints/lstm_checkpoint_epoch600.pt\")"
   ]
  },
  {
   "cell_type": "code",
   "execution_count": 8,
   "id": "b8a25bd0-080b-4e4e-8c5d-69dba80a8036",
   "metadata": {},
   "outputs": [
    {
     "data": {
      "text/plain": [
       "LSTM(\n",
       "  (item_emb): Embedding(3312, 128, padding_idx=0)\n",
       "  (LSTM): LSTM(128, 64, batch_first=True)\n",
       "  (fc): Linear(in_features=64, out_features=3312, bias=True)\n",
       ")"
      ]
     },
     "execution_count": 8,
     "metadata": {},
     "output_type": "execute_result"
    }
   ],
   "source": [
    "model.to(device)"
   ]
  },
  {
   "cell_type": "markdown",
   "id": "0b3259c5-9d7b-4b76-a59c-1b1a4f38fa7c",
   "metadata": {
    "tags": []
   },
   "source": [
    "## Verify the recall"
   ]
  },
  {
   "cell_type": "code",
   "execution_count": 9,
   "id": "117b69c6-644b-498b-bebf-9af26adc8cf1",
   "metadata": {},
   "outputs": [],
   "source": [
    "# Generate sequences and gt\n",
    "sequences = [pt[0] for pt in valid_data]\n",
    "# sequences = [list(reversed(pt[0]))[:10] for pt in valid_data]\n",
    "gt = [pt[1] for pt in valid_data]"
   ]
  },
  {
   "cell_type": "code",
   "execution_count": 10,
   "id": "ba2e1f5c-5ce6-4a9f-9bea-4cba9aef9020",
   "metadata": {},
   "outputs": [],
   "source": [
    "# Generate predictions\n",
    "predictions = get_topk_predictions(model, sequences, k=50)"
   ]
  },
  {
   "cell_type": "code",
   "execution_count": 11,
   "id": "a63b5581-62dd-42cb-af6b-0b62d6d713cc",
   "metadata": {},
   "outputs": [
    {
     "data": {
      "text/plain": [
       "0.5059769615301022"
      ]
     },
     "execution_count": 11,
     "metadata": {},
     "output_type": "execute_result"
    }
   ],
   "source": [
    "assert len(sequences) == len(predictions)\n",
    "hit = 0\n",
    "total = 0\n",
    "for i, val in enumerate(gt):\n",
    "    if val in predictions[i][:10]:\n",
    "        hit += 1\n",
    "    total += 1  \n",
    "hit/total"
   ]
  },
  {
   "cell_type": "markdown",
   "id": "b929aea2-aae6-423e-b5ca-c7fae89d5d9c",
   "metadata": {},
   "source": [
    "# Analysis Utils"
   ]
  },
  {
   "cell_type": "code",
   "execution_count": 12,
   "id": "9aea04e7-5560-4dd9-989d-78c7df05e0ee",
   "metadata": {},
   "outputs": [],
   "source": [
    "def plot_counts(counts: dict[str, int], title='bla', xlabel='something', ylabel='count') -> plt.Figure:\n",
    "    \"\"\"Plots a histogram from dict\"\"\"\n",
    "    fig = plt.figure()\n",
    "\n",
    "    # Creating the barplot\n",
    "    plt.bar(counts.keys(), counts.values())\n",
    "    plt.xlabel(xlabel)\n",
    "    plt.ylabel(ylabel)\n",
    "    plt.title(title)\n",
    "#     return fig\n",
    "\n",
    "def line_plot(hm):\n",
    "    # line plot\n",
    "    fig = plt.figure()\n",
    "    ax = plt.axes()\n",
    "    ax.plot(sorted(hm.keys()), [hm[x] for x in sorted(hm.keys())])"
   ]
  },
  {
   "cell_type": "markdown",
   "id": "716768a9-6d50-4edf-823a-a34334e77d35",
   "metadata": {},
   "source": [
    "## Computing community vectors"
   ]
  },
  {
   "cell_type": "code",
   "execution_count": 13,
   "id": "e01d78bd-f62f-46b2-bd95-d9302d8e4738",
   "metadata": {},
   "outputs": [],
   "source": [
    "community_dict = load_community_dict(os.path.join(SAVE_FOLDER, SAVE_COMMUNITY_NAME))"
   ]
  },
  {
   "cell_type": "markdown",
   "id": "2cdae767-e32c-4f65-b029-3e7377f4feb4",
   "metadata": {},
   "source": [
    "## Converting prev and predictions to be equal length and in community embedding"
   ]
  },
  {
   "cell_type": "code",
   "execution_count": 38,
   "id": "d17903d5-4315-47bd-98ee-a48675440f66",
   "metadata": {},
   "outputs": [],
   "source": [
    "LOOKBACK = 50\n",
    "THRESHOLD = 0"
   ]
  },
  {
   "cell_type": "code",
   "execution_count": 39,
   "id": "5fe63da5-b509-4118-a2a7-7e14acaa6cd3",
   "metadata": {
    "tags": []
   },
   "outputs": [
    {
     "name": "stdout",
     "output_type": "stream",
     "text": [
      "9202\n",
      "9202\n"
     ]
    }
   ],
   "source": [
    "# Alternate version where we just get the last lookback from prev\n",
    "prev_comm = []\n",
    "pred_comm = []\n",
    "\n",
    "for i in range(len(sequences)):\n",
    "    prev = list(reversed(sequences[i]))[:LOOKBACK]\n",
    "    n = len([x for x in prev if x != 0 and x in community_dict])\n",
    "    \n",
    "    if n < THRESHOLD:\n",
    "        continue\n",
    "        \n",
    "    pred = predictions[i][:n]\n",
    "    prev_comm.append(get_communities(prev, community_dict))\n",
    "    pred_comm.append(get_communities(pred, community_dict))\n",
    "    \n",
    "for i in range(len(prev_comm)):\n",
    "    assert len(prev_comm[i]) ==len(pred_comm[i])\n",
    "    assert THRESHOLD <= len(prev_comm[i]) <= LOOKBACK\n",
    "    \n",
    "print(len(sequences))\n",
    "print(len(prev_comm))"
   ]
  },
  {
   "cell_type": "markdown",
   "id": "f00b8669-7bfb-4341-8796-c6f95adbf89e",
   "metadata": {},
   "source": [
    "# Analysis"
   ]
  },
  {
   "cell_type": "code",
   "execution_count": null,
   "id": "cd732373-38cd-45dc-adf3-5438e6c033c1",
   "metadata": {},
   "outputs": [],
   "source": [
    "community_dict"
   ]
  },
  {
   "cell_type": "code",
   "execution_count": 16,
   "id": "8256f3e3-5064-4c05-9064-999f73a8b97b",
   "metadata": {},
   "outputs": [],
   "source": [
    "community_counts = Counter(community_dict.values())"
   ]
  },
  {
   "cell_type": "code",
   "execution_count": 17,
   "id": "6c92800b-3546-4632-9851-a3738c89d680",
   "metadata": {},
   "outputs": [
    {
     "data": {
      "image/png": "[encoded data removed]",
      "text/plain": [
       "<Figure size 432x288 with 1 Axes>"
      ]
     },
     "metadata": {
      "needs_background": "light"
     },
     "output_type": "display_data"
    }
   ],
   "source": [
    "plot_counts(community_counts, 'distribution of communities')"
   ]
  },
  {
   "cell_type": "code",
   "execution_count": 25,
   "id": "ed80405b-c032-4d72-aef6-b2fe282c6544",
   "metadata": {},
   "outputs": [
    {
     "name": "stdout",
     "output_type": "stream",
     "text": [
      "defaultdict(<class 'int'>, {13: 331189, 8: 253046, 9: 63591, 2: 41070, 14: 57209, 7: 108220, 6: 66264, 4: 71707, 11: 109750, 3: 28239, 0: 266909, 10: 21840, 1: 11578, 15: 3630, 5: 27141, 12: 8982})\n"
     ]
    }
   ],
   "source": [
    "## Community Items\n",
    "hm = defaultdict(int)\n",
    "for pt in train_data:\n",
    "    seq = pt[0]\n",
    "    hm_comm = Counter(get_communities(seq, community_dict))\n",
    "    for k, v in hm_comm.items():\n",
    "        hm[k] += v\n",
    "print(hm)"
   ]
  },
  {
   "cell_type": "code",
   "execution_count": 29,
   "id": "853a7510-167f-4d33-954d-d7321476551f",
   "metadata": {},
   "outputs": [
    {
     "data": {
      "image/png": "[encoded data removed]",
      "text/plain": [
       "<Figure size 432x288 with 1 Axes>"
      ]
     },
     "metadata": {
      "needs_background": "light"
     },
     "output_type": "display_data"
    }
   ],
   "source": [
    "plot_counts(hm, 'distribution of actual communities in train_data')"
   ]
  },
  {
   "cell_type": "code",
   "execution_count": 30,
   "id": "0922a48f-4c43-4911-8cb4-01ec139a35f1",
   "metadata": {},
   "outputs": [
    {
     "name": "stdout",
     "output_type": "stream",
     "text": [
      "defaultdict(<class 'int'>, {13: 71993, 8: 57095, 9: 14307, 6: 15960, 4: 15467, 2: 9093, 11: 24827, 7: 24195, 3: 6268, 0: 60679, 14: 13008, 10: 4593, 1: 2790, 15: 877, 5: 6232, 12: 2205})\n"
     ]
    },
    {
     "data": {
      "image/png": "[encoded data removed]",
      "text/plain": [
       "<Figure size 432x288 with 1 Axes>"
      ]
     },
     "metadata": {
      "needs_background": "light"
     },
     "output_type": "display_data"
    }
   ],
   "source": [
    "## Community Items\n",
    "hm = defaultdict(int)\n",
    "for pt in valid_data:\n",
    "    seq = pt[0]\n",
    "    hm_comm = Counter(get_communities(seq, community_dict))\n",
    "    for k, v in hm_comm.items():\n",
    "        hm[k] += v\n",
    "print(hm)\n",
    "plot_counts(hm, 'distribution of actual communites in valid_data')"
   ]
  },
  {
   "cell_type": "code",
   "execution_count": 37,
   "id": "b97c6d28-3c43-4b47-bcd4-f7aeab13af41",
   "metadata": {},
   "outputs": [
    {
     "name": "stdout",
     "output_type": "stream",
     "text": [
      "defaultdict(<class 'int'>, {8: 1540, 2: 291, 10: 116, 9: 394, 6: 477, 13: 1888, 0: 1736, 11: 693, 1: 83, 7: 722, 4: 440, 15: 29, 5: 179, 14: 375, 3: 167, 12: 72})\n"
     ]
    },
    {
     "data": {
      "image/png": "[encoded data removed]",
      "text/plain": [
       "<Figure size 432x288 with 1 Axes>"
      ]
     },
     "metadata": {
      "needs_background": "light"
     },
     "output_type": "display_data"
    }
   ],
   "source": [
    "## Community Items\n",
    "hm = defaultdict(int)\n",
    "for seq in predictions:\n",
    "    seq = seq[:1]\n",
    "    hm_comm = Counter(get_communities(seq, community_dict))\n",
    "    for k, v in hm_comm.items():\n",
    "        hm[k] += v\n",
    "print(hm)\n",
    "plot_counts(hm, 'distribution of actual communites in predictions')"
   ]
  },
  {
   "cell_type": "markdown",
   "id": "7dc8ad41-e20c-4780-b3bf-16cd546d5a5d",
   "metadata": {
    "tags": []
   },
   "source": [
    "## Distributions"
   ]
  },
  {
   "cell_type": "code",
   "execution_count": 38,
   "id": "8a5ec01a-a4a9-40ba-b9e2-648fe6eb649a",
   "metadata": {},
   "outputs": [],
   "source": [
    "watch_history_length_counts = Counter(len(x) for x in prev_comm)\n",
    "counts = {k: watch_history_length_counts[k] for k in sorted(watch_history_length_counts)}\n",
    "assert sum(counts.values()) == n"
   ]
  },
  {
   "cell_type": "code",
   "execution_count": 39,
   "id": "24673ba7-d754-44bf-bfcf-5d20483b08b7",
   "metadata": {},
   "outputs": [
    {
     "data": {
      "image/png": "[encoded data removed]",
      "text/plain": [
       "<Figure size 432x288 with 1 Axes>"
      ]
     },
     "metadata": {
      "needs_background": "light"
     },
     "output_type": "display_data"
    }
   ],
   "source": [
    "plot_counts(counts, 'length of histories')"
   ]
  },
  {
   "cell_type": "code",
   "execution_count": 40,
   "id": "db80d559-1e39-484f-867e-3042c2aa8eb8",
   "metadata": {},
   "outputs": [],
   "source": [
    "prev_unique_comms_by_length = defaultdict(list)\n",
    "pred_unique_comms_by_length = defaultdict(list)"
   ]
  },
  {
   "cell_type": "code",
   "execution_count": 41,
   "id": "09b0cc9b-5099-4588-9ab5-3bb419aaa5cf",
   "metadata": {},
   "outputs": [],
   "source": [
    "# Making sure distribution is the same\n",
    "assert Counter(len(x) for x in pred_comm) == Counter(len(x) for x in prev_comm)"
   ]
  },
  {
   "cell_type": "markdown",
   "id": "47837c18-63a1-4c0a-883b-71463e076725",
   "metadata": {},
   "source": [
    "### Plotting the percentage of points that are less diverse, by length"
   ]
  },
  {
   "cell_type": "code",
   "execution_count": 15,
   "id": "80e86a52-d6bf-46c4-9a7b-4720aad85718",
   "metadata": {},
   "outputs": [],
   "source": [
    "diversity_metric = num_unique"
   ]
  },
  {
   "cell_type": "code",
   "execution_count": 50,
   "id": "ee0d8330-3620-4762-89a8-37797c10f26f",
   "metadata": {},
   "outputs": [
    {
     "data": {
      "image/png": "[encoded data removed]",
      "text/plain": [
       "<Figure size 432x288 with 1 Axes>"
      ]
     },
     "metadata": {
      "needs_background": "light"
     },
     "output_type": "display_data"
    }
   ],
   "source": [
    "hm = defaultdict(list)\n",
    "\n",
    "for i in range(len(prev_comm)):\n",
    "    c1, c2 = prev_comm[i], pred_comm[i]\n",
    "    for j in range(len(c1)):\n",
    "        if diversity_metric(list(reversed(c1))[:j], community_dict) < diversity_metric(c2[:j], community_dict):\n",
    "            hm[len(c1)].append(1)\n",
    "        else:\n",
    "            hm[len(c1)].append(0)\n",
    "    \n",
    "for k in hm:\n",
    "    hm[k] = sum(hm[k]) /  len(hm[k])\n",
    "plot_counts(hm, 'percent less diverse')"
   ]
  },
  {
   "cell_type": "code",
   "execution_count": 47,
   "id": "bff87f01-fb29-4591-a4e8-7fefe8b2891b",
   "metadata": {},
   "outputs": [
    {
     "data": {
      "image/png": "[encoded data removed]",
      "text/plain": [
       "<Figure size 432x288 with 1 Axes>"
      ]
     },
     "metadata": {
      "needs_background": "light"
     },
     "output_type": "display_data"
    }
   ],
   "source": [
    "hm = defaultdict(list)\n",
    "\n",
    "for i in range(len(prev_comm)):\n",
    "    c1, c2 = prev_comm[i], pred_comm[i]\n",
    "    for j in range(len(c1)):\n",
    "        if diversity_metric(c1[:j], community_dict) < diversity_metric(c2[:j], community_dict):\n",
    "            hm[len(c1)].append(1)\n",
    "        else:\n",
    "            hm[len(c1)].append(0)\n",
    "    \n",
    "for k in hm:\n",
    "    hm[k] = sum(hm[k]) /  len(hm[k])\n",
    "plot_counts(hm, 'percent less diverse')"
   ]
  },
  {
   "cell_type": "code",
   "execution_count": 273,
   "id": "6013b363-c1b4-40b8-8dbe-701e1a49785b",
   "metadata": {},
   "outputs": [
    {
     "data": {
      "image/png": "[encoded data removed]",
      "text/plain": [
       "<Figure size 432x288 with 1 Axes>"
      ]
     },
     "metadata": {
      "needs_background": "light"
     },
     "output_type": "display_data"
    }
   ],
   "source": [
    "hm = defaultdict(int)\n",
    "tot = defaultdict(int)\n",
    "for i in range(len(prev_comm)):\n",
    "    c1, c2 = prev_comm[i], pred_comm[i]\n",
    "#     if len(set(c1)) == len(set(c2)):\n",
    "    if shannon_index(c2, community_dict) == shannon_index(c1, community_dict):\n",
    "        hm[len(c1)] += 1\n",
    "    tot[len(c1)] += 1\n",
    "    \n",
    "for k in hm:\n",
    "    hm[k] = hm[k] / tot[k]\n",
    "plot_counts(hm, 'percent equally diverse')"
   ]
  },
  {
   "cell_type": "code",
   "execution_count": 274,
   "id": "f4acfb3f-ae04-43fc-a98b-c92d66cfc2c7",
   "metadata": {},
   "outputs": [
    {
     "data": {
      "image/png": "[encoded data removed]",
      "text/plain": [
       "<Figure size 432x288 with 1 Axes>"
      ]
     },
     "metadata": {
      "needs_background": "light"
     },
     "output_type": "display_data"
    }
   ],
   "source": [
    "hm = defaultdict(int)\n",
    "tot = defaultdict(int)\n",
    "for i in range(len(prev_comm)):\n",
    "    c1, c2 = prev_comm[i], pred_comm[i]\n",
    "#     if len(set(c2)) > len(set(c1)):\n",
    "    if shannon_index(c2, community_dict) > shannon_index(c1, community_dict):\n",
    "        hm[len(c1)] += 1\n",
    "    tot[len(c1)] += 1\n",
    "    \n",
    "for k in hm:\n",
    "    hm[k] = hm[k] / tot[k]\n",
    "plot_counts(hm, 'percent more diverse')"
   ]
  },
  {
   "cell_type": "markdown",
   "id": "19f0d082-9316-4720-9eb0-4461f90b374f",
   "metadata": {},
   "source": [
    "## Raw Diversity"
   ]
  },
  {
   "cell_type": "code",
   "execution_count": 275,
   "id": "f3fa94de-0e53-4b65-9c8f-279e72733834",
   "metadata": {},
   "outputs": [
    {
     "data": {
      "image/png": "[encoded data removed]",
      "text/plain": [
       "<Figure size 432x288 with 1 Axes>"
      ]
     },
     "metadata": {
      "needs_background": "light"
     },
     "output_type": "display_data"
    }
   ],
   "source": [
    "# prev_communities only\n",
    "hm1 = defaultdict(list)\n",
    "for i in range(len(prev_comm)):\n",
    "    c1, c2 = prev_comm[i], pred_comm[i]\n",
    "    hm1[len(c1)].append(len(set(c1)))\n",
    "\n",
    "    \n",
    "# Convert to percents\n",
    "for k in hm1:\n",
    "    hm1[k] = np.mean(hm1[k])\n",
    "plot_counts(hm1, 'raw community count', xlabel='length', ylabel='num communities')"
   ]
  },
  {
   "cell_type": "code",
   "execution_count": 276,
   "id": "d25a7e84-66bb-48de-b7fa-c4e0c9cc5e0c",
   "metadata": {},
   "outputs": [
    {
     "data": {
      "image/png": "[encoded data removed]",
      "text/plain": [
       "<Figure size 432x288 with 1 Axes>"
      ]
     },
     "metadata": {
      "needs_background": "light"
     },
     "output_type": "display_data"
    }
   ],
   "source": [
    "# pred_communities only\n",
    "hm1 = defaultdict(list)\n",
    "for i in range(len(pred_comm)):\n",
    "    c1, c2 = prev_comm[i], pred_comm[i]\n",
    "    hm1[len(c2)].append(len(set(c2)))\n",
    "    \n",
    "# Convert to percents\n",
    "for k in hm1:\n",
    "    hm1[k] = np.mean(hm1[k])\n",
    "plot_counts(hm1, 'raw community count of preds', xlabel='length', ylabel='avg # of communities')"
   ]
  },
  {
   "cell_type": "code",
   "execution_count": 279,
   "id": "e9c32bf4-aded-4725-aa32-4f5f636b10f4",
   "metadata": {},
   "outputs": [
    {
     "data": {
      "image/png": "[encoded data removed]",
      "text/plain": [
       "<Figure size 432x288 with 1 Axes>"
      ]
     },
     "metadata": {
      "needs_background": "light"
     },
     "output_type": "display_data"
    }
   ],
   "source": [
    "# full pred communities\n",
    "hm = defaultdict(list)\n",
    "for pred in predictions:\n",
    "    c2 = get_communities(pred, community_dict)\n",
    "    for i in range(len(c2)):\n",
    "        hm[i].append(len(set(c2[:i])))\n",
    "for k in hm:\n",
    "    hm[k] = np.mean(hm[k])\n",
    "plot_counts(hm, 'raw community count of preds', xlabel='length', ylabel='avg # of communities')"
   ]
  },
  {
   "cell_type": "code",
   "execution_count": 284,
   "id": "dbec3072-d5aa-4ad6-84ba-ebadacde777c",
   "metadata": {},
   "outputs": [
    {
     "data": {
      "text/plain": [
       "[<matplotlib.lines.Line2D at 0x7fcad145c070>]"
      ]
     },
     "execution_count": 284,
     "metadata": {},
     "output_type": "execute_result"
    },
    {
     "data": {
      "image/png": "[encoded data removed]",
      "text/plain": [
       "<Figure size 432x288 with 1 Axes>"
      ]
     },
     "metadata": {
      "needs_background": "light"
     },
     "output_type": "display_data"
    }
   ],
   "source": [
    "# last k for every train, topk for pred\n",
    "hm_prev = defaultdict(list)\n",
    "hm_pred = defaultdict(list)\n",
    "for i in range(len(prev_comm)):\n",
    "    c1 = prev_comm[i]\n",
    "    c2 = get_communities(predictions[i], community_dict)\n",
    "    for j in range(min(len(c1), 20)):\n",
    "#         hm_prev[j].append(len(set(c1[:j])))\n",
    "#         hm_pred[j].append(len(set(c2[:j])))\n",
    "        hm_prev[j].append(shannon_index(list(reversed(c1))[:j], community_dict))\n",
    "        hm_pred[j].append(shannon_index(c2[:j], community_dict))\n",
    "        \n",
    "for k in hm_prev:\n",
    "    hm_prev[k] = np.mean(hm_prev[k])\n",
    "for k in hm_pred:\n",
    "    hm_pred[k] = np.mean(hm_pred[k])\n",
    "\n",
    "fig = plt.figure()\n",
    "ax = plt.axes()\n",
    "ax.plot(sorted(hm_prev.keys()), [hm_prev[x] for x in sorted(hm_prev.keys())])\n",
    "ax.plot(sorted(hm_pred.keys()), [hm_pred[x] for x in sorted(hm_pred.keys())])"
   ]
  },
  {
   "cell_type": "markdown",
   "id": "f0b4a272-5a41-4787-b902-135d8651ab5a",
   "metadata": {
    "tags": []
   },
   "source": [
    "## Quantifying Diversity Based on Watch History vs Recommendation"
   ]
  },
  {
   "cell_type": "code",
   "execution_count": 123,
   "id": "76488ea6-e688-4a8c-8c32-1532da0f6f2c",
   "metadata": {},
   "outputs": [],
   "source": [
    "def f(c):\n",
    "    return len(set(c))\n",
    "    \n",
    "def f(c):\n",
    "    hm = Counter(c)\n",
    "    for val in hm.values():\n",
    "        if val >= 0.8 * len(c):\n",
    "            return 1\n",
    "    return 0"
   ]
  },
  {
   "cell_type": "code",
   "execution_count": 124,
   "id": "ba195002-6c81-4f8d-bf99-3a9e3e20a1c2",
   "metadata": {},
   "outputs": [],
   "source": [
    "prev_comm_stats = []\n",
    "pred_comm_stats = []\n",
    "n = len(prev_comm)\n",
    "threshold = 0\n",
    "\n",
    "for i in range(n):\n",
    "    c1, c2 = prev_comm[i], pred_comm[i]\n",
    "    if len(c1) < threshold:\n",
    "        continue\n",
    "    prev_comm_stats.append(f(c1))\n",
    "    pred_comm_stats.append(f(c2))"
   ]
  },
  {
   "cell_type": "code",
   "execution_count": 125,
   "id": "ee0ec6f6-4fe5-4af9-9aab-a2341f24147f",
   "metadata": {},
   "outputs": [
    {
     "data": {
      "text/plain": [
       "6063"
      ]
     },
     "execution_count": 125,
     "metadata": {},
     "output_type": "execute_result"
    }
   ],
   "source": [
    "sum(prev_comm_stats)"
   ]
  },
  {
   "cell_type": "code",
   "execution_count": 122,
   "id": "b47d13c5-f7fc-4196-843c-97e88df76874",
   "metadata": {},
   "outputs": [
    {
     "data": {
      "text/plain": [
       "8809"
      ]
     },
     "execution_count": 122,
     "metadata": {},
     "output_type": "execute_result"
    }
   ],
   "source": [
    "sum(pred_comm_stats)"
   ]
  },
  {
   "cell_type": "markdown",
   "id": "cb385a6d-d536-4354-966a-d6f85114b106",
   "metadata": {},
   "source": [
    "# Quantifying Filter-Bubble Based on Combination of Watch History + Recommendation"
   ]
  },
  {
   "cell_type": "markdown",
   "id": "145c223a-377f-4b89-bcbe-b5775bc2f375",
   "metadata": {},
   "source": [
    "## Quantify Functions"
   ]
  },
  {
   "cell_type": "code",
   "execution_count": 126,
   "id": "b4fa4886-2271-418a-8eeb-d699daaf0e35",
   "metadata": {},
   "outputs": [],
   "source": [
    "# Does one of the top 3 predictions belong in a community in the previous history?\n",
    "def f(prev, pred, threshold=3):\n",
    "    for comm in pred[:threshold]:\n",
    "        if comm in prev:\n",
    "            return 1\n",
    "    return 0\n",
    "\n",
    "# Does one of the top-threshold belong in the majority community in the previous history?\n",
    "def f(prev, pred, threshold=3):\n",
    "    hm = Counter(prev)\n",
    "    most_common = max(hm.keys(), key=hm.get)\n",
    "    \n",
    "    for comm in pred[:threshold]:\n",
    "        if comm == most_common:\n",
    "            return 1\n",
    "    return 0\n",
    "\n",
    "# What % of the top-threshold belongs in the most common community in the previous history\n",
    "def f(prev, pred, threshold=10):\n",
    "    hm = Counter(prev)\n",
    "    most_common = max(hm.keys(), key=hm.get)\n",
    "    \n",
    "    count = 0\n",
    "    for comm in pred[:threshold]:\n",
    "        if comm == most_common:\n",
    "            count += 1\n",
    "    return count / threshold"
   ]
  },
  {
   "cell_type": "code",
   "execution_count": 127,
   "id": "2f8fcec2-1045-4951-bc5b-8cc1c8c6241f",
   "metadata": {},
   "outputs": [],
   "source": [
    "# What percentage of the top-threshold predictions belong in a community in the previous history?\n",
    "def f(prev, pred, threshold=5):\n",
    "    count = 0\n",
    "    for comm in pred[:threshold]:\n",
    "        if comm in prev:\n",
    "            count += 1\n",
    "    return count / threshold\n",
    "\n",
    "# What percentage of the top-threshold predictions belong in the communities of the last threshold-items in the history?\n",
    "def f(prev, pred, threshold=10):\n",
    "    count = 0\n",
    "    for comm in pred[:threshold]:\n",
    "        if comm in list(reversed(prev))[:threshold]:\n",
    "            count += 1\n",
    "    return count / threshold"
   ]
  },
  {
   "cell_type": "markdown",
   "id": "85b1e4e1-230b-4632-9ba5-c2a670d8eef1",
   "metadata": {},
   "source": [
    "## Filter functions"
   ]
  },
  {
   "cell_type": "code",
   "execution_count": 128,
   "id": "8e3dc80b-5f03-4ec3-876a-ffda7451c0f4",
   "metadata": {},
   "outputs": [],
   "source": [
    "def filter(c):\n",
    "    hm = Counter(c)\n",
    "    for val in hm.values():\n",
    "        if val >= 0.9 * len(c):\n",
    "            return True\n",
    "    return False"
   ]
  },
  {
   "cell_type": "markdown",
   "id": "28dd2f05-e974-48c9-b2f9-a6cbb00b46bd",
   "metadata": {},
   "source": [
    "## This cell actually computes values"
   ]
  },
  {
   "cell_type": "code",
   "execution_count": 129,
   "id": "7c2787e0-2f59-45bb-97f4-d6f7065f2593",
   "metadata": {},
   "outputs": [],
   "source": [
    "counts = []\n",
    "n = len(prev_comm)\n",
    "threshold = 0\n",
    "\n",
    "for i in range(n):\n",
    "    c1, c2 = prev_comm[i], pred_comm[i]\n",
    "#     if not filter(c1):\n",
    "#         continue\n",
    "    if len(c1) < threshold:\n",
    "        continue\n",
    "    counts.append(f(c1,c2))"
   ]
  },
  {
   "cell_type": "code",
   "execution_count": 130,
   "id": "5ea3ceb7-fd13-460a-9428-2ded5ce4529b",
   "metadata": {},
   "outputs": [
    {
     "data": {
      "text/plain": [
       "0.9331102540834695"
      ]
     },
     "execution_count": 130,
     "metadata": {},
     "output_type": "execute_result"
    }
   ],
   "source": [
    "sum(counts)/len(counts)"
   ]
  },
  {
   "cell_type": "code",
   "execution_count": 131,
   "id": "143672b4-eb1e-4f44-8882-c6c3009eeb42",
   "metadata": {},
   "outputs": [
    {
     "data": {
      "text/plain": [
       "0.9331102540834695"
      ]
     },
     "execution_count": 131,
     "metadata": {},
     "output_type": "execute_result"
    }
   ],
   "source": [
    "sum(counts)/len(counts)"
   ]
  },
  {
   "cell_type": "code",
   "execution_count": null,
   "id": "0d8b4a96-f72e-4975-b984-d2d7049de15e",
   "metadata": {},
   "outputs": [],
   "source": [
    "1 -> 1\n",
    "12 -> 2\n",
    "122 -> 3\n",
    "1223 -> 4"
   ]
  },
  {
   "cell_type": "code",
   "execution_count": null,
   "id": "1b3710ae-8648-4141-8c1d-3a64bcc1ff1a",
   "metadata": {},
   "outputs": [],
   "source": [
    "valid_data"
   ]
  },
  {
   "cell_type": "markdown",
   "id": "dbf44a63-8445-422a-a3c1-0ac1ed5bc21c",
   "metadata": {},
   "source": [
    "## Extracting filter bubble pts + breaking the filter bubble pts"
   ]
  },
  {
   "cell_type": "code",
   "execution_count": 237,
   "id": "66dc833d-f332-4241-b6fe-829c1acf7eac",
   "metadata": {},
   "outputs": [],
   "source": [
    "DIVERSITY_FOLDER = os.path.join(SAVE_FOLDER, \"twitch_sequence\")"
   ]
  },
  {
   "cell_type": "code",
   "execution_count": 67,
   "id": "43081b2f-031d-4437-8185-c6820b2f491c",
   "metadata": {},
   "outputs": [
    {
     "data": {
      "text/plain": [
       "'/raid/home/myang349/recsys-filterbubbles'"
      ]
     },
     "execution_count": 67,
     "metadata": {},
     "output_type": "execute_result"
    }
   ],
   "source": [
    "pwd"
   ]
  },
  {
   "cell_type": "code",
   "execution_count": 68,
   "id": "93bdbcfb-a5d6-4f83-8075-6e5e4dc08dee",
   "metadata": {},
   "outputs": [],
   "source": [
    "with open('/raid/home/myang349/recsys-filterbubbles/myang_code_refactor/final_analysis/length_influences1_dict.pkl', 'rb') as f:\n",
    "    \n",
    "    data = pickle.load(f)"
   ]
  },
  {
   "cell_type": "code",
   "execution_count": 70,
   "id": "306dcdfd-6a9f-4ea2-8fda-dfbc2edb9ab1",
   "metadata": {},
   "outputs": [],
   "source": [
    "hm = {}\n",
    "for key in data:\n",
    "    hm[key] = sum(data[key])"
   ]
  },
  {
   "cell_type": "code",
   "execution_count": 72,
   "id": "f4bec643-841b-4f72-bf40-a6d92c74837e",
   "metadata": {},
   "outputs": [
    {
     "data": {
      "image/png": "[encoded data removed]",
      "text/plain": [
       "<Figure size 432x288 with 1 Axes>"
      ]
     },
     "metadata": {
      "needs_background": "light"
     },
     "output_type": "display_data"
    }
   ],
   "source": [
    "plot_counts(hm, 'wew')"
   ]
  },
  {
   "cell_type": "code",
   "execution_count": null,
   "id": "cdac03e7-94f8-4e45-a88d-cdab8533b0a2",
   "metadata": {},
   "outputs": [],
   "source": []
  }
 ],
 "metadata": {
  "kernelspec": {
   "display_name": "cse_v1",
   "language": "python",
   "name": "cse_v1"
  },
  "language_info": {
   "codemirror_mode": {
    "name": "ipython",
    "version": 3
   },
   "file_extension": ".py",
   "mimetype": "text/x-python",
   "name": "python",
   "nbconvert_exporter": "python",
   "pygments_lexer": "ipython3",
   "version": "3.9.7"
  }
 },
 "nbformat": 4,
 "nbformat_minor": 5
}

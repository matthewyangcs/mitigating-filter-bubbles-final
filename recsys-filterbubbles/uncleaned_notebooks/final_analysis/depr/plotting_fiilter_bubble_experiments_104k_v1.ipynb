{
 "cells": [
  {
   "cell_type": "code",
   "execution_count": 1,
   "id": "70da6389-9a23-45e7-9efa-d83fc854abb9",
   "metadata": {},
   "outputs": [],
   "source": [
    "%load_ext autoreload"
   ]
  },
  {
   "cell_type": "code",
   "execution_count": 2,
   "id": "1b5f6d80-0a74-44ee-8165-b62787de921d",
   "metadata": {},
   "outputs": [],
   "source": [
    "%autoreload 2"
   ]
  },
  {
   "cell_type": "code",
   "execution_count": 3,
   "id": "69f57cd7-0a34-4659-af6d-b3caced06895",
   "metadata": {},
   "outputs": [
    {
     "name": "stdout",
     "output_type": "stream",
     "text": [
      "/raid/home/myang349/recsys-filterbubbles\n"
     ]
    }
   ],
   "source": [
    "cd /raid/home/myang349/recsys-filterbubbles/"
   ]
  },
  {
   "cell_type": "markdown",
   "id": "a4ea183d-dc55-4198-bdfb-51b52282cfb5",
   "metadata": {},
   "source": [
    "# Imports"
   ]
  },
  {
   "cell_type": "code",
   "execution_count": 189,
   "id": "f6cda501-8f39-4917-b693-4d4ac98bb1b9",
   "metadata": {},
   "outputs": [],
   "source": [
    "import torch\n",
    "import torch.nn as nn\n",
    "import torch.nn.functional as F\n",
    "import os\n",
    "import torch.optim as optim\n",
    "from os import listdir\n",
    "from os.path import isfile, join\n",
    "from tracin.tracin import (\n",
    "    save_tracin_checkpoint,\n",
    "    load_tracin_checkpoint,\n",
    "    calculate_tracin_influence,\n",
    ")\n",
    "import pandas as pd\n",
    "from LSTM_clean.utils import filter_and_split_data, sequence_generator, load_community_dict, get_communities \n",
    "from LSTM_clean.model import LSTM \n",
    "from collections import Counter\n",
    "import numpy as np\n",
    "import pickle\n",
    "from collections import defaultdict\n",
    "import copy\n",
    "from torch.optim import SGD\n",
    "from lstm_wrapper import train_model, get_topk_predictions\n",
    "from dataclasses import dataclass\n",
    "import matplotlib.pyplot as plt\n",
    "from copy import deepcopy\n",
    "import math"
   ]
  },
  {
   "cell_type": "markdown",
   "id": "1b3c4acb-300f-419e-ac3c-497a6cda175c",
   "metadata": {},
   "source": [
    "# Loading Data"
   ]
  },
  {
   "cell_type": "code",
   "execution_count": 5,
   "id": "952f56b9-ff9c-47a9-8214-60a86c291ca2",
   "metadata": {},
   "outputs": [],
   "source": [
    "# Data Location\n",
    "# Use SAVE_PREFIX to mark different datasets\n",
    "SAVE_PREFIX = \"104k\"\n",
    "SAVE_FOLDER = \"/raid/home/myang349/recsys-filterbubbles/data/twitch_sequence/\"\n",
    "SAVE_TRAIN_NAME = SAVE_PREFIX + \"train.data\"\n",
    "SAVE_VALID_NAME = SAVE_PREFIX + \"valid.data\"\n",
    "SAVE_TEST_NAME = SAVE_PREFIX + \"test.data\"\n",
    "SAVE_COMMUNITY_NAME = SAVE_PREFIX + \"lstm_idx_communities.data\""
   ]
  },
  {
   "cell_type": "code",
   "execution_count": 6,
   "id": "9374a04b-0e03-441b-b0cd-a8ea651bf954",
   "metadata": {},
   "outputs": [],
   "source": [
    "train_data = np.load(os.path.join(SAVE_FOLDER, SAVE_TRAIN_NAME), allow_pickle=True)\n",
    "valid_data = np.load(os.path.join(SAVE_FOLDER, SAVE_VALID_NAME), allow_pickle=True)\n",
    "test_data = np.load(os.path.join(SAVE_FOLDER, SAVE_TEST_NAME), allow_pickle=True)"
   ]
  },
  {
   "cell_type": "markdown",
   "id": "46140c2a-0fb5-47cd-93f5-608399543b22",
   "metadata": {},
   "source": [
    "# Shannon Index"
   ]
  },
  {
   "cell_type": "code",
   "execution_count": null,
   "id": "54c4a5a0-36ba-4a0f-938c-8d140320a036",
   "metadata": {},
   "outputs": [],
   "source": [
    "hm = Counter(community_dict.values())"
   ]
  },
  {
   "cell_type": "code",
   "execution_count": null,
   "id": "638adca2-3a61-49ab-b68d-36a896eb41ee",
   "metadata": {},
   "outputs": [
    {
     "data": {
      "text/plain": [
       "Counter({13: 746,\n",
       "         8: 486,\n",
       "         9: 217,\n",
       "         14: 198,\n",
       "         2: 151,\n",
       "         7: 222,\n",
       "         6: 191,\n",
       "         4: 108,\n",
       "         11: 342,\n",
       "         3: 57,\n",
       "         0: 286,\n",
       "         10: 71,\n",
       "         1: 67,\n",
       "         15: 25,\n",
       "         5: 94,\n",
       "         12: 50})"
      ]
     },
     "execution_count": 245,
     "metadata": {},
     "output_type": "execute_result"
    }
   ],
   "source": [
    "hm"
   ]
  },
  {
   "cell_type": "code",
   "execution_count": 265,
   "id": "93b71c6a-06a4-40c9-b2e8-5fa5f2e2ac74",
   "metadata": {
    "tags": []
   },
   "outputs": [],
   "source": [
    "def shannon_index(c1, community_dict):\n",
    "    richness = len(set(community_dict.values()))\n",
    "    comm_hm = Counter(c1)\n",
    "    ans = 0\n",
    "    for i in range(richness):\n",
    "        if i in comm_hm:\n",
    "            p = comm_hm[i] / len(c1)\n",
    "            ans += p * math.log(p)\n",
    "        else:\n",
    "            ans += 0\n",
    "    return -ans"
   ]
  },
  {
   "cell_type": "code",
   "execution_count": 266,
   "id": "fe76c574-bd76-4424-b123-42ff46804973",
   "metadata": {},
   "outputs": [],
   "source": [
    "nums = [1,2,3,4,5]"
   ]
  },
  {
   "cell_type": "code",
   "execution_count": 267,
   "id": "7b0705e2-f9fb-456d-8d5f-e09f1e4aadae",
   "metadata": {},
   "outputs": [
    {
     "data": {
      "text/plain": [
       "1.6094379124341005"
      ]
     },
     "execution_count": 267,
     "metadata": {},
     "output_type": "execute_result"
    }
   ],
   "source": [
    "shannon_index(nums, community_dict)"
   ]
  },
  {
   "cell_type": "code",
   "execution_count": 270,
   "id": "0ac61ea8-9dbe-40be-951b-3a0736baa801",
   "metadata": {},
   "outputs": [
    {
     "data": {
      "text/plain": [
       "1.3321790402101223"
      ]
     },
     "execution_count": 270,
     "metadata": {},
     "output_type": "execute_result"
    }
   ],
   "source": [
    "shannon_index([1,2,3,3,5], community_dict)"
   ]
  },
  {
   "cell_type": "code",
   "execution_count": 294,
   "id": "69ca690d-d69d-4523-a958-b2c3dea005c6",
   "metadata": {},
   "outputs": [],
   "source": [
    "def simpson_index(communities, community_dict):\n",
    "    \"\"\"Gives more weight to dominate topics\n",
    "    \n",
    "    The original Simpson index λ equals the probability that two entities taken \n",
    "    at random from the dataset of interest (with replacement) represent the same type.\"\"\"\n",
    "    richness = len(set(community_dict.values()))\n",
    "    hm_communities = Counter(communities)\n",
    "    ans = 0\n",
    "    for label in range(richness):\n",
    "        if label in hm_communities:\n",
    "            p = hm_communities[label] / len(communities)\n",
    "            ans += p*p\n",
    "        else:\n",
    "            ans += 0\n",
    "    return 1 - ans\n",
    "                   \n",
    "                   "
   ]
  },
  {
   "cell_type": "code",
   "execution_count": 299,
   "id": "46f27202-46fb-4e8d-b463-59ae5c3b5f6e",
   "metadata": {},
   "outputs": [
    {
     "data": {
      "text/plain": [
       "0.8333333333333333"
      ]
     },
     "execution_count": 299,
     "metadata": {},
     "output_type": "execute_result"
    }
   ],
   "source": [
    "simpson_index([1,2,3,4,5, 6], community_dict)"
   ]
  },
  {
   "cell_type": "code",
   "execution_count": 300,
   "id": "8fd1b2c4-ddd4-406f-852c-b99ef5e79e2a",
   "metadata": {},
   "outputs": [
    {
     "data": {
      "text/plain": [
       "0.5"
      ]
     },
     "execution_count": 300,
     "metadata": {},
     "output_type": "execute_result"
    }
   ],
   "source": [
    "simpson_index([5,5,5,5,1,2], community_dict)"
   ]
  },
  {
   "cell_type": "code",
   "execution_count": 301,
   "id": "095bc095-1d56-42b3-85ea-55d5928f0045",
   "metadata": {},
   "outputs": [
    {
     "data": {
      "text/plain": [
       "0.4444444444444444"
      ]
     },
     "execution_count": 301,
     "metadata": {},
     "output_type": "execute_result"
    }
   ],
   "source": [
    "simpson_index([5,5,3,3,3,3], community_dict)"
   ]
  },
  {
   "cell_type": "code",
   "execution_count": 303,
   "id": "c585b546-1f7f-4ba1-89d4-c15dc9a73591",
   "metadata": {},
   "outputs": [
    {
     "data": {
      "text/plain": [
       "0.31999999999999984"
      ]
     },
     "execution_count": 303,
     "metadata": {},
     "output_type": "execute_result"
    }
   ],
   "source": [
    "simpson_index([1,1,1,1,3], community_dict)"
   ]
  },
  {
   "cell_type": "code",
   "execution_count": 305,
   "id": "9506e408-f0c2-4ba3-af26-61c557a3f523",
   "metadata": {},
   "outputs": [
    {
     "data": {
      "text/plain": [
       "0.31999999999999984"
      ]
     },
     "execution_count": 305,
     "metadata": {},
     "output_type": "execute_result"
    }
   ],
   "source": [
    "simpson_index([1,1,1,1,5], community_dict)"
   ]
  },
  {
   "cell_type": "markdown",
   "id": "cac87f8b-02b1-4680-ad33-94ab15896c9d",
   "metadata": {},
   "source": [
    "# Loading model"
   ]
  },
  {
   "cell_type": "code",
   "execution_count": 7,
   "id": "454be3f5-0dbf-47fd-8911-0b1d9f4d1999",
   "metadata": {},
   "outputs": [
    {
     "name": "stdout",
     "output_type": "stream",
     "text": [
      "Device is cuda\n"
     ]
    }
   ],
   "source": [
    "# model = train_model()\n",
    "\n",
    "# Init\n",
    "device = torch.device(\"cuda\" if torch.cuda.is_available() else \"cpu\")\n",
    "print(\"Device is\", device)\n",
    "model = LSTM(input_size=128, output_size=3312, hidden_dim=64, n_layers=1, device=device) \n",
    "model.LSTM.flatten_parameters()\n",
    "optimizer = optim.SGD(model.parameters(), lr=5e-2, momentum=0.9)\n",
    "\n",
    "# Loading\n",
    "model, _, epoch, loss = load_tracin_checkpoint(model, optimizer, \"/raid/home/myang349/recsys-filterbubbles/checkpoints/lstm_checkpoint_epoch600.pt\")"
   ]
  },
  {
   "cell_type": "code",
   "execution_count": 8,
   "id": "b8a25bd0-080b-4e4e-8c5d-69dba80a8036",
   "metadata": {},
   "outputs": [
    {
     "data": {
      "text/plain": [
       "LSTM(\n",
       "  (item_emb): Embedding(3312, 128, padding_idx=0)\n",
       "  (LSTM): LSTM(128, 64, batch_first=True)\n",
       "  (fc): Linear(in_features=64, out_features=3312, bias=True)\n",
       ")"
      ]
     },
     "execution_count": 8,
     "metadata": {},
     "output_type": "execute_result"
    }
   ],
   "source": [
    "model.to(device)"
   ]
  },
  {
   "cell_type": "markdown",
   "id": "0b3259c5-9d7b-4b76-a59c-1b1a4f38fa7c",
   "metadata": {
    "tags": []
   },
   "source": [
    "## Verify the recall"
   ]
  },
  {
   "cell_type": "code",
   "execution_count": 9,
   "id": "117b69c6-644b-498b-bebf-9af26adc8cf1",
   "metadata": {},
   "outputs": [],
   "source": [
    "# Generate sequences and gt\n",
    "sequences = [pt[0] for pt in valid_data]\n",
    "# sequences = [list(reversed(pt[0]))[:10] for pt in valid_data]\n",
    "gt = [pt[1] for pt in valid_data]"
   ]
  },
  {
   "cell_type": "code",
   "execution_count": 10,
   "id": "ba2e1f5c-5ce6-4a9f-9bea-4cba9aef9020",
   "metadata": {},
   "outputs": [],
   "source": [
    "# Generate predictions\n",
    "predictions = get_topk_predictions(model, sequences, k=50)"
   ]
  },
  {
   "cell_type": "code",
   "execution_count": 11,
   "id": "a63b5581-62dd-42cb-af6b-0b62d6d713cc",
   "metadata": {},
   "outputs": [
    {
     "data": {
      "text/plain": [
       "0.5059769615301022"
      ]
     },
     "execution_count": 11,
     "metadata": {},
     "output_type": "execute_result"
    }
   ],
   "source": [
    "assert len(sequences) == len(predictions)\n",
    "hit = 0\n",
    "total = 0\n",
    "for i, val in enumerate(gt):\n",
    "    if val in predictions[i][:10]:\n",
    "        hit += 1\n",
    "    total += 1  \n",
    "hit/total"
   ]
  },
  {
   "cell_type": "markdown",
   "id": "716768a9-6d50-4edf-823a-a34334e77d35",
   "metadata": {},
   "source": [
    "## Computing community vectors"
   ]
  },
  {
   "cell_type": "code",
   "execution_count": 12,
   "id": "e01d78bd-f62f-46b2-bd95-d9302d8e4738",
   "metadata": {},
   "outputs": [],
   "source": [
    "community_dict = load_community_dict(os.path.join(SAVE_FOLDER, SAVE_COMMUNITY_NAME))"
   ]
  },
  {
   "cell_type": "markdown",
   "id": "2cdae767-e32c-4f65-b029-3e7377f4feb4",
   "metadata": {},
   "source": [
    "## Converting prev and predictions to be equal length and in community embedding"
   ]
  },
  {
   "cell_type": "code",
   "execution_count": 86,
   "id": "d17903d5-4315-47bd-98ee-a48675440f66",
   "metadata": {},
   "outputs": [],
   "source": [
    "LOOKBACK = 50\n",
    "THRESHOLD = 0"
   ]
  },
  {
   "cell_type": "code",
   "execution_count": 87,
   "id": "5fe63da5-b509-4118-a2a7-7e14acaa6cd3",
   "metadata": {
    "tags": []
   },
   "outputs": [
    {
     "name": "stdout",
     "output_type": "stream",
     "text": [
      "9202\n",
      "9202\n"
     ]
    }
   ],
   "source": [
    "# Alternate version where we just get the last lookback from prev\n",
    "prev_comm = []\n",
    "pred_comm = []\n",
    "\n",
    "for i in range(len(sequences)):\n",
    "    prev = list(reversed(sequences[i]))[:LOOKBACK]\n",
    "    n = len([x for x in prev if x != 0 and x in community_dict])\n",
    "    \n",
    "    if n < THRESHOLD:\n",
    "        continue\n",
    "        \n",
    "    pred = predictions[i][:n]\n",
    "    prev_comm.append(get_communities(prev, community_dict))\n",
    "    pred_comm.append(get_communities(pred, community_dict))\n",
    "    \n",
    "for i in range(len(prev_comm)):\n",
    "    assert len(prev_comm[i]) ==len(pred_comm[i])\n",
    "    assert THRESHOLD <= len(prev_comm[i]) <= LOOKBACK\n",
    "    \n",
    "print(len(sequences))\n",
    "print(len(prev_comm))"
   ]
  },
  {
   "cell_type": "markdown",
   "id": "f00b8669-7bfb-4341-8796-c6f95adbf89e",
   "metadata": {},
   "source": [
    "# Analysis"
   ]
  },
  {
   "cell_type": "code",
   "execution_count": 131,
   "id": "a436367f-c736-4aae-8097-4850647b73c1",
   "metadata": {},
   "outputs": [],
   "source": [
    "prev_num_comm = 0\n",
    "pred_num_comm = 0\n",
    "n = len(prev_comm)\n",
    "threshold = 0\n",
    "\n",
    "for i in range(n):\n",
    "    if len(prev_comm[i]) < threshold:\n",
    "        assert False\n",
    "    prev_num_comm += len(set(prev_comm[i]))\n",
    "    pred_num_comm += len(set(pred_comm[i]))"
   ]
  },
  {
   "cell_type": "code",
   "execution_count": 89,
   "id": "596dcc91-bcca-46d8-8e93-f527fc1261ac",
   "metadata": {},
   "outputs": [
    {
     "data": {
      "text/plain": [
       "2.457617909150185"
      ]
     },
     "execution_count": 89,
     "metadata": {},
     "output_type": "execute_result"
    }
   ],
   "source": [
    "prev_num_comm / n"
   ]
  },
  {
   "cell_type": "code",
   "execution_count": 90,
   "id": "4177ffc2-1943-4533-a9d3-60c0fc331434",
   "metadata": {},
   "outputs": [
    {
     "data": {
      "text/plain": [
       "3.613996957183221"
      ]
     },
     "execution_count": 90,
     "metadata": {},
     "output_type": "execute_result"
    }
   ],
   "source": [
    "pred_num_comm / n"
   ]
  },
  {
   "cell_type": "code",
   "execution_count": 91,
   "id": "8256f3e3-5064-4c05-9064-999f73a8b97b",
   "metadata": {},
   "outputs": [],
   "source": [
    "community_counts = Counter(community_dict.values())"
   ]
  },
  {
   "cell_type": "code",
   "execution_count": 153,
   "id": "85f943b6-2072-48ac-8d24-ece7ec09b8b8",
   "metadata": {},
   "outputs": [],
   "source": [
    "def plot_counts(counts: dict[str, int], title='bla', xlabel='something', ylabel='count') -> plt.Figure:\n",
    "    \"\"\"Plots a histogram from dict\"\"\"\n",
    "    fig = plt.figure()\n",
    "\n",
    "    # Creating the barplot\n",
    "    plt.bar(counts.keys(), counts.values())\n",
    "    plt.xlabel(xlabel)\n",
    "    plt.ylabel(ylabel)\n",
    "    plt.title(title)\n",
    "#     return fig"
   ]
  },
  {
   "cell_type": "code",
   "execution_count": 154,
   "id": "6c92800b-3546-4632-9851-a3738c89d680",
   "metadata": {},
   "outputs": [
    {
     "data": {
      "image/png": "[encoded data removed]",
      "text/plain": [
       "<Figure size 432x288 with 1 Axes>"
      ]
     },
     "metadata": {
      "needs_background": "light"
     },
     "output_type": "display_data"
    }
   ],
   "source": [
    "plot_counts(community_counts, 'distribution of communities')"
   ]
  },
  {
   "cell_type": "markdown",
   "id": "7dc8ad41-e20c-4780-b3bf-16cd546d5a5d",
   "metadata": {},
   "source": [
    "## Distributions"
   ]
  },
  {
   "cell_type": "code",
   "execution_count": 99,
   "id": "8a5ec01a-a4a9-40ba-b9e2-648fe6eb649a",
   "metadata": {},
   "outputs": [],
   "source": [
    "watch_history_length_counts = Counter(len(x) for x in prev_comm)\n",
    "counts = {k: watch_history_length_counts[k] for k in sorted(watch_history_length_counts)}\n",
    "assert sum(counts.values()) == n"
   ]
  },
  {
   "cell_type": "code",
   "execution_count": 155,
   "id": "24673ba7-d754-44bf-bfcf-5d20483b08b7",
   "metadata": {},
   "outputs": [
    {
     "data": {
      "image/png": "[encoded data removed]",
      "text/plain": [
       "<Figure size 432x288 with 1 Axes>"
      ]
     },
     "metadata": {
      "needs_background": "light"
     },
     "output_type": "display_data"
    }
   ],
   "source": [
    "plot_counts(counts, 'length of histories')"
   ]
  },
  {
   "cell_type": "code",
   "execution_count": 132,
   "id": "db80d559-1e39-484f-867e-3042c2aa8eb8",
   "metadata": {},
   "outputs": [],
   "source": [
    "prev_unique_comms_by_length = defaultdict(list)\n",
    "pred_unique_comms_by_length = defaultdict(list)"
   ]
  },
  {
   "cell_type": "code",
   "execution_count": 133,
   "id": "09b0cc9b-5099-4588-9ab5-3bb419aaa5cf",
   "metadata": {},
   "outputs": [],
   "source": [
    "# Making sure distribution is the same\n",
    "assert Counter(len(x) for x in pred_comm) == Counter(len(x) for x in prev_comm)"
   ]
  },
  {
   "cell_type": "markdown",
   "id": "acaff0d1-59e2-4669-bb50-b4d1a12c10db",
   "metadata": {},
   "source": [
    "### This experiment is doomed"
   ]
  },
  {
   "cell_type": "code",
   "execution_count": 137,
   "id": "243b8efb-76bc-4a47-ac81-1dad10115da6",
   "metadata": {},
   "outputs": [],
   "source": [
    "# for i in range(len(prev_comm)):\n",
    "#     c1, c2 = prev_comm[i], pred_comm[i]\n",
    "#     nc1 = len(prev_comm[i])\n",
    "    \n",
    "#     prev_unique_comms_by_length[nc1].append(len(set(c1)))\n",
    "#     pred_unique_comms_by_length[nc1].append(len(set(c2)))\n",
    "\n",
    "    \n",
    "# # Convert to floats\n",
    "# def to_float(hm):\n",
    "#     hm = deepcopy(hm)\n",
    "#     for k, v in hm.items():\n",
    "#         hm[k] = sum(v) / len(v)\n",
    "#     return hm\n",
    "    \n",
    "        \n",
    "# hm1 = to_float(prev_unique_comms_by_length)\n",
    "# hm2 = to_float(pred_unique_comms_by_length)"
   ]
  },
  {
   "cell_type": "markdown",
   "id": "47837c18-63a1-4c0a-883b-71463e076725",
   "metadata": {},
   "source": [
    "### Plotting the percentage of points that are less diverse, by length"
   ]
  },
  {
   "cell_type": "code",
   "execution_count": 184,
   "id": "d147696a-9c6e-422a-ba82-b600236e4dda",
   "metadata": {},
   "outputs": [
    {
     "data": {
      "text/plain": [
       "[<matplotlib.lines.Line2D at 0x7fcb70fd96a0>]"
      ]
     },
     "execution_count": 184,
     "metadata": {},
     "output_type": "execute_result"
    },
    {
     "data": {
      "image/png": "[encoded data removed]",
      "text/plain": [
       "<Figure size 432x288 with 1 Axes>"
      ]
     },
     "metadata": {
      "needs_background": "light"
     },
     "output_type": "display_data"
    }
   ],
   "source": [
    "# line plot\n",
    "fig = plt.figure()\n",
    "ax = plt.axes()\n",
    "ax.plot(sorted(hm.keys()), [hm[x] for x in sorted(hm.keys())])"
   ]
  },
  {
   "cell_type": "code",
   "execution_count": 271,
   "id": "bff87f01-fb29-4591-a4e8-7fefe8b2891b",
   "metadata": {},
   "outputs": [
    {
     "data": {
      "image/png": "[encoded data removed]",
      "text/plain": [
       "<Figure size 432x288 with 1 Axes>"
      ]
     },
     "metadata": {
      "needs_background": "light"
     },
     "output_type": "display_data"
    }
   ],
   "source": [
    "hm = defaultdict(int)\n",
    "tot = defaultdict(int)\n",
    "for i in range(len(prev_comm)):\n",
    "    c1, c2 = prev_comm[i], pred_comm[i]\n",
    "#     if len(set(c2)) < len(set(c1)):\n",
    "    if shannon_index(c2, community_dict) < shannon_index(c1, community_dict):\n",
    "        hm[len(c1)] += 1\n",
    "    tot[len(c1)] += 1\n",
    "    \n",
    "for k in hm:\n",
    "    hm[k] = hm[k] / tot[k]\n",
    "plot_counts(hm, 'percent less diverse')"
   ]
  },
  {
   "cell_type": "code",
   "execution_count": 273,
   "id": "6013b363-c1b4-40b8-8dbe-701e1a49785b",
   "metadata": {},
   "outputs": [
    {
     "data": {
      "image/png": "[encoded data removed]",
      "text/plain": [
       "<Figure size 432x288 with 1 Axes>"
      ]
     },
     "metadata": {
      "needs_background": "light"
     },
     "output_type": "display_data"
    }
   ],
   "source": [
    "hm = defaultdict(int)\n",
    "tot = defaultdict(int)\n",
    "for i in range(len(prev_comm)):\n",
    "    c1, c2 = prev_comm[i], pred_comm[i]\n",
    "#     if len(set(c1)) == len(set(c2)):\n",
    "    if shannon_index(c2, community_dict) == shannon_index(c1, community_dict):\n",
    "        hm[len(c1)] += 1\n",
    "    tot[len(c1)] += 1\n",
    "    \n",
    "for k in hm:\n",
    "    hm[k] = hm[k] / tot[k]\n",
    "plot_counts(hm, 'percent equally diverse')"
   ]
  },
  {
   "cell_type": "code",
   "execution_count": 274,
   "id": "f4acfb3f-ae04-43fc-a98b-c92d66cfc2c7",
   "metadata": {},
   "outputs": [
    {
     "data": {
      "image/png": "[encoded data removed]",
      "text/plain": [
       "<Figure size 432x288 with 1 Axes>"
      ]
     },
     "metadata": {
      "needs_background": "light"
     },
     "output_type": "display_data"
    }
   ],
   "source": [
    "hm = defaultdict(int)\n",
    "tot = defaultdict(int)\n",
    "for i in range(len(prev_comm)):\n",
    "    c1, c2 = prev_comm[i], pred_comm[i]\n",
    "#     if len(set(c2)) > len(set(c1)):\n",
    "    if shannon_index(c2, community_dict) > shannon_index(c1, community_dict):\n",
    "        hm[len(c1)] += 1\n",
    "    tot[len(c1)] += 1\n",
    "    \n",
    "for k in hm:\n",
    "    hm[k] = hm[k] / tot[k]\n",
    "plot_counts(hm, 'percent more diverse')"
   ]
  },
  {
   "cell_type": "markdown",
   "id": "19f0d082-9316-4720-9eb0-4461f90b374f",
   "metadata": {},
   "source": [
    "## Raw Diversity"
   ]
  },
  {
   "cell_type": "code",
   "execution_count": 275,
   "id": "f3fa94de-0e53-4b65-9c8f-279e72733834",
   "metadata": {},
   "outputs": [
    {
     "data": {
      "image/png": "[encoded data removed]",
      "text/plain": [
       "<Figure size 432x288 with 1 Axes>"
      ]
     },
     "metadata": {
      "needs_background": "light"
     },
     "output_type": "display_data"
    }
   ],
   "source": [
    "# prev_communities only\n",
    "hm1 = defaultdict(list)\n",
    "for i in range(len(prev_comm)):\n",
    "    c1, c2 = prev_comm[i], pred_comm[i]\n",
    "    hm1[len(c1)].append(len(set(c1)))\n",
    "\n",
    "    \n",
    "# Convert to percents\n",
    "for k in hm1:\n",
    "    hm1[k] = np.mean(hm1[k])\n",
    "plot_counts(hm1, 'raw community count', xlabel='length', ylabel='num communities')"
   ]
  },
  {
   "cell_type": "code",
   "execution_count": 276,
   "id": "d25a7e84-66bb-48de-b7fa-c4e0c9cc5e0c",
   "metadata": {},
   "outputs": [
    {
     "data": {
      "image/png": "[encoded data removed]",
      "text/plain": [
       "<Figure size 432x288 with 1 Axes>"
      ]
     },
     "metadata": {
      "needs_background": "light"
     },
     "output_type": "display_data"
    }
   ],
   "source": [
    "# pred_communities only\n",
    "hm1 = defaultdict(list)\n",
    "for i in range(len(pred_comm)):\n",
    "    c1, c2 = prev_comm[i], pred_comm[i]\n",
    "    hm1[len(c2)].append(len(set(c2)))\n",
    "    \n",
    "# Convert to percents\n",
    "for k in hm1:\n",
    "    hm1[k] = np.mean(hm1[k])\n",
    "plot_counts(hm1, 'raw community count of preds', xlabel='length', ylabel='avg # of communities')"
   ]
  },
  {
   "cell_type": "code",
   "execution_count": 279,
   "id": "e9c32bf4-aded-4725-aa32-4f5f636b10f4",
   "metadata": {},
   "outputs": [
    {
     "data": {
      "image/png": "[encoded data removed]",
      "text/plain": [
       "<Figure size 432x288 with 1 Axes>"
      ]
     },
     "metadata": {
      "needs_background": "light"
     },
     "output_type": "display_data"
    }
   ],
   "source": [
    "# full pred communities\n",
    "hm = defaultdict(list)\n",
    "for pred in predictions:\n",
    "    c2 = get_communities(pred, community_dict)\n",
    "    for i in range(len(c2)):\n",
    "        hm[i].append(len(set(c2[:i])))\n",
    "for k in hm:\n",
    "    hm[k] = np.mean(hm[k])\n",
    "plot_counts(hm, 'raw community count of preds', xlabel='length', ylabel='avg # of communities')"
   ]
  },
  {
   "cell_type": "code",
   "execution_count": 284,
   "id": "dbec3072-d5aa-4ad6-84ba-ebadacde777c",
   "metadata": {},
   "outputs": [
    {
     "data": {
      "text/plain": [
       "[<matplotlib.lines.Line2D at 0x7fcad145c070>]"
      ]
     },
     "execution_count": 284,
     "metadata": {},
     "output_type": "execute_result"
    },
    {
     "data": {
      "image/png": "[encoded data removed]",
      "text/plain": [
       "<Figure size 432x288 with 1 Axes>"
      ]
     },
     "metadata": {
      "needs_background": "light"
     },
     "output_type": "display_data"
    }
   ],
   "source": [
    "# last k for every train, topk for pred\n",
    "hm_prev = defaultdict(list)\n",
    "hm_pred = defaultdict(list)\n",
    "for i in range(len(prev_comm)):\n",
    "    c1 = prev_comm[i]\n",
    "    c2 = get_communities(predictions[i], community_dict)\n",
    "    for j in range(min(len(c1), 20)):\n",
    "#         hm_prev[j].append(len(set(c1[:j])))\n",
    "#         hm_pred[j].append(len(set(c2[:j])))\n",
    "        hm_prev[j].append(shannon_index(list(reversed(c1))[:j], community_dict))\n",
    "        hm_pred[j].append(shannon_index(c2[:j], community_dict))\n",
    "        \n",
    "for k in hm_prev:\n",
    "    hm_prev[k] = np.mean(hm_prev[k])\n",
    "for k in hm_pred:\n",
    "    hm_pred[k] = np.mean(hm_pred[k])\n",
    "\n",
    "fig = plt.figure()\n",
    "ax = plt.axes()\n",
    "ax.plot(sorted(hm_prev.keys()), [hm_prev[x] for x in sorted(hm_prev.keys())])\n",
    "ax.plot(sorted(hm_pred.keys()), [hm_pred[x] for x in sorted(hm_pred.keys())])"
   ]
  },
  {
   "cell_type": "markdown",
   "id": "f0b4a272-5a41-4787-b902-135d8651ab5a",
   "metadata": {
    "tags": []
   },
   "source": [
    "## Quantifying Diversity Based on Watch History vs Recommendation"
   ]
  },
  {
   "cell_type": "code",
   "execution_count": 123,
   "id": "76488ea6-e688-4a8c-8c32-1532da0f6f2c",
   "metadata": {},
   "outputs": [],
   "source": [
    "def f(c):\n",
    "    return len(set(c))\n",
    "    \n",
    "def f(c):\n",
    "    hm = Counter(c)\n",
    "    for val in hm.values():\n",
    "        if val >= 0.8 * len(c):\n",
    "            return 1\n",
    "    return 0"
   ]
  },
  {
   "cell_type": "code",
   "execution_count": 124,
   "id": "ba195002-6c81-4f8d-bf99-3a9e3e20a1c2",
   "metadata": {},
   "outputs": [],
   "source": [
    "prev_comm_stats = []\n",
    "pred_comm_stats = []\n",
    "n = len(prev_comm)\n",
    "threshold = 0\n",
    "\n",
    "for i in range(n):\n",
    "    c1, c2 = prev_comm[i], pred_comm[i]\n",
    "    if len(c1) < threshold:\n",
    "        continue\n",
    "    prev_comm_stats.append(f(c1))\n",
    "    pred_comm_stats.append(f(c2))"
   ]
  },
  {
   "cell_type": "code",
   "execution_count": 125,
   "id": "ee0ec6f6-4fe5-4af9-9aab-a2341f24147f",
   "metadata": {},
   "outputs": [
    {
     "data": {
      "text/plain": [
       "6063"
      ]
     },
     "execution_count": 125,
     "metadata": {},
     "output_type": "execute_result"
    }
   ],
   "source": [
    "sum(prev_comm_stats)"
   ]
  },
  {
   "cell_type": "code",
   "execution_count": 122,
   "id": "b47d13c5-f7fc-4196-843c-97e88df76874",
   "metadata": {},
   "outputs": [
    {
     "data": {
      "text/plain": [
       "8809"
      ]
     },
     "execution_count": 122,
     "metadata": {},
     "output_type": "execute_result"
    }
   ],
   "source": [
    "sum(pred_comm_stats)"
   ]
  },
  {
   "cell_type": "markdown",
   "id": "cb385a6d-d536-4354-966a-d6f85114b106",
   "metadata": {},
   "source": [
    "# Quantifying Filter-Bubble Based on Combination of Watch History + Recommendation"
   ]
  },
  {
   "cell_type": "markdown",
   "id": "145c223a-377f-4b89-bcbe-b5775bc2f375",
   "metadata": {},
   "source": [
    "## Quantify Functions"
   ]
  },
  {
   "cell_type": "code",
   "execution_count": 126,
   "id": "b4fa4886-2271-418a-8eeb-d699daaf0e35",
   "metadata": {},
   "outputs": [],
   "source": [
    "# Does one of the top 3 predictions belong in a community in the previous history?\n",
    "def f(prev, pred, threshold=3):\n",
    "    for comm in pred[:threshold]:\n",
    "        if comm in prev:\n",
    "            return 1\n",
    "    return 0\n",
    "\n",
    "# Does one of the top-threshold belong in the majority community in the previous history?\n",
    "def f(prev, pred, threshold=3):\n",
    "    hm = Counter(prev)\n",
    "    most_common = max(hm.keys(), key=hm.get)\n",
    "    \n",
    "    for comm in pred[:threshold]:\n",
    "        if comm == most_common:\n",
    "            return 1\n",
    "    return 0\n",
    "\n",
    "# What % of the top-threshold belongs in the most common community in the previous history\n",
    "def f(prev, pred, threshold=10):\n",
    "    hm = Counter(prev)\n",
    "    most_common = max(hm.keys(), key=hm.get)\n",
    "    \n",
    "    count = 0\n",
    "    for comm in pred[:threshold]:\n",
    "        if comm == most_common:\n",
    "            count += 1\n",
    "    return count / threshold"
   ]
  },
  {
   "cell_type": "code",
   "execution_count": 127,
   "id": "2f8fcec2-1045-4951-bc5b-8cc1c8c6241f",
   "metadata": {},
   "outputs": [],
   "source": [
    "# What percentage of the top-threshold predictions belong in a community in the previous history?\n",
    "def f(prev, pred, threshold=5):\n",
    "    count = 0\n",
    "    for comm in pred[:threshold]:\n",
    "        if comm in prev:\n",
    "            count += 1\n",
    "    return count / threshold\n",
    "\n",
    "# What percentage of the top-threshold predictions belong in the communities of the last threshold-items in the history?\n",
    "def f(prev, pred, threshold=10):\n",
    "    count = 0\n",
    "    for comm in pred[:threshold]:\n",
    "        if comm in list(reversed(prev))[:threshold]:\n",
    "            count += 1\n",
    "    return count / threshold"
   ]
  },
  {
   "cell_type": "markdown",
   "id": "85b1e4e1-230b-4632-9ba5-c2a670d8eef1",
   "metadata": {},
   "source": [
    "## Filter functions"
   ]
  },
  {
   "cell_type": "code",
   "execution_count": 128,
   "id": "8e3dc80b-5f03-4ec3-876a-ffda7451c0f4",
   "metadata": {},
   "outputs": [],
   "source": [
    "def filter(c):\n",
    "    hm = Counter(c)\n",
    "    for val in hm.values():\n",
    "        if val >= 0.9 * len(c):\n",
    "            return True\n",
    "    return False"
   ]
  },
  {
   "cell_type": "markdown",
   "id": "28dd2f05-e974-48c9-b2f9-a6cbb00b46bd",
   "metadata": {},
   "source": [
    "## This cell actually computes values"
   ]
  },
  {
   "cell_type": "code",
   "execution_count": 129,
   "id": "7c2787e0-2f59-45bb-97f4-d6f7065f2593",
   "metadata": {},
   "outputs": [],
   "source": [
    "counts = []\n",
    "n = len(prev_comm)\n",
    "threshold = 0\n",
    "\n",
    "for i in range(n):\n",
    "    c1, c2 = prev_comm[i], pred_comm[i]\n",
    "#     if not filter(c1):\n",
    "#         continue\n",
    "    if len(c1) < threshold:\n",
    "        continue\n",
    "    counts.append(f(c1,c2))"
   ]
  },
  {
   "cell_type": "code",
   "execution_count": 130,
   "id": "5ea3ceb7-fd13-460a-9428-2ded5ce4529b",
   "metadata": {},
   "outputs": [
    {
     "data": {
      "text/plain": [
       "0.9331102540834695"
      ]
     },
     "execution_count": 130,
     "metadata": {},
     "output_type": "execute_result"
    }
   ],
   "source": [
    "sum(counts)/len(counts)"
   ]
  },
  {
   "cell_type": "code",
   "execution_count": 131,
   "id": "143672b4-eb1e-4f44-8882-c6c3009eeb42",
   "metadata": {},
   "outputs": [
    {
     "data": {
      "text/plain": [
       "0.9331102540834695"
      ]
     },
     "execution_count": 131,
     "metadata": {},
     "output_type": "execute_result"
    }
   ],
   "source": [
    "sum(counts)/len(counts)"
   ]
  },
  {
   "cell_type": "code",
   "execution_count": null,
   "id": "0d8b4a96-f72e-4975-b984-d2d7049de15e",
   "metadata": {},
   "outputs": [],
   "source": [
    "1 -> 1\n",
    "12 -> 2\n",
    "122 -> 3\n",
    "1223 -> 4"
   ]
  },
  {
   "cell_type": "code",
   "execution_count": null,
   "id": "1b3710ae-8648-4141-8c1d-3a64bcc1ff1a",
   "metadata": {},
   "outputs": [],
   "source": [
    "valid_data"
   ]
  },
  {
   "cell_type": "markdown",
   "id": "dbf44a63-8445-422a-a3c1-0ac1ed5bc21c",
   "metadata": {},
   "source": [
    "## Extracting filter bubble pts + breaking the filter bubble pts"
   ]
  },
  {
   "cell_type": "code",
   "execution_count": 237,
   "id": "66dc833d-f332-4241-b6fe-829c1acf7eac",
   "metadata": {},
   "outputs": [],
   "source": [
    "DIVERSITY_FOLDER = os.path.join(SAVE_FOLDER, \"twitch_sequence\")"
   ]
  },
  {
   "cell_type": "code",
   "execution_count": null,
   "id": "43081b2f-031d-4437-8185-c6820b2f491c",
   "metadata": {},
   "outputs": [],
   "source": []
  }
 ],
 "metadata": {
  "kernelspec": {
   "display_name": "cse_v1",
   "language": "python",
   "name": "cse_v1"
  },
  "language_info": {
   "codemirror_mode": {
    "name": "ipython",
    "version": 3
   },
   "file_extension": ".py",
   "mimetype": "text/x-python",
   "name": "python",
   "nbconvert_exporter": "python",
   "pygments_lexer": "ipython3",
   "version": "3.9.7"
  }
 },
 "nbformat": 4,
 "nbformat_minor": 5
}

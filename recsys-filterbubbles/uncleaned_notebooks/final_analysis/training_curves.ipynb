{
 "cells": [
  {
   "cell_type": "code",
   "execution_count": 1,
   "id": "5ca72f21-418c-4e14-a8c0-fddeea426553",
   "metadata": {},
   "outputs": [],
   "source": [
    "%load_ext autoreload"
   ]
  },
  {
   "cell_type": "code",
   "execution_count": 2,
   "id": "89ddafb9-2f99-4b68-a28f-aa0fa6202836",
   "metadata": {},
   "outputs": [],
   "source": [
    "%autoreload 2"
   ]
  },
  {
   "cell_type": "code",
   "execution_count": 3,
   "id": "c64893b7-fbf2-48a0-b660-cd5e91f68e6c",
   "metadata": {},
   "outputs": [
    {
     "name": "stdout",
     "output_type": "stream",
     "text": [
      "/raid/home/myang349/recsys-filterbubbles\n"
     ]
    }
   ],
   "source": [
    "cd /raid/home/myang349/recsys-filterbubbles/"
   ]
  },
  {
   "cell_type": "markdown",
   "id": "3584ee21-fcb5-48e0-96fc-eed2b5a488ef",
   "metadata": {},
   "source": [
    "# Imports"
   ]
  },
  {
   "cell_type": "code",
   "execution_count": 54,
   "id": "a3d7e382-b493-4d05-b6dc-488dbd271d66",
   "metadata": {},
   "outputs": [],
   "source": [
    "import torch\n",
    "import torch.nn as nn\n",
    "import torch.nn.functional as F\n",
    "import os\n",
    "import torch.optim as optim\n",
    "from os import listdir\n",
    "from os.path import isfile, join\n",
    "from tracin.tracin import (\n",
    "    save_tracin_checkpoint,\n",
    "    load_tracin_checkpoint,\n",
    "    calculate_tracin_influence,\n",
    ")\n",
    "import pandas as pd\n",
    "from LSTM_clean.utils import filter_and_split_data, sequence_generator, load_community_dict, get_communities \n",
    "from LSTM_clean.model import LSTM \n",
    "from collections import Counter\n",
    "import numpy as np\n",
    "import pickle\n",
    "from collections import defaultdict\n",
    "import copy\n",
    "from torch.optim import SGD\n",
    "from lstm_wrapper import train_model, get_topk_predictions, train_model2\n",
    "from dataclasses import dataclass\n",
    "import matplotlib.pyplot as plt\n",
    "from LSTM_clean.utils import filter_and_split_data, sequence_generator, load_community_dict, get_communities, shannon_index, gini_simpson_index, num_unique"
   ]
  },
  {
   "cell_type": "code",
   "execution_count": 5,
   "id": "d32d45ff-73cd-4d4d-8a39-d6905377fee3",
   "metadata": {},
   "outputs": [],
   "source": [
    "# Data Location\n",
    "# Use SAVE_PREFIX to mark different datasets\n",
    "SAVE_PREFIX = \"104k\"\n",
    "SAVE_FOLDER = \"/raid/home/myang349/recsys-filterbubbles/data/twitch_sequence/\"\n",
    "SAVE_TRAIN_NAME = SAVE_PREFIX + \"train.data\"\n",
    "SAVE_VALID_NAME = SAVE_PREFIX + \"valid.data\"\n",
    "SAVE_TEST_NAME = SAVE_PREFIX + \"test.data\"\n",
    "SAVE_COMMUNITY_NAME = SAVE_PREFIX + \"lstm_idx_communities.data\""
   ]
  },
  {
   "cell_type": "code",
   "execution_count": 6,
   "id": "0fabce17-cd83-4acc-abf4-91deaf8566dd",
   "metadata": {},
   "outputs": [],
   "source": [
    "train_data = np.load(os.path.join(SAVE_FOLDER, SAVE_TRAIN_NAME), allow_pickle=True)\n",
    "valid_data = np.load(os.path.join(SAVE_FOLDER, SAVE_VALID_NAME), allow_pickle=True)\n",
    "test_data = np.load(os.path.join(SAVE_FOLDER, SAVE_TEST_NAME), allow_pickle=True)"
   ]
  },
  {
   "cell_type": "markdown",
   "id": "b6ddfaaf-aa59-4248-99d6-e948ba25e2d6",
   "metadata": {},
   "source": [
    "# Training"
   ]
  },
  {
   "cell_type": "code",
   "execution_count": 79,
   "id": "f8c1978a-be9b-46fd-91d1-95652f67ba51",
   "metadata": {},
   "outputs": [
    {
     "name": "stdout",
     "output_type": "stream",
     "text": [
      "Device is cuda\n",
      "Train: 74049, Valid: 9202\n",
      "Model is  LSTM(\n",
      "  (item_emb): Embedding(3312, 128, padding_idx=0)\n",
      "  (LSTM): LSTM(128, 64, batch_first=True)\n",
      "  (fc): Linear(in_features=64, out_features=3312, bias=True)\n",
      ")\n",
      "\n",
      "Training and testing\n",
      "train # = 74049, test # = 9202\n",
      "\n",
      "Epoch 0\tTrain Loss: 0.015869749091597503\tTest MRR: 0.003664021222477743\tTest Recall@10: 0.004672897196261682\tElapsed time: 1.4491989612579346\n",
      "saving checkpoint to /raid/home/myang349/recsys-filterbubbles/checkpoints_v2/lstm_checkpoint_epoch0.pt\n",
      "Epoch 5\tTrain Loss: 0.015591022855569115\tTest MRR: 0.05214090489107543\tTest Recall@10: 0.11627906976744186\tElapsed time: 7.714997291564941\n",
      "Epoch 10\tTrain Loss: 0.014873462633934702\tTest MRR: 0.0535475347059148\tTest Recall@10: 0.11432297326668116\tElapsed time: 7.318025827407837\n",
      "saving checkpoint to /raid/home/myang349/recsys-filterbubbles/checkpoints_v2/lstm_checkpoint_epoch10.pt\n",
      "Epoch 15\tTrain Loss: 0.014158804615733062\tTest MRR: 0.06394374788204953\tTest Recall@10: 0.1363833949141491\tElapsed time: 7.868066787719727\n",
      "Epoch 20\tTrain Loss: 0.013737262337709655\tTest MRR: 0.07964482697622462\tTest Recall@10: 0.1633340578135188\tElapsed time: 7.8693766593933105\n",
      "saving checkpoint to /raid/home/myang349/recsys-filterbubbles/checkpoints_v2/lstm_checkpoint_epoch20.pt\n",
      "Epoch 25\tTrain Loss: 0.013412647056448224\tTest MRR: 0.0919225380689608\tTest Recall@10: 0.18539447946098675\tElapsed time: 7.535797119140625\n",
      "Epoch 30\tTrain Loss: 0.013126714338829542\tTest MRR: 0.10860830715320062\tTest Recall@10: 0.21506194305585744\tElapsed time: 7.622001886367798\n",
      "saving checkpoint to /raid/home/myang349/recsys-filterbubbles/checkpoints_v2/lstm_checkpoint_epoch30.pt\n",
      "Epoch 35\tTrain Loss: 0.012852705441493088\tTest MRR: 0.12319873499114481\tTest Recall@10: 0.2349489241469246\tElapsed time: 7.519042015075684\n",
      "Epoch 40\tTrain Loss: 0.012601751594031905\tTest MRR: 0.13458585344655924\tTest Recall@10: 0.25820473810041294\tElapsed time: 7.979142189025879\n",
      "saving checkpoint to /raid/home/myang349/recsys-filterbubbles/checkpoints_v2/lstm_checkpoint_epoch40.pt\n",
      "Epoch 45\tTrain Loss: 0.012359984626270831\tTest MRR: 0.14692897860622345\tTest Recall@10: 0.2771136709410998\tElapsed time: 7.870359897613525\n",
      "Epoch 50\tTrain Loss: 0.012137491090735359\tTest MRR: 0.15538349946665844\tTest Recall@10: 0.29895674853292764\tElapsed time: 7.772304534912109\n",
      "saving checkpoint to /raid/home/myang349/recsys-filterbubbles/checkpoints_v2/lstm_checkpoint_epoch50.pt\n",
      "Epoch 55\tTrain Loss: 0.011934013086195409\tTest MRR: 0.1639059471730197\tTest Recall@10: 0.3108019995653119\tElapsed time: 8.192493915557861\n",
      "Epoch 60\tTrain Loss: 0.011748090505319858\tTest MRR: 0.17135071196458382\tTest Recall@10: 0.32373397087589656\tElapsed time: 7.648735046386719\n",
      "saving checkpoint to /raid/home/myang349/recsys-filterbubbles/checkpoints_v2/lstm_checkpoint_epoch60.pt\n",
      "Epoch 65\tTrain Loss: 0.011574882442208183\tTest MRR: 0.17595446072914522\tTest Recall@10: 0.3352532058248207\tElapsed time: 7.997740745544434\n",
      "Epoch 70\tTrain Loss: 0.01140359078164017\tTest MRR: 0.18120037031039954\tTest Recall@10: 0.34579439252336447\tElapsed time: 6.642685651779175\n",
      "saving checkpoint to /raid/home/myang349/recsys-filterbubbles/checkpoints_v2/lstm_checkpoint_epoch70.pt\n",
      "Epoch 75\tTrain Loss: 0.011249978768772245\tTest MRR: 0.18692610496211629\tTest Recall@10: 0.35394479460986744\tElapsed time: 6.96087121963501\n",
      "Epoch 80\tTrain Loss: 0.011114856155511521\tTest MRR: 0.1909537349139238\tTest Recall@10: 0.3619865246685503\tElapsed time: 8.009947299957275\n",
      "saving checkpoint to /raid/home/myang349/recsys-filterbubbles/checkpoints_v2/lstm_checkpoint_epoch80.pt\n",
      "Epoch 85\tTrain Loss: 0.010985541748410372\tTest MRR: 0.19698031423749257\tTest Recall@10: 0.37285372745055423\tElapsed time: 8.222851753234863\n",
      "Epoch 90\tTrain Loss: 0.010860676778256462\tTest MRR: 0.20145711148213685\tTest Recall@10: 0.37850467289719625\tElapsed time: 7.441868543624878\n",
      "saving checkpoint to /raid/home/myang349/recsys-filterbubbles/checkpoints_v2/lstm_checkpoint_epoch90.pt\n",
      "Epoch 95\tTrain Loss: 0.010756111790255568\tTest MRR: 0.20331636858352017\tTest Recall@10: 0.3825255379265377\tElapsed time: 7.241058826446533\n",
      "Epoch 100\tTrain Loss: 0.010633956888727895\tTest MRR: 0.20703477322353586\tTest Recall@10: 0.3903499239295805\tElapsed time: 7.694761037826538\n",
      "saving checkpoint to /raid/home/myang349/recsys-filterbubbles/checkpoints_v2/lstm_checkpoint_epoch100.pt\n",
      "Epoch 105\tTrain Loss: 0.01053722373967451\tTest MRR: 0.20933057690644685\tTest Recall@10: 0.3963268854596827\tElapsed time: 7.952876329421997\n",
      "Epoch 110\tTrain Loss: 0.010446029343120986\tTest MRR: 0.21286733644224695\tTest Recall@10: 0.40045642251684416\tElapsed time: 7.912562847137451\n",
      "saving checkpoint to /raid/home/myang349/recsys-filterbubbles/checkpoints_v2/lstm_checkpoint_epoch110.pt\n",
      "Epoch 115\tTrain Loss: 0.010345193767894051\tTest MRR: 0.2125131927711856\tTest Recall@10: 0.40436861551836556\tElapsed time: 7.437015533447266\n",
      "Epoch 120\tTrain Loss: 0.010255321184369103\tTest MRR: 0.21570748852879973\tTest Recall@10: 0.40871549663116713\tElapsed time: 7.879334449768066\n",
      "saving checkpoint to /raid/home/myang349/recsys-filterbubbles/checkpoints_v2/lstm_checkpoint_epoch120.pt\n",
      "Epoch 125\tTrain Loss: 0.01017767591388477\tTest MRR: 0.21823096744628526\tTest Recall@10: 0.41458378613344926\tElapsed time: 7.870371341705322\n",
      "Epoch 130\tTrain Loss: 0.010094760262727412\tTest MRR: 0.21930446103449633\tTest Recall@10: 0.41686589871767005\tElapsed time: 7.652969598770142\n",
      "saving checkpoint to /raid/home/myang349/recsys-filterbubbles/checkpoints_v2/lstm_checkpoint_epoch130.pt\n",
      "Epoch 135\tTrain Loss: 0.010017883866322264\tTest MRR: 0.2227327420497257\tTest Recall@10: 0.4207780917191915\tElapsed time: 7.883250951766968\n",
      "Epoch 140\tTrain Loss: 0.009955196416418751\tTest MRR: 0.2234052488268885\tTest Recall@10: 0.425016300804173\tElapsed time: 7.798645257949829\n",
      "saving checkpoint to /raid/home/myang349/recsys-filterbubbles/checkpoints_v2/lstm_checkpoint_epoch140.pt\n",
      "Epoch 145\tTrain Loss: 0.009876398575356006\tTest MRR: 0.22350003942594068\tTest Recall@10: 0.4290371658335145\tElapsed time: 7.30125617980957\n",
      "Epoch 150\tTrain Loss: 0.009805572322866116\tTest MRR: 0.22612595814732098\tTest Recall@10: 0.4286024777222343\tElapsed time: 7.175729990005493\n",
      "saving checkpoint to /raid/home/myang349/recsys-filterbubbles/checkpoints_v2/lstm_checkpoint_epoch150.pt\n",
      "Epoch 155\tTrain Loss: 0.009754835996645967\tTest MRR: 0.22782669368909697\tTest Recall@10: 0.43425342316887633\tElapsed time: 7.664840459823608\n",
      "Epoch 160\tTrain Loss: 0.009677754341771188\tTest MRR: 0.22998726491109064\tTest Recall@10: 0.4354488154748968\tElapsed time: 8.134220123291016\n",
      "saving checkpoint to /raid/home/myang349/recsys-filterbubbles/checkpoints_v2/lstm_checkpoint_epoch160.pt\n",
      "Epoch 165\tTrain Loss: 0.009638111863954557\tTest MRR: 0.22938565633575314\tTest Recall@10: 0.43838296022603784\tElapsed time: 7.926465749740601\n",
      "Epoch 170\tTrain Loss: 0.009556807171419603\tTest MRR: 0.2325775279852471\tTest Recall@10: 0.44512062595088026\tElapsed time: 7.421581745147705\n",
      "saving checkpoint to /raid/home/myang349/recsys-filterbubbles/checkpoints_v2/lstm_checkpoint_epoch170.pt\n",
      "Epoch 175\tTrain Loss: 0.009501188997076188\tTest MRR: 0.23330790907926785\tTest Recall@10: 0.44762008259074115\tElapsed time: 7.981276988983154\n",
      "Epoch 180\tTrain Loss: 0.009456643040918268\tTest MRR: 0.23482359551185725\tTest Recall@10: 0.45044555531406216\tElapsed time: 7.582900524139404\n",
      "saving checkpoint to /raid/home/myang349/recsys-filterbubbles/checkpoints_v2/lstm_checkpoint_epoch180.pt\n",
      "Epoch 185\tTrain Loss: 0.0093907736758284\tTest MRR: 0.2351989068216102\tTest Recall@10: 0.45229297978700284\tElapsed time: 8.169679880142212\n",
      "Epoch 190\tTrain Loss: 0.00934946462802799\tTest MRR: 0.23793299717597466\tTest Recall@10: 0.4553357965659639\tElapsed time: 7.99419093132019\n",
      "saving checkpoint to /raid/home/myang349/recsys-filterbubbles/checkpoints_v2/lstm_checkpoint_epoch190.pt\n",
      "Epoch 195\tTrain Loss: 0.009365678598245546\tTest MRR: 0.23729894787583516\tTest Recall@10: 0.4558791567050641\tElapsed time: 8.131097793579102\n",
      "Epoch 200\tTrain Loss: 0.009248016831985896\tTest MRR: 0.23809993246972314\tTest Recall@10: 0.45794392523364486\tElapsed time: 7.860565185546875\n",
      "saving checkpoint to /raid/home/myang349/recsys-filterbubbles/checkpoints_v2/lstm_checkpoint_epoch200.pt\n",
      "\n",
      "Finished!\n"
     ]
    }
   ],
   "source": [
    "model, train_losses, test_losses, test_mrr, test_hits = train_model()"
   ]
  },
  {
   "cell_type": "code",
   "execution_count": 8,
   "id": "d3a90f7f-5218-4c14-91ec-ace894750ac7",
   "metadata": {},
   "outputs": [
    {
     "data": {
      "text/plain": [
       "LSTM(\n",
       "  (item_emb): Embedding(3312, 128, padding_idx=0)\n",
       "  (LSTM): LSTM(128, 64, batch_first=True)\n",
       "  (fc): Linear(in_features=64, out_features=3312, bias=True)\n",
       ")"
      ]
     },
     "execution_count": 8,
     "metadata": {},
     "output_type": "execute_result"
    }
   ],
   "source": [
    "model"
   ]
  },
  {
   "cell_type": "code",
   "execution_count": 12,
   "id": "439b36bb-e13d-423a-995d-f0457fe6819f",
   "metadata": {},
   "outputs": [],
   "source": [
    "import seaborn as sns\n",
    "sns.set(style='darkgrid')"
   ]
  },
  {
   "cell_type": "code",
   "execution_count": 13,
   "id": "3d7e57f3-3b84-43a5-acf3-0a809be978f7",
   "metadata": {},
   "outputs": [],
   "source": [
    "x = [5*i for i in range(len(train_losses))]"
   ]
  },
  {
   "cell_type": "code",
   "execution_count": 26,
   "id": "7d8af531-ecc6-459b-8638-583c115996a3",
   "metadata": {},
   "outputs": [
    {
     "data": {
      "text/plain": [
       "[<matplotlib.lines.Line2D at 0x7f37a8b06ca0>]"
      ]
     },
     "execution_count": 26,
     "metadata": {},
     "output_type": "execute_result"
    },
    {
     "data": {
      "image/png": "[encoded data removed]",
      "text/plain": [
       "<Figure size 432x288 with 1 Axes>"
      ]
     },
     "metadata": {},
     "output_type": "display_data"
    }
   ],
   "source": [
    "plt.plot(x, [x/74049 for x in train_losses])\n",
    "plt.plot(x, test_losses)"
   ]
  },
  {
   "cell_type": "code",
   "execution_count": 29,
   "id": "ecbdc68d-f1ea-4e2e-9b58-ffccccf418a4",
   "metadata": {},
   "outputs": [
    {
     "data": {
      "text/plain": [
       "[<matplotlib.lines.Line2D at 0x7f37a8a54850>]"
      ]
     },
     "execution_count": 29,
     "metadata": {},
     "output_type": "execute_result"
    },
    {
     "data": {
      "image/png": "[encoded data removed]",
      "text/plain": [
       "<Figure size 432x288 with 1 Axes>"
      ]
     },
     "metadata": {},
     "output_type": "display_data"
    }
   ],
   "source": [
    "plt.plot(x, test_mrr)\n",
    "plt.plot(x, test_hits)"
   ]
  },
  {
   "cell_type": "code",
   "execution_count": 80,
   "id": "8f374f52-2d7d-470d-8228-4d69d4592942",
   "metadata": {},
   "outputs": [],
   "source": [
    "# Generate sequences and gt\n",
    "sequences = [pt[0] for pt in valid_data]\n",
    "# sequences = [list(reversed(pt[0]))[:10] for pt in valid_data]\n",
    "gt = [pt[1] for pt in valid_data]"
   ]
  },
  {
   "cell_type": "code",
   "execution_count": 81,
   "id": "04726b67-4f0b-487e-bc35-7a168e61f8df",
   "metadata": {},
   "outputs": [],
   "source": [
    "# Generate predictions\n",
    "predictions = get_topk_predictions(model, sequences, k=10)"
   ]
  },
  {
   "cell_type": "code",
   "execution_count": 82,
   "id": "da6be447-c1ab-45b1-a1e2-b84f0658fe97",
   "metadata": {},
   "outputs": [],
   "source": [
    "community_dict = load_community_dict(os.path.join(SAVE_FOLDER, SAVE_COMMUNITY_NAME))"
   ]
  },
  {
   "cell_type": "markdown",
   "id": "0100112c-0123-4854-842a-27e4639d4887",
   "metadata": {},
   "source": [
    "# Compute diversity of predictions"
   ]
  },
  {
   "cell_type": "code",
   "execution_count": 83,
   "id": "e638bfcf-e569-4877-8335-75d79efa0594",
   "metadata": {},
   "outputs": [],
   "source": [
    "def avg_diversity(predictions, community_dict):\n",
    "    count = []\n",
    "    for seq in predictions:\n",
    "        c = get_communities(seq, community_dict)\n",
    "        count.append(diversity_metric(c, community_dict))\n",
    "    return count\n",
    "                  "
   ]
  },
  {
   "cell_type": "code",
   "execution_count": 84,
   "id": "2848658b-4867-49ac-803d-ccea6e11c5d4",
   "metadata": {},
   "outputs": [
    {
     "name": "stdout",
     "output_type": "stream",
     "text": [
      "2.014344707672245\n"
     ]
    },
    {
     "data": {
      "text/plain": [
       "0.2382069115409702"
      ]
     },
     "execution_count": 84,
     "metadata": {},
     "output_type": "execute_result"
    }
   ],
   "source": [
    "diversity_metric = num_unique\n",
    "count = avg_diversity(predictions, community_dict)\n",
    "print(sum(count)/len(count))\n",
    "diversity_metric = gini_simpson_index\n",
    "count = avg_diversity(predictions, community_dict)\n",
    "sum(count)/len(count)"
   ]
  },
  {
   "cell_type": "code",
   "execution_count": 53,
   "id": "3e0573b0-1dc9-40d4-b980-e3410dabe5d9",
   "metadata": {},
   "outputs": [
    {
     "data": {
      "text/plain": [
       "0.2199413171049796"
      ]
     },
     "execution_count": 53,
     "metadata": {},
     "output_type": "execute_result"
    }
   ],
   "source": [
    "diversity_metric = gini_simpson_index\n",
    "count = avg_diversity(predictions, community_dict)\n",
    "sum(count)/len(count)"
   ]
  },
  {
   "cell_type": "markdown",
   "id": "e30e8ba1-a5f8-44a3-8015-0365b83e556a",
   "metadata": {},
   "source": [
    "# Model v2"
   ]
  },
  {
   "cell_type": "code",
   "execution_count": 56,
   "id": "3c75164a-b954-44ed-b258-070abab9f285",
   "metadata": {},
   "outputs": [],
   "source": [
    "# GETS COMMUNITIES FOR YOU\n",
    "def is_filter_bubble(sequence, label):\n",
    "    communities = get_communities(sequence, community_dict)\n",
    "    hm_communities = Counter(communities)\n",
    "    for k, v in hm_communities.items():\n",
    "        if v >= 0.95 * len(communities) and k == community_dict[label]:\n",
    "            return 1.0\n",
    "    return 0.0\n",
    "\n",
    "# # Checks label is not the majority comm\n",
    "# def is_breaking_bubble(sequence, label):\n",
    "#     communities = get_communities(sequence, community_dict)\n",
    "#     hm_communities = Counter(communities)\n",
    "#     for k, v in hm_communities.items():\n",
    "#         if v >= 0.7 * len(communities) and k != community_dict[label]:\n",
    "#             return 1.0\n",
    "#     return 0.0\n",
    "\n",
    "# Checks label is a brand new community\n",
    "def is_breaking_bubble(sequence, label):\n",
    "    communities = get_communities(sequence, community_dict)\n",
    "    hm_communities = Counter(communities)\n",
    "    for k, v in hm_communities.items():\n",
    "        if v >= 0.9 * len(communities) and community_dict[label] not in communities:\n",
    "            return 1.0\n",
    "    return 0.0"
   ]
  },
  {
   "cell_type": "code",
   "execution_count": 59,
   "id": "3e5d35c2-16f6-442b-98e6-48d614888fd2",
   "metadata": {},
   "outputs": [],
   "source": [
    "sequences = [pt[0] for pt in train_data]\n",
    "gt = [pt[1] for pt in train_data]"
   ]
  },
  {
   "cell_type": "code",
   "execution_count": 66,
   "id": "5ec46f9b-0f84-497c-b464-714184b07c41",
   "metadata": {},
   "outputs": [],
   "source": [
    "new_data = []\n",
    "for i, sequence in enumerate(sequences):\n",
    "    if len(get_communities(sequence, community_dict)) > 10 and is_filter_bubble(sequence, gt[i]):\n",
    "        continue\n",
    "    else:\n",
    "        new_data.append([sequence, gt[i]])"
   ]
  },
  {
   "cell_type": "code",
   "execution_count": 67,
   "id": "8a40a5d7-5e8f-4e76-a889-1e627d13b298",
   "metadata": {},
   "outputs": [
    {
     "data": {
      "text/plain": [
       "59659"
      ]
     },
     "execution_count": 67,
     "metadata": {},
     "output_type": "execute_result"
    }
   ],
   "source": [
    "len(new_data)"
   ]
  },
  {
   "cell_type": "code",
   "execution_count": 68,
   "id": "b5955e09-c2cd-4231-89ca-d95231e93f8f",
   "metadata": {},
   "outputs": [
    {
     "data": {
      "text/plain": [
       "74049"
      ]
     },
     "execution_count": 68,
     "metadata": {},
     "output_type": "execute_result"
    }
   ],
   "source": [
    "len(sequences)"
   ]
  },
  {
   "cell_type": "code",
   "execution_count": 71,
   "id": "1ca5fbf1-5177-406a-a71a-40af11a8c5dd",
   "metadata": {},
   "outputs": [
    {
     "name": "stdout",
     "output_type": "stream",
     "text": [
      "Device is cuda\n",
      "Train: 59659, Valid: 9202\n",
      "Model is  LSTM(\n",
      "  (item_emb): Embedding(3312, 128, padding_idx=0)\n",
      "  (LSTM): LSTM(128, 64, batch_first=True)\n",
      "  (fc): Linear(in_features=64, out_features=3312, bias=True)\n",
      ")\n",
      "\n",
      "Training and testing\n",
      "train # = 59659, test # = 9202\n",
      "\n",
      "Epoch 0\tTrain Loss: 0.01590600985087104\tTest MRR: 0.0034400227797218197\tTest Recall@10: 0.004672897196261682\tElapsed time: 1.626948356628418\n",
      "saving checkpoint to /raid/home/myang349/recsys-filterbubbles/checkpoints_v2/lstm_checkpoint_epoch0.pt\n",
      "Epoch 5\tTrain Loss: 0.015671550341377724\tTest MRR: 0.046694075306456986\tTest Recall@10: 0.09258856770267333\tElapsed time: 6.191162109375\n",
      "Epoch 10\tTrain Loss: 0.015125337321059027\tTest MRR: 0.05344300524853355\tTest Recall@10: 0.1163877417952619\tElapsed time: 6.24795389175415\n",
      "saving checkpoint to /raid/home/myang349/recsys-filterbubbles/checkpoints_v2/lstm_checkpoint_epoch10.pt\n",
      "Epoch 15\tTrain Loss: 0.01438516157304336\tTest MRR: 0.05579174516986182\tTest Recall@10: 0.11204086068246033\tElapsed time: 6.253165245056152\n",
      "Epoch 20\tTrain Loss: 0.01398450048364778\tTest MRR: 0.06460509705138708\tTest Recall@10: 0.13616605085850902\tElapsed time: 6.233279705047607\n",
      "saving checkpoint to /raid/home/myang349/recsys-filterbubbles/checkpoints_v2/lstm_checkpoint_epoch20.pt\n",
      "Epoch 25\tTrain Loss: 0.013719184073467667\tTest MRR: 0.07482809404529311\tTest Recall@10: 0.15681373614431646\tElapsed time: 6.1759912967681885\n",
      "Epoch 30\tTrain Loss: 0.013509446099680515\tTest MRR: 0.08428665621471294\tTest Recall@10: 0.17072375570528145\tElapsed time: 6.0428502559661865\n",
      "saving checkpoint to /raid/home/myang349/recsys-filterbubbles/checkpoints_v2/lstm_checkpoint_epoch30.pt\n",
      "Epoch 35\tTrain Loss: 0.013309064913164484\tTest MRR: 0.0960062151614841\tTest Recall@10: 0.18854596826776787\tElapsed time: 6.176924467086792\n",
      "Epoch 40\tTrain Loss: 0.013115603192584422\tTest MRR: 0.10683018870829972\tTest Recall@10: 0.20397739621821342\tElapsed time: 6.612388849258423\n",
      "saving checkpoint to /raid/home/myang349/recsys-filterbubbles/checkpoints_v2/lstm_checkpoint_epoch40.pt\n",
      "Epoch 45\tTrain Loss: 0.012923038501976406\tTest MRR: 0.11773422196744761\tTest Recall@10: 0.22342968919800044\tElapsed time: 6.209643602371216\n",
      "Epoch 50\tTrain Loss: 0.012737752485731653\tTest MRR: 0.1254258939092133\tTest Recall@10: 0.24016518148228647\tElapsed time: 6.339465141296387\n",
      "saving checkpoint to /raid/home/myang349/recsys-filterbubbles/checkpoints_v2/lstm_checkpoint_epoch50.pt\n",
      "Epoch 55\tTrain Loss: 0.012566233738710108\tTest MRR: 0.13363903364489207\tTest Recall@10: 0.25733536187785266\tElapsed time: 5.569514751434326\n",
      "Epoch 60\tTrain Loss: 0.012400285232022948\tTest MRR: 0.140943973669406\tTest Recall@10: 0.2739621821343186\tElapsed time: 5.609400033950806\n",
      "saving checkpoint to /raid/home/myang349/recsys-filterbubbles/checkpoints_v2/lstm_checkpoint_epoch60.pt\n",
      "Epoch 65\tTrain Loss: 0.01223844997434332\tTest MRR: 0.14874274691253606\tTest Recall@10: 0.2871114975005434\tElapsed time: 6.297240257263184\n",
      "Epoch 70\tTrain Loss: 0.012086861780065886\tTest MRR: 0.1551026459851444\tTest Recall@10: 0.2947185394479461\tElapsed time: 6.309744119644165\n",
      "saving checkpoint to /raid/home/myang349/recsys-filterbubbles/checkpoints_v2/lstm_checkpoint_epoch70.pt\n",
      "Epoch 75\tTrain Loss: 0.011978055739487094\tTest MRR: 0.15863899960939334\tTest Recall@10: 0.3013475331449685\tElapsed time: 6.343003273010254\n",
      "Epoch 80\tTrain Loss: 0.011829948322986266\tTest MRR: 0.1641580756502116\tTest Recall@10: 0.31373614431645297\tElapsed time: 6.2442450523376465\n",
      "saving checkpoint to /raid/home/myang349/recsys-filterbubbles/checkpoints_v2/lstm_checkpoint_epoch80.pt\n",
      "Epoch 85\tTrain Loss: 0.011699069443277182\tTest MRR: 0.1693686578337334\tTest Recall@10: 0.3218865464029559\tElapsed time: 6.389354705810547\n",
      "Epoch 90\tTrain Loss: 0.011587823036140265\tTest MRR: 0.17366522325800812\tTest Recall@10: 0.32514670723755706\tElapsed time: 6.0461649894714355\n",
      "saving checkpoint to /raid/home/myang349/recsys-filterbubbles/checkpoints_v2/lstm_checkpoint_epoch90.pt\n",
      "Epoch 95\tTrain Loss: 0.01146763588632895\tTest MRR: 0.1779909807529637\tTest Recall@10: 0.3330797652684199\tElapsed time: 7.040822744369507\n",
      "Epoch 100\tTrain Loss: 0.01136430694702079\tTest MRR: 0.18128451236097504\tTest Recall@10: 0.33797000652032166\tElapsed time: 6.149381637573242\n",
      "saving checkpoint to /raid/home/myang349/recsys-filterbubbles/checkpoints_v2/lstm_checkpoint_epoch100.pt\n",
      "Epoch 105\tTrain Loss: 0.011258946660158071\tTest MRR: 0.18360416639828106\tTest Recall@10: 0.3460117365790046\tElapsed time: 6.313271999359131\n",
      "Epoch 110\tTrain Loss: 0.011164598530985614\tTest MRR: 0.1872250054911265\tTest Recall@10: 0.3509019778309063\tElapsed time: 6.946430206298828\n",
      "saving checkpoint to /raid/home/myang349/recsys-filterbubbles/checkpoints_v2/lstm_checkpoint_epoch110.pt\n",
      "Epoch 115\tTrain Loss: 0.01107137225076618\tTest MRR: 0.1888967718515956\tTest Recall@10: 0.3562269071940882\tElapsed time: 6.5871360301971436\n",
      "Epoch 120\tTrain Loss: 0.010982159902124752\tTest MRR: 0.19216041596004557\tTest Recall@10: 0.36426863725277114\tElapsed time: 6.412765979766846\n",
      "saving checkpoint to /raid/home/myang349/recsys-filterbubbles/checkpoints_v2/lstm_checkpoint_epoch120.pt\n",
      "Epoch 125\tTrain Loss: 0.011081215354551002\tTest MRR: 0.18990651773203887\tTest Recall@10: 0.35926972397304935\tElapsed time: 6.62601900100708\n",
      "Epoch 130\tTrain Loss: 0.010885975455544025\tTest MRR: 0.19397130108247496\tTest Recall@10: 0.36883286242121277\tElapsed time: 6.545247793197632\n",
      "saving checkpoint to /raid/home/myang349/recsys-filterbubbles/checkpoints_v2/lstm_checkpoint_epoch130.pt\n",
      "Epoch 135\tTrain Loss: 0.010787074206495191\tTest MRR: 0.19686459273536325\tTest Recall@10: 0.3740491197565747\tElapsed time: 6.4498679637908936\n",
      "Epoch 140\tTrain Loss: 0.010699551996566676\tTest MRR: 0.19953915668797007\tTest Recall@10: 0.37839600086937625\tElapsed time: 6.289981126785278\n",
      "saving checkpoint to /raid/home/myang349/recsys-filterbubbles/checkpoints_v2/lstm_checkpoint_epoch140.pt\n",
      "Epoch 145\tTrain Loss: 0.01061752565479472\tTest MRR: 0.20142185961424916\tTest Recall@10: 0.38480765051075855\tElapsed time: 5.808493375778198\n",
      "Epoch 150\tTrain Loss: 0.010540181627083173\tTest MRR: 0.2031820805047004\tTest Recall@10: 0.3886111714844599\tElapsed time: 5.807862043380737\n",
      "saving checkpoint to /raid/home/myang349/recsys-filterbubbles/checkpoints_v2/lstm_checkpoint_epoch150.pt\n",
      "Epoch 155\tTrain Loss: 0.010475087228575302\tTest MRR: 0.20527366917593143\tTest Recall@10: 0.39480547707020214\tElapsed time: 6.166233062744141\n",
      "Epoch 160\tTrain Loss: 0.010412091108585679\tTest MRR: 0.20765602868654393\tTest Recall@10: 0.39871767007172354\tElapsed time: 6.281393527984619\n",
      "saving checkpoint to /raid/home/myang349/recsys-filterbubbles/checkpoints_v2/lstm_checkpoint_epoch160.pt\n",
      "Epoch 165\tTrain Loss: 0.01033611375456429\tTest MRR: 0.2086975593309264\tTest Recall@10: 0.4016518148228646\tElapsed time: 6.603879690170288\n",
      "Epoch 170\tTrain Loss: 0.010303139001209487\tTest MRR: 0.20825834491552314\tTest Recall@10: 0.40425994349054556\tElapsed time: 6.395870923995972\n",
      "saving checkpoint to /raid/home/myang349/recsys-filterbubbles/checkpoints_v2/lstm_checkpoint_epoch170.pt\n",
      "Epoch 175\tTrain Loss: 0.010215964434255142\tTest MRR: 0.2102699059060945\tTest Recall@10: 0.4049119756574658\tElapsed time: 6.628951072692871\n",
      "Epoch 180\tTrain Loss: 0.010161238116789928\tTest MRR: 0.21250725835369497\tTest Recall@10: 0.4074114322973267\tElapsed time: 6.202943563461304\n",
      "saving checkpoint to /raid/home/myang349/recsys-filterbubbles/checkpoints_v2/lstm_checkpoint_epoch180.pt\n",
      "Epoch 185\tTrain Loss: 0.010094729447996631\tTest MRR: 0.2134764425046082\tTest Recall@10: 0.4105629211041078\tElapsed time: 6.421979904174805\n",
      "Epoch 190\tTrain Loss: 0.010040137975562276\tTest MRR: 0.21525648367187486\tTest Recall@10: 0.4098022169093675\tElapsed time: 6.402262210845947\n",
      "saving checkpoint to /raid/home/myang349/recsys-filterbubbles/checkpoints_v2/lstm_checkpoint_epoch190.pt\n",
      "Epoch 195\tTrain Loss: 0.009992533107838071\tTest MRR: 0.21491848721167298\tTest Recall@10: 0.4152358183003695\tElapsed time: 6.63405966758728\n",
      "Epoch 200\tTrain Loss: 0.00993685246065413\tTest MRR: 0.21753499933449227\tTest Recall@10: 0.41599652249510977\tElapsed time: 6.119992017745972\n",
      "saving checkpoint to /raid/home/myang349/recsys-filterbubbles/checkpoints_v2/lstm_checkpoint_epoch200.pt\n",
      "\n",
      "Finished!\n"
     ]
    }
   ],
   "source": [
    "model2 = train_model2(new_data, valid_data)"
   ]
  },
  {
   "cell_type": "code",
   "execution_count": 78,
   "id": "af12e490-d045-4a0a-a092-c8fb88fcc810",
   "metadata": {},
   "outputs": [
    {
     "name": "stdout",
     "output_type": "stream",
     "text": [
      "2.341447511410563\n"
     ]
    },
    {
     "data": {
      "text/plain": [
       "0.31489024125189735"
      ]
     },
     "execution_count": 78,
     "metadata": {},
     "output_type": "execute_result"
    }
   ],
   "source": [
    "sequences = [pt[0] for pt in valid_data]\n",
    "gt = [pt[1] for pt in valid_data]\n",
    "\n",
    "# Generate predictions\n",
    "predictions = get_topk_predictions(model2[0], sequences, k=10)\n",
    "community_dict = load_community_dict(os.path.join(SAVE_FOLDER, SAVE_COMMUNITY_NAME))\n",
    "def avg_diversity(predictions, community_dict):\n",
    "    count = []\n",
    "    for seq in predictions:\n",
    "        c = get_communities(seq, community_dict)\n",
    "        count.append(diversity_metric(c, community_dict))\n",
    "    return count\n",
    "\n",
    "diversity_metric = num_unique\n",
    "count = avg_diversity(predictions, community_dict)\n",
    "print(sum(count)/len(count))\n",
    "diversity_metric = gini_simpson_index\n",
    "count = avg_diversity(predictions, community_dict)\n",
    "sum(count)/len(count)"
   ]
  },
  {
   "cell_type": "markdown",
   "id": "b56ba5c5-1a60-4d7d-af15-db00fe25dfe7",
   "metadata": {},
   "source": [
    "# Add breaking bubble points"
   ]
  },
  {
   "cell_type": "code",
   "execution_count": null,
   "id": "911a1136-90b4-4683-a2a5-4afc2f05ae79",
   "metadata": {},
   "outputs": [],
   "source": []
  }
 ],
 "metadata": {
  "kernelspec": {
   "display_name": "Python 3 (ipykernel)",
   "language": "python",
   "name": "python3"
  },
  "language_info": {
   "codemirror_mode": {
    "name": "ipython",
    "version": 3
   },
   "file_extension": ".py",
   "mimetype": "text/x-python",
   "name": "python",
   "nbconvert_exporter": "python",
   "pygments_lexer": "ipython3",
   "version": "3.9.7"
  }
 },
 "nbformat": 4,
 "nbformat_minor": 5
}

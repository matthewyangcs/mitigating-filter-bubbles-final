{
 "cells": [
  {
   "cell_type": "code",
   "execution_count": 10,
   "id": "24dd97c7-60e9-48f7-a28c-4f8f236aa6d2",
   "metadata": {},
   "outputs": [
    {
     "name": "stdout",
     "output_type": "stream",
     "text": [
      "The autoreload extension is already loaded. To reload it, use:\n",
      "  %reload_ext autoreload\n"
     ]
    }
   ],
   "source": [
    "%load_ext autoreload"
   ]
  },
  {
   "cell_type": "code",
   "execution_count": 11,
   "id": "06555c04-6883-4237-9f28-0cd13f4b1022",
   "metadata": {},
   "outputs": [],
   "source": [
    "%autoreload 2"
   ]
  },
  {
   "cell_type": "code",
   "execution_count": 12,
   "id": "7a026ae5-657c-477b-83e2-cc02565861c2",
   "metadata": {},
   "outputs": [
    {
     "name": "stdout",
     "output_type": "stream",
     "text": [
      "/raid/home/myang349/recsys-filterbubbles\n"
     ]
    }
   ],
   "source": [
    "cd /raid/home/myang349/recsys-filterbubbles/"
   ]
  },
  {
   "cell_type": "markdown",
   "id": "7d254c7a-e088-42a7-8921-224b7102b7a7",
   "metadata": {},
   "source": [
    "# Imports"
   ]
  },
  {
   "cell_type": "code",
   "execution_count": 13,
   "id": "d90ae3b3-5451-48a5-a3ef-1afe482c4feb",
   "metadata": {},
   "outputs": [],
   "source": [
    "import torch\n",
    "import torch.nn as nn\n",
    "import torch.nn.functional as F\n",
    "import os\n",
    "import torch.optim as optim\n",
    "from os import listdir\n",
    "from os.path import isfile, join\n",
    "from tracin.tracin import (\n",
    "    save_tracin_checkpoint,\n",
    "    load_tracin_checkpoint,\n",
    "    calculate_tracin_influence,\n",
    ")\n",
    "import pandas as pd\n",
    "from LSTM_clean.utils import filter_and_split_data, sequence_generator, printl, reindex_and_save_communities\n",
    "from LSTM_clean.model import LSTM \n",
    "from collections import Counter\n",
    "import numpy as np\n",
    "import pickle\n",
    "from collections import defaultdict\n",
    "import copy\n",
    "from torch.optim import SGD"
   ]
  },
  {
   "cell_type": "code",
   "execution_count": 14,
   "id": "f0852160-047e-493c-bd14-b3158bcdcab6",
   "metadata": {},
   "outputs": [
    {
     "name": "stdout",
     "output_type": "stream",
     "text": [
      "Device is  cuda\n"
     ]
    }
   ],
   "source": [
    "# Setting Cuda\n",
    "device = torch.device(\"cuda\" if torch.cuda.is_available() else \"cpu\")\n",
    "print(\"Device is \", device)"
   ]
  },
  {
   "cell_type": "markdown",
   "id": "60139e17-a049-4f53-bb56-48be61d15ff0",
   "metadata": {},
   "source": [
    "# Config"
   ]
  },
  {
   "cell_type": "code",
   "execution_count": 18,
   "id": "cc0d1f4a-4974-4b2e-afd9-9be5181517d0",
   "metadata": {},
   "outputs": [],
   "source": [
    "DATA_FOLDER = \"/raid/home/myang349/recsys-filterbubbles/data/\"\n",
    "DATA_NAME = \"twitch100k.csv\"\n",
    "SAVE_FOLDER = \"/raid/home/myang349/recsys-filterbubbles/data/twitch_sequence/\"\n",
    "SAVE_TRAIN_NAME = \"train.data\"\n",
    "SAVE_VALID_NAME = \"valid.data\"\n",
    "SAVE_TEST_NAME = \"test.data\""
   ]
  },
  {
   "cell_type": "markdown",
   "id": "4819eade-ffdc-453f-b01c-786a97e37545",
   "metadata": {},
   "source": [
    "# Load in data"
   ]
  },
  {
   "cell_type": "code",
   "execution_count": 27,
   "id": "6a49bd8c-3cb3-4531-b2ba-9ebfcc150521",
   "metadata": {},
   "outputs": [],
   "source": [
    "# The format is:\n",
    "# N x 2 x (sequence, \n",
    "train_data = np.load(os.path.join(SAVE_FOLDER, SAVE_TRAIN_NAME), allow_pickle=True)\n",
    "valid_data = np.load(os.path.join(SAVE_FOLDER, SAVE_VALID_NAME), allow_pickle=True)\n",
    "test_data = np.load(os.path.join(SAVE_FOLDER, SAVE_TEST_NAME), allow_pickle=True)"
   ]
  },
  {
   "cell_type": "markdown",
   "id": "a72c8995-f186-42a7-a9f5-d8e6399b903d",
   "metadata": {},
   "source": [
    "# Concat all data together"
   ]
  },
  {
   "cell_type": "code",
   "execution_count": 17,
   "id": "804139aa-c9a8-49f6-8114-51fe5434f90f",
   "metadata": {},
   "outputs": [],
   "source": [
    "# NOTE: very important that this is NOT a copy\n",
    "# We use all-data to change the indices for all the data\n",
    "all_data = train_data + valid_data + test_data\n",
    "assert len(all_data) == len(train_data) + len(valid_data) + len(test_data)"
   ]
  },
  {
   "cell_type": "code",
   "execution_count": 10,
   "id": "323e1c03-1878-42d3-9358-a8b9dd1266c1",
   "metadata": {},
   "outputs": [
    {
     "data": {
      "text/plain": [
       "90609"
      ]
     },
     "execution_count": 10,
     "metadata": {},
     "output_type": "execute_result"
    }
   ],
   "source": [
    "len(all_data)"
   ]
  },
  {
   "cell_type": "markdown",
   "id": "625a98cc-5359-4ff5-ae84-555a70ed79ef",
   "metadata": {},
   "source": [
    "# Obtaining Mapping Info"
   ]
  },
  {
   "cell_type": "code",
   "execution_count": 12,
   "id": "5cca1213-7573-4a58-ada3-c62385999737",
   "metadata": {},
   "outputs": [
    {
     "name": "stdout",
     "output_type": "stream",
     "text": [
      "5367\n",
      "5400\n"
     ]
    }
   ],
   "source": [
    "# Union all items from sequence\n",
    "unique_items = set()\n",
    "for data_point in all_data:\n",
    "    sequence = data_point[0]\n",
    "    unique_items |= set(sequence)\n",
    "print(len(unique_items))\n",
    "\n",
    "# Union all GT items\n",
    "unique_items = unique_items.union(data_point[1] for data_point in all_data)\n",
    "print(len(unique_items))"
   ]
  },
  {
   "cell_type": "code",
   "execution_count": 13,
   "id": "4a6331d9-9c20-48cd-beb6-d1af49c65379",
   "metadata": {},
   "outputs": [
    {
     "data": {
      "text/plain": [
       "True"
      ]
     },
     "execution_count": 13,
     "metadata": {},
     "output_type": "execute_result"
    }
   ],
   "source": [
    "0 in unique_items"
   ]
  },
  {
   "cell_type": "code",
   "execution_count": 18,
   "id": "4a381727-fb2e-4994-8828-d7d57e33c847",
   "metadata": {},
   "outputs": [],
   "source": [
    "# Remove gaps from items\n",
    "item_to_lstm_idx = {item:idx for (idx,item) in enumerate(unique_items)}\n",
    "lstm_idx_to_item = {v: k for k,v in item_to_lstm_idx.items()}\n",
    "\n",
    "# Apply mapping\n",
    "for data_point in all_data:\n",
    "    sequence = data_point[0]\n",
    "    gt = data_point[1]\n",
    "    for i, item in enumerate(sequence):\n",
    "        sequence[i] = item_to_lstm_idx[item]\n",
    "    data_point[1] = item_to_lstm_idx[gt]\n"
   ]
  },
  {
   "cell_type": "code",
   "execution_count": null,
   "id": "cc7a2361-f58f-40da-ae70-45aceb332ab9",
   "metadata": {},
   "outputs": [],
   "source": [
    "lstm_idx_to_item"
   ]
  },
  {
   "cell_type": "code",
   "execution_count": 15,
   "id": "ea96d0a9-b6a0-46bf-932c-9433a9f44ee9",
   "metadata": {},
   "outputs": [
    {
     "ename": "AssertionError",
     "evalue": "",
     "output_type": "error",
     "traceback": [
      "\u001b[0;31m---------------------------------------------------------------------------\u001b[0m",
      "\u001b[0;31mAssertionError\u001b[0m                            Traceback (most recent call last)",
      "\u001b[0;32m/tmp/ipykernel_466391/827675620.py\u001b[0m in \u001b[0;36m<module>\u001b[0;34m\u001b[0m\n\u001b[1;32m      1\u001b[0m \u001b[0;32mfor\u001b[0m \u001b[0mi\u001b[0m \u001b[0;32min\u001b[0m \u001b[0mrange\u001b[0m\u001b[0;34m(\u001b[0m\u001b[0mlen\u001b[0m\u001b[0;34m(\u001b[0m\u001b[0mtrain_data\u001b[0m\u001b[0;34m)\u001b[0m\u001b[0;34m)\u001b[0m\u001b[0;34m:\u001b[0m\u001b[0;34m\u001b[0m\u001b[0;34m\u001b[0m\u001b[0m\n\u001b[0;32m----> 2\u001b[0;31m     \u001b[0;32massert\u001b[0m \u001b[0mtrain_data\u001b[0m\u001b[0;34m[\u001b[0m\u001b[0mi\u001b[0m\u001b[0;34m]\u001b[0m \u001b[0;34m==\u001b[0m \u001b[0mall_data\u001b[0m\u001b[0;34m[\u001b[0m\u001b[0mi\u001b[0m\u001b[0;34m]\u001b[0m\u001b[0;34m\u001b[0m\u001b[0;34m\u001b[0m\u001b[0m\n\u001b[0m",
      "\u001b[0;31mAssertionError\u001b[0m: "
     ]
    }
   ],
   "source": [
    "for i in range(len(train_data)):\n",
    "    assert train_data[i] == all_data[i]"
   ]
  },
  {
   "cell_type": "code",
   "execution_count": 14,
   "id": "ed237a02-75c0-4da7-a03a-d27999498112",
   "metadata": {},
   "outputs": [
    {
     "name": "stdout",
     "output_type": "stream",
     "text": [
      "Train: 71465, Test: 10231\n",
      "Model is  LSTM(\n",
      "  (item_emb): Embedding(5400, 128, padding_idx=0)\n",
      "  (LSTM): LSTM(128, 64, batch_first=True)\n",
      "  (fc): Linear(in_features=64, out_features=5400, bias=True)\n",
      ")\n",
      "Training and testing\n",
      "train # = 71465\ttest # = 8913\n",
      "Epoch 0\tTrain Loss: 0.016842331176023323\tTest MRR: 0.0023048682363635974\tTest Recall@10: 0.0030292830696735107\tElapsed time: 0.9526858329772949\n",
      "saving checkpoint to /raid/home/myang349/recsys-filterbubbles/checkpoints/lstm_checkpoint_epoch0.pt\n",
      "Epoch 5\tTrain Loss: 0.016645551046447393\tTest MRR: 0.03504889731721179\tTest Recall@10: 0.06181981375518905\tElapsed time: 3.5559792518615723\n",
      "Epoch 10\tTrain Loss: 0.01615201595372853\tTest MRR: 0.04133498552676434\tTest Recall@10: 0.08392236059688096\tElapsed time: 3.790386199951172\n",
      "saving checkpoint to /raid/home/myang349/recsys-filterbubbles/checkpoints/lstm_checkpoint_epoch10.pt\n",
      "Epoch 15\tTrain Loss: 0.01543171929402339\tTest MRR: 0.043249023377024985\tTest Recall@10: 0.08268820823516213\tElapsed time: 3.55177903175354\n",
      "Epoch 20\tTrain Loss: 0.01496068299513104\tTest MRR: 0.05087511470489605\tTest Recall@10: 0.10187366767642769\tElapsed time: 3.407604455947876\n",
      "saving checkpoint to /raid/home/myang349/recsys-filterbubbles/checkpoints/lstm_checkpoint_epoch20.pt\n",
      "Epoch 25\tTrain Loss: 0.014657529046134652\tTest MRR: 0.059585241780223085\tTest Recall@10: 0.12453719286435544\tElapsed time: 3.361968994140625\n",
      "Epoch 30\tTrain Loss: 0.014428069207363546\tTest MRR: 0.06969435115180167\tTest Recall@10: 0.14046897789745316\tElapsed time: 3.3551409244537354\n",
      "saving checkpoint to /raid/home/myang349/recsys-filterbubbles/checkpoints/lstm_checkpoint_epoch30.pt\n",
      "Epoch 35\tTrain Loss: 0.01421656633602733\tTest MRR: 0.08176748769601011\tTest Recall@10: 0.15561539324582072\tElapsed time: 3.294982433319092\n",
      "Epoch 40\tTrain Loss: 0.013996346609208612\tTest MRR: 0.09172946680620993\tTest Recall@10: 0.17457646134859195\tElapsed time: 3.2993714809417725\n",
      "saving checkpoint to /raid/home/myang349/recsys-filterbubbles/checkpoints/lstm_checkpoint_epoch40.pt\n",
      "Epoch 45\tTrain Loss: 0.01376200633061355\tTest MRR: 0.10278142601164574\tTest Recall@10: 0.1979131605520027\tElapsed time: 3.2783331871032715\n",
      "Epoch 50\tTrain Loss: 0.01364164315719247\tTest MRR: 0.10804474080594276\tTest Recall@10: 0.21283518456187592\tElapsed time: 3.328045129776001\n",
      "saving checkpoint to /raid/home/myang349/recsys-filterbubbles/checkpoints/lstm_checkpoint_epoch50.pt\n",
      "Epoch 55\tTrain Loss: 0.013364923261390108\tTest MRR: 0.11893259129460153\tTest Recall@10: 0.236396275103781\tElapsed time: 3.2961747646331787\n",
      "Epoch 60\tTrain Loss: 0.013280415813542393\tTest MRR: 0.12165848423116361\tTest Recall@10: 0.24155727588915069\tElapsed time: 3.2351391315460205\n",
      "saving checkpoint to /raid/home/myang349/recsys-filterbubbles/checkpoints/lstm_checkpoint_epoch60.pt\n",
      "Epoch 65\tTrain Loss: 0.013183236534146943\tTest MRR: 0.1249514370600177\tTest Recall@10: 0.24671827667452037\tElapsed time: 3.2527894973754883\n",
      "Epoch 70\tTrain Loss: 0.013008401336008028\tTest MRR: 0.13315248185363068\tTest Recall@10: 0.2618646920228879\tElapsed time: 3.2898659706115723\n",
      "saving checkpoint to /raid/home/myang349/recsys-filterbubbles/checkpoints/lstm_checkpoint_epoch70.pt\n",
      "Epoch 75\tTrain Loss: 0.012792462454560772\tTest MRR: 0.13874524901138308\tTest Recall@10: 0.27577695500953664\tElapsed time: 3.3000619411468506\n",
      "Epoch 80\tTrain Loss: 0.012595058216438462\tTest MRR: 0.14728662887841995\tTest Recall@10: 0.2893526309884438\tElapsed time: 3.2843451499938965\n",
      "saving checkpoint to /raid/home/myang349/recsys-filterbubbles/checkpoints/lstm_checkpoint_epoch80.pt\n",
      "Epoch 85\tTrain Loss: 0.012634081251015901\tTest MRR: 0.143537488650006\tTest Recall@10: 0.2837428475260855\tElapsed time: 3.31069278717041\n",
      "Epoch 90\tTrain Loss: 0.012533401226902295\tTest MRR: 0.14611004456580598\tTest Recall@10: 0.28755750028048915\tElapsed time: 3.28123140335083\n",
      "saving checkpoint to /raid/home/myang349/recsys-filterbubbles/checkpoints/lstm_checkpoint_epoch90.pt\n",
      "Epoch 95\tTrain Loss: 0.01234494930366885\tTest MRR: 0.15462703333724334\tTest Recall@10: 0.2993380455514417\tElapsed time: 3.245715618133545\n",
      "Finished\n"
     ]
    }
   ],
   "source": [
    "print(\"Train: {}, Test: {}\".format(len(train_data),len(test_data)))\n",
    "\n",
    "## We don't have to add 1 to output size because we don't exclude 0 from len(unique_items)\n",
    "model = LSTM(input_size=128, output_size=len(unique_items), hidden_dim=64, n_layers=1, device=device).to(device)\n",
    "model.LSTM.flatten_parameters()\n",
    "print(\"Model is \", model)\n",
    "print(\"Training and testing\")\n",
    "original_prediction = model.traintest(train=train_data,test=valid_data, epochs=100)\n",
    "print(\"Finished\")"
   ]
  },
  {
   "cell_type": "markdown",
   "id": "3f0964ff-11b1-4b92-979c-b28b55c16ffd",
   "metadata": {},
   "source": [
    "# Exploring Data"
   ]
  },
  {
   "cell_type": "markdown",
   "id": "49a4f5ec-f452-409a-93ce-c45083e15208",
   "metadata": {},
   "source": [
    "## Loading Model from checkpoint"
   ]
  },
  {
   "cell_type": "code",
   "execution_count": 19,
   "id": "e64ade1c-806e-484c-9a54-5afd018d7034",
   "metadata": {},
   "outputs": [],
   "source": [
    "model = LSTM(input_size=128, output_size=len(unique_items), hidden_dim=64, n_layers=1, device=device).to(device)\n",
    "optimizer = SGD(model.parameters(), lr=5e-2, momentum=0.9)"
   ]
  },
  {
   "cell_type": "code",
   "execution_count": 21,
   "id": "85b4966e-436d-49fd-a29c-1cea3a8d721d",
   "metadata": {},
   "outputs": [
    {
     "data": {
      "text/plain": [
       "(LSTM(\n",
       "   (item_emb): Embedding(5400, 128, padding_idx=0)\n",
       "   (LSTM): LSTM(128, 64, batch_first=True)\n",
       "   (fc): Linear(in_features=64, out_features=5400, bias=True)\n",
       " ),\n",
       " SGD (\n",
       " Parameter Group 0\n",
       "     dampening: 0\n",
       "     lr: 0.005\n",
       "     momentum: 0.9\n",
       "     nesterov: False\n",
       "     weight_decay: 0\n",
       " ),\n",
       " 90,\n",
       " 895.6995186805725)"
      ]
     },
     "execution_count": 21,
     "metadata": {},
     "output_type": "execute_result"
    }
   ],
   "source": [
    "load_tracin_checkpoint(model, optimizer, '/raid/home/myang349/recsys-filterbubbles/checkpoints/lstm_checkpoint_epoch90.pt')"
   ]
  },
  {
   "cell_type": "markdown",
   "id": "a2b1b484-d70b-4aad-ad4b-9cf18f6a8a57",
   "metadata": {},
   "source": [
    "## Converting data to embedding space"
   ]
  },
  {
   "cell_type": "code",
   "execution_count": 20,
   "id": "ec9e8b0d-1cc7-4df9-9c31-dc275384fd30",
   "metadata": {},
   "outputs": [],
   "source": [
    "train = copy.deepcopy(train_data)\n",
    "for i in range(len(train)):\n",
    "    train[i][0] = model.item_emb(torch.LongTensor(train[i][0]).to(model.device))"
   ]
  },
  {
   "cell_type": "markdown",
   "id": "e6bd2cb3-1abe-4c72-8e24-2307d8d4447c",
   "metadata": {},
   "source": [
    "## Examining single vectors to manually inspect filter bubble"
   ]
  },
  {
   "cell_type": "code",
   "execution_count": 22,
   "id": "30ebb9e1-6891-410c-8410-ddaaa95b5399",
   "metadata": {},
   "outputs": [],
   "source": [
    "i = 300"
   ]
  },
  {
   "cell_type": "code",
   "execution_count": 23,
   "id": "e65e5ef8-062d-4860-8e79-73969aa3fac6",
   "metadata": {},
   "outputs": [
    {
     "name": "stdout",
     "output_type": "stream",
     "text": [
      "[166, 167, 168, 169, 16, 170, 171, 113, 16, 16] 172\n"
     ]
    }
   ],
   "source": [
    "## dataset format\n",
    "full_hist = train_data[i][0]\n",
    "hist = [x for x in full_hist if x != 0]\n",
    "gt = train_data[i][1]\n",
    "print(hist, gt)"
   ]
  },
  {
   "cell_type": "code",
   "execution_count": 24,
   "id": "6bf25cfb-c01a-47a0-8144-efec42f31a39",
   "metadata": {},
   "outputs": [
    {
     "name": "stdout",
     "output_type": "stream",
     "text": [
      "[667, 667, 667, 667, 667]\n"
     ]
    }
   ],
   "source": [
    "# Rig data here if not using i (above)\n",
    "hist = [667, 667, 667, 667, 667]\n",
    "print(hist)"
   ]
  },
  {
   "cell_type": "code",
   "execution_count": 25,
   "id": "2bd6c90b-20b8-4a60-9f69-e8143d862403",
   "metadata": {},
   "outputs": [],
   "source": [
    "## model format\n",
    "# curr = torch.stack((train[i][0],), dim=0).detach()\n",
    "# convert single vector to embed\n",
    "curr = model.item_emb(torch.LongTensor(hist).to(model.device))\n",
    "curr = torch.stack((curr,), dim=0).detach()"
   ]
  },
  {
   "cell_type": "markdown",
   "id": "2e1abce5-a683-4af7-97bf-eab463a518e7",
   "metadata": {},
   "source": [
    "## Item Extraction"
   ]
  },
  {
   "cell_type": "code",
   "execution_count": 9,
   "id": "3c183876-eb7e-4f10-81db-7e1bf84f9102",
   "metadata": {},
   "outputs": [
    {
     "ename": "NameError",
     "evalue": "name 'model' is not defined",
     "output_type": "error",
     "traceback": [
      "\u001b[0;31m---------------------------------------------------------------------------\u001b[0m",
      "\u001b[0;31mNameError\u001b[0m                                 Traceback (most recent call last)",
      "\u001b[0;32m/tmp/ipykernel_468811/3281358949.py\u001b[0m in \u001b[0;36m<module>\u001b[0;34m\u001b[0m\n\u001b[0;32m----> 1\u001b[0;31m \u001b[0moutput\u001b[0m\u001b[0;34m,\u001b[0m \u001b[0mhidden\u001b[0m \u001b[0;34m=\u001b[0m \u001b[0mmodel\u001b[0m\u001b[0;34m.\u001b[0m\u001b[0mforward\u001b[0m\u001b[0;34m(\u001b[0m\u001b[0mcurr\u001b[0m\u001b[0;34m)\u001b[0m\u001b[0;34m\u001b[0m\u001b[0;34m\u001b[0m\u001b[0m\n\u001b[0m\u001b[1;32m      2\u001b[0m \u001b[0moutput1\u001b[0m \u001b[0;34m=\u001b[0m \u001b[0moutput\u001b[0m\u001b[0;34m.\u001b[0m\u001b[0mview\u001b[0m\u001b[0;34m(\u001b[0m\u001b[0;34m-\u001b[0m\u001b[0;36m1\u001b[0m\u001b[0;34m,\u001b[0m \u001b[0mmodel\u001b[0m\u001b[0;34m.\u001b[0m\u001b[0mnum_items\u001b[0m\u001b[0;34m)\u001b[0m\u001b[0;34m\u001b[0m\u001b[0;34m\u001b[0m\u001b[0m\n\u001b[1;32m      3\u001b[0m \u001b[0mprob\u001b[0m \u001b[0;34m=\u001b[0m \u001b[0mnn\u001b[0m\u001b[0;34m.\u001b[0m\u001b[0mfunctional\u001b[0m\u001b[0;34m.\u001b[0m\u001b[0msoftmax\u001b[0m\u001b[0;34m(\u001b[0m\u001b[0moutput1\u001b[0m\u001b[0;34m,\u001b[0m \u001b[0mdim\u001b[0m\u001b[0;34m=\u001b[0m\u001b[0;36m1\u001b[0m\u001b[0;34m)\u001b[0m\u001b[0;34m.\u001b[0m\u001b[0mdata\u001b[0m\u001b[0;34m.\u001b[0m\u001b[0mcpu\u001b[0m\u001b[0;34m(\u001b[0m\u001b[0;34m)\u001b[0m\u001b[0;34m\u001b[0m\u001b[0;34m\u001b[0m\u001b[0m\n\u001b[1;32m      4\u001b[0m \u001b[0mk\u001b[0m \u001b[0;34m=\u001b[0m \u001b[0;36m50\u001b[0m\u001b[0;34m\u001b[0m\u001b[0;34m\u001b[0m\u001b[0m\n",
      "\u001b[0;31mNameError\u001b[0m: name 'model' is not defined"
     ]
    }
   ],
   "source": [
    "output, hidden = model.forward(curr)\n",
    "output1 = output.view(-1, model.num_items)\n",
    "prob = nn.functional.softmax(output1, dim=1).data.cpu()\n",
    "k = 50"
   ]
  },
  {
   "cell_type": "markdown",
   "id": "7f8d749f-818e-4d24-84f7-2aa2437ddcf3",
   "metadata": {
    "tags": []
   },
   "source": [
    "## Item Extraction Method 1: Torch"
   ]
  },
  {
   "cell_type": "code",
   "execution_count": 27,
   "id": "9cefa9da-3024-4902-9def-653fb0386222",
   "metadata": {},
   "outputs": [
    {
     "name": "stdout",
     "output_type": "stream",
     "text": [
      "[44, 113, 212, 41, 1954, 69, 667, 537, 3220, 460, 16, 1741, 54, 43, 427, 147, 39, 353, 888, 647, 463, 553, 428, 277, 431, 573, 502, 66, 341, 629, 169, 140, 569, 165, 462, 709, 536, 1412, 559, 46, 2234, 21, 148, 64, 149, 928, 215, 457, 1000, 2359]\n"
     ]
    }
   ],
   "source": [
    "topk = torch.topk(output, k).indices.tolist()\n",
    "print(topk[0])"
   ]
  },
  {
   "cell_type": "markdown",
   "id": "e7e51fd9-cdb6-4ac4-9441-36c2da2373ec",
   "metadata": {},
   "source": [
    "## Item Extraction Method 2: Numpy"
   ]
  },
  {
   "cell_type": "code",
   "execution_count": 49,
   "id": "984569c8-5c2b-46bc-ac95-84ad3efa9d93",
   "metadata": {},
   "outputs": [
    {
     "name": "stdout",
     "output_type": "stream",
     "text": [
      "[44, 113, 212, 41, 1954, 667, 3220, 537, 69, 147, 16, 277, 502, 39, 341, 353, 66, 647, 140, 43, 888, 629, 460, 169, 1741, 70, 410, 54, 553, 64, 71, 215, 431, 2234, 428, 819, 46, 536, 928, 463, 380, 573, 925, 427, 1958, 1371, 72, 307, 2359, 711]\n"
     ]
    }
   ],
   "source": [
    "print(list(np.argsort(-prob.numpy())[0][:k]))"
   ]
  },
  {
   "cell_type": "code",
   "execution_count": 68,
   "id": "e7f59891-f353-4410-a0f7-ddf013699ab7",
   "metadata": {},
   "outputs": [
    {
     "data": {
      "text/plain": [
       "array([[4.6355075e-05, 1.1106163e-02, 5.6383542e-05, ..., 2.5252750e-05,\n",
       "        2.7392212e-05, 3.5436089e-05]], dtype=float32)"
      ]
     },
     "execution_count": 68,
     "metadata": {},
     "output_type": "execute_result"
    }
   ],
   "source": [
    "np_prob"
   ]
  },
  {
   "cell_type": "markdown",
   "id": "faa72402-98bf-4cbf-b561-ef63efa10a35",
   "metadata": {},
   "source": [
    "# TESTING THE MAPPING"
   ]
  },
  {
   "cell_type": "code",
   "execution_count": 28,
   "id": "e65e0402-a752-4301-8031-e8c17b1c957d",
   "metadata": {},
   "outputs": [
    {
     "name": "stdout",
     "output_type": "stream",
     "text": [
      "Starting data retrieval for: twitch100k.csv\n"
     ]
    }
   ],
   "source": [
    "print(f\"Starting data retrieval for: {DATA_NAME}\")\n",
    "df = pd.read_csv(os.path.join(DATA_FOLDER, DATA_NAME))"
   ]
  },
  {
   "cell_type": "code",
   "execution_count": 29,
   "id": "3d283bc5-b1dc-4e84-bf13-9ede07f506cc",
   "metadata": {},
   "outputs": [],
   "source": [
    "lstm_idx_to_community, unique_items, item_to_lstm_idx, lstm_idx_to_df_item = reindex_and_save_communities(train_data, valid_data, test_data, df)"
   ]
  },
  {
   "cell_type": "code",
   "execution_count": 30,
   "id": "8073ee95-513d-42e8-91f6-af0e9b1ebf38",
   "metadata": {},
   "outputs": [],
   "source": [
    "all_data = train_data + valid_data + test_data"
   ]
  },
  {
   "cell_type": "code",
   "execution_count": 31,
   "id": "ec046117-5500-40e0-9a21-c22c1985e361",
   "metadata": {},
   "outputs": [
    {
     "data": {
      "text/plain": [
       "5672"
      ]
     },
     "execution_count": 31,
     "metadata": {},
     "output_type": "execute_result"
    }
   ],
   "source": [
    "max(unique_items)"
   ]
  },
  {
   "cell_type": "code",
   "execution_count": 32,
   "id": "5e0cb317-7277-4661-b2c1-f9c5896c6a00",
   "metadata": {},
   "outputs": [
    {
     "data": {
      "text/plain": [
       "5671"
      ]
     },
     "execution_count": 32,
     "metadata": {},
     "output_type": "execute_result"
    }
   ],
   "source": [
    "max(lstm_idx_to_df_item.values())"
   ]
  },
  {
   "cell_type": "code",
   "execution_count": 33,
   "id": "b6431731-cefa-459e-847f-b2c093a98ee4",
   "metadata": {},
   "outputs": [
    {
     "data": {
      "text/plain": [
       "5672"
      ]
     },
     "execution_count": 33,
     "metadata": {},
     "output_type": "execute_result"
    }
   ],
   "source": [
    "max(item_to_lstm_idx.keys())"
   ]
  },
  {
   "cell_type": "code",
   "execution_count": 35,
   "id": "c216f0ca-4d21-4aaf-a195-7875fbf7d4df",
   "metadata": {},
   "outputs": [],
   "source": [
    "# Max of df is 1 lower than our dataset\n",
    "assert max(lstm_idx_to_df_item.values()) == max(item_to_lstm_idx.keys()) - 1"
   ]
  },
  {
   "cell_type": "code",
   "execution_count": 39,
   "id": "6879cf2f-299f-4ad0-a3e0-4a45f2660c3b",
   "metadata": {},
   "outputs": [],
   "source": [
    "# Max of df is 1 lower than our dataset\n",
    "assert max(lstm_idx_to_df_item.values()) == max(item_to_lstm_idx.keys()) - 1\n",
    "# Min of df is 0\n",
    "assert min(lstm_idx_to_df_item.values()) == 0\n",
    "# Min of lstm_idx mapping is 1\n",
    "assert min(lstm_idx_to_df_item.keys()) == 1"
   ]
  },
  {
   "cell_type": "code",
   "execution_count": 42,
   "id": "cfde85f9-958a-4932-8add-2b8bae320140",
   "metadata": {},
   "outputs": [
    {
     "data": {
      "text/plain": [
       "Counter({5: 4915,\n",
       "         10: 6514,\n",
       "         7: 5858,\n",
       "         6: 8952,\n",
       "         9: 19021,\n",
       "         0: 19746,\n",
       "         12: 5484,\n",
       "         3: 3461,\n",
       "         1: 11309,\n",
       "         4: 5087,\n",
       "         11: 4444,\n",
       "         13: 831,\n",
       "         2: 2679,\n",
       "         8: 1699})"
      ]
     },
     "execution_count": 42,
     "metadata": {},
     "output_type": "execute_result"
    }
   ],
   "source": [
    "Counter(df['community'])"
   ]
  },
  {
   "cell_type": "code",
   "execution_count": 45,
   "id": "936ebee5-f0c8-480d-8ca9-c29d40b9ff9f",
   "metadata": {},
   "outputs": [],
   "source": [
    "hm = defaultdict(int)\n",
    "for data_point in all_data:\n",
    "    gt = data_point[1]\n",
    "    hm[gt] += 1"
   ]
  },
  {
   "cell_type": "code",
   "execution_count": 48,
   "id": "5f0865f8-1079-49a0-864a-e009cbfc1381",
   "metadata": {},
   "outputs": [],
   "source": [
    "comms = defaultdict(int)\n",
    "for k, v in hm.items():\n",
    "    community = lstm_idx_to_community[k]\n",
    "    comms[community] += v"
   ]
  },
  {
   "cell_type": "code",
   "execution_count": 49,
   "id": "f6c66ca9-4a96-4077-ba10-50938b0bd274",
   "metadata": {},
   "outputs": [
    {
     "data": {
      "text/plain": [
       "defaultdict(int,\n",
       "            {5: 4519,\n",
       "             10: 6039,\n",
       "             7: 5349,\n",
       "             6: 8432,\n",
       "             9: 17281,\n",
       "             0: 17072,\n",
       "             12: 5072,\n",
       "             3: 3090,\n",
       "             1: 10405,\n",
       "             11: 4181,\n",
       "             13: 757,\n",
       "             2: 2490,\n",
       "             4: 4421,\n",
       "             8: 1501})"
      ]
     },
     "execution_count": 49,
     "metadata": {},
     "output_type": "execute_result"
    }
   ],
   "source": [
    "comms"
   ]
  },
  {
   "cell_type": "code",
   "execution_count": 58,
   "id": "6d2fb2c1-63a8-4a3c-a4ee-b109d278e3d6",
   "metadata": {},
   "outputs": [],
   "source": [
    "with open('/raid/home/myang349/recsys-filterbubbles/myang_code_refactor/test.data', \"wb+\") as f:\n",
    "    pickle.dump(lstm_idx_to_community, f)"
   ]
  },
  {
   "cell_type": "code",
   "execution_count": 59,
   "id": "d97e9591-495f-4136-ad3a-f81c98ca0340",
   "metadata": {},
   "outputs": [],
   "source": [
    "with open('/raid/home/myang349/recsys-filterbubbles/myang_code_refactor/test.data', \"rb\") as f:\n",
    "    hm2 = pickle.load(f)"
   ]
  },
  {
   "cell_type": "code",
   "execution_count": 61,
   "id": "02eb598f-04c0-4ff7-8a50-b9cb7f8bc3e0",
   "metadata": {},
   "outputs": [
    {
     "data": {
      "text/plain": [
       "{1: 5,\n",
       " 2: 5,\n",
       " 3: 5,\n",
       " 4: 5,\n",
       " 5: 5,\n",
       " 6: 5,\n",
       " 7: 5,\n",
       " 8: 5,\n",
       " 9: 5,\n",
       " 10: 5,\n",
       " 11: 5,\n",
       " 12: 5,\n",
       " 13: 5,\n",
       " 14: 5,\n",
       " 15: 5,\n",
       " 16: 10,\n",
       " 17: 5,\n",
       " 18: 5,\n",
       " 19: 7,\n",
       " 20: 7,\n",
       " 21: 7,\n",
       " 22: 7,\n",
       " 23: 7,\n",
       " 24: 7,\n",
       " 25: 7,\n",
       " 26: 7,\n",
       " 27: 7,\n",
       " 28: 7,\n",
       " 29: 6,\n",
       " 30: 9,\n",
       " 31: 9,\n",
       " 32: 6,\n",
       " 33: 9,\n",
       " 34: 0,\n",
       " 35: 5,\n",
       " 36: 5,\n",
       " 37: 0,\n",
       " 38: 5,\n",
       " 39: 0,\n",
       " 40: 12,\n",
       " 41: 0,\n",
       " 42: 5,\n",
       " 43: 5,\n",
       " 44: 0,\n",
       " 45: 5,\n",
       " 46: 0,\n",
       " 47: 0,\n",
       " 48: 7,\n",
       " 49: 7,\n",
       " 50: 7,\n",
       " 51: 9,\n",
       " 52: 7,\n",
       " 53: 7,\n",
       " 54: 7,\n",
       " 55: 7,\n",
       " 56: 7,\n",
       " 57: 7,\n",
       " 58: 7,\n",
       " 59: 7,\n",
       " 60: 7,\n",
       " 61: 0,\n",
       " 62: 0,\n",
       " 63: 0,\n",
       " 64: 0,\n",
       " 65: 0,\n",
       " 66: 0,\n",
       " 67: 0,\n",
       " 68: 0,\n",
       " 69: 0,\n",
       " 70: 0,\n",
       " 71: 0,\n",
       " 72: 0,\n",
       " 73: 3,\n",
       " 74: 3,\n",
       " 75: 3,\n",
       " 76: 3,\n",
       " 77: 10,\n",
       " 78: 10,\n",
       " 79: 10,\n",
       " 80: 5,\n",
       " 81: 5,\n",
       " 82: 6,\n",
       " 83: 6,\n",
       " 84: 6,\n",
       " 85: 6,\n",
       " 86: 6,\n",
       " 87: 6,\n",
       " 88: 6,\n",
       " 89: 6,\n",
       " 90: 6,\n",
       " 91: 6,\n",
       " 92: 6,\n",
       " 93: 6,\n",
       " 94: 6,\n",
       " 95: 6,\n",
       " 96: 6,\n",
       " 97: 6,\n",
       " 98: 6,\n",
       " 99: 6,\n",
       " 100: 6,\n",
       " 101: 6,\n",
       " 102: 3,\n",
       " 103: 6,\n",
       " 104: 6,\n",
       " 105: 6,\n",
       " 106: 6,\n",
       " 107: 6,\n",
       " 108: 1,\n",
       " 109: 1,\n",
       " 110: 10,\n",
       " 111: 6,\n",
       " 112: 9,\n",
       " 113: 0,\n",
       " 114: 6,\n",
       " 115: 6,\n",
       " 116: 3,\n",
       " 117: 6,\n",
       " 118: 9,\n",
       " 119: 9,\n",
       " 120: 1,\n",
       " 121: 9,\n",
       " 122: 1,\n",
       " 123: 9,\n",
       " 124: 5,\n",
       " 125: 5,\n",
       " 126: 5,\n",
       " 127: 5,\n",
       " 128: 5,\n",
       " 129: 5,\n",
       " 130: 5,\n",
       " 131: 4,\n",
       " 132: 4,\n",
       " 133: 4,\n",
       " 134: 5,\n",
       " 135: 5,\n",
       " 136: 5,\n",
       " 137: 5,\n",
       " 138: 5,\n",
       " 139: 9,\n",
       " 140: 9,\n",
       " 141: 9,\n",
       " 142: 12,\n",
       " 143: 9,\n",
       " 144: 0,\n",
       " 145: 9,\n",
       " 146: 9,\n",
       " 147: 0,\n",
       " 148: 7,\n",
       " 149: 7,\n",
       " 150: 7,\n",
       " 151: 7,\n",
       " 152: 7,\n",
       " 153: 7,\n",
       " 154: 7,\n",
       " 155: 11,\n",
       " 156: 11,\n",
       " 157: 11,\n",
       " 158: 11,\n",
       " 159: 11,\n",
       " 160: 11,\n",
       " 161: 11,\n",
       " 162: 7,\n",
       " 163: 7,\n",
       " 164: 7,\n",
       " 165: 7,\n",
       " 166: 10,\n",
       " 167: 10,\n",
       " 168: 7,\n",
       " 169: 9,\n",
       " 170: 7,\n",
       " 171: 7,\n",
       " 172: 10,\n",
       " 173: 7,\n",
       " 174: 10,\n",
       " 175: 10,\n",
       " 176: 7,\n",
       " 177: 10,\n",
       " 178: 10,\n",
       " 179: 7,\n",
       " 180: 10,\n",
       " 181: 7,\n",
       " 182: 7,\n",
       " 183: 7,\n",
       " 184: 7,\n",
       " 185: 6,\n",
       " 186: 7,\n",
       " 187: 7,\n",
       " 188: 3,\n",
       " 189: 3,\n",
       " 190: 3,\n",
       " 191: 9,\n",
       " 192: 3,\n",
       " 193: 3,\n",
       " 194: 9,\n",
       " 195: 10,\n",
       " 196: 10,\n",
       " 197: 10,\n",
       " 198: 10,\n",
       " 199: 10,\n",
       " 200: 10,\n",
       " 201: 10,\n",
       " 202: 10,\n",
       " 203: 10,\n",
       " 204: 10,\n",
       " 205: 10,\n",
       " 206: 10,\n",
       " 207: 10,\n",
       " 208: 10,\n",
       " 209: 10,\n",
       " 210: 10,\n",
       " 211: 6,\n",
       " 212: 0,\n",
       " 213: 0,\n",
       " 214: 0,\n",
       " 215: 0,\n",
       " 216: 7,\n",
       " 217: 9,\n",
       " 218: 9,\n",
       " 219: 9,\n",
       " 220: 9,\n",
       " 221: 9,\n",
       " 222: 9,\n",
       " 223: 5,\n",
       " 224: 12,\n",
       " 225: 9,\n",
       " 226: 13,\n",
       " 227: 13,\n",
       " 228: 9,\n",
       " 229: 6,\n",
       " 230: 6,\n",
       " 231: 6,\n",
       " 232: 13,\n",
       " 233: 13,\n",
       " 234: 6,\n",
       " 235: 6,\n",
       " 236: 6,\n",
       " 237: 13,\n",
       " 238: 6,\n",
       " 239: 6,\n",
       " 240: 13,\n",
       " 241: 13,\n",
       " 242: 6,\n",
       " 243: 6,\n",
       " 244: 6,\n",
       " 245: 13,\n",
       " 246: 13,\n",
       " 247: 13,\n",
       " 248: 2,\n",
       " 249: 2,\n",
       " 250: 2,\n",
       " 251: 2,\n",
       " 252: 2,\n",
       " 253: 2,\n",
       " 254: 2,\n",
       " 255: 2,\n",
       " 256: 2,\n",
       " 257: 2,\n",
       " 258: 2,\n",
       " 259: 2,\n",
       " 260: 2,\n",
       " 261: 2,\n",
       " 262: 2,\n",
       " 263: 2,\n",
       " 264: 2,\n",
       " 265: 2,\n",
       " 266: 2,\n",
       " 267: 2,\n",
       " 268: 7,\n",
       " 269: 7,\n",
       " 270: 7,\n",
       " 271: 4,\n",
       " 272: 4,\n",
       " 273: 6,\n",
       " 274: 6,\n",
       " 275: 0,\n",
       " 276: 0,\n",
       " 277: 0,\n",
       " 278: 0,\n",
       " 279: 0,\n",
       " 280: 11,\n",
       " 281: 11,\n",
       " 282: 11,\n",
       " 283: 11,\n",
       " 284: 11,\n",
       " 285: 11,\n",
       " 286: 11,\n",
       " 287: 11,\n",
       " 288: 11,\n",
       " 289: 11,\n",
       " 290: 11,\n",
       " 291: 11,\n",
       " 292: 11,\n",
       " 293: 11,\n",
       " 294: 11,\n",
       " 295: 11,\n",
       " 296: 2,\n",
       " 297: 11,\n",
       " 298: 11,\n",
       " 299: 11,\n",
       " 300: 2,\n",
       " 301: 11,\n",
       " 302: 11,\n",
       " 303: 2,\n",
       " 304: 2,\n",
       " 305: 2,\n",
       " 306: 11,\n",
       " 307: 4,\n",
       " 308: 9,\n",
       " 309: 7,\n",
       " 310: 7,\n",
       " 311: 7,\n",
       " 312: 9,\n",
       " 313: 9,\n",
       " 314: 7,\n",
       " 315: 7,\n",
       " 316: 7,\n",
       " 317: 7,\n",
       " 318: 7,\n",
       " 319: 7,\n",
       " 320: 7,\n",
       " 321: 7,\n",
       " 322: 7,\n",
       " 323: 9,\n",
       " 324: 7,\n",
       " 325: 6,\n",
       " 326: 7,\n",
       " 327: 7,\n",
       " 328: 2,\n",
       " 329: 7,\n",
       " 330: 7,\n",
       " 331: 9,\n",
       " 332: 9,\n",
       " 333: 6,\n",
       " 334: 0,\n",
       " 335: 9,\n",
       " 336: 0,\n",
       " 337: 0,\n",
       " 338: 0,\n",
       " 339: 4,\n",
       " 340: 9,\n",
       " 341: 0,\n",
       " 342: 0,\n",
       " 343: 2,\n",
       " 344: 0,\n",
       " 345: 1,\n",
       " 346: 1,\n",
       " 347: 0,\n",
       " 348: 0,\n",
       " 349: 0,\n",
       " 350: 10,\n",
       " 351: 12,\n",
       " 352: 3,\n",
       " 353: 0,\n",
       " 354: 9,\n",
       " 355: 9,\n",
       " 356: 0,\n",
       " 357: 2,\n",
       " 358: 2,\n",
       " 359: 2,\n",
       " 360: 2,\n",
       " 361: 2,\n",
       " 362: 2,\n",
       " 363: 6,\n",
       " 364: 6,\n",
       " 365: 11,\n",
       " 366: 9,\n",
       " 367: 3,\n",
       " 368: 6,\n",
       " 369: 6,\n",
       " 370: 6,\n",
       " 371: 6,\n",
       " 372: 6,\n",
       " 373: 9,\n",
       " 374: 6,\n",
       " 375: 6,\n",
       " 376: 6,\n",
       " 377: 10,\n",
       " 378: 6,\n",
       " 379: 9,\n",
       " 380: 0,\n",
       " 381: 6,\n",
       " 382: 6,\n",
       " 383: 6,\n",
       " 384: 6,\n",
       " 385: 6,\n",
       " 386: 6,\n",
       " 387: 6,\n",
       " 388: 9,\n",
       " 389: 6,\n",
       " 390: 6,\n",
       " 391: 6,\n",
       " 392: 6,\n",
       " 393: 6,\n",
       " 394: 6,\n",
       " 395: 6,\n",
       " 396: 6,\n",
       " 397: 6,\n",
       " 398: 6,\n",
       " 399: 12,\n",
       " 400: 12,\n",
       " 401: 12,\n",
       " 402: 12,\n",
       " 403: 1,\n",
       " 404: 0,\n",
       " 405: 0,\n",
       " 406: 0,\n",
       " 407: 4,\n",
       " 408: 0,\n",
       " 409: 0,\n",
       " 410: 0,\n",
       " 411: 7,\n",
       " 412: 7,\n",
       " 413: 2,\n",
       " 414: 0,\n",
       " 415: 11,\n",
       " 416: 2,\n",
       " 417: 2,\n",
       " 418: 2,\n",
       " 419: 2,\n",
       " 420: 4,\n",
       " 421: 4,\n",
       " 422: 12,\n",
       " 423: 6,\n",
       " 424: 1,\n",
       " 425: 6,\n",
       " 426: 6,\n",
       " 427: 1,\n",
       " 428: 1,\n",
       " 429: 10,\n",
       " 430: 12,\n",
       " 431: 1,\n",
       " 432: 9,\n",
       " 433: 6,\n",
       " 434: 1,\n",
       " 435: 1,\n",
       " 436: 1,\n",
       " 437: 0,\n",
       " 438: 0,\n",
       " 439: 0,\n",
       " 440: 0,\n",
       " 441: 0,\n",
       " 442: 0,\n",
       " 443: 0,\n",
       " 444: 0,\n",
       " 445: 0,\n",
       " 446: 0,\n",
       " 447: 0,\n",
       " 448: 0,\n",
       " 449: 9,\n",
       " 450: 7,\n",
       " 451: 7,\n",
       " 452: 7,\n",
       " 453: 7,\n",
       " 454: 7,\n",
       " 455: 7,\n",
       " 456: 7,\n",
       " 457: 1,\n",
       " 458: 1,\n",
       " 459: 1,\n",
       " 460: 1,\n",
       " 461: 1,\n",
       " 462: 1,\n",
       " 463: 1,\n",
       " 464: 10,\n",
       " 465: 3,\n",
       " 466: 3,\n",
       " 467: 3,\n",
       " 468: 3,\n",
       " 469: 9,\n",
       " 470: 9,\n",
       " 471: 9,\n",
       " 472: 9,\n",
       " 473: 9,\n",
       " 474: 9,\n",
       " 475: 9,\n",
       " 476: 9,\n",
       " 477: 9,\n",
       " 478: 9,\n",
       " 479: 9,\n",
       " 480: 9,\n",
       " 481: 5,\n",
       " 482: 10,\n",
       " 483: 11,\n",
       " 484: 7,\n",
       " 485: 7,\n",
       " 486: 7,\n",
       " 487: 7,\n",
       " 488: 7,\n",
       " 489: 7,\n",
       " 490: 7,\n",
       " 491: 7,\n",
       " 492: 7,\n",
       " 493: 7,\n",
       " 494: 7,\n",
       " 495: 7,\n",
       " 496: 7,\n",
       " 497: 11,\n",
       " 498: 11,\n",
       " 499: 2,\n",
       " 500: 2,\n",
       " 501: 2,\n",
       " 502: 0,\n",
       " 503: 2,\n",
       " 504: 0,\n",
       " 505: 0,\n",
       " 506: 0,\n",
       " 507: 11,\n",
       " 508: 11,\n",
       " 509: 11,\n",
       " 510: 11,\n",
       " 511: 11,\n",
       " 512: 4,\n",
       " 513: 4,\n",
       " 514: 4,\n",
       " 515: 11,\n",
       " 516: 11,\n",
       " 517: 11,\n",
       " 518: 11,\n",
       " 519: 9,\n",
       " 520: 1,\n",
       " 521: 2,\n",
       " 522: 6,\n",
       " 523: 7,\n",
       " 524: 7,\n",
       " 525: 7,\n",
       " 526: 7,\n",
       " 527: 7,\n",
       " 528: 7,\n",
       " 529: 7,\n",
       " 530: 7,\n",
       " 531: 7,\n",
       " 532: 7,\n",
       " 533: 7,\n",
       " 534: 7,\n",
       " 535: 9,\n",
       " 536: 1,\n",
       " 537: 9,\n",
       " 538: 10,\n",
       " 539: 9,\n",
       " 540: 10,\n",
       " 541: 10,\n",
       " 542: 0,\n",
       " 543: 10,\n",
       " 544: 10,\n",
       " 545: 10,\n",
       " 546: 10,\n",
       " 547: 10,\n",
       " 548: 5,\n",
       " 549: 5,\n",
       " 550: 5,\n",
       " 551: 5,\n",
       " 552: 9,\n",
       " 553: 1,\n",
       " 554: 1,\n",
       " 555: 1,\n",
       " 556: 1,\n",
       " 557: 1,\n",
       " 558: 1,\n",
       " 559: 1,\n",
       " 560: 1,\n",
       " 561: 1,\n",
       " 562: 1,\n",
       " 563: 1,\n",
       " 564: 1,\n",
       " 565: 1,\n",
       " 566: 1,\n",
       " 567: 1,\n",
       " 568: 1,\n",
       " 569: 1,\n",
       " 570: 1,\n",
       " 571: 1,\n",
       " 572: 1,\n",
       " 573: 1,\n",
       " 574: 1,\n",
       " 575: 0,\n",
       " 576: 2,\n",
       " 577: 12,\n",
       " 578: 12,\n",
       " 579: 12,\n",
       " 580: 12,\n",
       " 581: 10,\n",
       " 582: 9,\n",
       " 583: 9,\n",
       " 584: 9,\n",
       " 585: 9,\n",
       " 586: 0,\n",
       " 587: 0,\n",
       " 588: 0,\n",
       " 589: 0,\n",
       " 590: 0,\n",
       " 591: 0,\n",
       " 592: 0,\n",
       " 593: 0,\n",
       " 594: 0,\n",
       " 595: 0,\n",
       " 596: 0,\n",
       " 597: 0,\n",
       " 598: 12,\n",
       " 599: 12,\n",
       " 600: 12,\n",
       " 601: 12,\n",
       " 602: 12,\n",
       " 603: 12,\n",
       " 604: 12,\n",
       " 605: 12,\n",
       " 606: 12,\n",
       " 607: 12,\n",
       " 608: 12,\n",
       " 609: 12,\n",
       " 610: 1,\n",
       " 611: 1,\n",
       " 612: 12,\n",
       " 613: 12,\n",
       " 614: 12,\n",
       " 615: 12,\n",
       " 616: 12,\n",
       " 617: 9,\n",
       " 618: 4,\n",
       " 619: 4,\n",
       " 620: 4,\n",
       " 621: 5,\n",
       " 622: 9,\n",
       " 623: 9,\n",
       " 624: 9,\n",
       " 625: 9,\n",
       " 626: 9,\n",
       " 627: 9,\n",
       " 628: 9,\n",
       " 629: 9,\n",
       " 630: 9,\n",
       " 631: 9,\n",
       " 632: 9,\n",
       " 633: 9,\n",
       " 634: 9,\n",
       " 635: 9,\n",
       " 636: 9,\n",
       " 637: 9,\n",
       " 638: 9,\n",
       " 639: 9,\n",
       " 640: 10,\n",
       " 641: 9,\n",
       " 642: 9,\n",
       " 643: 0,\n",
       " 644: 9,\n",
       " 645: 6,\n",
       " 646: 6,\n",
       " 647: 0,\n",
       " 648: 7,\n",
       " 649: 7,\n",
       " 650: 7,\n",
       " 651: 7,\n",
       " 652: 9,\n",
       " 653: 7,\n",
       " 654: 7,\n",
       " 655: 7,\n",
       " 656: 7,\n",
       " 657: 7,\n",
       " 658: 0,\n",
       " 659: 0,\n",
       " 660: 3,\n",
       " 661: 3,\n",
       " 662: 3,\n",
       " 663: 6,\n",
       " 664: 6,\n",
       " 665: 9,\n",
       " 666: 3,\n",
       " 667: 9,\n",
       " 668: 3,\n",
       " 669: 9,\n",
       " 670: 3,\n",
       " 671: 3,\n",
       " 672: 0,\n",
       " 673: 0,\n",
       " 674: 9,\n",
       " 675: 5,\n",
       " 676: 5,\n",
       " 677: 5,\n",
       " 678: 5,\n",
       " 679: 5,\n",
       " 680: 5,\n",
       " 681: 5,\n",
       " 682: 5,\n",
       " 683: 5,\n",
       " 684: 5,\n",
       " 685: 5,\n",
       " 686: 5,\n",
       " 687: 5,\n",
       " 688: 0,\n",
       " 689: 0,\n",
       " 690: 8,\n",
       " 691: 0,\n",
       " 692: 9,\n",
       " 693: 9,\n",
       " 694: 9,\n",
       " 695: 9,\n",
       " 696: 9,\n",
       " 697: 9,\n",
       " 698: 9,\n",
       " 699: 9,\n",
       " 700: 9,\n",
       " 701: 9,\n",
       " 702: 9,\n",
       " 703: 9,\n",
       " 704: 9,\n",
       " 705: 1,\n",
       " 706: 1,\n",
       " 707: 1,\n",
       " 708: 1,\n",
       " 709: 1,\n",
       " 710: 9,\n",
       " 711: 9,\n",
       " 712: 9,\n",
       " 713: 9,\n",
       " 714: 9,\n",
       " 715: 9,\n",
       " 716: 9,\n",
       " 717: 9,\n",
       " 718: 9,\n",
       " 719: 9,\n",
       " 720: 9,\n",
       " 721: 9,\n",
       " 722: 9,\n",
       " 723: 9,\n",
       " 724: 9,\n",
       " 725: 9,\n",
       " 726: 9,\n",
       " 727: 9,\n",
       " 728: 9,\n",
       " 729: 9,\n",
       " 730: 9,\n",
       " 731: 9,\n",
       " 732: 9,\n",
       " 733: 9,\n",
       " 734: 9,\n",
       " 735: 4,\n",
       " 736: 4,\n",
       " 737: 9,\n",
       " 738: 3,\n",
       " 739: 9,\n",
       " 740: 1,\n",
       " 741: 1,\n",
       " 742: 1,\n",
       " 743: 1,\n",
       " 744: 1,\n",
       " 745: 1,\n",
       " 746: 1,\n",
       " 747: 1,\n",
       " 748: 1,\n",
       " 749: 1,\n",
       " 750: 1,\n",
       " 751: 1,\n",
       " 752: 1,\n",
       " 753: 1,\n",
       " 754: 0,\n",
       " 755: 0,\n",
       " 756: 0,\n",
       " 757: 1,\n",
       " 758: 6,\n",
       " 759: 9,\n",
       " 760: 1,\n",
       " 761: 9,\n",
       " 762: 10,\n",
       " 763: 10,\n",
       " 764: 10,\n",
       " 765: 9,\n",
       " 766: 10,\n",
       " 767: 10,\n",
       " 768: 10,\n",
       " 769: 10,\n",
       " 770: 10,\n",
       " 771: 10,\n",
       " 772: 10,\n",
       " 773: 10,\n",
       " 774: 10,\n",
       " 775: 10,\n",
       " 776: 10,\n",
       " 777: 10,\n",
       " 778: 10,\n",
       " 779: 10,\n",
       " 780: 10,\n",
       " 781: 10,\n",
       " 782: 10,\n",
       " 783: 10,\n",
       " 784: 10,\n",
       " 785: 10,\n",
       " 786: 10,\n",
       " 787: 10,\n",
       " 788: 6,\n",
       " 789: 6,\n",
       " 790: 5,\n",
       " 791: 6,\n",
       " 792: 6,\n",
       " 793: 6,\n",
       " 794: 7,\n",
       " 795: 7,\n",
       " 796: 6,\n",
       " 797: 0,\n",
       " 798: 0,\n",
       " 799: 0,\n",
       " 800: 10,\n",
       " 801: 0,\n",
       " 802: 0,\n",
       " 803: 0,\n",
       " 804: 4,\n",
       " 805: 4,\n",
       " 806: 4,\n",
       " 807: 4,\n",
       " 808: 4,\n",
       " 809: 4,\n",
       " 810: 4,\n",
       " 811: 4,\n",
       " 812: 4,\n",
       " 813: 4,\n",
       " 814: 4,\n",
       " 815: 4,\n",
       " 816: 4,\n",
       " 817: 4,\n",
       " 818: 4,\n",
       " 819: 9,\n",
       " 820: 9,\n",
       " 821: 9,\n",
       " 822: 9,\n",
       " 823: 9,\n",
       " 824: 9,\n",
       " 825: 9,\n",
       " 826: 0,\n",
       " 827: 9,\n",
       " 828: 9,\n",
       " 829: 9,\n",
       " 830: 9,\n",
       " 831: 9,\n",
       " 832: 0,\n",
       " 833: 9,\n",
       " 834: 9,\n",
       " 835: 9,\n",
       " 836: 9,\n",
       " 837: 1,\n",
       " 838: 10,\n",
       " 839: 1,\n",
       " 840: 6,\n",
       " 841: 6,\n",
       " 842: 10,\n",
       " 843: 7,\n",
       " 844: 1,\n",
       " 845: 7,\n",
       " 846: 7,\n",
       " 847: 7,\n",
       " 848: 12,\n",
       " 849: 6,\n",
       " 850: 6,\n",
       " 851: 6,\n",
       " 852: 12,\n",
       " 853: 6,\n",
       " 854: 6,\n",
       " 855: 3,\n",
       " 856: 10,\n",
       " 857: 9,\n",
       " 858: 8,\n",
       " 859: 10,\n",
       " 860: 10,\n",
       " 861: 7,\n",
       " 862: 10,\n",
       " 863: 0,\n",
       " 864: 9,\n",
       " 865: 0,\n",
       " 866: 2,\n",
       " 867: 1,\n",
       " 868: 0,\n",
       " 869: 0,\n",
       " 870: 0,\n",
       " 871: 0,\n",
       " 872: 2,\n",
       " 873: 2,\n",
       " 874: 0,\n",
       " 875: 0,\n",
       " 876: 9,\n",
       " 877: 0,\n",
       " 878: 0,\n",
       " 879: 12,\n",
       " 880: 2,\n",
       " 881: 0,\n",
       " 882: 9,\n",
       " 883: 0,\n",
       " 884: 0,\n",
       " 885: 9,\n",
       " 886: 2,\n",
       " 887: 2,\n",
       " 888: 0,\n",
       " 889: 2,\n",
       " 890: 2,\n",
       " 891: 0,\n",
       " 892: 9,\n",
       " 893: 2,\n",
       " 894: 2,\n",
       " 895: 2,\n",
       " 896: 0,\n",
       " 897: 0,\n",
       " 898: 9,\n",
       " 899: 9,\n",
       " 900: 2,\n",
       " 901: 9,\n",
       " 902: 7,\n",
       " 903: 0,\n",
       " 904: 3,\n",
       " 905: 9,\n",
       " 906: 9,\n",
       " 907: 9,\n",
       " 908: 9,\n",
       " 909: 9,\n",
       " 910: 3,\n",
       " 911: 3,\n",
       " 912: 3,\n",
       " 913: 9,\n",
       " 914: 4,\n",
       " 915: 0,\n",
       " 916: 4,\n",
       " 917: 4,\n",
       " 918: 9,\n",
       " 919: 0,\n",
       " 920: 0,\n",
       " 921: 0,\n",
       " 922: 4,\n",
       " 923: 0,\n",
       " 924: 0,\n",
       " 925: 0,\n",
       " 926: 0,\n",
       " 927: 0,\n",
       " 928: 7,\n",
       " 929: 3,\n",
       " 930: 0,\n",
       " 931: 0,\n",
       " 932: 9,\n",
       " 933: 0,\n",
       " 934: 7,\n",
       " 935: 9,\n",
       " 936: 13,\n",
       " 937: 13,\n",
       " 938: 13,\n",
       " 939: 13,\n",
       " 940: 13,\n",
       " 941: 13,\n",
       " 942: 4,\n",
       " 943: 4,\n",
       " 944: 4,\n",
       " 945: 4,\n",
       " 946: 4,\n",
       " 947: 4,\n",
       " 948: 9,\n",
       " 949: 6,\n",
       " 950: 9,\n",
       " 951: 0,\n",
       " 952: 9,\n",
       " 953: 9,\n",
       " 954: 0,\n",
       " 955: 0,\n",
       " 956: 9,\n",
       " 957: 6,\n",
       " 958: 6,\n",
       " 959: 6,\n",
       " 960: 9,\n",
       " 961: 12,\n",
       " 962: 12,\n",
       " 963: 12,\n",
       " 964: 12,\n",
       " 965: 12,\n",
       " 966: 9,\n",
       " 967: 9,\n",
       " 968: 9,\n",
       " 969: 9,\n",
       " 970: 9,\n",
       " 971: 10,\n",
       " 972: 10,\n",
       " 973: 10,\n",
       " 974: 10,\n",
       " 975: 1,\n",
       " 976: 1,\n",
       " 977: 1,\n",
       " 978: 1,\n",
       " 979: 1,\n",
       " 980: 1,\n",
       " 981: 1,\n",
       " 982: 1,\n",
       " 983: 1,\n",
       " 984: 1,\n",
       " 985: 1,\n",
       " 986: 1,\n",
       " 987: 1,\n",
       " 988: 1,\n",
       " 989: 1,\n",
       " 990: 1,\n",
       " 991: 1,\n",
       " 992: 1,\n",
       " 993: 1,\n",
       " 994: 1,\n",
       " 995: 1,\n",
       " 996: 1,\n",
       " 997: 1,\n",
       " 998: 1,\n",
       " 999: 1,\n",
       " 1000: 1,\n",
       " ...}"
      ]
     },
     "execution_count": 61,
     "metadata": {},
     "output_type": "execute_result"
    }
   ],
   "source": [
    "hm2"
   ]
  },
  {
   "cell_type": "code",
   "execution_count": 54,
   "id": "7b22aedd-3ddd-4f21-893a-b23c29db8b0d",
   "metadata": {},
   "outputs": [
    {
     "data": {
      "text/plain": [
       "'/raid/home/myang349/recsys-filterbubbles/myang_code_refactor'"
      ]
     },
     "execution_count": 54,
     "metadata": {},
     "output_type": "execute_result"
    }
   ],
   "source": [
    "'/raid/home/myang349/recsys-filterbubbles/myang_code_refactor/test.data'"
   ]
  },
  {
   "cell_type": "code",
   "execution_count": null,
   "id": "da754950-12b8-4687-86b8-e22d70b02b43",
   "metadata": {},
   "outputs": [],
   "source": []
  }
 ],
 "metadata": {
  "kernelspec": {
   "display_name": "cse_v1",
   "language": "python",
   "name": "cse_v1"
  },
  "language_info": {
   "codemirror_mode": {
    "name": "ipython",
    "version": 3
   },
   "file_extension": ".py",
   "mimetype": "text/x-python",
   "name": "python",
   "nbconvert_exporter": "python",
   "pygments_lexer": "ipython3",
   "version": "3.9.7"
  }
 },
 "nbformat": 4,
 "nbformat_minor": 5
}

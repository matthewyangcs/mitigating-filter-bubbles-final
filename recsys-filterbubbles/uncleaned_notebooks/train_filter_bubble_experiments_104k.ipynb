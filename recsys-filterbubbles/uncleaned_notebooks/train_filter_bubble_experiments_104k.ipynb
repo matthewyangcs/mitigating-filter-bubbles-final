{
 "cells": [
  {
   "cell_type": "code",
   "execution_count": 1,
   "id": "70da6389-9a23-45e7-9efa-d83fc854abb9",
   "metadata": {},
   "outputs": [],
   "source": [
    "%load_ext autoreload"
   ]
  },
  {
   "cell_type": "code",
   "execution_count": 2,
   "id": "1b5f6d80-0a74-44ee-8165-b62787de921d",
   "metadata": {},
   "outputs": [],
   "source": [
    "%autoreload 2"
   ]
  },
  {
   "cell_type": "code",
   "execution_count": 3,
   "id": "69f57cd7-0a34-4659-af6d-b3caced06895",
   "metadata": {},
   "outputs": [
    {
     "name": "stdout",
     "output_type": "stream",
     "text": [
      "/raid/home/myang349/recsys-filterbubbles\n"
     ]
    }
   ],
   "source": [
    "cd /raid/home/myang349/recsys-filterbubbles/"
   ]
  },
  {
   "cell_type": "markdown",
   "id": "a4ea183d-dc55-4198-bdfb-51b52282cfb5",
   "metadata": {},
   "source": [
    "# Imports"
   ]
  },
  {
   "cell_type": "code",
   "execution_count": 4,
   "id": "f6cda501-8f39-4917-b693-4d4ac98bb1b9",
   "metadata": {},
   "outputs": [],
   "source": [
    "import torch\n",
    "import torch.nn as nn\n",
    "import torch.nn.functional as F\n",
    "import os\n",
    "import torch.optim as optim\n",
    "from os import listdir\n",
    "from os.path import isfile, join\n",
    "from tracin.tracin import (\n",
    "    save_tracin_checkpoint,\n",
    "    load_tracin_checkpoint,\n",
    "    calculate_tracin_influence,\n",
    ")\n",
    "import pandas as pd\n",
    "from LSTM_clean.utils import filter_and_split_data, sequence_generator, load_community_dict, get_communities \n",
    "from LSTM_clean.model import LSTM \n",
    "from collections import Counter\n",
    "import numpy as np\n",
    "import pickle\n",
    "from collections import defaultdict\n",
    "import copy\n",
    "from torch.optim import SGD\n",
    "from lstm_wrapper import train_model, get_topk_predictions\n",
    "from dataclasses import dataclass"
   ]
  },
  {
   "cell_type": "markdown",
   "id": "1b3c4acb-300f-419e-ac3c-497a6cda175c",
   "metadata": {},
   "source": [
    "# Loading Data"
   ]
  },
  {
   "cell_type": "code",
   "execution_count": 46,
   "id": "952f56b9-ff9c-47a9-8214-60a86c291ca2",
   "metadata": {},
   "outputs": [],
   "source": [
    "# Data Location\n",
    "# Use SAVE_PREFIX to mark different datasets\n",
    "SAVE_PREFIX = \"104k\"\n",
    "SAVE_FOLDER = \"/raid/home/myang349/recsys-filterbubbles/data/twitch_sequence/\"\n",
    "SAVE_TRAIN_NAME = SAVE_PREFIX + \"train.data\"\n",
    "SAVE_VALID_NAME = SAVE_PREFIX + \"valid.data\"\n",
    "SAVE_TEST_NAME = SAVE_PREFIX + \"test.data\"\n",
    "SAVE_COMMUNITY_NAME = SAVE_PREFIX + \"lstm_idx_communities.data\""
   ]
  },
  {
   "cell_type": "code",
   "execution_count": 47,
   "id": "9374a04b-0e03-441b-b0cd-a8ea651bf954",
   "metadata": {},
   "outputs": [],
   "source": [
    "train_data = np.load(os.path.join(SAVE_FOLDER, SAVE_TRAIN_NAME), allow_pickle=True)\n",
    "valid_data = np.load(os.path.join(SAVE_FOLDER, SAVE_VALID_NAME), allow_pickle=True)\n",
    "test_data = np.load(os.path.join(SAVE_FOLDER, SAVE_TEST_NAME), allow_pickle=True)"
   ]
  },
  {
   "cell_type": "markdown",
   "id": "cac87f8b-02b1-4680-ad33-94ab15896c9d",
   "metadata": {},
   "source": [
    "# Training"
   ]
  },
  {
   "cell_type": "code",
   "execution_count": null,
   "id": "0b46fdd8-8b71-47b0-9207-39d3b82c62a8",
   "metadata": {},
   "outputs": [],
   "source": [
    "model = train_model()"
   ]
  },
  {
   "cell_type": "markdown",
   "id": "67b7cefe-bb27-4c4d-aa8f-ebe692a1eb40",
   "metadata": {
    "tags": []
   },
   "source": [
    "# Experimentation"
   ]
  },
  {
   "cell_type": "code",
   "execution_count": 54,
   "id": "f82666c0-849b-4115-91bc-486d7f0388f4",
   "metadata": {},
   "outputs": [
    {
     "name": "stdout",
     "output_type": "stream",
     "text": [
      "Device is cuda\n"
     ]
    }
   ],
   "source": [
    "device = torch.device(\"cuda\" if torch.cuda.is_available() else \"cpu\")\n",
    "print(\"Device is\", device)\n",
    "model = LSTM(input_size=128, output_size=3312, hidden_dim=64, n_layers=1, device=device) \n",
    "model.LSTM.flatten_parameters()\n",
    "optimizer = optim.SGD(model.parameters(), lr=5e-2, momentum=0.9)"
   ]
  },
  {
   "cell_type": "code",
   "execution_count": 55,
   "id": "c5ea1321-fd16-41f9-a37f-37d331e9efb2",
   "metadata": {},
   "outputs": [
    {
     "name": "stdout",
     "output_type": "stream",
     "text": [
      "lstm_checkpoint_epoch0.pt    lstm_checkpoint_epoch370.pt\n",
      "lstm_checkpoint_epoch100.pt  lstm_checkpoint_epoch380.pt\n",
      "lstm_checkpoint_epoch10.pt   lstm_checkpoint_epoch390.pt\n",
      "lstm_checkpoint_epoch110.pt  lstm_checkpoint_epoch400.pt\n",
      "lstm_checkpoint_epoch120.pt  lstm_checkpoint_epoch40.pt\n",
      "lstm_checkpoint_epoch130.pt  lstm_checkpoint_epoch410.pt\n",
      "lstm_checkpoint_epoch140.pt  lstm_checkpoint_epoch420.pt\n",
      "lstm_checkpoint_epoch150.pt  lstm_checkpoint_epoch430.pt\n",
      "lstm_checkpoint_epoch160.pt  lstm_checkpoint_epoch440.pt\n",
      "lstm_checkpoint_epoch170.pt  lstm_checkpoint_epoch450.pt\n",
      "lstm_checkpoint_epoch180.pt  lstm_checkpoint_epoch460.pt\n",
      "lstm_checkpoint_epoch190.pt  lstm_checkpoint_epoch470.pt\n",
      "lstm_checkpoint_epoch200.pt  lstm_checkpoint_epoch480.pt\n",
      "lstm_checkpoint_epoch20.pt   lstm_checkpoint_epoch490.pt\n",
      "lstm_checkpoint_epoch210.pt  lstm_checkpoint_epoch500.pt\n",
      "lstm_checkpoint_epoch220.pt  lstm_checkpoint_epoch50.pt\n",
      "lstm_checkpoint_epoch230.pt  lstm_checkpoint_epoch510.pt\n",
      "lstm_checkpoint_epoch240.pt  lstm_checkpoint_epoch520.pt\n",
      "lstm_checkpoint_epoch250.pt  lstm_checkpoint_epoch530.pt\n",
      "lstm_checkpoint_epoch260.pt  lstm_checkpoint_epoch540.pt\n",
      "lstm_checkpoint_epoch270.pt  lstm_checkpoint_epoch550.pt\n",
      "lstm_checkpoint_epoch280.pt  lstm_checkpoint_epoch560.pt\n",
      "lstm_checkpoint_epoch290.pt  lstm_checkpoint_epoch570.pt\n",
      "lstm_checkpoint_epoch300.pt  lstm_checkpoint_epoch580.pt\n",
      "lstm_checkpoint_epoch30.pt   lstm_checkpoint_epoch590.pt\n",
      "lstm_checkpoint_epoch310.pt  lstm_checkpoint_epoch600.pt\n",
      "lstm_checkpoint_epoch320.pt  lstm_checkpoint_epoch60.pt\n",
      "lstm_checkpoint_epoch330.pt  lstm_checkpoint_epoch70.pt\n",
      "lstm_checkpoint_epoch340.pt  lstm_checkpoint_epoch80.pt\n",
      "lstm_checkpoint_epoch350.pt  lstm_checkpoint_epoch90.pt\n",
      "lstm_checkpoint_epoch360.pt\n"
     ]
    }
   ],
   "source": [
    "ls checkpoints"
   ]
  },
  {
   "cell_type": "code",
   "execution_count": 56,
   "id": "ae3f5028-2331-4a05-ab07-32cab6d08215",
   "metadata": {},
   "outputs": [],
   "source": [
    "model, _, epoch, loss = load_tracin_checkpoint(model, optimizer, \"/raid/home/myang349/recsys-filterbubbles/checkpoints/lstm_checkpoint_epoch600.pt\")"
   ]
  },
  {
   "cell_type": "code",
   "execution_count": 57,
   "id": "b8a25bd0-080b-4e4e-8c5d-69dba80a8036",
   "metadata": {},
   "outputs": [
    {
     "data": {
      "text/plain": [
       "LSTM(\n",
       "  (item_emb): Embedding(3312, 128, padding_idx=0)\n",
       "  (LSTM): LSTM(128, 64, batch_first=True)\n",
       "  (fc): Linear(in_features=64, out_features=3312, bias=True)\n",
       ")"
      ]
     },
     "execution_count": 57,
     "metadata": {},
     "output_type": "execute_result"
    }
   ],
   "source": [
    "model.to(device)"
   ]
  },
  {
   "cell_type": "markdown",
   "id": "0b3259c5-9d7b-4b76-a59c-1b1a4f38fa7c",
   "metadata": {
    "tags": []
   },
   "source": [
    "## Verify the recall"
   ]
  },
  {
   "cell_type": "code",
   "execution_count": 58,
   "id": "117b69c6-644b-498b-bebf-9af26adc8cf1",
   "metadata": {},
   "outputs": [],
   "source": [
    "# Generate sequences and gt\n",
    "sequences = [pt[0] for pt in valid_data]\n",
    "# sequences = [list(reversed(pt[0]))[:10] for pt in valid_data]\n",
    "gt = [pt[1] for pt in valid_data]"
   ]
  },
  {
   "cell_type": "code",
   "execution_count": 59,
   "id": "ba2e1f5c-5ce6-4a9f-9bea-4cba9aef9020",
   "metadata": {},
   "outputs": [],
   "source": [
    "# Generate predictions\n",
    "predictions = get_topk_predictions(model, sequences, k=50)"
   ]
  },
  {
   "cell_type": "code",
   "execution_count": 60,
   "id": "a63b5581-62dd-42cb-af6b-0b62d6d713cc",
   "metadata": {},
   "outputs": [
    {
     "data": {
      "text/plain": [
       "0.7596174744620735"
      ]
     },
     "execution_count": 60,
     "metadata": {},
     "output_type": "execute_result"
    }
   ],
   "source": [
    "assert len(sequences) == len(predictions)\n",
    "hit = 0\n",
    "total = 0\n",
    "for i, val in enumerate(gt):\n",
    "    if val in predictions[i]:\n",
    "        hit += 1\n",
    "    total += 1  \n",
    "hit/total"
   ]
  },
  {
   "cell_type": "markdown",
   "id": "716768a9-6d50-4edf-823a-a34334e77d35",
   "metadata": {},
   "source": [
    "## Computing community vectors"
   ]
  },
  {
   "cell_type": "code",
   "execution_count": 61,
   "id": "e01d78bd-f62f-46b2-bd95-d9302d8e4738",
   "metadata": {},
   "outputs": [],
   "source": [
    "community_dict = load_community_dict(os.path.join(SAVE_FOLDER, SAVE_COMMUNITY_NAME))"
   ]
  },
  {
   "cell_type": "code",
   "execution_count": 62,
   "id": "e73ea5de-d724-42dc-b132-1eed33df767b",
   "metadata": {},
   "outputs": [],
   "source": [
    "# # Converting prev and predictions to be equal length and in community embedding\n",
    "# prev_comm = []\n",
    "# pred_comm = []\n",
    "# for i in range(len(sequences)):\n",
    "#     prev = sequences[i]\n",
    "#     n = len([x for x in prev if x != 0])\n",
    "#     pred = predictions[i][:n]\n",
    "    \n",
    "#     prev_comm.append(get_communities(prev, community_dict))\n",
    "#     pred_comm.append(get_communities(pred, community_dict))"
   ]
  },
  {
   "cell_type": "code",
   "execution_count": 99,
   "id": "5fe63da5-b509-4118-a2a7-7e14acaa6cd3",
   "metadata": {
    "tags": []
   },
   "outputs": [],
   "source": [
    "# Converting prev and predictions to be equal length and in community embedding\n",
    "LOOKBACK = 10\n",
    "THRESHOLD = 10\n",
    "\n",
    "# Alternate version where we just get the last lookback from prev\n",
    "prev_comm = []\n",
    "pred_comm = []\n",
    "for i in range(len(sequences)):\n",
    "    prev = list(reversed(sequences[i]))[:LOOKBACK]\n",
    "    n = len([x for x in prev if x != 0 and x in community_dict])\n",
    "    \n",
    "    if n < THRESHOLD:\n",
    "        continue\n",
    "        \n",
    "    pred = predictions[i][:n]\n",
    "    prev_comm.append(get_communities(prev, community_dict))\n",
    "    pred_comm.append(get_communities(pred, community_dict))\n",
    "    \n",
    "for i in range(len(prev_comm)):\n",
    "    assert len(prev_comm[i]) ==len(pred_comm[i])\n",
    "    assert THRESHOLD <= len(prev_comm[i]) <= LOOKBACK"
   ]
  },
  {
   "cell_type": "code",
   "execution_count": 100,
   "id": "a436367f-c736-4aae-8097-4850647b73c1",
   "metadata": {},
   "outputs": [],
   "source": [
    "prev_num_comm = 0\n",
    "pred_num_comm = 0\n",
    "n = len(prev_comm)\n",
    "threshold = 0\n",
    "\n",
    "for i in range(n):\n",
    "    if len(prev_comm[i]) < threshold:\n",
    "        continue\n",
    "    prev_num_comm += len(set(prev_comm[i]))\n",
    "    pred_num_comm += len(set(pred_comm[i]))"
   ]
  },
  {
   "cell_type": "code",
   "execution_count": 101,
   "id": "596dcc91-bcca-46d8-8e93-f527fc1261ac",
   "metadata": {},
   "outputs": [
    {
     "data": {
      "text/plain": [
       "16524"
      ]
     },
     "execution_count": 101,
     "metadata": {},
     "output_type": "execute_result"
    }
   ],
   "source": [
    "prev_num_comm"
   ]
  },
  {
   "cell_type": "code",
   "execution_count": 102,
   "id": "4177ffc2-1943-4533-a9d3-60c0fc331434",
   "metadata": {},
   "outputs": [
    {
     "data": {
      "text/plain": [
       "16773"
      ]
     },
     "execution_count": 102,
     "metadata": {},
     "output_type": "execute_result"
    }
   ],
   "source": [
    "pred_num_comm"
   ]
  },
  {
   "cell_type": "markdown",
   "id": "7dc8ad41-e20c-4780-b3bf-16cd546d5a5d",
   "metadata": {},
   "source": [
    "# Analyzing recommendation distribution"
   ]
  },
  {
   "cell_type": "markdown",
   "id": "f0b4a272-5a41-4787-b902-135d8651ab5a",
   "metadata": {},
   "source": [
    "## Quantifying Diversity Based on Watch History vs Recommendation"
   ]
  },
  {
   "cell_type": "code",
   "execution_count": 123,
   "id": "76488ea6-e688-4a8c-8c32-1532da0f6f2c",
   "metadata": {},
   "outputs": [],
   "source": [
    "def f(c):\n",
    "    return len(set(c))\n",
    "    \n",
    "def f(c):\n",
    "    hm = Counter(c)\n",
    "    for val in hm.values():\n",
    "        if val >= 0.8 * len(c):\n",
    "            return 1\n",
    "    return 0"
   ]
  },
  {
   "cell_type": "code",
   "execution_count": 124,
   "id": "ba195002-6c81-4f8d-bf99-3a9e3e20a1c2",
   "metadata": {},
   "outputs": [],
   "source": [
    "prev_comm_stats = []\n",
    "pred_comm_stats = []\n",
    "n = len(prev_comm)\n",
    "threshold = 0\n",
    "\n",
    "for i in range(n):\n",
    "    c1, c2 = prev_comm[i], pred_comm[i]\n",
    "    if len(c1) < threshold:\n",
    "        continue\n",
    "    prev_comm_stats.append(f(c1))\n",
    "    pred_comm_stats.append(f(c2))"
   ]
  },
  {
   "cell_type": "code",
   "execution_count": 125,
   "id": "ee0ec6f6-4fe5-4af9-9aab-a2341f24147f",
   "metadata": {},
   "outputs": [
    {
     "data": {
      "text/plain": [
       "6063"
      ]
     },
     "execution_count": 125,
     "metadata": {},
     "output_type": "execute_result"
    }
   ],
   "source": [
    "sum(prev_comm_stats)"
   ]
  },
  {
   "cell_type": "code",
   "execution_count": 122,
   "id": "b47d13c5-f7fc-4196-843c-97e88df76874",
   "metadata": {},
   "outputs": [
    {
     "data": {
      "text/plain": [
       "8809"
      ]
     },
     "execution_count": 122,
     "metadata": {},
     "output_type": "execute_result"
    }
   ],
   "source": [
    "sum(pred_comm_stats)"
   ]
  },
  {
   "cell_type": "markdown",
   "id": "cb385a6d-d536-4354-966a-d6f85114b106",
   "metadata": {},
   "source": [
    "# Quantifying Filter-Bubble Based on Combination of Watch History + Recommendation"
   ]
  },
  {
   "cell_type": "markdown",
   "id": "145c223a-377f-4b89-bcbe-b5775bc2f375",
   "metadata": {},
   "source": [
    "## Quantify Functions"
   ]
  },
  {
   "cell_type": "code",
   "execution_count": 126,
   "id": "b4fa4886-2271-418a-8eeb-d699daaf0e35",
   "metadata": {},
   "outputs": [],
   "source": [
    "# Does one of the top 3 predictions belong in a community in the previous history?\n",
    "def f(prev, pred, threshold=3):\n",
    "    for comm in pred[:threshold]:\n",
    "        if comm in prev:\n",
    "            return 1\n",
    "    return 0\n",
    "\n",
    "# Does one of the top-threshold belong in the majority community in the previous history?\n",
    "def f(prev, pred, threshold=3):\n",
    "    hm = Counter(prev)\n",
    "    most_common = max(hm.keys(), key=hm.get)\n",
    "    \n",
    "    for comm in pred[:threshold]:\n",
    "        if comm == most_common:\n",
    "            return 1\n",
    "    return 0\n",
    "\n",
    "# What % of the top-threshold belongs in the most common community in the previous history\n",
    "def f(prev, pred, threshold=10):\n",
    "    hm = Counter(prev)\n",
    "    most_common = max(hm.keys(), key=hm.get)\n",
    "    \n",
    "    count = 0\n",
    "    for comm in pred[:threshold]:\n",
    "        if comm == most_common:\n",
    "            count += 1\n",
    "    return count / threshold"
   ]
  },
  {
   "cell_type": "code",
   "execution_count": 127,
   "id": "2f8fcec2-1045-4951-bc5b-8cc1c8c6241f",
   "metadata": {},
   "outputs": [],
   "source": [
    "# What percentage of the top-threshold predictions belong in a community in the previous history?\n",
    "def f(prev, pred, threshold=5):\n",
    "    count = 0\n",
    "    for comm in pred[:threshold]:\n",
    "        if comm in prev:\n",
    "            count += 1\n",
    "    return count / threshold\n",
    "\n",
    "# What percentage of the top-threshold predictions belong in the communities of the last threshold-items in the history?\n",
    "def f(prev, pred, threshold=10):\n",
    "    count = 0\n",
    "    for comm in pred[:threshold]:\n",
    "        if comm in list(reversed(prev))[:threshold]:\n",
    "            count += 1\n",
    "    return count / threshold"
   ]
  },
  {
   "cell_type": "markdown",
   "id": "85b1e4e1-230b-4632-9ba5-c2a670d8eef1",
   "metadata": {},
   "source": [
    "## Filter functions"
   ]
  },
  {
   "cell_type": "code",
   "execution_count": 128,
   "id": "8e3dc80b-5f03-4ec3-876a-ffda7451c0f4",
   "metadata": {},
   "outputs": [],
   "source": [
    "def filter(c):\n",
    "    hm = Counter(c)\n",
    "    for val in hm.values():\n",
    "        if val >= 0.9 * len(c):\n",
    "            return True\n",
    "    return False"
   ]
  },
  {
   "cell_type": "markdown",
   "id": "28dd2f05-e974-48c9-b2f9-a6cbb00b46bd",
   "metadata": {},
   "source": [
    "## This cell actually computes values"
   ]
  },
  {
   "cell_type": "code",
   "execution_count": 129,
   "id": "7c2787e0-2f59-45bb-97f4-d6f7065f2593",
   "metadata": {},
   "outputs": [],
   "source": [
    "counts = []\n",
    "n = len(prev_comm)\n",
    "threshold = 0\n",
    "\n",
    "for i in range(n):\n",
    "    c1, c2 = prev_comm[i], pred_comm[i]\n",
    "#     if not filter(c1):\n",
    "#         continue\n",
    "    if len(c1) < threshold:\n",
    "        continue\n",
    "    counts.append(f(c1,c2))"
   ]
  },
  {
   "cell_type": "code",
   "execution_count": 130,
   "id": "5ea3ceb7-fd13-460a-9428-2ded5ce4529b",
   "metadata": {},
   "outputs": [
    {
     "data": {
      "text/plain": [
       "0.9331102540834695"
      ]
     },
     "execution_count": 130,
     "metadata": {},
     "output_type": "execute_result"
    }
   ],
   "source": [
    "sum(counts)/len(counts)"
   ]
  },
  {
   "cell_type": "code",
   "execution_count": 131,
   "id": "143672b4-eb1e-4f44-8882-c6c3009eeb42",
   "metadata": {},
   "outputs": [
    {
     "data": {
      "text/plain": [
       "0.9331102540834695"
      ]
     },
     "execution_count": 131,
     "metadata": {},
     "output_type": "execute_result"
    }
   ],
   "source": [
    "sum(counts)/len(counts)"
   ]
  },
  {
   "cell_type": "code",
   "execution_count": null,
   "id": "0d8b4a96-f72e-4975-b984-d2d7049de15e",
   "metadata": {},
   "outputs": [],
   "source": [
    "1 -> 1\n",
    "12 -> 2\n",
    "122 -> 3\n",
    "1223 -> 4"
   ]
  },
  {
   "cell_type": "code",
   "execution_count": null,
   "id": "1b3710ae-8648-4141-8c1d-3a64bcc1ff1a",
   "metadata": {},
   "outputs": [],
   "source": [
    "valid_data"
   ]
  },
  {
   "cell_type": "code",
   "execution_count": null,
   "id": "42ad79a2-2e69-4c0c-929f-449be7347482",
   "metadata": {},
   "outputs": [],
   "source": []
  }
 ],
 "metadata": {
  "kernelspec": {
   "display_name": "cse_v1",
   "language": "python",
   "name": "cse_v1"
  },
  "language_info": {
   "codemirror_mode": {
    "name": "ipython",
    "version": 3
   },
   "file_extension": ".py",
   "mimetype": "text/x-python",
   "name": "python",
   "nbconvert_exporter": "python",
   "pygments_lexer": "ipython3",
   "version": "3.9.7"
  }
 },
 "nbformat": 4,
 "nbformat_minor": 5
}

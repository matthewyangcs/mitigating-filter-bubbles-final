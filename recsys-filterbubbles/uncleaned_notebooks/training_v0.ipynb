{
 "cells": [
  {
   "cell_type": "code",
   "execution_count": 1,
   "id": "24dd97c7-60e9-48f7-a28c-4f8f236aa6d2",
   "metadata": {},
   "outputs": [],
   "source": [
    "%load_ext autoreload"
   ]
  },
  {
   "cell_type": "code",
   "execution_count": 2,
   "id": "06555c04-6883-4237-9f28-0cd13f4b1022",
   "metadata": {},
   "outputs": [],
   "source": [
    "%autoreload 2"
   ]
  },
  {
   "cell_type": "code",
   "execution_count": 4,
   "id": "7a026ae5-657c-477b-83e2-cc02565861c2",
   "metadata": {},
   "outputs": [
    {
     "name": "stdout",
     "output_type": "stream",
     "text": [
      "/raid/home/myang349/recsys-filterbubbles\n"
     ]
    }
   ],
   "source": [
    "cd /raid/home/myang349/recsys-filterbubbles/"
   ]
  },
  {
   "cell_type": "markdown",
   "id": "7d254c7a-e088-42a7-8921-224b7102b7a7",
   "metadata": {},
   "source": [
    "# Imports"
   ]
  },
  {
   "cell_type": "code",
   "execution_count": 5,
   "id": "d90ae3b3-5451-48a5-a3ef-1afe482c4feb",
   "metadata": {},
   "outputs": [],
   "source": [
    "import torch\n",
    "import torch.nn as nn\n",
    "import torch.nn.functional as F\n",
    "import os\n",
    "import torch.optim as optim\n",
    "from os import listdir\n",
    "from os.path import isfile, join\n",
    "from tracin.tracin import (\n",
    "    save_tracin_checkpoint,\n",
    "    load_tracin_checkpoint,\n",
    "    calculate_tracin_influence,\n",
    ")\n",
    "import pandas as pd\n",
    "from LSTM_clean.utils import filter_and_split_data, sequence_generator, printl\n",
    "from LSTM_clean.model import LSTM \n",
    "from collections import Counter\n",
    "import numpy as np\n",
    "import pickle\n",
    "from collections import defaultdict\n",
    "import copy\n",
    "from torch.optim import SGD"
   ]
  },
  {
   "cell_type": "code",
   "execution_count": 6,
   "id": "f0852160-047e-493c-bd14-b3158bcdcab6",
   "metadata": {},
   "outputs": [
    {
     "name": "stdout",
     "output_type": "stream",
     "text": [
      "Device is  cuda\n"
     ]
    }
   ],
   "source": [
    "# Setting Cuda\n",
    "device = torch.device(\"cuda\" if torch.cuda.is_available() else \"cpu\")\n",
    "print(\"Device is \", device)"
   ]
  },
  {
   "cell_type": "markdown",
   "id": "60139e17-a049-4f53-bb56-48be61d15ff0",
   "metadata": {},
   "source": [
    "# Config"
   ]
  },
  {
   "cell_type": "code",
   "execution_count": 7,
   "id": "cc0d1f4a-4974-4b2e-afd9-9be5181517d0",
   "metadata": {},
   "outputs": [],
   "source": [
    "SAVE_FOLDER = \"/raid/home/myang349/recsys-filterbubbles/data/twitch_sequence/\"\n",
    "SAVE_TRAIN_NAME = \"train.data\"\n",
    "SAVE_VALID_NAME = \"valid.data\"\n",
    "SAVE_TEST_NAME = \"test.data\""
   ]
  },
  {
   "cell_type": "markdown",
   "id": "4819eade-ffdc-453f-b01c-786a97e37545",
   "metadata": {},
   "source": [
    "# Load in data"
   ]
  },
  {
   "cell_type": "code",
   "execution_count": 8,
   "id": "6a49bd8c-3cb3-4531-b2ba-9ebfcc150521",
   "metadata": {},
   "outputs": [],
   "source": [
    "# The format is:\n",
    "# N x 2 x (sequence, \n",
    "train_data = np.load(os.path.join(SAVE_FOLDER, SAVE_TRAIN_NAME), allow_pickle=True)\n",
    "valid_data = np.load(os.path.join(SAVE_FOLDER, SAVE_VALID_NAME), allow_pickle=True)\n",
    "test_data = np.load(os.path.join(SAVE_FOLDER, SAVE_TEST_NAME), allow_pickle=True)"
   ]
  },
  {
   "cell_type": "markdown",
   "id": "a72c8995-f186-42a7-a9f5-d8e6399b903d",
   "metadata": {},
   "source": [
    "# Concat all data together"
   ]
  },
  {
   "cell_type": "code",
   "execution_count": 20,
   "id": "804139aa-c9a8-49f6-8114-51fe5434f90f",
   "metadata": {},
   "outputs": [],
   "source": [
    "# NOTE: very important that this is NOT a copy\n",
    "# We use all-data to change the indices for all the data\n",
    "all_data = train_data + valid_data + test_data\n",
    "assert len(all_data) == len(train_data) + len(valid_data) + len(test_data)"
   ]
  },
  {
   "cell_type": "code",
   "execution_count": 21,
   "id": "323e1c03-1878-42d3-9358-a8b9dd1266c1",
   "metadata": {},
   "outputs": [
    {
     "data": {
      "text/plain": [
       "90609"
      ]
     },
     "execution_count": 21,
     "metadata": {},
     "output_type": "execute_result"
    }
   ],
   "source": [
    "len(all_data)"
   ]
  },
  {
   "cell_type": "markdown",
   "id": "625a98cc-5359-4ff5-ae84-555a70ed79ef",
   "metadata": {},
   "source": [
    "# Obtaining Mapping Info"
   ]
  },
  {
   "cell_type": "code",
   "execution_count": 11,
   "id": "feeb69c3-a943-48f5-98a7-cf33b367fc45",
   "metadata": {},
   "outputs": [],
   "source": [
    "unique_items = set()\n",
    "for data_point in all_data:\n",
    "    sequence = data_point[0]\n",
    "    unique_items |= set(sequence)"
   ]
  },
  {
   "cell_type": "code",
   "execution_count": 12,
   "id": "5cca1213-7573-4a58-ada3-c62385999737",
   "metadata": {},
   "outputs": [
    {
     "name": "stdout",
     "output_type": "stream",
     "text": [
      "5367\n",
      "5400\n"
     ]
    }
   ],
   "source": [
    "# Union all items from sequence\n",
    "unique_items = set()\n",
    "for data_point in all_data:\n",
    "    sequence = data_point[0]\n",
    "    unique_items |= set(sequence)\n",
    "print(len(unique_items))\n",
    "\n",
    "# Union all GT items\n",
    "unique_items = unique_items.union(data_point[1] for data_point in all_data)\n",
    "print(len(unique_items))"
   ]
  },
  {
   "cell_type": "code",
   "execution_count": 13,
   "id": "4a6331d9-9c20-48cd-beb6-d1af49c65379",
   "metadata": {},
   "outputs": [
    {
     "data": {
      "text/plain": [
       "True"
      ]
     },
     "execution_count": 13,
     "metadata": {},
     "output_type": "execute_result"
    }
   ],
   "source": [
    "0 in unique_items"
   ]
  },
  {
   "cell_type": "code",
   "execution_count": 18,
   "id": "4a381727-fb2e-4994-8828-d7d57e33c847",
   "metadata": {},
   "outputs": [],
   "source": [
    "# Remove gaps from items\n",
    "item_to_lstm_idx = {item:idx for (idx,item) in enumerate(unique_items)}\n",
    "lstm_idx_to_item = {v: k for k,v in item_to_lstm_idx.items()}\n",
    "\n",
    "\n",
    "# Apply mapping\n",
    "for data_point in all_data:\n",
    "    sequence = data_point[0]\n",
    "    gt = data_point[1]\n",
    "    for i, item in enumerate(sequence):\n",
    "        sequence[i] = item_to_lstm_idx[item]\n",
    "    data_point[1] = item_to_lstm_idx[gt]\n"
   ]
  },
  {
   "cell_type": "code",
   "execution_count": null,
   "id": "cc7a2361-f58f-40da-ae70-45aceb332ab9",
   "metadata": {},
   "outputs": [],
   "source": [
    "lstm_idx_to_item"
   ]
  },
  {
   "cell_type": "code",
   "execution_count": 15,
   "id": "ea96d0a9-b6a0-46bf-932c-9433a9f44ee9",
   "metadata": {},
   "outputs": [
    {
     "ename": "AssertionError",
     "evalue": "",
     "output_type": "error",
     "traceback": [
      "\u001b[0;31m---------------------------------------------------------------------------\u001b[0m",
      "\u001b[0;31mAssertionError\u001b[0m                            Traceback (most recent call last)",
      "\u001b[0;32m/tmp/ipykernel_466391/827675620.py\u001b[0m in \u001b[0;36m<module>\u001b[0;34m\u001b[0m\n\u001b[1;32m      1\u001b[0m \u001b[0;32mfor\u001b[0m \u001b[0mi\u001b[0m \u001b[0;32min\u001b[0m \u001b[0mrange\u001b[0m\u001b[0;34m(\u001b[0m\u001b[0mlen\u001b[0m\u001b[0;34m(\u001b[0m\u001b[0mtrain_data\u001b[0m\u001b[0;34m)\u001b[0m\u001b[0;34m)\u001b[0m\u001b[0;34m:\u001b[0m\u001b[0;34m\u001b[0m\u001b[0;34m\u001b[0m\u001b[0m\n\u001b[0;32m----> 2\u001b[0;31m     \u001b[0;32massert\u001b[0m \u001b[0mtrain_data\u001b[0m\u001b[0;34m[\u001b[0m\u001b[0mi\u001b[0m\u001b[0;34m]\u001b[0m \u001b[0;34m==\u001b[0m \u001b[0mall_data\u001b[0m\u001b[0;34m[\u001b[0m\u001b[0mi\u001b[0m\u001b[0;34m]\u001b[0m\u001b[0;34m\u001b[0m\u001b[0;34m\u001b[0m\u001b[0m\n\u001b[0m",
      "\u001b[0;31mAssertionError\u001b[0m: "
     ]
    }
   ],
   "source": [
    "for i in range(len(train_data)):\n",
    "    assert train_data[i] == all_data[i]"
   ]
  },
  {
   "cell_type": "code",
   "execution_count": 14,
   "id": "ed237a02-75c0-4da7-a03a-d27999498112",
   "metadata": {},
   "outputs": [
    {
     "name": "stdout",
     "output_type": "stream",
     "text": [
      "Train: 71465, Test: 10231\n",
      "Model is  LSTM(\n",
      "  (item_emb): Embedding(5400, 128, padding_idx=0)\n",
      "  (LSTM): LSTM(128, 64, batch_first=True)\n",
      "  (fc): Linear(in_features=64, out_features=5400, bias=True)\n",
      ")\n",
      "Training and testing\n",
      "train # = 71465\ttest # = 8913\n",
      "Epoch 0\tTrain Loss: 0.016842331176023323\tTest MRR: 0.0023048682363635974\tTest Recall@10: 0.0030292830696735107\tElapsed time: 0.9526858329772949\n",
      "saving checkpoint to /raid/home/myang349/recsys-filterbubbles/checkpoints/lstm_checkpoint_epoch0.pt\n",
      "Epoch 5\tTrain Loss: 0.016645551046447393\tTest MRR: 0.03504889731721179\tTest Recall@10: 0.06181981375518905\tElapsed time: 3.5559792518615723\n",
      "Epoch 10\tTrain Loss: 0.01615201595372853\tTest MRR: 0.04133498552676434\tTest Recall@10: 0.08392236059688096\tElapsed time: 3.790386199951172\n",
      "saving checkpoint to /raid/home/myang349/recsys-filterbubbles/checkpoints/lstm_checkpoint_epoch10.pt\n",
      "Epoch 15\tTrain Loss: 0.01543171929402339\tTest MRR: 0.043249023377024985\tTest Recall@10: 0.08268820823516213\tElapsed time: 3.55177903175354\n",
      "Epoch 20\tTrain Loss: 0.01496068299513104\tTest MRR: 0.05087511470489605\tTest Recall@10: 0.10187366767642769\tElapsed time: 3.407604455947876\n",
      "saving checkpoint to /raid/home/myang349/recsys-filterbubbles/checkpoints/lstm_checkpoint_epoch20.pt\n",
      "Epoch 25\tTrain Loss: 0.014657529046134652\tTest MRR: 0.059585241780223085\tTest Recall@10: 0.12453719286435544\tElapsed time: 3.361968994140625\n",
      "Epoch 30\tTrain Loss: 0.014428069207363546\tTest MRR: 0.06969435115180167\tTest Recall@10: 0.14046897789745316\tElapsed time: 3.3551409244537354\n",
      "saving checkpoint to /raid/home/myang349/recsys-filterbubbles/checkpoints/lstm_checkpoint_epoch30.pt\n",
      "Epoch 35\tTrain Loss: 0.01421656633602733\tTest MRR: 0.08176748769601011\tTest Recall@10: 0.15561539324582072\tElapsed time: 3.294982433319092\n",
      "Epoch 40\tTrain Loss: 0.013996346609208612\tTest MRR: 0.09172946680620993\tTest Recall@10: 0.17457646134859195\tElapsed time: 3.2993714809417725\n",
      "saving checkpoint to /raid/home/myang349/recsys-filterbubbles/checkpoints/lstm_checkpoint_epoch40.pt\n",
      "Epoch 45\tTrain Loss: 0.01376200633061355\tTest MRR: 0.10278142601164574\tTest Recall@10: 0.1979131605520027\tElapsed time: 3.2783331871032715\n",
      "Epoch 50\tTrain Loss: 0.01364164315719247\tTest MRR: 0.10804474080594276\tTest Recall@10: 0.21283518456187592\tElapsed time: 3.328045129776001\n",
      "saving checkpoint to /raid/home/myang349/recsys-filterbubbles/checkpoints/lstm_checkpoint_epoch50.pt\n",
      "Epoch 55\tTrain Loss: 0.013364923261390108\tTest MRR: 0.11893259129460153\tTest Recall@10: 0.236396275103781\tElapsed time: 3.2961747646331787\n",
      "Epoch 60\tTrain Loss: 0.013280415813542393\tTest MRR: 0.12165848423116361\tTest Recall@10: 0.24155727588915069\tElapsed time: 3.2351391315460205\n",
      "saving checkpoint to /raid/home/myang349/recsys-filterbubbles/checkpoints/lstm_checkpoint_epoch60.pt\n",
      "Epoch 65\tTrain Loss: 0.013183236534146943\tTest MRR: 0.1249514370600177\tTest Recall@10: 0.24671827667452037\tElapsed time: 3.2527894973754883\n",
      "Epoch 70\tTrain Loss: 0.013008401336008028\tTest MRR: 0.13315248185363068\tTest Recall@10: 0.2618646920228879\tElapsed time: 3.2898659706115723\n",
      "saving checkpoint to /raid/home/myang349/recsys-filterbubbles/checkpoints/lstm_checkpoint_epoch70.pt\n",
      "Epoch 75\tTrain Loss: 0.012792462454560772\tTest MRR: 0.13874524901138308\tTest Recall@10: 0.27577695500953664\tElapsed time: 3.3000619411468506\n",
      "Epoch 80\tTrain Loss: 0.012595058216438462\tTest MRR: 0.14728662887841995\tTest Recall@10: 0.2893526309884438\tElapsed time: 3.2843451499938965\n",
      "saving checkpoint to /raid/home/myang349/recsys-filterbubbles/checkpoints/lstm_checkpoint_epoch80.pt\n",
      "Epoch 85\tTrain Loss: 0.012634081251015901\tTest MRR: 0.143537488650006\tTest Recall@10: 0.2837428475260855\tElapsed time: 3.31069278717041\n",
      "Epoch 90\tTrain Loss: 0.012533401226902295\tTest MRR: 0.14611004456580598\tTest Recall@10: 0.28755750028048915\tElapsed time: 3.28123140335083\n",
      "saving checkpoint to /raid/home/myang349/recsys-filterbubbles/checkpoints/lstm_checkpoint_epoch90.pt\n",
      "Epoch 95\tTrain Loss: 0.01234494930366885\tTest MRR: 0.15462703333724334\tTest Recall@10: 0.2993380455514417\tElapsed time: 3.245715618133545\n",
      "Finished\n"
     ]
    }
   ],
   "source": [
    "print(\"Train: {}, Test: {}\".format(len(train_data),len(test_data)))\n",
    "\n",
    "## We don't have to add 1 to output size because we don't exclude 0 from len(unique_items)\n",
    "model = LSTM(input_size=128, output_size=len(unique_items), hidden_dim=64, n_layers=1, device=device).to(device)\n",
    "model.LSTM.flatten_parameters()\n",
    "print(\"Model is \", model)\n",
    "print(\"Training and testing\")\n",
    "original_prediction = model.traintest(train=train_data,test=valid_data, epochs=100)\n",
    "print(\"Finished\")"
   ]
  },
  {
   "cell_type": "markdown",
   "id": "3f0964ff-11b1-4b92-979c-b28b55c16ffd",
   "metadata": {},
   "source": [
    "# Exploring Data"
   ]
  },
  {
   "cell_type": "markdown",
   "id": "49a4f5ec-f452-409a-93ce-c45083e15208",
   "metadata": {},
   "source": [
    "## Loading Model from checkpoint"
   ]
  },
  {
   "cell_type": "code",
   "execution_count": 19,
   "id": "e64ade1c-806e-484c-9a54-5afd018d7034",
   "metadata": {},
   "outputs": [],
   "source": [
    "model = LSTM(input_size=128, output_size=len(unique_items), hidden_dim=64, n_layers=1, device=device).to(device)\n",
    "optimizer = SGD(model.parameters(), lr=5e-2, momentum=0.9)"
   ]
  },
  {
   "cell_type": "code",
   "execution_count": 21,
   "id": "85b4966e-436d-49fd-a29c-1cea3a8d721d",
   "metadata": {},
   "outputs": [
    {
     "data": {
      "text/plain": [
       "(LSTM(\n",
       "   (item_emb): Embedding(5400, 128, padding_idx=0)\n",
       "   (LSTM): LSTM(128, 64, batch_first=True)\n",
       "   (fc): Linear(in_features=64, out_features=5400, bias=True)\n",
       " ),\n",
       " SGD (\n",
       " Parameter Group 0\n",
       "     dampening: 0\n",
       "     lr: 0.005\n",
       "     momentum: 0.9\n",
       "     nesterov: False\n",
       "     weight_decay: 0\n",
       " ),\n",
       " 90,\n",
       " 895.6995186805725)"
      ]
     },
     "execution_count": 21,
     "metadata": {},
     "output_type": "execute_result"
    }
   ],
   "source": [
    "load_tracin_checkpoint(model, optimizer, '/raid/home/myang349/recsys-filterbubbles/checkpoints/lstm_checkpoint_epoch90.pt')"
   ]
  },
  {
   "cell_type": "markdown",
   "id": "a2b1b484-d70b-4aad-ad4b-9cf18f6a8a57",
   "metadata": {},
   "source": [
    "## Converting data to embedding space"
   ]
  },
  {
   "cell_type": "code",
   "execution_count": 20,
   "id": "ec9e8b0d-1cc7-4df9-9c31-dc275384fd30",
   "metadata": {},
   "outputs": [],
   "source": [
    "train = copy.deepcopy(train_data)\n",
    "for i in range(len(train)):\n",
    "    train[i][0] = model.item_emb(torch.LongTensor(train[i][0]).to(model.device))"
   ]
  },
  {
   "cell_type": "markdown",
   "id": "e6bd2cb3-1abe-4c72-8e24-2307d8d4447c",
   "metadata": {},
   "source": [
    "## Examining single vectors to manually inspect filter bubble"
   ]
  },
  {
   "cell_type": "code",
   "execution_count": 22,
   "id": "30ebb9e1-6891-410c-8410-ddaaa95b5399",
   "metadata": {},
   "outputs": [],
   "source": [
    "i = 300"
   ]
  },
  {
   "cell_type": "code",
   "execution_count": 23,
   "id": "e65e5ef8-062d-4860-8e79-73969aa3fac6",
   "metadata": {},
   "outputs": [
    {
     "name": "stdout",
     "output_type": "stream",
     "text": [
      "[166, 167, 168, 169, 16, 170, 171, 113, 16, 16] 172\n"
     ]
    }
   ],
   "source": [
    "## dataset format\n",
    "full_hist = train_data[i][0]\n",
    "hist = [x for x in full_hist if x != 0]\n",
    "gt = train_data[i][1]\n",
    "print(hist, gt)"
   ]
  },
  {
   "cell_type": "code",
   "execution_count": 24,
   "id": "6bf25cfb-c01a-47a0-8144-efec42f31a39",
   "metadata": {},
   "outputs": [
    {
     "name": "stdout",
     "output_type": "stream",
     "text": [
      "[667, 667, 667, 667, 667]\n"
     ]
    }
   ],
   "source": [
    "# Rig data here if not using i (above)\n",
    "hist = [667, 667, 667, 667, 667]\n",
    "print(hist)"
   ]
  },
  {
   "cell_type": "code",
   "execution_count": 25,
   "id": "2bd6c90b-20b8-4a60-9f69-e8143d862403",
   "metadata": {},
   "outputs": [],
   "source": [
    "## model format\n",
    "# curr = torch.stack((train[i][0],), dim=0).detach()\n",
    "# convert single vector to embed\n",
    "curr = model.item_emb(torch.LongTensor(hist).to(model.device))\n",
    "curr = torch.stack((curr,), dim=0).detach()"
   ]
  },
  {
   "cell_type": "markdown",
   "id": "2e1abce5-a683-4af7-97bf-eab463a518e7",
   "metadata": {},
   "source": [
    "## Item Extraction"
   ]
  },
  {
   "cell_type": "code",
   "execution_count": 26,
   "id": "3c183876-eb7e-4f10-81db-7e1bf84f9102",
   "metadata": {},
   "outputs": [],
   "source": [
    "output, hidden = model.forward(curr)\n",
    "output1 = output.view(-1, model.num_items)\n",
    "prob = nn.functional.softmax(output1, dim=1).data.cpu()\n",
    "k = 50"
   ]
  },
  {
   "cell_type": "markdown",
   "id": "7f8d749f-818e-4d24-84f7-2aa2437ddcf3",
   "metadata": {
    "tags": []
   },
   "source": [
    "## Item Extraction Method 1: Torch"
   ]
  },
  {
   "cell_type": "code",
   "execution_count": 27,
   "id": "9cefa9da-3024-4902-9def-653fb0386222",
   "metadata": {},
   "outputs": [
    {
     "name": "stdout",
     "output_type": "stream",
     "text": [
      "[44, 113, 212, 41, 1954, 69, 667, 537, 3220, 460, 16, 1741, 54, 43, 427, 147, 39, 353, 888, 647, 463, 553, 428, 277, 431, 573, 502, 66, 341, 629, 169, 140, 569, 165, 462, 709, 536, 1412, 559, 46, 2234, 21, 148, 64, 149, 928, 215, 457, 1000, 2359]\n"
     ]
    }
   ],
   "source": [
    "topk = torch.topk(output, k).indices.tolist()\n",
    "print(topk[0])"
   ]
  },
  {
   "cell_type": "markdown",
   "id": "e7e51fd9-cdb6-4ac4-9441-36c2da2373ec",
   "metadata": {},
   "source": [
    "## Item Extraction Method 2: Numpy"
   ]
  },
  {
   "cell_type": "code",
   "execution_count": 49,
   "id": "984569c8-5c2b-46bc-ac95-84ad3efa9d93",
   "metadata": {},
   "outputs": [
    {
     "name": "stdout",
     "output_type": "stream",
     "text": [
      "[44, 113, 212, 41, 1954, 667, 3220, 537, 69, 147, 16, 277, 502, 39, 341, 353, 66, 647, 140, 43, 888, 629, 460, 169, 1741, 70, 410, 54, 553, 64, 71, 215, 431, 2234, 428, 819, 46, 536, 928, 463, 380, 573, 925, 427, 1958, 1371, 72, 307, 2359, 711]\n"
     ]
    }
   ],
   "source": [
    "print(list(np.argsort(-prob.numpy())[0][:k]))"
   ]
  },
  {
   "cell_type": "code",
   "execution_count": 68,
   "id": "e7f59891-f353-4410-a0f7-ddf013699ab7",
   "metadata": {},
   "outputs": [
    {
     "data": {
      "text/plain": [
       "array([[4.6355075e-05, 1.1106163e-02, 5.6383542e-05, ..., 2.5252750e-05,\n",
       "        2.7392212e-05, 3.5436089e-05]], dtype=float32)"
      ]
     },
     "execution_count": 68,
     "metadata": {},
     "output_type": "execute_result"
    }
   ],
   "source": [
    "np_prob"
   ]
  },
  {
   "cell_type": "code",
   "execution_count": null,
   "id": "2e7240d5-be9c-44e2-9907-73d67a97232c",
   "metadata": {},
   "outputs": [],
   "source": []
  }
 ],
 "metadata": {
  "kernelspec": {
   "display_name": "cse_v1",
   "language": "python",
   "name": "cse_v1"
  },
  "language_info": {
   "codemirror_mode": {
    "name": "ipython",
    "version": 3
   },
   "file_extension": ".py",
   "mimetype": "text/x-python",
   "name": "python",
   "nbconvert_exporter": "python",
   "pygments_lexer": "ipython3",
   "version": "3.9.7"
  }
 },
 "nbformat": 4,
 "nbformat_minor": 5
}

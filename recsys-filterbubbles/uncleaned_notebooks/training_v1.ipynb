{
 "cells": [
  {
   "cell_type": "code",
   "execution_count": 2,
   "id": "24dd97c7-60e9-48f7-a28c-4f8f236aa6d2",
   "metadata": {},
   "outputs": [],
   "source": [
    "%load_ext autoreload"
   ]
  },
  {
   "cell_type": "code",
   "execution_count": 3,
   "id": "06555c04-6883-4237-9f28-0cd13f4b1022",
   "metadata": {},
   "outputs": [],
   "source": [
    "%autoreload 2"
   ]
  },
  {
   "cell_type": "code",
   "execution_count": 4,
   "id": "7a026ae5-657c-477b-83e2-cc02565861c2",
   "metadata": {},
   "outputs": [
    {
     "name": "stdout",
     "output_type": "stream",
     "text": [
      "/raid/home/myang349/recsys-filterbubbles\n"
     ]
    }
   ],
   "source": [
    "cd /raid/home/myang349/recsys-filterbubbles/"
   ]
  },
  {
   "cell_type": "markdown",
   "id": "7d254c7a-e088-42a7-8921-224b7102b7a7",
   "metadata": {},
   "source": [
    "# Imports"
   ]
  },
  {
   "cell_type": "code",
   "execution_count": 188,
   "id": "d90ae3b3-5451-48a5-a3ef-1afe482c4feb",
   "metadata": {},
   "outputs": [],
   "source": [
    "import torch\n",
    "import torch.nn as nn\n",
    "import torch.nn.functional as F\n",
    "import os\n",
    "import torch.optim as optim\n",
    "from os import listdir\n",
    "from os.path import isfile, join\n",
    "from tracin.tracin import (\n",
    "    save_tracin_checkpoint,\n",
    "    load_tracin_checkpoint,\n",
    "    calculate_tracin_influence,\n",
    ")\n",
    "import pandas as pd\n",
    "from LSTM_clean.utils import filter_and_split_data, sequence_generator, printl\n",
    "from LSTM_clean.model import LSTM \n",
    "from collections import Counter\n",
    "import numpy as np\n",
    "import pickle\n",
    "from collections import defaultdict\n",
    "import copy\n",
    "from torch.optim import SGD\n",
    "from lstm_wrapper import train_model, get_topk_predictions"
   ]
  },
  {
   "cell_type": "markdown",
   "id": "4819eade-ffdc-453f-b01c-786a97e37545",
   "metadata": {
    "tags": []
   },
   "source": [
    "# Loading Data"
   ]
  },
  {
   "cell_type": "code",
   "execution_count": 126,
   "id": "65adf59a-bc79-45d1-a6c6-af7e438641ad",
   "metadata": {},
   "outputs": [],
   "source": [
    "# Data Location\n",
    "SAVE_FOLDER = \"/raid/home/myang349/recsys-filterbubbles/data/twitch_sequence/\"\n",
    "SAVE_TRAIN_NAME = \"train.data\"\n",
    "SAVE_VALID_NAME = \"valid.data\"\n",
    "SAVE_TEST_NAME = \"test.data\""
   ]
  },
  {
   "cell_type": "code",
   "execution_count": 196,
   "id": "549da024-090a-4a64-8e5c-a353dc9379f4",
   "metadata": {},
   "outputs": [],
   "source": [
    "train_data = np.load(os.path.join(SAVE_FOLDER, SAVE_TRAIN_NAME), allow_pickle=True)\n",
    "valid_data = np.load(os.path.join(SAVE_FOLDER, SAVE_VALID_NAME), allow_pickle=True)"
   ]
  },
  {
   "cell_type": "markdown",
   "id": "60696508-31dc-45dd-a281-d9e27c6ef797",
   "metadata": {},
   "source": [
    "# Training"
   ]
  },
  {
   "cell_type": "code",
   "execution_count": 45,
   "id": "c5f9b673-ab80-46a4-b827-f56308eb1dfa",
   "metadata": {},
   "outputs": [
    {
     "name": "stdout",
     "output_type": "stream",
     "text": [
      "Device is cuda\n",
      "Train: 71465, Test: 10231\n",
      "Model is  LSTM(\n",
      "  (item_emb): Embedding(5400, 128, padding_idx=0)\n",
      "  (LSTM): LSTM(128, 64, batch_first=True)\n",
      "  (fc): Linear(in_features=64, out_features=5400, bias=True)\n",
      ")\n",
      "\n",
      "Training and testing\n",
      "train # = 71465, test # = 10231\n",
      "\n",
      "Epoch 0\tTrain Loss: 0.01683359364302941\tTest MRR: 0.0020169323878277317\tTest Recall@10: 0.002150327436223243\tElapsed time: 1.993915319442749\n",
      "saving checkpoint to /raid/home/myang349/recsys-filterbubbles/checkpoints/lstm_checkpoint_epoch0.pt\n",
      "Epoch 5\tTrain Loss: 0.016641196638777334\tTest MRR: 0.040412084205684845\tTest Recall@10: 0.07408855439350992\tElapsed time: 7.634873151779175\n",
      "Epoch 10\tTrain Loss: 0.016163602419432654\tTest MRR: 0.045309320656974655\tTest Recall@10: 0.08992278369660835\tElapsed time: 7.055970668792725\n",
      "saving checkpoint to /raid/home/myang349/recsys-filterbubbles/checkpoints/lstm_checkpoint_epoch10.pt\n",
      "Epoch 15\tTrain Loss: 0.015449316236559625\tTest MRR: 0.04690807107393686\tTest Recall@10: 0.09148665819567979\tElapsed time: 7.63652777671814\n",
      "Epoch 20\tTrain Loss: 0.014965175713267094\tTest MRR: 0.05543600592269566\tTest Recall@10: 0.11416283843221582\tElapsed time: 8.050939559936523\n",
      "saving checkpoint to /raid/home/myang349/recsys-filterbubbles/checkpoints/lstm_checkpoint_epoch20.pt\n",
      "Epoch 25\tTrain Loss: 0.014646072203539353\tTest MRR: 0.07076879036740463\tTest Recall@10: 0.13732772944971167\tElapsed time: 7.995039939880371\n",
      "Epoch 30\tTrain Loss: 0.014389484397243905\tTest MRR: 0.08144096784943927\tTest Recall@10: 0.1548235754080735\tElapsed time: 8.339429140090942\n",
      "saving checkpoint to /raid/home/myang349/recsys-filterbubbles/checkpoints/lstm_checkpoint_epoch30.pt\n",
      "Epoch 35\tTrain Loss: 0.014141651625430735\tTest MRR: 0.09164487380466717\tTest Recall@10: 0.17681556055126577\tElapsed time: 8.20229697227478\n",
      "Epoch 40\tTrain Loss: 0.013898854444836467\tTest MRR: 0.10179889362590651\tTest Recall@10: 0.2031082005669045\tElapsed time: 8.604209184646606\n",
      "saving checkpoint to /raid/home/myang349/recsys-filterbubbles/checkpoints/lstm_checkpoint_epoch40.pt\n",
      "Epoch 45\tTrain Loss: 0.013656677903183562\tTest MRR: 0.11467936958138591\tTest Recall@10: 0.22431824846056103\tElapsed time: 8.699018239974976\n",
      "Epoch 50\tTrain Loss: 0.013432934392134938\tTest MRR: 0.12528381425477586\tTest Recall@10: 0.24112989932557913\tElapsed time: 8.652045011520386\n",
      "saving checkpoint to /raid/home/myang349/recsys-filterbubbles/checkpoints/lstm_checkpoint_epoch50.pt\n",
      "\n",
      "Finished!\n"
     ]
    }
   ],
   "source": [
    "model = myang_train_lstm.main()"
   ]
  },
  {
   "cell_type": "markdown",
   "id": "2e1abce5-a683-4af7-97bf-eab463a518e7",
   "metadata": {},
   "source": [
    "## Verifying Predictions"
   ]
  },
  {
   "cell_type": "code",
   "execution_count": null,
   "id": "10986d00-1281-4e3c-9c5c-bb5b9ef92d50",
   "metadata": {},
   "outputs": [],
   "source": [
    "# working\n",
    "# 839, 860"
   ]
  },
  {
   "cell_type": "code",
   "execution_count": 199,
   "id": "211f7516-a5f0-47e9-9793-66fd880f0f61",
   "metadata": {},
   "outputs": [
    {
     "name": "stdout",
     "output_type": "stream",
     "text": [
      "[   0    0    0    0    0    0    0    0    0    0    0    0    0   16\n",
      " 1563  867 1563   16 1563 1971 1353 1003 1853  867 1353 1972 1563 1973\n",
      "  429   16 1563 1563 1854 1974   16 1563  429 1003  429 1563   16 1854\n",
      " 1854 1938 1975 1353  428  428  867] 1976\n",
      "[   0    0    0    0    0    0    0    0    0    0    0    0   16 1563\n",
      "  867 1563   16 1563 1971 1353 1003 1853  867 1353 1972 1563 1973  429\n",
      "   16 1563 1563 1854 1974   16 1563  429 1003  429 1563   16 1854 1854\n",
      " 1938 1975 1353  428  428  867 1976] 545\n"
     ]
    }
   ],
   "source": [
    "i=839\n",
    "k=15\n",
    "\n",
    "# print(np.array(train_data[i][0]))\n",
    "# print(train_data[i][1])\n",
    "\n",
    "# Create embeddings\n",
    "data = [\n",
    "    valid_data[i][0],\n",
    "    valid_data[i+1][0],\n",
    "]\n",
    "\n",
    "gt = [\n",
    "    valid_data[i][1],\n",
    "    valid_data[i+1][1]\n",
    "]\n",
    "\n",
    "for i, pt in enumerate(data):\n",
    "    print(np.array(pt), gt[i])\n",
    "\n",
    "embedded_data = []\n",
    "for pt in data:\n",
    "    embedded_data.append(model.item_emb(torch.LongTensor(pt).to(model.device)))\n",
    "# Move to torch\n",
    "embedded_data = torch.stack(embedded_data, dim=0).detach()\n",
    "\n",
    "output, hidden = model.forward(embedded_data)\n",
    "preds = torch.topk(output, k).indices.tolist()"
   ]
  },
  {
   "cell_type": "code",
   "execution_count": 200,
   "id": "8895cfed-662a-4e6f-bfff-97ddaa89b6fc",
   "metadata": {},
   "outputs": [
    {
     "name": "stdout",
     "output_type": "stream",
     "text": [
      "[[ 16 235 165 113 296 297 288 180 294 156 234  22 515 301 333]\n",
      " [ 16 113 165 235 296 180 294 297 515  22 333 465 502 288 234]]\n"
     ]
    }
   ],
   "source": [
    "print(np.array(preds))"
   ]
  },
  {
   "cell_type": "code",
   "execution_count": 147,
   "id": "05797b6c-0650-42a0-a27f-0f3a4997392b",
   "metadata": {},
   "outputs": [
    {
     "data": {
      "text/plain": [
       "36"
      ]
     },
     "execution_count": 147,
     "metadata": {},
     "output_type": "execute_result"
    }
   ],
   "source": [
    "train_data[i][1]"
   ]
  },
  {
   "cell_type": "code",
   "execution_count": 148,
   "id": "1161735e-2806-4647-9f0a-1bb986612e4f",
   "metadata": {},
   "outputs": [],
   "source": [
    "data = [\n",
    "    train_data[i][0]\n",
    "]"
   ]
  },
  {
   "cell_type": "code",
   "execution_count": 149,
   "id": "73518522-5f39-40bd-9e22-d92199cbe2dd",
   "metadata": {},
   "outputs": [],
   "source": [
    "# Create embeddings\n",
    "embedded_data = []\n",
    "for pt in data:\n",
    "    embedded_data.append(model.item_emb(torch.LongTensor(pt).to(model.device)))\n",
    "# Move to torch\n",
    "embedded_data = torch.stack(embedded_data, dim=0).detach()"
   ]
  },
  {
   "cell_type": "code",
   "execution_count": 150,
   "id": "ea365b30-c2f1-460d-bd54-0359921bf63f",
   "metadata": {},
   "outputs": [],
   "source": [
    "output, hidden = model.forward(embedded_data)"
   ]
  },
  {
   "cell_type": "code",
   "execution_count": 151,
   "id": "988b836b-da0c-4206-8b9e-1b10ca21b287",
   "metadata": {},
   "outputs": [],
   "source": [
    "k=10"
   ]
  },
  {
   "cell_type": "code",
   "execution_count": 152,
   "id": "31073662-2480-4ee7-9cfc-54ece1bbd2da",
   "metadata": {},
   "outputs": [],
   "source": [
    "preds = torch.topk(output, k).indices.tolist()"
   ]
  },
  {
   "cell_type": "code",
   "execution_count": 153,
   "id": "2455933b-9268-4623-9d1f-cbb9a60c113f",
   "metadata": {},
   "outputs": [
    {
     "data": {
      "text/plain": [
       "[[1, 3, 6, 40, 602, 679, 44, 41, 80, 604]]"
      ]
     },
     "execution_count": 153,
     "metadata": {},
     "output_type": "execute_result"
    }
   ],
   "source": [
    "preds"
   ]
  },
  {
   "cell_type": "code",
   "execution_count": 112,
   "id": "29b97d31-8869-4bcd-9e16-a2c417ab00fa",
   "metadata": {},
   "outputs": [
    {
     "data": {
      "text/plain": [
       "[[963, 1007, 224, 232, 40, 602, 44, 41, 462, 235],\n",
       " [1, 6, 9, 80, 427, 3, 4, 10, 558, 43],\n",
       " [235, 462, 234, 465, 662, 431, 1007, 169, 288, 115]]"
      ]
     },
     "execution_count": 112,
     "metadata": {},
     "output_type": "execute_result"
    }
   ],
   "source": [
    "preds"
   ]
  },
  {
   "cell_type": "code",
   "execution_count": null,
   "id": "4462d55e-81dc-4bd8-b114-2ec950a45bf7",
   "metadata": {},
   "outputs": [],
   "source": [
    "for i in range(len(data)):\n",
    "    data[i][0] = model.item_emb(torch.LongTensor(data[i][0]).to(model.device))\n",
    "#     train_labels.append(train[i][1])\n",
    "# torch.stack(data, dim=0).detach()"
   ]
  },
  {
   "cell_type": "code",
   "execution_count": 26,
   "id": "3c183876-eb7e-4f10-81db-7e1bf84f9102",
   "metadata": {},
   "outputs": [],
   "source": [
    "output, hidden = model.forward(curr)\n",
    "output1 = output.view(-1, model.num_items)\n",
    "prob = nn.functional.softmax(output1, dim=1).data.cpu()\n",
    "k = 50"
   ]
  },
  {
   "cell_type": "markdown",
   "id": "7f8d749f-818e-4d24-84f7-2aa2437ddcf3",
   "metadata": {
    "tags": []
   },
   "source": [
    "## Item Extraction Method 1: Torch"
   ]
  },
  {
   "cell_type": "code",
   "execution_count": null,
   "id": "9cefa9da-3024-4902-9def-653fb0386222",
   "metadata": {},
   "outputs": [],
   "source": [
    "topk = torch.topk(output, k).indices.tolist()\n",
    "print(topk[0])"
   ]
  },
  {
   "cell_type": "markdown",
   "id": "e7e51fd9-cdb6-4ac4-9441-36c2da2373ec",
   "metadata": {},
   "source": [
    "## Item Extraction Method 2: Numpy"
   ]
  },
  {
   "cell_type": "code",
   "execution_count": 49,
   "id": "984569c8-5c2b-46bc-ac95-84ad3efa9d93",
   "metadata": {},
   "outputs": [
    {
     "name": "stdout",
     "output_type": "stream",
     "text": [
      "[44, 113, 212, 41, 1954, 667, 3220, 537, 69, 147, 16, 277, 502, 39, 341, 353, 66, 647, 140, 43, 888, 629, 460, 169, 1741, 70, 410, 54, 553, 64, 71, 215, 431, 2234, 428, 819, 46, 536, 928, 463, 380, 573, 925, 427, 1958, 1371, 72, 307, 2359, 711]\n"
     ]
    }
   ],
   "source": [
    "print(list(np.argsort(-prob.numpy())[0][:k]))"
   ]
  },
  {
   "cell_type": "code",
   "execution_count": 68,
   "id": "e7f59891-f353-4410-a0f7-ddf013699ab7",
   "metadata": {},
   "outputs": [
    {
     "data": {
      "text/plain": [
       "array([[4.6355075e-05, 1.1106163e-02, 5.6383542e-05, ..., 2.5252750e-05,\n",
       "        2.7392212e-05, 3.5436089e-05]], dtype=float32)"
      ]
     },
     "execution_count": 68,
     "metadata": {},
     "output_type": "execute_result"
    }
   ],
   "source": [
    "np_prob"
   ]
  },
  {
   "cell_type": "code",
   "execution_count": null,
   "id": "2e7240d5-be9c-44e2-9907-73d67a97232c",
   "metadata": {},
   "outputs": [],
   "source": []
  }
 ],
 "metadata": {
  "kernelspec": {
   "display_name": "cse_v1",
   "language": "python",
   "name": "cse_v1"
  },
  "language_info": {
   "codemirror_mode": {
    "name": "ipython",
    "version": 3
   },
   "file_extension": ".py",
   "mimetype": "text/x-python",
   "name": "python",
   "nbconvert_exporter": "python",
   "pygments_lexer": "ipython3",
   "version": "3.9.7"
  }
 },
 "nbformat": 4,
 "nbformat_minor": 5
}

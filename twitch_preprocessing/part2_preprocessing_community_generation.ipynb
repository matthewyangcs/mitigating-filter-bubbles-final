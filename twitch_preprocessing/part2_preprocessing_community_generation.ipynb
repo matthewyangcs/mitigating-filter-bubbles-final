{
 "cells": [
  {
   "cell_type": "code",
   "execution_count": 6,
   "id": "5b191e34-5f04-49b9-a1a5-352413b436b6",
   "metadata": {},
   "outputs": [],
   "source": [
    "import pandas as pd\n",
    "from communitygraph.bipartite import BipartiteCommunity as bp\n",
    "from communitygraph import util\n",
    "from collections import Counter\n",
    "import matplotlib.pyplot as plt\n",
    "import os\n",
    "import pickle\n",
    "import numpy as np\n",
    "import seaborn as sns\n",
    "sns.set(style='darkgrid')"
   ]
  },
  {
   "cell_type": "markdown",
   "id": "ed72656e-53a3-4d1d-bd66-296c009ebbc1",
   "metadata": {},
   "source": [
    "# Config Variables"
   ]
  },
  {
   "cell_type": "code",
   "execution_count": 418,
   "id": "c879d196-9207-4836-91f5-909a9dcb8a50",
   "metadata": {},
   "outputs": [],
   "source": [
    "PATH = os.path.join(os.getcwd(), 'raw_data/100k_a.csv')\n",
    "USER_KEY = 'user_id'\n",
    "STREAM_ID_KEY = 'stream_id'\n",
    "ITEM_KEY = 'streamer_name'\n",
    "START_KEY = 'start_time'\n",
    "END_KEY = 'stop_time'\n",
    "\n",
    "# This should have been generated using part1's notebook (at the end)\n",
    "PARTITION_PATH = os.path.join(os.getcwd(), 'saved_communities', 'part100.pickle')"
   ]
  },
  {
   "cell_type": "markdown",
   "id": "a17b4dd1-3bb0-4075-83c8-1e94137cb419",
   "metadata": {},
   "source": [
    "# DATASET LOAD: Applying our optimal partition"
   ]
  },
  {
   "cell_type": "markdown",
   "id": "8197854f-0467-433a-98f9-4c767c07ed96",
   "metadata": {},
   "source": [
    "In the previous notebook, we found a good min_item_degree to filter out nodes by.\n",
    "\n",
    "The purpose was two-fold: to reduce our item recommendation space, and to ensure a high quality partition so that we could use the communities as a diversity metric\n",
    "\n",
    "In this notebook, we filter out by min_item_degree, as well as users with < 10 interactions using the new set of items"
   ]
  },
  {
   "cell_type": "code",
   "execution_count": 429,
   "id": "259164ec-3e5f-4122-ac96-b0922ab796e9",
   "metadata": {},
   "outputs": [],
   "source": [
    "df = pd.read_csv(PATH, names=[USER_KEY, STREAM_ID_KEY, ITEM_KEY, START_KEY, END_KEY])"
   ]
  },
  {
   "cell_type": "code",
   "execution_count": 430,
   "id": "d312df2e-3c81-4a06-9442-c7f69359c816",
   "metadata": {},
   "outputs": [],
   "source": [
    "with open(PARTITION_PATH, 'rb') as f:\n",
    "    part100 = pickle.load(f)\n",
    "df = util.label_df_partition(df, 'streamer_name', part100)"
   ]
  },
  {
   "cell_type": "code",
   "execution_count": 431,
   "id": "de9b895a-addd-449b-addb-de6ddb809488",
   "metadata": {},
   "outputs": [],
   "source": [
    "# save for plotting\n",
    "original_df = df"
   ]
  },
  {
   "cell_type": "markdown",
   "id": "1e9ec883-d947-4aea-b8dc-488b8f5b1757",
   "metadata": {},
   "source": [
    "# Filter out users with < 10 interactions"
   ]
  },
  {
   "cell_type": "code",
   "execution_count": 432,
   "id": "2dc4c39a-88d6-414c-9230-29148d9a8051",
   "metadata": {},
   "outputs": [],
   "source": [
    "user_counts = {k:v for k,v in Counter(df[USER_KEY]).items() if v >= 10}"
   ]
  },
  {
   "cell_type": "code",
   "execution_count": 433,
   "id": "3e34dc9b-0771-4722-9847-cba3ac3f5bfb",
   "metadata": {},
   "outputs": [],
   "source": [
    "df = df[df[USER_KEY].isin(user_counts)]"
   ]
  },
  {
   "cell_type": "markdown",
   "id": "8bb90513-7442-47cc-86e9-12fa4b04d0e3",
   "metadata": {
    "tags": []
   },
   "source": [
    "# Sample for Final Dataset"
   ]
  },
  {
   "cell_type": "markdown",
   "id": "19bf5ee0-ea3b-4139-bbbc-6d48618057ec",
   "metadata": {},
   "source": [
    "Our dataset is still a bit too large to train our recommendation system in reasonable time and run all the experiments we will need.\n",
    "\n",
    "Thus, we will randomly sample a subset of users.\n",
    "\n",
    "We have two methods:\n",
    " - Weighted sample according to user interaction count\n",
    " - Unweighted sample (where every user has equal probability)"
   ]
  },
  {
   "cell_type": "code",
   "execution_count": 434,
   "id": "2c14e319-a8cc-4e9b-869c-bb68fe332caa",
   "metadata": {},
   "outputs": [],
   "source": [
    "# normalize\n",
    "total_interactions = sum(user_counts.values())\n",
    "for user, val in user_counts.items():\n",
    "    user_counts[user] = val / total_interactions"
   ]
  },
  {
   "cell_type": "code",
   "execution_count": 435,
   "id": "0a93aae3-d172-43cd-8638-9744b30cb906",
   "metadata": {},
   "outputs": [],
   "source": [
    "user_sample = set(np.random.choice(list(user_counts.keys()), size=2000, replace=False, p=list(user_counts.values())))"
   ]
  },
  {
   "cell_type": "code",
   "execution_count": 436,
   "id": "fd7b07f5-df4a-44fa-9a41-e86c029d259f",
   "metadata": {},
   "outputs": [],
   "source": [
    "# user_sample = set(np.random.choice(list(user_counts.keys()), size=3500, replace=False))"
   ]
  },
  {
   "cell_type": "code",
   "execution_count": 437,
   "id": "511bf422-e2bd-48ba-b4fd-6b60e204ff61",
   "metadata": {
    "tags": []
   },
   "outputs": [],
   "source": [
    "df = df[df[USER_KEY].isin(user_sample)]"
   ]
  },
  {
   "cell_type": "code",
   "execution_count": 438,
   "id": "546f58ad-bb7b-471d-9498-39278753e75a",
   "metadata": {},
   "outputs": [
    {
     "data": {
      "text/plain": [
       "105745"
      ]
     },
     "execution_count": 438,
     "metadata": {},
     "output_type": "execute_result"
    }
   ],
   "source": [
    "len(df)"
   ]
  },
  {
   "cell_type": "markdown",
   "id": "b10bb33e-7628-45bd-9ade-57d31c6d8170",
   "metadata": {},
   "source": [
    "# Lets verify that our sample makes sense, by comparing to the original partition"
   ]
  },
  {
   "cell_type": "code",
   "execution_count": 439,
   "id": "241a9d83-0e7d-4cda-8850-a3089e761429",
   "metadata": {},
   "outputs": [],
   "source": [
    "def plot_helper(counts, title=None) -> plt.Figure:\n",
    "    \"\"\"Plots a histogram from counts dict\"\"\"\n",
    "    fig = plt.figure()\n",
    "\n",
    "    # Creating the barplot\n",
    "    plt.bar(counts.keys(), counts.values())\n",
    "    plt.xlabel(\"Community ID\")\n",
    "    plt.ylabel(\"Size\")\n",
    "    \n",
    "#     plt.title(title or \"Partition Distribution\")\n",
    "    plt.title(title)\n",
    "    plt.show()"
   ]
  },
  {
   "cell_type": "code",
   "execution_count": 440,
   "id": "2d97a174-2185-4d96-93b0-c24c87a52d79",
   "metadata": {},
   "outputs": [],
   "source": [
    "dataset_community_counts = Counter(original_df['community'])"
   ]
  },
  {
   "cell_type": "code",
   "execution_count": 441,
   "id": "cfb80dec-a64a-483f-ad20-e0154bd33fce",
   "metadata": {},
   "outputs": [],
   "source": [
    "sample_community_counts = Counter(df['community'])"
   ]
  },
  {
   "cell_type": "code",
   "execution_count": 442,
   "id": "5e9be034-bd66-444a-bd3b-c2e001189bb1",
   "metadata": {},
   "outputs": [
    {
     "data": {
      "image/png": "[encoded data removed]",
      "text/plain": [
       "<Figure size 432x288 with 1 Axes>"
      ]
     },
     "metadata": {},
     "output_type": "display_data"
    },
    {
     "data": {
      "image/png": "[encoded data removed]",
      "text/plain": [
       "<Figure size 432x288 with 1 Axes>"
      ]
     },
     "metadata": {},
     "output_type": "display_data"
    }
   ],
   "source": [
    "plot_helper(dataset_community_counts, title=\"Original Community Counts\")\n",
    "plot_helper(sample_community_counts, title=\"Sample Community Counts\")"
   ]
  },
  {
   "cell_type": "markdown",
   "id": "741c3336-ed42-4526-8802-f2e8a3a67ca6",
   "metadata": {},
   "source": [
    "# Final Preprocessing Steps\n",
    "We run the following final preprocessing steps:\n",
    "- Label the interactions with the community of the item (completed)\n",
    "- Convert the streamer names to ints\n",
    "- Strip unnecessary columns\n",
    "- Save this new dataset to the processed_data folder"
   ]
  },
  {
   "cell_type": "code",
   "execution_count": 443,
   "id": "4e2f79e7-d741-4b26-ae08-e47cd77897db",
   "metadata": {},
   "outputs": [],
   "source": [
    "df = df[['user_id', 'streamer_name', 'start_time', 'community']]"
   ]
  },
  {
   "cell_type": "code",
   "execution_count": 444,
   "id": "82ce9629-aba9-4873-8c07-3ee2900d3c5a",
   "metadata": {},
   "outputs": [],
   "source": [
    "df['streamer_name'] = pd.Categorical(df['streamer_name'], categories=df['streamer_name'].unique()).codes"
   ]
  },
  {
   "cell_type": "code",
   "execution_count": 445,
   "id": "5bfe621e-4806-4c1b-8a9b-0e5f992652c5",
   "metadata": {},
   "outputs": [
    {
     "data": {
      "text/html": [
       "<div>\n",
       "<style scoped>\n",
       "    .dataframe tbody tr th:only-of-type {\n",
       "        vertical-align: middle;\n",
       "    }\n",
       "\n",
       "    .dataframe tbody tr th {\n",
       "        vertical-align: top;\n",
       "    }\n",
       "\n",
       "    .dataframe thead th {\n",
       "        text-align: right;\n",
       "    }\n",
       "</style>\n",
       "<table border=\"1\" class=\"dataframe\">\n",
       "  <thead>\n",
       "    <tr style=\"text-align: right;\">\n",
       "      <th></th>\n",
       "      <th>user_id</th>\n",
       "      <th>streamer_name</th>\n",
       "      <th>start_time</th>\n",
       "      <th>community</th>\n",
       "    </tr>\n",
       "  </thead>\n",
       "  <tbody>\n",
       "    <tr>\n",
       "      <th>1093</th>\n",
       "      <td>43</td>\n",
       "      <td>0</td>\n",
       "      <td>93</td>\n",
       "      <td>8</td>\n",
       "    </tr>\n",
       "    <tr>\n",
       "      <th>1094</th>\n",
       "      <td>43</td>\n",
       "      <td>1</td>\n",
       "      <td>281</td>\n",
       "      <td>8</td>\n",
       "    </tr>\n",
       "    <tr>\n",
       "      <th>1098</th>\n",
       "      <td>43</td>\n",
       "      <td>2</td>\n",
       "      <td>281</td>\n",
       "      <td>5</td>\n",
       "    </tr>\n",
       "    <tr>\n",
       "      <th>1099</th>\n",
       "      <td>43</td>\n",
       "      <td>3</td>\n",
       "      <td>281</td>\n",
       "      <td>5</td>\n",
       "    </tr>\n",
       "    <tr>\n",
       "      <th>1101</th>\n",
       "      <td>43</td>\n",
       "      <td>0</td>\n",
       "      <td>379</td>\n",
       "      <td>8</td>\n",
       "    </tr>\n",
       "  </tbody>\n",
       "</table>\n",
       "</div>"
      ],
      "text/plain": [
       "      user_id  streamer_name  start_time  community\n",
       "1093       43              0          93          8\n",
       "1094       43              1         281          8\n",
       "1098       43              2         281          5\n",
       "1099       43              3         281          5\n",
       "1101       43              0         379          8"
      ]
     },
     "execution_count": 445,
     "metadata": {},
     "output_type": "execute_result"
    }
   ],
   "source": [
    "df.head()"
   ]
  },
  {
   "cell_type": "markdown",
   "id": "90839a0e-3b23-4bb6-9862-5e7120a02c04",
   "metadata": {},
   "source": [
    "# Statistics and Saving Processed Dataset"
   ]
  },
  {
   "cell_type": "code",
   "execution_count": 449,
   "id": "8ab26818-cc15-49df-84fa-b8c0e08523ea",
   "metadata": {},
   "outputs": [
    {
     "name": "stdout",
     "output_type": "stream",
     "text": [
      "# of users: 2000\n",
      "# of streamers: 1742\n",
      "# of interactions per user: 52.8725\n",
      "# of unique interactions per user: 19.062\n"
     ]
    }
   ],
   "source": [
    "print(f\"# of users: {len(set(df[USER_KEY]))}\")\n",
    "print(f\"# of streamers: {len(set(df[ITEM_KEY]))}\")\n",
    "print(f\"# of interactions per user: {len(df)/len(set(df[USER_KEY]))}\")\n",
    "print(f\"# of unique interactions per user: {len(set(zip(df[USER_KEY], df[ITEM_KEY])))/len(set(df[USER_KEY]))}\")"
   ]
  },
  {
   "cell_type": "markdown",
   "id": "bdabacc0-d522-45a7-ba9b-f47ebce7c2ac",
   "metadata": {},
   "source": [
    "# Saving Processed Dataset"
   ]
  },
  {
   "cell_type": "code",
   "execution_count": 447,
   "id": "a5786b09-f312-41c6-8237-b816773494b3",
   "metadata": {},
   "outputs": [],
   "source": [
    "SAVE_PATH = os.path.join(os.getcwd(), 'processed_data/105k.csv')"
   ]
  },
  {
   "cell_type": "code",
   "execution_count": 448,
   "id": "1dec5c7e-e1f9-4e07-89f9-83d846f2c3a8",
   "metadata": {},
   "outputs": [],
   "source": [
    "df.to_csv(SAVE_PATH)"
   ]
  }
 ],
 "metadata": {
  "kernelspec": {
   "display_name": "cse_v1",
   "language": "python",
   "name": "cse_v1"
  },
  "language_info": {
   "codemirror_mode": {
    "name": "ipython",
    "version": 3
   },
   "file_extension": ".py",
   "mimetype": "text/x-python",
   "name": "python",
   "nbconvert_exporter": "python",
   "pygments_lexer": "ipython3",
   "version": "3.9.7"
  }
 },
 "nbformat": 4,
 "nbformat_minor": 5
}

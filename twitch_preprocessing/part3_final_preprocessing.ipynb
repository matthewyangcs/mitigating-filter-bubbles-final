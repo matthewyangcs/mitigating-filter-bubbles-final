{
 "cells": [
  {
   "cell_type": "code",
   "execution_count": 1,
   "id": "1ccb389a-6f5f-48c7-8e4b-8dcf5a766afa",
   "metadata": {},
   "outputs": [],
   "source": [
    "%load_ext autoreload\n",
    "%autoreload 2"
   ]
  },
  {
   "cell_type": "code",
   "execution_count": 2,
   "id": "5b191e34-5f04-49b9-a1a5-352413b436b6",
   "metadata": {},
   "outputs": [],
   "source": [
    "import pandas as pd\n",
    "from communitygraph import bipartite as bp\n",
    "from communitygraph import util\n",
    "from collections import Counter\n",
    "import matplotlib.pyplot as plt\n",
    "import os"
   ]
  },
  {
   "cell_type": "code",
   "execution_count": 3,
   "id": "7ee7a3b7-d859-4b5a-b891-641394319b75",
   "metadata": {},
   "outputs": [
    {
     "data": {
      "text/plain": [
       "'/raid/home/myang349/mitigating-filter-bubbles-final/twitch_preprocessing'"
      ]
     },
     "execution_count": 3,
     "metadata": {},
     "output_type": "execute_result"
    }
   ],
   "source": [
    "os.getcwd()"
   ]
  },
  {
   "cell_type": "code",
   "execution_count": 4,
   "id": "d8398463-4207-420d-9a61-3d499ee1b0b8",
   "metadata": {},
   "outputs": [],
   "source": [
    "PATH = os.path.join(os.getcwd(), 'raw_data/100k_a.csv')"
   ]
  },
  {
   "cell_type": "code",
   "execution_count": 5,
   "id": "4b49ed71-102e-488a-95c2-cdf0947d121a",
   "metadata": {},
   "outputs": [],
   "source": [
    "df = pd.read_csv(PATH, names=['user_id', 'stream_id', 'streamer_name', 'start_time', 'stop_time'])"
   ]
  },
  {
   "cell_type": "code",
   "execution_count": 26,
   "id": "523051c1-91d2-422f-a4cd-58349dc9762c",
   "metadata": {},
   "outputs": [],
   "source": [
    "df=df[['user_id', 'streamer_name', 'start_time', 'stop_time']]"
   ]
  },
  {
   "cell_type": "code",
   "execution_count": 6,
   "id": "b84641eb-76c3-48ad-b715-37216ca744d3",
   "metadata": {},
   "outputs": [
    {
     "data": {
      "text/html": [
       "<div>\n",
       "<style scoped>\n",
       "    .dataframe tbody tr th:only-of-type {\n",
       "        vertical-align: middle;\n",
       "    }\n",
       "\n",
       "    .dataframe tbody tr th {\n",
       "        vertical-align: top;\n",
       "    }\n",
       "\n",
       "    .dataframe thead th {\n",
       "        text-align: right;\n",
       "    }\n",
       "</style>\n",
       "<table border=\"1\" class=\"dataframe\">\n",
       "  <thead>\n",
       "    <tr style=\"text-align: right;\">\n",
       "      <th></th>\n",
       "      <th>user_id</th>\n",
       "      <th>stream_id</th>\n",
       "      <th>streamer_name</th>\n",
       "      <th>start_time</th>\n",
       "      <th>stop_time</th>\n",
       "    </tr>\n",
       "  </thead>\n",
       "  <tbody>\n",
       "    <tr>\n",
       "      <th>0</th>\n",
       "      <td>1</td>\n",
       "      <td>33842865744</td>\n",
       "      <td>mithrain</td>\n",
       "      <td>154</td>\n",
       "      <td>156</td>\n",
       "    </tr>\n",
       "    <tr>\n",
       "      <th>1</th>\n",
       "      <td>1</td>\n",
       "      <td>33846768288</td>\n",
       "      <td>alptv</td>\n",
       "      <td>166</td>\n",
       "      <td>169</td>\n",
       "    </tr>\n",
       "    <tr>\n",
       "      <th>2</th>\n",
       "      <td>1</td>\n",
       "      <td>33886469056</td>\n",
       "      <td>mithrain</td>\n",
       "      <td>587</td>\n",
       "      <td>588</td>\n",
       "    </tr>\n",
       "    <tr>\n",
       "      <th>3</th>\n",
       "      <td>1</td>\n",
       "      <td>33887624992</td>\n",
       "      <td>wtcn</td>\n",
       "      <td>589</td>\n",
       "      <td>591</td>\n",
       "    </tr>\n",
       "    <tr>\n",
       "      <th>4</th>\n",
       "      <td>1</td>\n",
       "      <td>33890145056</td>\n",
       "      <td>jrokezftw</td>\n",
       "      <td>591</td>\n",
       "      <td>594</td>\n",
       "    </tr>\n",
       "  </tbody>\n",
       "</table>\n",
       "</div>"
      ],
      "text/plain": [
       "   user_id    stream_id streamer_name  start_time  stop_time\n",
       "0        1  33842865744      mithrain         154        156\n",
       "1        1  33846768288         alptv         166        169\n",
       "2        1  33886469056      mithrain         587        588\n",
       "3        1  33887624992          wtcn         589        591\n",
       "4        1  33890145056     jrokezftw         591        594"
      ]
     },
     "execution_count": 6,
     "metadata": {},
     "output_type": "execute_result"
    }
   ],
   "source": [
    "df.head()"
   ]
  },
  {
   "cell_type": "code",
   "execution_count": 28,
   "id": "a4263b14-2b88-4302-917f-62ee9bebc545",
   "metadata": {},
   "outputs": [
    {
     "name": "stdout",
     "output_type": "stream",
     "text": [
      "Starting search over: \n",
      " - min_item_degree: [10, 25, 100, 300, 500, 1000]\n",
      " - resolution: [1.0]\n",
      "\n"
     ]
    },
    {
     "ename": "KeyboardInterrupt",
     "evalue": "",
     "output_type": "error",
     "traceback": [
      "\u001b[0;31m---------------------------------------------------------------------------\u001b[0m",
      "\u001b[0;31mKeyboardInterrupt\u001b[0m                         Traceback (most recent call last)",
      "\u001b[0;32m/tmp/ipykernel_567716/1221106217.py\u001b[0m in \u001b[0;36m<module>\u001b[0;34m\u001b[0m\n\u001b[0;32m----> 1\u001b[0;31m \u001b[0mdata\u001b[0m \u001b[0;34m=\u001b[0m \u001b[0mutil\u001b[0m\u001b[0;34m.\u001b[0m\u001b[0moptimize_modularity\u001b[0m\u001b[0;34m(\u001b[0m\u001b[0mdf\u001b[0m\u001b[0;34m,\u001b[0m \u001b[0;34m'user_id'\u001b[0m\u001b[0;34m,\u001b[0m \u001b[0;34m'streamer_name'\u001b[0m\u001b[0;34m,\u001b[0m \u001b[0;34m[\u001b[0m\u001b[0;36m10\u001b[0m\u001b[0;34m,\u001b[0m \u001b[0;36m25\u001b[0m\u001b[0;34m,\u001b[0m \u001b[0;36m100\u001b[0m\u001b[0;34m,\u001b[0m \u001b[0;36m300\u001b[0m\u001b[0;34m,\u001b[0m \u001b[0;36m500\u001b[0m\u001b[0;34m,\u001b[0m \u001b[0;36m1000\u001b[0m\u001b[0;34m]\u001b[0m\u001b[0;34m)\u001b[0m\u001b[0;34m\u001b[0m\u001b[0;34m\u001b[0m\u001b[0m\n\u001b[0m",
      "\u001b[0;32m/raid/home/myang349/cse8803-project/midterm-analysis/../communitygraph/util.py\u001b[0m in \u001b[0;36moptimize_modularity\u001b[0;34m(df, user_key, item_key, min_item_degree, resolution, debug)\u001b[0m\n\u001b[1;32m     58\u001b[0m         \u001b[0;31m# Don't show debug outputs for creating the community + projection\u001b[0m\u001b[0;34m\u001b[0m\u001b[0;34m\u001b[0m\u001b[0m\n\u001b[1;32m     59\u001b[0m         \u001b[0;32mwith\u001b[0m \u001b[0mopen\u001b[0m\u001b[0;34m(\u001b[0m\u001b[0mos\u001b[0m\u001b[0;34m.\u001b[0m\u001b[0mdevnull\u001b[0m\u001b[0;34m,\u001b[0m \u001b[0;34m\"w\"\u001b[0m\u001b[0;34m)\u001b[0m \u001b[0;32mas\u001b[0m \u001b[0mf\u001b[0m\u001b[0;34m,\u001b[0m \u001b[0mcontextlib\u001b[0m\u001b[0;34m.\u001b[0m\u001b[0mredirect_stdout\u001b[0m\u001b[0;34m(\u001b[0m\u001b[0mf\u001b[0m\u001b[0;34m)\u001b[0m\u001b[0;34m:\u001b[0m\u001b[0;34m\u001b[0m\u001b[0;34m\u001b[0m\u001b[0m\n\u001b[0;32m---> 60\u001b[0;31m             \u001b[0mbc\u001b[0m \u001b[0;34m=\u001b[0m \u001b[0mBipartiteCommunity\u001b[0m\u001b[0;34m(\u001b[0m\u001b[0mdf\u001b[0m\u001b[0;34m,\u001b[0m \u001b[0muser_key\u001b[0m\u001b[0;34m,\u001b[0m \u001b[0mitem_key\u001b[0m\u001b[0;34m,\u001b[0m \u001b[0mmin_item_degree\u001b[0m\u001b[0;34m=\u001b[0m\u001b[0mmin_deg\u001b[0m\u001b[0;34m)\u001b[0m\u001b[0;34m\u001b[0m\u001b[0;34m\u001b[0m\u001b[0m\n\u001b[0m\u001b[1;32m     61\u001b[0m             \u001b[0mprojected\u001b[0m \u001b[0;34m=\u001b[0m \u001b[0mbc\u001b[0m\u001b[0;34m.\u001b[0m\u001b[0mproject_onto_items\u001b[0m\u001b[0;34m(\u001b[0m\u001b[0;34m)\u001b[0m\u001b[0;34m\u001b[0m\u001b[0;34m\u001b[0m\u001b[0m\n\u001b[1;32m     62\u001b[0m \u001b[0;34m\u001b[0m\u001b[0m\n",
      "\u001b[0;32m/raid/home/myang349/cse8803-project/midterm-analysis/../communitygraph/bipartite.py\u001b[0m in \u001b[0;36m__init__\u001b[0;34m(self, df, user_key, item_key, min_user_degree, min_item_degree)\u001b[0m\n\u001b[1;32m     62\u001b[0m         \u001b[0;31m# 3. Create graph from the filtered nodes\u001b[0m\u001b[0;34m\u001b[0m\u001b[0;34m\u001b[0m\u001b[0m\n\u001b[1;32m     63\u001b[0m         \u001b[0mprint\u001b[0m\u001b[0;34m(\u001b[0m\u001b[0;34m\"Adding nodes...\"\u001b[0m\u001b[0;34m)\u001b[0m\u001b[0;34m\u001b[0m\u001b[0;34m\u001b[0m\u001b[0m\n\u001b[0;32m---> 64\u001b[0;31m         \u001b[0mself\u001b[0m\u001b[0;34m.\u001b[0m\u001b[0muser_degree\u001b[0m\u001b[0;34m:\u001b[0m \u001b[0mdict\u001b[0m\u001b[0;34m[\u001b[0m\u001b[0mUnion\u001b[0m\u001b[0;34m[\u001b[0m\u001b[0mint\u001b[0m\u001b[0;34m,\u001b[0m \u001b[0mstr\u001b[0m\u001b[0;34m]\u001b[0m\u001b[0;34m,\u001b[0m \u001b[0mint\u001b[0m\u001b[0;34m]\u001b[0m \u001b[0;34m=\u001b[0m \u001b[0mCounter\u001b[0m\u001b[0;34m(\u001b[0m\u001b[0mself\u001b[0m\u001b[0;34m.\u001b[0m\u001b[0m_df\u001b[0m\u001b[0;34m[\u001b[0m\u001b[0muser_key\u001b[0m\u001b[0;34m]\u001b[0m\u001b[0;34m)\u001b[0m\u001b[0;34m\u001b[0m\u001b[0;34m\u001b[0m\u001b[0m\n\u001b[0m\u001b[1;32m     65\u001b[0m         \u001b[0mself\u001b[0m\u001b[0;34m.\u001b[0m\u001b[0mitem_degree\u001b[0m\u001b[0;34m:\u001b[0m \u001b[0mdict\u001b[0m\u001b[0;34m[\u001b[0m\u001b[0mUnion\u001b[0m\u001b[0;34m[\u001b[0m\u001b[0mint\u001b[0m\u001b[0;34m,\u001b[0m \u001b[0mstr\u001b[0m\u001b[0;34m]\u001b[0m\u001b[0;34m,\u001b[0m \u001b[0mint\u001b[0m\u001b[0;34m]\u001b[0m \u001b[0;34m=\u001b[0m \u001b[0mCounter\u001b[0m\u001b[0;34m(\u001b[0m\u001b[0mself\u001b[0m\u001b[0;34m.\u001b[0m\u001b[0m_df\u001b[0m\u001b[0;34m[\u001b[0m\u001b[0mitem_key\u001b[0m\u001b[0;34m]\u001b[0m\u001b[0;34m)\u001b[0m\u001b[0;34m\u001b[0m\u001b[0;34m\u001b[0m\u001b[0m\n\u001b[1;32m     66\u001b[0m         user_nodes = [\n",
      "\u001b[0;32m~/miniconda3/envs/cse_v1/lib/python3.9/collections/__init__.py\u001b[0m in \u001b[0;36m__init__\u001b[0;34m(self, iterable, **kwds)\u001b[0m\n\u001b[1;32m    591\u001b[0m         '''\n\u001b[1;32m    592\u001b[0m         \u001b[0msuper\u001b[0m\u001b[0;34m(\u001b[0m\u001b[0;34m)\u001b[0m\u001b[0;34m.\u001b[0m\u001b[0m__init__\u001b[0m\u001b[0;34m(\u001b[0m\u001b[0;34m)\u001b[0m\u001b[0;34m\u001b[0m\u001b[0;34m\u001b[0m\u001b[0m\n\u001b[0;32m--> 593\u001b[0;31m         \u001b[0mself\u001b[0m\u001b[0;34m.\u001b[0m\u001b[0mupdate\u001b[0m\u001b[0;34m(\u001b[0m\u001b[0miterable\u001b[0m\u001b[0;34m,\u001b[0m \u001b[0;34m**\u001b[0m\u001b[0mkwds\u001b[0m\u001b[0;34m)\u001b[0m\u001b[0;34m\u001b[0m\u001b[0;34m\u001b[0m\u001b[0m\n\u001b[0m\u001b[1;32m    594\u001b[0m \u001b[0;34m\u001b[0m\u001b[0m\n\u001b[1;32m    595\u001b[0m     \u001b[0;32mdef\u001b[0m \u001b[0m__missing__\u001b[0m\u001b[0;34m(\u001b[0m\u001b[0mself\u001b[0m\u001b[0;34m,\u001b[0m \u001b[0mkey\u001b[0m\u001b[0;34m)\u001b[0m\u001b[0;34m:\u001b[0m\u001b[0;34m\u001b[0m\u001b[0;34m\u001b[0m\u001b[0m\n",
      "\u001b[0;32m~/miniconda3/envs/cse_v1/lib/python3.9/collections/__init__.py\u001b[0m in \u001b[0;36mupdate\u001b[0;34m(self, iterable, **kwds)\u001b[0m\n\u001b[1;32m    677\u001b[0m                     \u001b[0msuper\u001b[0m\u001b[0;34m(\u001b[0m\u001b[0;34m)\u001b[0m\u001b[0;34m.\u001b[0m\u001b[0mupdate\u001b[0m\u001b[0;34m(\u001b[0m\u001b[0miterable\u001b[0m\u001b[0;34m)\u001b[0m\u001b[0;34m\u001b[0m\u001b[0;34m\u001b[0m\u001b[0m\n\u001b[1;32m    678\u001b[0m             \u001b[0;32melse\u001b[0m\u001b[0;34m:\u001b[0m\u001b[0;34m\u001b[0m\u001b[0;34m\u001b[0m\u001b[0m\n\u001b[0;32m--> 679\u001b[0;31m                 \u001b[0m_count_elements\u001b[0m\u001b[0;34m(\u001b[0m\u001b[0mself\u001b[0m\u001b[0;34m,\u001b[0m \u001b[0miterable\u001b[0m\u001b[0;34m)\u001b[0m\u001b[0;34m\u001b[0m\u001b[0;34m\u001b[0m\u001b[0m\n\u001b[0m\u001b[1;32m    680\u001b[0m         \u001b[0;32mif\u001b[0m \u001b[0mkwds\u001b[0m\u001b[0;34m:\u001b[0m\u001b[0;34m\u001b[0m\u001b[0;34m\u001b[0m\u001b[0m\n\u001b[1;32m    681\u001b[0m             \u001b[0mself\u001b[0m\u001b[0;34m.\u001b[0m\u001b[0mupdate\u001b[0m\u001b[0;34m(\u001b[0m\u001b[0mkwds\u001b[0m\u001b[0;34m)\u001b[0m\u001b[0;34m\u001b[0m\u001b[0;34m\u001b[0m\u001b[0m\n",
      "\u001b[0;31mKeyboardInterrupt\u001b[0m: "
     ]
    }
   ],
   "source": [
    "data = util.optimize_modularity(df, 'user_id', 'streamer_name', [10, 25, 100, 300, 500, 1000])"
   ]
  },
  {
   "cell_type": "markdown",
   "id": "a17b4dd1-3bb0-4075-83c8-1e94137cb419",
   "metadata": {},
   "source": [
    "# Twitch analysis"
   ]
  },
  {
   "cell_type": "code",
   "execution_count": 22,
   "id": "bf19b114-1f2d-4111-8f00-f54427b21812",
   "metadata": {},
   "outputs": [
    {
     "name": "stdout",
     "output_type": "stream",
     "text": [
      "Initializing...\n",
      "Filtering dataframe...\n",
      "Adding nodes...\n",
      "Adding edges...\n",
      "Completed.\n",
      "\n",
      "Initializing...\n",
      "Filtering dataframe...\n",
      "Adding nodes...\n",
      "Adding edges...\n",
      "Completed.\n",
      "\n",
      "Initializing...\n",
      "Filtering dataframe...\n",
      "Adding nodes...\n",
      "Adding edges...\n",
      "Completed.\n",
      "\n",
      "Initializing...\n",
      "Filtering dataframe...\n",
      "Adding nodes...\n",
      "Adding edges...\n",
      "Completed.\n",
      "\n",
      "Initializing...\n",
      "Filtering dataframe...\n",
      "Adding nodes...\n",
      "Adding edges...\n",
      "Completed.\n",
      "\n",
      "Initializing...\n",
      "Filtering dataframe...\n",
      "Adding nodes...\n",
      "Adding edges...\n",
      "Completed.\n",
      "\n"
     ]
    }
   ],
   "source": [
    "twitch5 = bp.BipartiteCommunity(df, 'user_id', 'streamer_name', min_item_degree=5)\n",
    "twitch10 = bp.BipartiteCommunity(df, 'user_id', 'streamer_name', min_item_degree=10)\n",
    "twitch50 = bp.BipartiteCommunity(df, 'user_id', 'streamer_name', min_item_degree=50)\n",
    "twitch200 = bp.BipartiteCommunity(df, 'user_id', 'streamer_name', min_item_degree=200)\n",
    "twitch500 = bp.BipartiteCommunity(df, 'user_id', 'streamer_name', min_item_degree=500)\n",
    "twitch2000 = bp.BipartiteCommunity(df, 'user_id', 'streamer_name', min_item_degree=2000)"
   ]
  },
  {
   "cell_type": "code",
   "execution_count": 25,
   "id": "1a48f155-5e73-4db5-a048-1878adaccbb6",
   "metadata": {},
   "outputs": [],
   "source": [
    "part5=part"
   ]
  },
  {
   "cell_type": "code",
   "execution_count": 23,
   "id": "e845860f-6ccf-461d-b5c3-3ce779462a06",
   "metadata": {},
   "outputs": [
    {
     "name": "stdout",
     "output_type": "stream",
     "text": [
      "Starting partition of items with resolution 1.0...\n",
      "Starting weighted projection...\n",
      "Finished weighted projection in 567.4791765213013\n",
      "\n",
      "Finished partition in 840.8437242507935\n"
     ]
    }
   ],
   "source": [
    "part = twitch5.partition_items()"
   ]
  },
  {
   "cell_type": "code",
   "execution_count": 42,
   "id": "dc0e28b5-b6f8-4a15-bd49-3c0f616c6e1c",
   "metadata": {},
   "outputs": [
    {
     "data": {
      "image/png": "[encoded data removed]",
      "text/plain": [
       "<Figure size 432x288 with 1 Axes>"
      ]
     },
     "execution_count": 42,
     "metadata": {},
     "output_type": "execute_result"
    },
    {
     "data": {
      "image/png": "[encoded data removed]",
      "text/plain": [
       "<Figure size 432x288 with 1 Axes>"
      ]
     },
     "metadata": {
      "needs_background": "light"
     },
     "output_type": "display_data"
    }
   ],
   "source": [
    "plot_partition_distribution2(part5, k=5)"
   ]
  },
  {
   "cell_type": "code",
   "execution_count": 26,
   "id": "c9856a76-78da-4d13-9775-ea398888da75",
   "metadata": {},
   "outputs": [
    {
     "name": "stdout",
     "output_type": "stream",
     "text": [
      "Starting partition of items with resolution 1.0...\n",
      "Starting weighted projection...\n",
      "Finished weighted projection in 292.0493404865265\n",
      "\n",
      "Finished partition in 346.83018612861633\n"
     ]
    }
   ],
   "source": [
    "part50 = twitch50.partition_items()"
   ]
  },
  {
   "cell_type": "code",
   "execution_count": 28,
   "id": "126a4c37-7c81-4aca-b99b-639f3088d7e5",
   "metadata": {},
   "outputs": [
    {
     "data": {
      "image/png": "[encoded data removed]",
      "text/plain": [
       "<Figure size 432x288 with 1 Axes>"
      ]
     },
     "metadata": {
      "needs_background": "light"
     },
     "output_type": "display_data"
    }
   ],
   "source": [
    "kek = util.plot_partition_distribution(part50)"
   ]
  },
  {
   "cell_type": "code",
   "execution_count": 31,
   "id": "b29c292c-4c9f-45fd-905c-5c10e8960cca",
   "metadata": {},
   "outputs": [
    {
     "name": "stdout",
     "output_type": "stream",
     "text": [
      "Starting partition of items with resolution 1.0...\n",
      "Starting weighted projection...\n",
      "Finished weighted projection in 131.27062845230103\n",
      "\n",
      "Finished partition in 140.51227283477783\n"
     ]
    }
   ],
   "source": [
    "part200 = twitch200.partition_items()"
   ]
  },
  {
   "cell_type": "code",
   "execution_count": 40,
   "id": "eae0fe77-e33c-4069-8f0c-cb35cfc01791",
   "metadata": {},
   "outputs": [
    {
     "data": {
      "image/png": "[encoded data removed]",
      "text/plain": [
       "<Figure size 432x288 with 1 Axes>"
      ]
     },
     "metadata": {
      "needs_background": "light"
     },
     "output_type": "display_data"
    }
   ],
   "source": [
    "kek = plot_partition_distribution2(part200, 100)"
   ]
  },
  {
   "cell_type": "code",
   "execution_count": 37,
   "id": "65ac9a90-73f8-4408-859e-b97a0a418cf3",
   "metadata": {},
   "outputs": [],
   "source": [
    "def plot_partition_distribution2(partition: dict[str, int], k) -> plt.Figure:\n",
    "    \"\"\"Plots a histogram from dict\"\"\"\n",
    "    counts = Counter(partition.values())\n",
    "    fig = plt.figure()\n",
    "\n",
    "    # Creating the barplot\n",
    "    plt.bar(counts.keys(), counts.values())\n",
    "    plt.xlabel(\"Community ID\")\n",
    "    plt.ylabel(\"Size\")\n",
    "    plt.title(f\"Partition Distribution (min_degree={k})\")\n",
    "    return fig"
   ]
  },
  {
   "cell_type": "code",
   "execution_count": null,
   "id": "fba095c4-7813-4b39-bb5a-0311deffc16c",
   "metadata": {},
   "outputs": [],
   "source": []
  }
 ],
 "metadata": {
  "kernelspec": {
   "display_name": "cse_prod_env",
   "language": "python",
   "name": "cse_prod_env"
  },
  "language_info": {
   "codemirror_mode": {
    "name": "ipython",
    "version": 3
   },
   "file_extension": ".py",
   "mimetype": "text/x-python",
   "name": "python",
   "nbconvert_exporter": "python",
   "pygments_lexer": "ipython3",
   "version": "3.9.7"
  }
 },
 "nbformat": 4,
 "nbformat_minor": 5
}

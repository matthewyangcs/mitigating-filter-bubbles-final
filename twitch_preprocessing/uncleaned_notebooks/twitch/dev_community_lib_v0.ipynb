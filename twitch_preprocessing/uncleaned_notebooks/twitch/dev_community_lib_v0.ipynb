{
 "cells": [
  {
   "cell_type": "code",
   "execution_count": 133,
   "id": "22d0ced5-1e9d-4a04-a3b3-d70b1290b6f0",
   "metadata": {},
   "outputs": [
    {
     "name": "stdout",
     "output_type": "stream",
     "text": [
      "The autoreload extension is already loaded. To reload it, use:\n",
      "  %reload_ext autoreload\n"
     ]
    }
   ],
   "source": [
    "%load_ext autoreload\n",
    "%autoreload 2"
   ]
  },
  {
   "cell_type": "code",
   "execution_count": 172,
   "id": "aa8959f1-770c-4dd2-a579-e6dfe0e419a9",
   "metadata": {},
   "outputs": [],
   "source": [
    "import os\n",
    "import pandas as pd\n",
    "import community as community_louvain\n",
    "import matplotlib.cm as cm\n",
    "import matplotlib.pyplot as plt\n",
    "import networkx as nx\n",
    "import json\n",
    "from collections import Counter\n",
    "import time\n",
    "import seaborn as sns\n",
    "from communitygraph.bipartite import BipartiteCommunity as bp\n",
    "import communitygraph.util as util"
   ]
  },
  {
   "cell_type": "markdown",
   "id": "5d485a5d-f3f1-42f0-b47f-225b7506210a",
   "metadata": {},
   "source": [
    "# Loading"
   ]
  },
  {
   "cell_type": "code",
   "execution_count": 173,
   "id": "c2d00b9c-cc65-49e4-9a91-36d42769094c",
   "metadata": {},
   "outputs": [],
   "source": [
    "PATH = os.path.join(os.getcwd(), 'data/100k_a.csv')"
   ]
  },
  {
   "cell_type": "code",
   "execution_count": 181,
   "id": "ed2ec5de-0048-44fd-af19-0fda64747df8",
   "metadata": {},
   "outputs": [],
   "source": [
    "df = pd.read_csv(PATH, names=['user_id', 'stream_id', 'streamer_name', 'start_time', 'stop_time'])"
   ]
  },
  {
   "cell_type": "code",
   "execution_count": 175,
   "id": "c37ff216-d479-4382-a07e-139ae1097c5c",
   "metadata": {},
   "outputs": [],
   "source": [
    "df = df[:100000]"
   ]
  },
  {
   "cell_type": "markdown",
   "id": "8ae17ff9-7d2d-4884-b6c7-135141e1c856",
   "metadata": {},
   "source": [
    "# Dev"
   ]
  },
  {
   "cell_type": "code",
   "execution_count": 150,
   "id": "99c1a6d4-f627-464a-b5fb-e675cd3ad6e5",
   "metadata": {},
   "outputs": [
    {
     "name": "stdout",
     "output_type": "stream",
     "text": [
      "Initializing...\n",
      "Filtering dataframe...\n",
      "Adding nodes...\n",
      "Adding edges...\n",
      "Completed.\n",
      "\n"
     ]
    }
   ],
   "source": [
    "twitch = bp(df, 'user_id', 'streamer_name')"
   ]
  },
  {
   "cell_type": "code",
   "execution_count": 151,
   "id": "6584e05b-2283-451a-a428-6f1d94275c90",
   "metadata": {},
   "outputs": [
    {
     "name": "stdout",
     "output_type": "stream",
     "text": [
      "Total # of edges (interactions): 4003\n",
      "\n",
      "# of unique user_id: 256\n",
      "# of unique streamer_name: 211\n",
      "# of unique edges: 1141\n",
      "\n",
      "Average user_id weighted degree: 15.63671875\n",
      "Average streamer_name weighted degree: 18.971563981042653\n",
      "Average edge weight: 3.5083260297984222\n",
      "\n"
     ]
    }
   ],
   "source": [
    "twitch.describe_bipartite()"
   ]
  },
  {
   "cell_type": "markdown",
   "id": "b01337b9-75a9-45d2-853b-5dea925ce5af",
   "metadata": {},
   "source": [
    "# Testing optimization"
   ]
  },
  {
   "cell_type": "code",
   "execution_count": null,
   "id": "191b2ec5-8c5f-4c3c-8aee-4f82cb13c1ce",
   "metadata": {},
   "outputs": [
    {
     "name": "stdout",
     "output_type": "stream",
     "text": [
      "Starting search over: \n",
      " - min_item_degree: [1, 5, 10, 20]\n",
      " - resolution: [0.95, 1.0, 1.05]\n",
      "\n",
      "Iteration 1/12: min_deg 1, resolution 0.95\n",
      "Modularity: 0.6522244538395459\n",
      "Median community size: 7\n",
      "# communities: 115\n",
      "# nodes: 17887\n",
      "Time taken: 15.62576699256897\n",
      "\n",
      "Iteration 2/12: min_deg 1, resolution 1.0\n",
      "Modularity: 0.6527876961775119\n",
      "Median community size: 7\n",
      "# communities: 108\n",
      "# nodes: 17887\n",
      "Time taken: 14.937029361724854\n",
      "\n",
      "Iteration 3/12: min_deg 1, resolution 1.05\n",
      "Modularity: 0.6512924079997103\n",
      "Median community size: 7\n",
      "# communities: 114\n",
      "# nodes: 17887\n",
      "Time taken: 14.765727043151855\n",
      "\n",
      "Iteration 4/12: min_deg 5, resolution 0.95\n",
      "Modularity: 0.5524944413052502\n",
      "Median community size: 1\n",
      "# communities: 51\n",
      "# nodes: 3559\n",
      "Time taken: 2.8779964447021484\n",
      "\n",
      "Iteration 5/12: min_deg 5, resolution 1.0\n",
      "Modularity: 0.5530968232600503\n",
      "Median community size: 1\n",
      "# communities: 50\n",
      "# nodes: 3559\n",
      "Time taken: 2.488689422607422\n",
      "\n",
      "Iteration 6/12: min_deg 5, resolution 1.05\n",
      "Modularity: 0.5509947419498977\n",
      "Median community size: 1\n",
      "# communities: 50\n",
      "# nodes: 3559\n",
      "Time taken: 4.1487367153167725\n",
      "\n",
      "Iteration 7/12: min_deg 10, resolution 0.95\n",
      "Modularity: 0.5298980697750235\n",
      "Median community size: 2\n",
      "# communities: 24\n",
      "# nodes: 1826\n",
      "Time taken: 2.1124980449676514\n",
      "\n",
      "Iteration 8/12: min_deg 10, resolution 1.0\n",
      "Modularity: 0.5285739065958113\n",
      "Median community size: 2\n",
      "# communities: 24\n",
      "# nodes: 1826\n",
      "Time taken: 1.401094913482666\n",
      "\n",
      "Iteration 9/12: min_deg 10, resolution 1.05\n",
      "Modularity: 0.5297518136244621\n",
      "Median community size: 2\n",
      "# communities: 24\n",
      "# nodes: 1826\n",
      "Time taken: 2.0047390460968018\n",
      "\n",
      "Iteration 10/12: min_deg 20, resolution 0.95\n",
      "Modularity: 0.5092887414539062\n",
      "Median community size: 53\n",
      "# communities: 13\n",
      "# nodes: 849\n",
      "Time taken: 0.5978415012359619\n",
      "\n",
      "Iteration 11/12: min_deg 20, resolution 1.0\n",
      "Modularity: 0.5094041766065605\n",
      "Median community size: 52\n",
      "# communities: 13\n",
      "# nodes: 849\n",
      "Time taken: 0.6774489879608154\n",
      "\n",
      "Iteration 12/12: min_deg 20, resolution 1.05\n",
      "Modularity: 0.509499181358379\n",
      "Median community size: 52\n",
      "# communities: 13\n",
      "# nodes: 849\n",
      "Time taken: 0.6735951900482178\n",
      "\n"
     ]
    }
   ],
   "source": [
    "# Small scale optimization\n",
    "data = util.optimize_modularity(df, 'user_id', 'streamer_name', min_item_degree=[1,5,10,20], resolution=[0.95, 1.0, 1.05])"
   ]
  },
  {
   "cell_type": "code",
   "execution_count": 165,
   "id": "ee27b2b5-7a10-4ab3-ae27-95de75c7d329",
   "metadata": {},
   "outputs": [
    {
     "data": {
      "text/plain": [
       "{(1, 0.0): -0.0005188017828166525,\n",
       " (1, 0.5): 0.6433074689756122,\n",
       " (1, 1.0): 0.6492429096571607,\n",
       " (1, 2.0): 0.6150528355344139,\n",
       " (5, 0.0): -0.0015545088604027235,\n",
       " (5, 0.5): 0.5195149046346228,\n",
       " (5, 1.0): 0.5518950022956338,\n",
       " (5, 2.0): 0.45609038915951083,\n",
       " (10, 0.0): -0.002281515543565612,\n",
       " (10, 0.5): 0.49228266588820896,\n",
       " (10, 1.0): 0.5291932061153741,\n",
       " (10, 2.0): 0.4985941699199835,\n",
       " (20, 0.0): -0.0036787718923258733,\n",
       " (20, 0.5): 0.4838620684698795,\n",
       " (20, 1.0): 0.5092721869515203,\n",
       " (20, 2.0): 0.45303453112489567}"
      ]
     },
     "execution_count": 165,
     "metadata": {},
     "output_type": "execute_result"
    }
   ],
   "source": [
    "data"
   ]
  },
  {
   "cell_type": "code",
   "execution_count": 147,
   "id": "799366a5-d780-43c5-addc-c3134f82c4bc",
   "metadata": {},
   "outputs": [
    {
     "name": "stdout",
     "output_type": "stream",
     "text": [
      "Starting search over: \n",
      " - min_item_degree: [200, 500, 1000, 2000]\n",
      " - resolution: [1.0]\n",
      "\n",
      "Iteration 1/4: min_deg 200, resolution 1.0, modularity 0.4625909237386571\n",
      "Time taken: 130.91514372825623\n",
      "\n",
      "Iteration 2/4: min_deg 500, resolution 1.0, modularity 0.44440385080148875\n",
      "Time taken: 61.72113275527954\n",
      "\n",
      "Iteration 3/4: min_deg 1000, resolution 1.0, modularity 0.40909016437813533\n",
      "Time taken: 26.789068460464478\n",
      "\n",
      "Iteration 4/4: min_deg 2000, resolution 1.0, modularity 0.35056445432401184\n",
      "Time taken: 8.187478065490723\n",
      "\n"
     ]
    }
   ],
   "source": [
    "# Big dataset optimization\n",
    "data = util.optimize_modularity(df, 'user_id', 'streamer_name', min_item_degree=[200, 500, 1000, 2000])"
   ]
  },
  {
   "cell_type": "code",
   "execution_count": 171,
   "id": "43c0251d-dc3b-4b56-8232-a9e2a0751434",
   "metadata": {},
   "outputs": [
    {
     "name": "stdout",
     "output_type": "stream",
     "text": [
      "Starting search over: \n",
      " - min_item_degree: [50, 200, 500, 1000, 2000]\n",
      " - resolution: [0.25, 0.5, 1.0, 2.0]\n",
      "\n",
      "Iteration 1/20: min_deg 50, resolution 0.25\n",
      "Modularity: 0.4145818825540383\n",
      "Time taken: 41.66627502441406\n",
      "\n",
      "Iteration 2/20: min_deg 50, resolution 0.5\n",
      "Modularity: 0.4577314449098118\n",
      "Time taken: 57.94154906272888\n",
      "\n",
      "Iteration 3/20: min_deg 50, resolution 1.0\n",
      "Modularity: 0.4833723839770129\n",
      "Time taken: 47.86175060272217\n",
      "\n",
      "Iteration 4/20: min_deg 50, resolution 2.0\n",
      "Modularity: 0.3594326926022495\n",
      "Time taken: 57.330137968063354\n",
      "\n",
      "Iteration 5/20: min_deg 200, resolution 0.25\n",
      "Modularity: 0.3767234452448425\n",
      "Time taken: 12.354549646377563\n",
      "\n",
      "Iteration 6/20: min_deg 200, resolution 0.5\n",
      "Modularity: 0.4333067973751559\n",
      "Time taken: 12.29780101776123\n",
      "\n",
      "Iteration 7/20: min_deg 200, resolution 1.0\n",
      "Modularity: 0.46588319097192454\n",
      "Time taken: 13.123764038085938\n",
      "\n",
      "Iteration 8/20: min_deg 200, resolution 2.0\n",
      "Modularity: 0.4274104262520185\n",
      "Time taken: 11.162514209747314\n",
      "\n",
      "Iteration 9/20: min_deg 500, resolution 0.25\n",
      "Modularity: 0.2981638076780686\n",
      "Time taken: 3.072969675064087\n",
      "\n",
      "Iteration 10/20: min_deg 500, resolution 0.5\n",
      "Modularity: 0.4042854018594949\n",
      "Time taken: 3.2732720375061035\n",
      "\n",
      "Iteration 11/20: min_deg 500, resolution 1.0\n",
      "Modularity: 0.4443535810897633\n",
      "Time taken: 3.2315731048583984\n",
      "\n",
      "Iteration 12/20: min_deg 500, resolution 2.0\n",
      "Modularity: 0.40718535552270557\n",
      "Time taken: 3.2696444988250732\n",
      "\n",
      "Iteration 13/20: min_deg 1000, resolution 0.25\n",
      "Modularity: 0.2204580000805107\n",
      "Time taken: 0.7854163646697998\n",
      "\n",
      "Iteration 14/20: min_deg 1000, resolution 0.5\n",
      "Modularity: 0.36519565992204156\n",
      "Time taken: 1.0505445003509521\n",
      "\n",
      "Iteration 15/20: min_deg 1000, resolution 1.0\n",
      "Modularity: 0.4088336461689611\n",
      "Time taken: 0.7472958564758301\n",
      "\n",
      "Iteration 16/20: min_deg 1000, resolution 2.0\n",
      "Modularity: 0.3666798651723638\n",
      "Time taken: 0.7491500377655029\n",
      "\n",
      "Iteration 17/20: min_deg 2000, resolution 0.25\n",
      "Modularity: 0.12748576908031833\n",
      "Time taken: 0.13880157470703125\n",
      "\n",
      "Iteration 18/20: min_deg 2000, resolution 0.5\n",
      "Modularity: 0.21940094942800778\n",
      "Time taken: 0.1491081714630127\n",
      "\n",
      "Iteration 19/20: min_deg 2000, resolution 1.0\n",
      "Modularity: 0.35056445432401173\n",
      "Time taken: 0.13286423683166504\n",
      "\n",
      "Iteration 20/20: min_deg 2000, resolution 2.0\n",
      "Modularity: 0.1216024776417192\n",
      "Time taken: 0.17569947242736816\n",
      "\n"
     ]
    }
   ],
   "source": [
    "# Big dataset optimization + resolution\n",
    "data = util.optimize_modularity(df, 'user_id', 'streamer_name', resolution=[0.25, 0.5, 1.0, 2.0], min_item_degree=[50, 200, 500, 1000, 2000])"
   ]
  },
  {
   "cell_type": "code",
   "execution_count": 182,
   "id": "b381e3c4-68d2-4070-ab83-c7d61c609cc4",
   "metadata": {},
   "outputs": [
    {
     "name": "stdout",
     "output_type": "stream",
     "text": [
      "Starting search over: \n",
      " - min_item_degree: [1, 10, 50]\n",
      " - resolution: [0.9, 1.0, 1.1]\n",
      "\n",
      "Iteration 1/9: min_deg 1, resolution 0.9\n",
      "Modularity: 0.5348675660859761\n",
      "Median community size: 2\n",
      "# communities: 338\n",
      "# nodes: 162625\n",
      "Time taken: 727.461911201477\n",
      "\n",
      "Iteration 2/9: min_deg 1, resolution 1.0\n",
      "Modularity: 0.5377104357140322\n",
      "Median community size: 2\n",
      "# communities: 347\n",
      "# nodes: 162625\n",
      "Time taken: 575.6284017562866\n",
      "\n",
      "Iteration 3/9: min_deg 1, resolution 1.1\n",
      "Modularity: 0.5363003222484801\n",
      "Median community size: 2\n",
      "# communities: 336\n",
      "# nodes: 162625\n",
      "Time taken: 505.8089327812195\n",
      "\n",
      "Iteration 4/9: min_deg 10, resolution 0.9\n",
      "Modularity: 0.4985794144874094\n",
      "Median community size: 1\n",
      "# communities: 80\n",
      "# nodes: 24546\n",
      "Time taken: 185.24077129364014\n",
      "\n",
      "Iteration 5/9: min_deg 10, resolution 1.0\n",
      "Modularity: 0.4981533558856455\n",
      "Median community size: 1\n",
      "# communities: 78\n",
      "# nodes: 24546\n",
      "Time taken: 244.6836814880371\n",
      "\n",
      "Iteration 6/9: min_deg 10, resolution 1.1\n",
      "Modularity: 0.4995986520041475\n",
      "Median community size: 1\n",
      "# communities: 78\n",
      "# nodes: 24546\n",
      "Time taken: 185.6109004020691\n",
      "\n",
      "Iteration 7/9: min_deg 50, resolution 0.9\n",
      "Modularity: 0.48136268000419785\n",
      "Median community size: 310\n",
      "# communities: 18\n",
      "# nodes: 6561\n",
      "Time taken: 45.513548135757446\n",
      "\n",
      "Iteration 8/9: min_deg 50, resolution 1.0\n",
      "Modularity: 0.4853136496924177\n",
      "Median community size: 390\n",
      "# communities: 15\n",
      "# nodes: 6561\n",
      "Time taken: 52.69297671318054\n",
      "\n",
      "Iteration 9/9: min_deg 50, resolution 1.1\n",
      "Modularity: 0.47943114754924165\n",
      "Median community size: 394\n",
      "# communities: 13\n",
      "# nodes: 6561\n",
      "Time taken: 52.22802257537842\n",
      "\n"
     ]
    }
   ],
   "source": [
    "# One additional test on big data set, low min_item_degree\n",
    "data = util.optimize_modularity(df, 'user_id', 'streamer_name', resolution=[0.9, 1.0, 1.1], min_item_degree=[1, 10, 50])"
   ]
  },
  {
   "cell_type": "markdown",
   "id": "6345efbf-829d-4a89-a6e6-a3df1f24feaa",
   "metadata": {
    "tags": []
   },
   "source": [
    "# Turning bipartite graph into communities"
   ]
  },
  {
   "cell_type": "code",
   "execution_count": 70,
   "id": "272dcefa-5983-46b1-bcfa-93da37d9ea3a",
   "metadata": {},
   "outputs": [],
   "source": [
    "# Resolution ~= t\n",
    "# As resolution => inf, communities => 2\n",
    "# At resolution = 0, we have the highest amount of detail"
   ]
  },
  {
   "cell_type": "code",
   "execution_count": null,
   "id": "4780daf3-de9e-4506-98c1-a6c451f54ac3",
   "metadata": {},
   "outputs": [],
   "source": []
  },
  {
   "cell_type": "code",
   "execution_count": 110,
   "id": "a43f02ed-8bec-4ff8-8db5-a8b83ad1287d",
   "metadata": {},
   "outputs": [
    {
     "name": "stdout",
     "output_type": "stream",
     "text": [
      "Starting weighted projection...\n",
      "Finished weighted projection in 0.0151214599609375\n",
      "\n"
     ]
    }
   ],
   "source": [
    "projected = twitch.project_onto_items()"
   ]
  },
  {
   "cell_type": "code",
   "execution_count": 111,
   "id": "26408478-8de7-4e55-9368-b1b35da3f254",
   "metadata": {},
   "outputs": [
    {
     "name": "stdout",
     "output_type": "stream",
     "text": [
      "Starting partition of items with resolution 1000000000000.0...\n",
      "Finished partition in 0.03187155723571777\n"
     ]
    }
   ],
   "source": [
    "partition = twitch.partition_items(resolution=100e10)"
   ]
  },
  {
   "cell_type": "code",
   "execution_count": 112,
   "id": "a5899a74-e4d3-4aff-9d3c-992a8e7eb504",
   "metadata": {},
   "outputs": [],
   "source": [
    "hm = Counter(partition.values())"
   ]
  },
  {
   "cell_type": "code",
   "execution_count": 113,
   "id": "a7f344a9-b40c-4760-bc1f-8886436d447f",
   "metadata": {},
   "outputs": [
    {
     "data": {
      "text/plain": [
       "<Figure size 432x288 with 0 Axes>"
      ]
     },
     "metadata": {},
     "output_type": "display_data"
    }
   ],
   "source": [
    "fig = plt.figure()"
   ]
  },
  {
   "cell_type": "code",
   "execution_count": 114,
   "id": "6b66078e-be81-4ef2-9bf8-44e89ab84ea2",
   "metadata": {},
   "outputs": [
    {
     "data": {
      "text/plain": [
       "matplotlib.figure.Figure"
      ]
     },
     "execution_count": 114,
     "metadata": {},
     "output_type": "execute_result"
    }
   ],
   "source": [
    "type(fig)"
   ]
  },
  {
   "cell_type": "code",
   "execution_count": 99,
   "id": "531064a1-6bfb-4393-986d-dc366842cf5f",
   "metadata": {},
   "outputs": [
    {
     "data": {
      "text/plain": [
       "<BarContainer object of 6 artists>"
      ]
     },
     "execution_count": 99,
     "metadata": {},
     "output_type": "execute_result"
    },
    {
     "data": {
      "image/png": "[encoded data removed]",
      "text/plain": [
       "<Figure size 432x288 with 1 Axes>"
      ]
     },
     "metadata": {
      "needs_background": "light"
     },
     "output_type": "display_data"
    }
   ],
   "source": [
    "plt.bar(hm.keys(), hm.values())"
   ]
  },
  {
   "cell_type": "code",
   "execution_count": 102,
   "id": "fb3a266f-0c03-468a-afcc-f35764b966b0",
   "metadata": {},
   "outputs": [
    {
     "data": {
      "text/plain": [
       "0.0004470272463207504"
      ]
     },
     "execution_count": 102,
     "metadata": {},
     "output_type": "execute_result"
    }
   ],
   "source": [
    "# originally 0.34\n",
    "community_louvain.modularity(partition, projected)"
   ]
  },
  {
   "cell_type": "code",
   "execution_count": 32,
   "id": "83df142d-56b2-42e5-8eae-3130fcbf5c32",
   "metadata": {},
   "outputs": [],
   "source": [
    "# scores with resolution 1.0:\n",
    "# 0.34 with min 2000\n",
    "# 0.4 with min 1000\n",
    "# 0.47 with min 100\n",
    "\n",
    "# scores with varying resolution:\n",
    "# 0.46 with min 100, resolution = 0.7\n"
   ]
  },
  {
   "cell_type": "code",
   "execution_count": null,
   "id": "79dd519e-33c5-4e45-b0e6-7ff3b9404fd4",
   "metadata": {},
   "outputs": [],
   "source": []
  }
 ],
 "metadata": {
  "kernelspec": {
   "display_name": "cse_v0",
   "language": "python",
   "name": "cse_v0"
  },
  "language_info": {
   "codemirror_mode": {
    "name": "ipython",
    "version": 3
   },
   "file_extension": ".py",
   "mimetype": "text/x-python",
   "name": "python",
   "nbconvert_exporter": "python",
   "pygments_lexer": "ipython3",
   "version": "3.9.7"
  }
 },
 "nbformat": 4,
 "nbformat_minor": 5
}

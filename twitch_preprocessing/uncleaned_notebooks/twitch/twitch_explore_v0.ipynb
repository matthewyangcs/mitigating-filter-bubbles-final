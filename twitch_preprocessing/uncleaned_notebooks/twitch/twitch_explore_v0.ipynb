{
 "cells": [
  {
   "cell_type": "code",
   "execution_count": 5,
   "id": "8e9566f1-2876-400a-8ba5-285077717efd",
   "metadata": {},
   "outputs": [
    {
     "name": "stdout",
     "output_type": "stream",
     "text": [
      "The autoreload extension is already loaded. To reload it, use:\n",
      "  %reload_ext autoreload\n"
     ]
    }
   ],
   "source": [
    "%load_ext autoreload\n",
    "%autoreload 2"
   ]
  },
  {
   "cell_type": "markdown",
   "id": "40ce9c75-579f-44ed-90e0-f10c3d5f8693",
   "metadata": {},
   "source": [
    "# Imports"
   ]
  },
  {
   "cell_type": "code",
   "execution_count": 6,
   "id": "73ccbb5e-35d4-4664-bbb2-59bb5f297674",
   "metadata": {},
   "outputs": [],
   "source": [
    "import os\n",
    "import pandas as pd\n",
    "import community as community_louvain\n",
    "import matplotlib.cm as cm\n",
    "import matplotlib.pyplot as plt\n",
    "import networkx as nx\n",
    "import json"
   ]
  },
  {
   "cell_type": "code",
   "execution_count": 14,
   "id": "3a8ddf63-21f9-40cc-8eef-c15dd335b8b8",
   "metadata": {},
   "outputs": [
    {
     "data": {
      "text/plain": [
       "7"
      ]
     },
     "execution_count": 14,
     "metadata": {},
     "output_type": "execute_result"
    }
   ],
   "source": [
    "import threading\n",
    "threading.activeCount()"
   ]
  },
  {
   "cell_type": "markdown",
   "id": "ece087a1-eaa0-4519-9b9c-655c999e2db4",
   "metadata": {},
   "source": [
    "# Load"
   ]
  },
  {
   "cell_type": "code",
   "execution_count": 7,
   "id": "543390b0-8e99-4b44-9805-695d4e427501",
   "metadata": {},
   "outputs": [],
   "source": [
    "PATH1 = os.path.join(os.getcwd(), 'data/100k_a.csv')\n",
    "PATH2 = 'data/FULL_a.csv.gz'"
   ]
  },
  {
   "cell_type": "code",
   "execution_count": 8,
   "id": "79cd3192-e53f-465e-95be-f13bada013f6",
   "metadata": {},
   "outputs": [],
   "source": [
    "df = pd.read_csv(PATH1, names=['user_id', 'stream_id', 'streamer_name', 'start_time', 'stop_time'])"
   ]
  },
  {
   "cell_type": "code",
   "execution_count": 10,
   "id": "2472dfd3-3260-4fee-941f-de5a146b5603",
   "metadata": {},
   "outputs": [],
   "source": [
    "# df_full = pd.read_csv(PATH2, names=['user_id', 'stream_id', 'streamer_name', 'start_time', 'stop_time'])"
   ]
  },
  {
   "cell_type": "code",
   "execution_count": 11,
   "id": "ddf307b5-4496-493c-a270-c57b4f1a20a6",
   "metadata": {},
   "outputs": [
    {
     "ename": "NameError",
     "evalue": "name 'df_full' is not defined",
     "output_type": "error",
     "traceback": [
      "\u001b[0;31m---------------------------------------------------------------------------\u001b[0m",
      "\u001b[0;31mNameError\u001b[0m                                 Traceback (most recent call last)",
      "\u001b[0;32m/tmp/ipykernel_430327/1800334266.py\u001b[0m in \u001b[0;36m<module>\u001b[0;34m\u001b[0m\n\u001b[0;32m----> 1\u001b[0;31m \u001b[0mdf2\u001b[0m \u001b[0;34m=\u001b[0m \u001b[0mdf_full\u001b[0m\u001b[0;34m[\u001b[0m\u001b[0;34m:\u001b[0m\u001b[0;36m10000000\u001b[0m\u001b[0;34m]\u001b[0m\u001b[0;34m\u001b[0m\u001b[0;34m\u001b[0m\u001b[0m\n\u001b[0m",
      "\u001b[0;31mNameError\u001b[0m: name 'df_full' is not defined"
     ]
    }
   ],
   "source": [
    "# df2 = df_full[:10000000]"
   ]
  },
  {
   "cell_type": "markdown",
   "id": "a3dc278d-0cfb-4917-ab83-78d38f35056c",
   "metadata": {},
   "source": [
    "# Basic logging"
   ]
  },
  {
   "cell_type": "code",
   "execution_count": 12,
   "id": "8012c2d6-cb34-4c6c-8697-3cd10d30da81",
   "metadata": {},
   "outputs": [],
   "source": [
    "def df_stats(df):\n",
    "    for col in df.columns:\n",
    "        # print(f\"{col} - # unique: {len(set(df[col]))}, # total: \")\n",
    "        num_unique = len(set(df[col]))\n",
    "        print(f\"# of unique {col}: {num_unique}\")\n",
    "        print(f\"Average data per unique: {len(df) / num_unique}\")\n",
    "        print(\"\\n\")\n",
    "        "
   ]
  },
  {
   "cell_type": "code",
   "execution_count": 13,
   "id": "04dee261-fbcd-4105-b675-3d9808171670",
   "metadata": {},
   "outputs": [
    {
     "name": "stdout",
     "output_type": "stream",
     "text": [
      "# of unique user_id: 100000\n",
      "Average data per unique: 30.51733\n",
      "\n",
      "\n",
      "# of unique stream_id: 739991\n",
      "Average data per unique: 4.124013670436533\n",
      "\n",
      "\n",
      "# of unique streamer_name: 162625\n",
      "Average data per unique: 18.765460415065334\n",
      "\n",
      "\n",
      "# of unique start_time: 6148\n",
      "Average data per unique: 496.37817176317503\n",
      "\n",
      "\n",
      "# of unique stop_time: 6148\n",
      "Average data per unique: 496.37817176317503\n",
      "\n",
      "\n"
     ]
    }
   ],
   "source": [
    "df_stats(df)"
   ]
  },
  {
   "cell_type": "code",
   "execution_count": 47,
   "id": "4f54e791-a35a-4f93-9ac2-d4fcef684709",
   "metadata": {},
   "outputs": [
    {
     "name": "stdout",
     "output_type": "stream",
     "text": [
      "# of unique user_id: 339294\n",
      "# of unique stream_id: 1449583\n",
      "# of unique streamer_name: 278411\n",
      "# of unique start_time: 6148\n",
      "# of unique stop_time: 6148\n"
     ]
    }
   ],
   "source": [
    "# df_stats(df2)"
   ]
  },
  {
   "cell_type": "code",
   "execution_count": 48,
   "id": "f2953ba3-1e2b-4081-94b1-86bc0f6b3fbc",
   "metadata": {},
   "outputs": [
    {
     "name": "stdout",
     "output_type": "stream",
     "text": [
      "# of unique user_id: 15524309\n",
      "# of unique stream_id: 6161666\n",
      "# of unique streamer_name: 790100\n",
      "# of unique start_time: 6148\n",
      "# of unique stop_time: 6148\n"
     ]
    }
   ],
   "source": [
    "# df_stats(df_full)"
   ]
  },
  {
   "cell_type": "markdown",
   "id": "b1171a4a-06f3-44aa-a224-61f4fb82f4c0",
   "metadata": {},
   "source": [
    "# Creating Graph\n",
    "Bipartite graph of users + streamers\n",
    "Two streamers are connected if a user visited both of them"
   ]
  },
  {
   "cell_type": "markdown",
   "id": "08667a0e-d21d-4f8d-8597-d676f098344d",
   "metadata": {
    "tags": []
   },
   "source": [
    "# Network Analysis (unweighted)"
   ]
  },
  {
   "cell_type": "code",
   "execution_count": 15,
   "id": "a80522ce-df31-40ef-abd0-8fe12f2667d9",
   "metadata": {},
   "outputs": [],
   "source": [
    "from collections import defaultdict"
   ]
  },
  {
   "cell_type": "code",
   "execution_count": 16,
   "id": "d5210f2c-7bbf-4899-b461-e5d55f10d0d0",
   "metadata": {
    "tags": []
   },
   "outputs": [
    {
     "name": "stdout",
     "output_type": "stream",
     "text": [
      "0 / 3051733\n",
      "100000 / 3051733\n",
      "200000 / 3051733\n",
      "300000 / 3051733\n",
      "400000 / 3051733\n",
      "500000 / 3051733\n",
      "600000 / 3051733\n",
      "700000 / 3051733\n",
      "800000 / 3051733\n",
      "900000 / 3051733\n",
      "1000000 / 3051733\n",
      "1100000 / 3051733\n",
      "1200000 / 3051733\n",
      "1300000 / 3051733\n",
      "1400000 / 3051733\n",
      "1500000 / 3051733\n"
     ]
    },
    {
     "ename": "KeyboardInterrupt",
     "evalue": "",
     "output_type": "error",
     "traceback": [
      "\u001b[0;31m---------------------------------------------------------------------------\u001b[0m",
      "\u001b[0;31mKeyboardInterrupt\u001b[0m                         Traceback (most recent call last)",
      "\u001b[0;32m/tmp/ipykernel_430327/3909056323.py\u001b[0m in \u001b[0;36m<module>\u001b[0;34m\u001b[0m\n\u001b[1;32m      1\u001b[0m \u001b[0;31m# creating edge list\u001b[0m\u001b[0;34m\u001b[0m\u001b[0;34m\u001b[0m\u001b[0m\n\u001b[1;32m      2\u001b[0m \u001b[0medge_list\u001b[0m \u001b[0;34m=\u001b[0m \u001b[0mset\u001b[0m\u001b[0;34m(\u001b[0m\u001b[0;34m)\u001b[0m\u001b[0;34m\u001b[0m\u001b[0;34m\u001b[0m\u001b[0m\n\u001b[0;32m----> 3\u001b[0;31m \u001b[0;32mfor\u001b[0m \u001b[0mi\u001b[0m\u001b[0;34m,\u001b[0m \u001b[0mrow\u001b[0m \u001b[0;32min\u001b[0m \u001b[0mdf\u001b[0m\u001b[0;34m.\u001b[0m\u001b[0miterrows\u001b[0m\u001b[0;34m(\u001b[0m\u001b[0;34m)\u001b[0m\u001b[0;34m:\u001b[0m\u001b[0;34m\u001b[0m\u001b[0;34m\u001b[0m\u001b[0m\n\u001b[0m\u001b[1;32m      4\u001b[0m     \u001b[0muser\u001b[0m \u001b[0;34m=\u001b[0m \u001b[0mrow\u001b[0m\u001b[0;34m[\u001b[0m\u001b[0;34m'user_id'\u001b[0m\u001b[0;34m]\u001b[0m\u001b[0;34m\u001b[0m\u001b[0;34m\u001b[0m\u001b[0m\n\u001b[1;32m      5\u001b[0m     \u001b[0mstreamer_name\u001b[0m \u001b[0;34m=\u001b[0m \u001b[0mrow\u001b[0m\u001b[0;34m[\u001b[0m\u001b[0;34m'streamer_name'\u001b[0m\u001b[0;34m]\u001b[0m\u001b[0;34m\u001b[0m\u001b[0;34m\u001b[0m\u001b[0m\n",
      "\u001b[0;32m~/miniconda3/envs/cse_v0/lib/python3.9/site-packages/pandas/core/frame.py\u001b[0m in \u001b[0;36miterrows\u001b[0;34m(self)\u001b[0m\n\u001b[1;32m   1261\u001b[0m         \u001b[0mklass\u001b[0m \u001b[0;34m=\u001b[0m \u001b[0mself\u001b[0m\u001b[0;34m.\u001b[0m\u001b[0m_constructor_sliced\u001b[0m\u001b[0;34m\u001b[0m\u001b[0;34m\u001b[0m\u001b[0m\n\u001b[1;32m   1262\u001b[0m         \u001b[0;32mfor\u001b[0m \u001b[0mk\u001b[0m\u001b[0;34m,\u001b[0m \u001b[0mv\u001b[0m \u001b[0;32min\u001b[0m \u001b[0mzip\u001b[0m\u001b[0;34m(\u001b[0m\u001b[0mself\u001b[0m\u001b[0;34m.\u001b[0m\u001b[0mindex\u001b[0m\u001b[0;34m,\u001b[0m \u001b[0mself\u001b[0m\u001b[0;34m.\u001b[0m\u001b[0mvalues\u001b[0m\u001b[0;34m)\u001b[0m\u001b[0;34m:\u001b[0m\u001b[0;34m\u001b[0m\u001b[0;34m\u001b[0m\u001b[0m\n\u001b[0;32m-> 1263\u001b[0;31m             \u001b[0ms\u001b[0m \u001b[0;34m=\u001b[0m \u001b[0mklass\u001b[0m\u001b[0;34m(\u001b[0m\u001b[0mv\u001b[0m\u001b[0;34m,\u001b[0m \u001b[0mindex\u001b[0m\u001b[0;34m=\u001b[0m\u001b[0mcolumns\u001b[0m\u001b[0;34m,\u001b[0m \u001b[0mname\u001b[0m\u001b[0;34m=\u001b[0m\u001b[0mk\u001b[0m\u001b[0;34m)\u001b[0m\u001b[0;34m\u001b[0m\u001b[0;34m\u001b[0m\u001b[0m\n\u001b[0m\u001b[1;32m   1264\u001b[0m             \u001b[0;32myield\u001b[0m \u001b[0mk\u001b[0m\u001b[0;34m,\u001b[0m \u001b[0ms\u001b[0m\u001b[0;34m\u001b[0m\u001b[0;34m\u001b[0m\u001b[0m\n\u001b[1;32m   1265\u001b[0m \u001b[0;34m\u001b[0m\u001b[0m\n",
      "\u001b[0;32m~/miniconda3/envs/cse_v0/lib/python3.9/site-packages/pandas/core/series.py\u001b[0m in \u001b[0;36m__init__\u001b[0;34m(self, data, index, dtype, name, copy, fastpath)\u001b[0m\n\u001b[1;32m    351\u001b[0m         \u001b[0;32melse\u001b[0m\u001b[0;34m:\u001b[0m\u001b[0;34m\u001b[0m\u001b[0;34m\u001b[0m\u001b[0m\n\u001b[1;32m    352\u001b[0m \u001b[0;34m\u001b[0m\u001b[0m\n\u001b[0;32m--> 353\u001b[0;31m             \u001b[0mname\u001b[0m \u001b[0;34m=\u001b[0m \u001b[0mibase\u001b[0m\u001b[0;34m.\u001b[0m\u001b[0mmaybe_extract_name\u001b[0m\u001b[0;34m(\u001b[0m\u001b[0mname\u001b[0m\u001b[0;34m,\u001b[0m \u001b[0mdata\u001b[0m\u001b[0;34m,\u001b[0m \u001b[0mtype\u001b[0m\u001b[0;34m(\u001b[0m\u001b[0mself\u001b[0m\u001b[0;34m)\u001b[0m\u001b[0;34m)\u001b[0m\u001b[0;34m\u001b[0m\u001b[0;34m\u001b[0m\u001b[0m\n\u001b[0m\u001b[1;32m    354\u001b[0m \u001b[0;34m\u001b[0m\u001b[0m\n\u001b[1;32m    355\u001b[0m             \u001b[0;32mif\u001b[0m \u001b[0mis_empty_data\u001b[0m\u001b[0;34m(\u001b[0m\u001b[0mdata\u001b[0m\u001b[0;34m)\u001b[0m \u001b[0;32mand\u001b[0m \u001b[0mdtype\u001b[0m \u001b[0;32mis\u001b[0m \u001b[0;32mNone\u001b[0m\u001b[0;34m:\u001b[0m\u001b[0;34m\u001b[0m\u001b[0;34m\u001b[0m\u001b[0m\n",
      "\u001b[0;31mKeyboardInterrupt\u001b[0m: "
     ]
    }
   ],
   "source": [
    "# creating edge list\n",
    "edge_list = set()\n",
    "for i, row in df.iterrows():\n",
    "    user = row['user_id']\n",
    "    streamer_name = row['streamer_name']\n",
    "    edge_list.add((user, streamer_name))\n",
    "    if i % 100000 == 0:\n",
    "        print(f\"{i} / {len(df)}\")"
   ]
  },
  {
   "cell_type": "code",
   "execution_count": 23,
   "id": "ea5dd168-4a3c-421c-8eec-f570a8793d0d",
   "metadata": {},
   "outputs": [],
   "source": [
    "# Graph\n",
    "G = nx.Graph()\n",
    "G.add_edges_from(edge_list)"
   ]
  },
  {
   "cell_type": "code",
   "execution_count": 25,
   "id": "0081371d-3aca-4f76-8a18-b67995135ac7",
   "metadata": {},
   "outputs": [
    {
     "data": {
      "text/plain": [
       "262625"
      ]
     },
     "execution_count": 25,
     "metadata": {},
     "output_type": "execute_result"
    }
   ],
   "source": [
    "len(G)"
   ]
  },
  {
   "cell_type": "code",
   "execution_count": 26,
   "id": "6964d229-df7e-4aa3-a923-a87f431a3755",
   "metadata": {},
   "outputs": [],
   "source": [
    "# Projection\n",
    "user_set = set(df['user_id'])\n",
    "streamer_name_set = set(df['streamer_name'])"
   ]
  },
  {
   "cell_type": "code",
   "execution_count": 27,
   "id": "7633eb97-a2b9-4726-a87c-5069bacc5a0a",
   "metadata": {},
   "outputs": [],
   "source": [
    "from networkx.algorithms import bipartite"
   ]
  },
  {
   "cell_type": "code",
   "execution_count": 28,
   "id": "d7fb9bba-997d-4143-9dcb-7f270aec7bf1",
   "metadata": {},
   "outputs": [],
   "source": [
    "projected = bipartite.projected_graph(G, streamer_name_set)"
   ]
  },
  {
   "cell_type": "code",
   "execution_count": 32,
   "id": "755a9c79-ebe4-49df-a0a5-1622d404ec0a",
   "metadata": {},
   "outputs": [
    {
     "data": {
      "text/plain": [
       "11048847"
      ]
     },
     "execution_count": 32,
     "metadata": {},
     "output_type": "execute_result"
    }
   ],
   "source": [
    "len(projected.edges)"
   ]
  },
  {
   "cell_type": "code",
   "execution_count": 35,
   "id": "e5357d4e-b003-44e8-b7bd-ca3e3c891c61",
   "metadata": {},
   "outputs": [],
   "source": [
    "partition = community_louvain.best_partition(projected)"
   ]
  },
  {
   "cell_type": "markdown",
   "id": "36a7bbe3-7a1e-4661-a476-a990f9c4fc76",
   "metadata": {},
   "source": [
    "# 364 different assignnments"
   ]
  },
  {
   "cell_type": "code",
   "execution_count": 39,
   "id": "647ba3e5-e2b5-4233-a1bd-971d58aa4667",
   "metadata": {},
   "outputs": [
    {
     "data": {
      "text/plain": [
       "364"
      ]
     },
     "execution_count": 39,
     "metadata": {},
     "output_type": "execute_result"
    }
   ],
   "source": [
    "len(set(partition.values()))"
   ]
  },
  {
   "cell_type": "code",
   "execution_count": 43,
   "id": "86e3584a-875c-4a4d-aa61-27a474dc9868",
   "metadata": {},
   "outputs": [],
   "source": [
    "# save the partition\n",
    "with open('clusters.json', 'w') as fp:\n",
    "    json.dump(partition, fp)"
   ]
  },
  {
   "cell_type": "code",
   "execution_count": 30,
   "id": "282bda1e-d875-4ccb-9d1d-10bb255eac10",
   "metadata": {},
   "outputs": [],
   "source": [
    "B = nx.path_graph(4)"
   ]
  },
  {
   "cell_type": "code",
   "execution_count": 35,
   "id": "19f4d80b-426c-426e-aae8-a91a5ed72279",
   "metadata": {},
   "outputs": [
    {
     "data": {
      "text/plain": [
       "EdgeView([(0, 1), (1, 2), (2, 3)])"
      ]
     },
     "execution_count": 35,
     "metadata": {},
     "output_type": "execute_result"
    }
   ],
   "source": [
    "B.edges"
   ]
  },
  {
   "cell_type": "markdown",
   "id": "4fe39661-7257-4677-8d7d-62fe06118004",
   "metadata": {},
   "source": [
    "# Weighted Clustering"
   ]
  },
  {
   "cell_type": "code",
   "execution_count": 45,
   "id": "37d1375c-bc48-484f-b238-872acd0bc886",
   "metadata": {},
   "outputs": [],
   "source": [
    "from collections import defaultdict"
   ]
  },
  {
   "cell_type": "code",
   "execution_count": 46,
   "id": "7da6fb5c-2db4-41fd-a885-e1ab9b2f5c37",
   "metadata": {},
   "outputs": [
    {
     "name": "stdout",
     "output_type": "stream",
     "text": [
      "0 / 3051733\n",
      "100000 / 3051733\n",
      "200000 / 3051733\n",
      "300000 / 3051733\n",
      "400000 / 3051733\n",
      "500000 / 3051733\n",
      "600000 / 3051733\n",
      "700000 / 3051733\n",
      "800000 / 3051733\n",
      "900000 / 3051733\n",
      "1000000 / 3051733\n",
      "1100000 / 3051733\n",
      "1200000 / 3051733\n",
      "1300000 / 3051733\n",
      "1400000 / 3051733\n",
      "1500000 / 3051733\n",
      "1600000 / 3051733\n",
      "1700000 / 3051733\n",
      "1800000 / 3051733\n",
      "1900000 / 3051733\n",
      "2000000 / 3051733\n",
      "2100000 / 3051733\n",
      "2200000 / 3051733\n",
      "2300000 / 3051733\n",
      "2400000 / 3051733\n",
      "2500000 / 3051733\n",
      "2600000 / 3051733\n",
      "2700000 / 3051733\n",
      "2800000 / 3051733\n",
      "2900000 / 3051733\n",
      "3000000 / 3051733\n"
     ]
    }
   ],
   "source": [
    "# creating edge list\n",
    "edge_list = defaultdict(int)\n",
    "for i, row in df.iterrows():\n",
    "    user = row['user_id']\n",
    "    streamer_name = row['streamer_name']\n",
    "    edge_list[(user, streamer_name)] += 1\n",
    "    if i % 100000 == 0:\n",
    "        print(f\"{i} / {len(df)}\")"
   ]
  },
  {
   "cell_type": "code",
   "execution_count": 47,
   "id": "fdc0adce-298a-40bf-90dc-4a178e313bd4",
   "metadata": {},
   "outputs": [],
   "source": [
    "# Graph\n",
    "G = nx.Graph()\n",
    "G.add_edges_from(edge_list)"
   ]
  },
  {
   "cell_type": "code",
   "execution_count": null,
   "id": "10ecde0f-53da-4c33-86e9-b031129ce806",
   "metadata": {},
   "outputs": [],
   "source": []
  }
 ],
 "metadata": {
  "kernelspec": {
   "display_name": "cse_v0",
   "language": "python",
   "name": "cse_v0"
  },
  "language_info": {
   "codemirror_mode": {
    "name": "ipython",
    "version": 3
   },
   "file_extension": ".py",
   "mimetype": "text/x-python",
   "name": "python",
   "nbconvert_exporter": "python",
   "pygments_lexer": "ipython3",
   "version": "3.9.7"
  }
 },
 "nbformat": 4,
 "nbformat_minor": 5
}

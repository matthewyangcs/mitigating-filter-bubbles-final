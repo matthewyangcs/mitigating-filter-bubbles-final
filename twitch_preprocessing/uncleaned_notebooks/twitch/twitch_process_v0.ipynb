{
 "cells": [
  {
   "cell_type": "code",
   "execution_count": 18,
   "id": "8e9566f1-2876-400a-8ba5-285077717efd",
   "metadata": {},
   "outputs": [
    {
     "name": "stdout",
     "output_type": "stream",
     "text": [
      "The autoreload extension is already loaded. To reload it, use:\n",
      "  %reload_ext autoreload\n"
     ]
    }
   ],
   "source": [
    "%load_ext autoreload\n",
    "%autoreload 2"
   ]
  },
  {
   "cell_type": "markdown",
   "id": "40ce9c75-579f-44ed-90e0-f10c3d5f8693",
   "metadata": {},
   "source": [
    "# Imports"
   ]
  },
  {
   "cell_type": "code",
   "execution_count": 28,
   "id": "73ccbb5e-35d4-4664-bbb2-59bb5f297674",
   "metadata": {},
   "outputs": [],
   "source": [
    "import os\n",
    "import pandas as pd\n",
    "import community as community_louvain\n",
    "import matplotlib.cm as cm\n",
    "import matplotlib.pyplot as plt\n",
    "import networkx as nx\n",
    "import json\n",
    "from collections import Counter\n",
    "import time\n",
    "import seaborn as sns\n",
    "import pickle"
   ]
  },
  {
   "cell_type": "code",
   "execution_count": 3,
   "id": "3a8ddf63-21f9-40cc-8eef-c15dd335b8b8",
   "metadata": {},
   "outputs": [
    {
     "data": {
      "text/plain": [
       "8"
      ]
     },
     "execution_count": 3,
     "metadata": {},
     "output_type": "execute_result"
    }
   ],
   "source": [
    "import threading\n",
    "threading.activeCount()"
   ]
  },
  {
   "cell_type": "markdown",
   "id": "ece087a1-eaa0-4519-9b9c-655c999e2db4",
   "metadata": {},
   "source": [
    "# Load"
   ]
  },
  {
   "cell_type": "code",
   "execution_count": 4,
   "id": "543390b0-8e99-4b44-9805-695d4e427501",
   "metadata": {},
   "outputs": [],
   "source": [
    "PATH = os.path.join(os.getcwd(), 'data/100k_a.csv')"
   ]
  },
  {
   "cell_type": "code",
   "execution_count": 5,
   "id": "79cd3192-e53f-465e-95be-f13bada013f6",
   "metadata": {},
   "outputs": [],
   "source": [
    "df = pd.read_csv(PATH, names=['user_id', 'stream_id', 'streamer_name', 'start_time', 'stop_time'])"
   ]
  },
  {
   "cell_type": "code",
   "execution_count": 6,
   "id": "3090c220-cd01-4559-adaa-bcf9e4e1a989",
   "metadata": {},
   "outputs": [],
   "source": [
    "# Applying (user_id, streamer_name) edges\n",
    "df['edge'] = list(zip(df['user_id'], df['streamer_name']))"
   ]
  },
  {
   "cell_type": "markdown",
   "id": "a3dc278d-0cfb-4917-ab83-78d38f35056c",
   "metadata": {},
   "source": [
    "# Basic logging"
   ]
  },
  {
   "cell_type": "code",
   "execution_count": 7,
   "id": "8012c2d6-cb34-4c6c-8697-3cd10d30da81",
   "metadata": {},
   "outputs": [],
   "source": [
    "def df_stats(df):\n",
    "    for col in df.columns:\n",
    "        # print(f\"{col} - # unique: {len(set(df[col]))}, # total: \")\n",
    "        num_unique = len(set(df[col]))\n",
    "        print(f\"# of unique {col}:\", \"{:,}\".format(num_unique))\n",
    "        print(f\"Average data per unique {col}:\", (len(df) / num_unique))\n",
    "        print(\"\\n\")\n",
    "    print(f\"Total # of Interactions:\", \"{:,}\".format(len(df)))"
   ]
  },
  {
   "cell_type": "code",
   "execution_count": 8,
   "id": "04dee261-fbcd-4105-b675-3d9808171670",
   "metadata": {},
   "outputs": [
    {
     "name": "stdout",
     "output_type": "stream",
     "text": [
      "# of unique user_id: 100,000\n",
      "Average data per unique user_id: 30.51733\n",
      "\n",
      "\n",
      "# of unique stream_id: 739,991\n",
      "Average data per unique stream_id: 4.124013670436533\n",
      "\n",
      "\n",
      "# of unique streamer_name: 162,625\n",
      "Average data per unique streamer_name: 18.765460415065334\n",
      "\n",
      "\n",
      "# of unique start_time: 6,148\n",
      "Average data per unique start_time: 496.37817176317503\n",
      "\n",
      "\n",
      "# of unique stop_time: 6,148\n",
      "Average data per unique stop_time: 496.37817176317503\n",
      "\n",
      "\n",
      "# of unique edge: 1,505,158\n",
      "Average data per unique edge: 2.027516712531176\n",
      "\n",
      "\n",
      "Total # of Interactions: 3,051,733\n"
     ]
    }
   ],
   "source": [
    "df_stats(df)"
   ]
  },
  {
   "cell_type": "markdown",
   "id": "b1171a4a-06f3-44aa-a224-61f4fb82f4c0",
   "metadata": {
    "tags": []
   },
   "source": [
    "# Creating Graph\n",
    "Bipartite graph of users + streamers\n",
    "\n",
    "Two streamers are connected if a user visited both of them"
   ]
  },
  {
   "cell_type": "markdown",
   "id": "08667a0e-d21d-4f8d-8597-d676f098344d",
   "metadata": {
    "tags": []
   },
   "source": [
    "# Network Analysis"
   ]
  },
  {
   "cell_type": "code",
   "execution_count": 9,
   "id": "a80522ce-df31-40ef-abd0-8fe12f2667d9",
   "metadata": {},
   "outputs": [],
   "source": [
    "from collections import defaultdict"
   ]
  },
  {
   "cell_type": "code",
   "execution_count": 10,
   "id": "c45645a3-377f-4a9b-babb-01dd4857f844",
   "metadata": {},
   "outputs": [],
   "source": [
    "# To counter\n",
    "edge_weights = Counter(df['edge'])\n",
    "assert sum(edge_weights[x] for x in edge_weights) == len(df)"
   ]
  },
  {
   "cell_type": "code",
   "execution_count": 11,
   "id": "b687620a-2e9b-4712-8469-5fc9986c6e8e",
   "metadata": {},
   "outputs": [],
   "source": [
    "# To weighted edge list\n",
    "edge_list = []\n",
    "for (u,v), weight in edge_weights.items():\n",
    "    edge_list.append((u,v,weight))\n",
    "assert len(edge_list) == len(edge_weights)"
   ]
  },
  {
   "cell_type": "code",
   "execution_count": 12,
   "id": "2b4b2c1a-833e-4b7c-a98d-e8d492f29a46",
   "metadata": {},
   "outputs": [
    {
     "name": "stdout",
     "output_type": "stream",
     "text": [
      "2.027516712531176\n"
     ]
    }
   ],
   "source": [
    "# Average count of user-item interactions\n",
    "print(len(df) / len(edge_weights))"
   ]
  },
  {
   "cell_type": "code",
   "execution_count": 13,
   "id": "ea5dd168-4a3c-421c-8eec-f570a8793d0d",
   "metadata": {},
   "outputs": [],
   "source": [
    "# Graph\n",
    "G = nx.Graph()\n",
    "G.add_weighted_edges_from(edge_list)"
   ]
  },
  {
   "cell_type": "code",
   "execution_count": 14,
   "id": "0081371d-3aca-4f76-8a18-b67995135ac7",
   "metadata": {},
   "outputs": [],
   "source": [
    "# Assert graph contains equal to users and streamers in df\n",
    "assert len(G) == len(set(df['user_id'])) + len(set(df['streamer_name']))"
   ]
  },
  {
   "cell_type": "code",
   "execution_count": 22,
   "id": "6964d229-df7e-4aa3-a923-a87f431a3755",
   "metadata": {},
   "outputs": [],
   "source": [
    "# Projection\n",
    "user_set = set(df['user_id'])\n",
    "streamer_name_set = set(df['streamer_name'])"
   ]
  },
  {
   "cell_type": "code",
   "execution_count": 23,
   "id": "7633eb97-a2b9-4726-a87c-5069bacc5a0a",
   "metadata": {},
   "outputs": [],
   "source": [
    "from networkx.algorithms import bipartite"
   ]
  },
  {
   "cell_type": "code",
   "execution_count": 24,
   "id": "d7fb9bba-997d-4143-9dcb-7f270aec7bf1",
   "metadata": {},
   "outputs": [
    {
     "name": "stdout",
     "output_type": "stream",
     "text": [
      "Time taken: 783.036431312561\n"
     ]
    }
   ],
   "source": [
    "start = time.time()\n",
    "projected = bipartite.weighted_projected_graph(G, streamer_name_set)\n",
    "print(\"Time taken:\", time.time() - start)"
   ]
  },
  {
   "cell_type": "code",
   "execution_count": 25,
   "id": "755a9c79-ebe4-49df-a0a5-1622d404ec0a",
   "metadata": {},
   "outputs": [
    {
     "name": "stdout",
     "output_type": "stream",
     "text": [
      "CPU times: user 70.6 ms, sys: 12 ms, total: 82.7 ms\n",
      "Wall time: 82.2 ms\n"
     ]
    },
    {
     "data": {
      "text/plain": [
       "11048847"
      ]
     },
     "execution_count": 25,
     "metadata": {},
     "output_type": "execute_result"
    }
   ],
   "source": [
    "%%time\n",
    "# old edges = 11048847\n",
    "len(projected.edges)"
   ]
  },
  {
   "cell_type": "code",
   "execution_count": 31,
   "id": "e2b97d71-7db2-46b2-8e61-2a84a89ac5f5",
   "metadata": {},
   "outputs": [
    {
     "data": {
      "text/plain": [
       "<function networkx.readwrite.gpickle.write_gpickle(G, path, protocol=5)>"
      ]
     },
     "execution_count": 31,
     "metadata": {},
     "output_type": "execute_result"
    }
   ],
   "source": [
    "nx.write_gpickle"
   ]
  },
  {
   "cell_type": "code",
   "execution_count": 32,
   "id": "08f512ff-6e28-4fe4-a117-3f4282ffd910",
   "metadata": {},
   "outputs": [],
   "source": [
    "# Save the network as pickle\n",
    "nx.write_gpickle(projected, 'projected_weighted.gpickle')"
   ]
  },
  {
   "cell_type": "code",
   "execution_count": 33,
   "id": "94a079cb-4600-48d4-817a-03078e39965c",
   "metadata": {},
   "outputs": [],
   "source": [
    "temp = nx.read_gpickle('projected_weighted.txt')"
   ]
  },
  {
   "cell_type": "code",
   "execution_count": null,
   "id": "de55c62c-45c5-41d1-8032-7cbe65870659",
   "metadata": {},
   "outputs": [],
   "source": [
    "temp.nodes"
   ]
  },
  {
   "cell_type": "markdown",
   "id": "7812bc84-9f36-4233-a54c-ceee7a07126a",
   "metadata": {},
   "source": [
    "# Remove streamers with low connectivity"
   ]
  },
  {
   "cell_type": "markdown",
   "id": "e8b6e5a7-3792-4b38-b04b-e67a3b4ce099",
   "metadata": {},
   "source": [
    "# Examples"
   ]
  },
  {
   "cell_type": "code",
   "execution_count": 85,
   "id": "06e49106-fb1a-4693-9a4c-4d3863eecdda",
   "metadata": {},
   "outputs": [
    {
     "name": "stdout",
     "output_type": "stream",
     "text": [
      "('pleb_method', 'lexveldhuis', {'weight': 18})\n",
      "('pleb_method', 'pokerstars', {'weight': 13})\n",
      "('pleb_method', 'arlieshaban', {'weight': 18})\n",
      "('pleb_method', 'easywithaces', {'weight': 18})\n",
      "('pleb_method', 'allinpav', {'weight': 15})\n"
     ]
    }
   ],
   "source": [
    "edge_itr = iter(x for x in projected.edges(data=True) if x[2]['weight'] > 10)\n",
    "for i in range(5):\n",
    "    print(next(edge_itr))"
   ]
  },
  {
   "cell_type": "markdown",
   "id": "6d36d676-054f-4ed2-a573-aa9b8c45d2e0",
   "metadata": {},
   "source": [
    "# Partitioning into Communities"
   ]
  },
  {
   "cell_type": "code",
   "execution_count": 92,
   "id": "e5357d4e-b003-44e8-b7bd-ca3e3c891c61",
   "metadata": {},
   "outputs": [
    {
     "name": "stdout",
     "output_type": "stream",
     "text": [
      "CPU times: user 7min, sys: 7.64 s, total: 7min 7s\n",
      "Wall time: 7min 8s\n"
     ]
    }
   ],
   "source": [
    "%%time\n",
    "partition = community_louvain.best_partition(projected, weight='weight')"
   ]
  },
  {
   "cell_type": "code",
   "execution_count": 94,
   "id": "647ba3e5-e2b5-4233-a1bd-971d58aa4667",
   "metadata": {},
   "outputs": [
    {
     "data": {
      "text/plain": [
       "334"
      ]
     },
     "execution_count": 94,
     "metadata": {},
     "output_type": "execute_result"
    }
   ],
   "source": [
    "# Unweighted projection has 364 different assignments\n",
    "# Weighted projection has 334 different communities\n",
    "len(set(partition.values()))"
   ]
  },
  {
   "cell_type": "code",
   "execution_count": 95,
   "id": "86e3584a-875c-4a4d-aa61-27a474dc9868",
   "metadata": {},
   "outputs": [],
   "source": [
    "# save the partition\n",
    "with open('weighted_communities.json', 'w') as fp:\n",
    "    json.dump(partition, fp)"
   ]
  },
  {
   "cell_type": "code",
   "execution_count": 116,
   "id": "606249ff-81ec-43e0-82d5-cc851fdc1e2a",
   "metadata": {},
   "outputs": [],
   "source": [
    "comm_to_streamers = defaultdict(list)\n",
    "for streamer_name, community_id in partition.items():\n",
    "    comm_to_streamers[community_id].append(streamer_name)"
   ]
  },
  {
   "cell_type": "code",
   "execution_count": 120,
   "id": "359e90cd-0499-486d-b1c6-5f2085e1c78b",
   "metadata": {},
   "outputs": [
    {
     "name": "stdout",
     "output_type": "stream",
     "text": [
      "CPU times: user 53 µs, sys: 1 µs, total: 54 µs\n",
      "Wall time: 58.2 µs\n"
     ]
    }
   ],
   "source": [
    "%%time\n",
    "# Bar Graph of Community Sizes\n",
    "counts = [len(streamers) for _, streamers in comm_to_streamers.items()]"
   ]
  },
  {
   "cell_type": "code",
   "execution_count": null,
   "id": "05fdd90b-0dc5-41d1-83b6-8e0540b55083",
   "metadata": {},
   "outputs": [],
   "source": []
  },
  {
   "cell_type": "code",
   "execution_count": 123,
   "id": "d055586f-dcb7-456d-a23f-d51720151ad5",
   "metadata": {},
   "outputs": [
    {
     "data": {
      "text/plain": [
       "<AxesSubplot:ylabel='Count'>"
      ]
     },
     "execution_count": 123,
     "metadata": {},
     "output_type": "execute_result"
    },
    {
     "data": {
      "image/png": "[encoded data removed]",
      "text/plain": [
       "<Figure size 432x288 with 1 Axes>"
      ]
     },
     "metadata": {
      "needs_background": "light"
     },
     "output_type": "display_data"
    }
   ],
   "source": [
    "sns.histplot(counts)"
   ]
  },
  {
   "cell_type": "markdown",
   "id": "6341e532-5f4f-4260-934c-add5860fcbd3",
   "metadata": {},
   "source": [
    "# Visualizing the Graph"
   ]
  },
  {
   "cell_type": "code",
   "execution_count": 106,
   "id": "22fff9ce-433a-4eea-b278-1679e119d4b9",
   "metadata": {},
   "outputs": [],
   "source": [
    "g_iter = iter(G.nodes)\n",
    "sub_nodes = []\n",
    "for i in range(100):\n",
    "    sub_nodes.append(next(g_iter))\n",
    "subgraph = G.subgraph(sub_nodes)"
   ]
  },
  {
   "cell_type": "code",
   "execution_count": 107,
   "id": "a58c68db-eae2-4511-a42c-43c7b28b27c3",
   "metadata": {},
   "outputs": [
    {
     "name": "stdout",
     "output_type": "stream",
     "text": [
      "CPU times: user 61.6 ms, sys: 16 ms, total: 77.6 ms\n",
      "Wall time: 77.3 ms\n"
     ]
    }
   ],
   "source": [
    "%%time\n",
    "# draw the graph\n",
    "pos = nx.spring_layout(subgraph)"
   ]
  },
  {
   "cell_type": "code",
   "execution_count": null,
   "id": "f8b438ee-dbc0-4de0-8b03-9cf1246c3720",
   "metadata": {},
   "outputs": [],
   "source": []
  },
  {
   "cell_type": "code",
   "execution_count": 108,
   "id": "1ff951bd-0c78-4707-a7ea-5e3031944133",
   "metadata": {},
   "outputs": [
    {
     "ename": "NetworkXError",
     "evalue": "Node 'synqteam' has no position.",
     "output_type": "error",
     "traceback": [
      "\u001b[0;31m---------------------------------------------------------------------------\u001b[0m",
      "\u001b[0;31mKeyError\u001b[0m                                  Traceback (most recent call last)",
      "\u001b[0;32m~/miniconda3/envs/cse_v0/lib/python3.9/site-packages/networkx/drawing/nx_pylab.py\u001b[0m in \u001b[0;36mdraw_networkx_nodes\u001b[0;34m(G, pos, nodelist, node_size, node_color, node_shape, alpha, cmap, vmin, vmax, ax, linewidths, edgecolors, label, margins)\u001b[0m\n\u001b[1;32m    453\u001b[0m     \u001b[0;32mtry\u001b[0m\u001b[0;34m:\u001b[0m\u001b[0;34m\u001b[0m\u001b[0;34m\u001b[0m\u001b[0m\n\u001b[0;32m--> 454\u001b[0;31m         \u001b[0mxy\u001b[0m \u001b[0;34m=\u001b[0m \u001b[0mnp\u001b[0m\u001b[0;34m.\u001b[0m\u001b[0masarray\u001b[0m\u001b[0;34m(\u001b[0m\u001b[0;34m[\u001b[0m\u001b[0mpos\u001b[0m\u001b[0;34m[\u001b[0m\u001b[0mv\u001b[0m\u001b[0;34m]\u001b[0m \u001b[0;32mfor\u001b[0m \u001b[0mv\u001b[0m \u001b[0;32min\u001b[0m \u001b[0mnodelist\u001b[0m\u001b[0;34m]\u001b[0m\u001b[0;34m)\u001b[0m\u001b[0;34m\u001b[0m\u001b[0;34m\u001b[0m\u001b[0m\n\u001b[0m\u001b[1;32m    455\u001b[0m     \u001b[0;32mexcept\u001b[0m \u001b[0mKeyError\u001b[0m \u001b[0;32mas\u001b[0m \u001b[0me\u001b[0m\u001b[0;34m:\u001b[0m\u001b[0;34m\u001b[0m\u001b[0;34m\u001b[0m\u001b[0m\n",
      "\u001b[0;32m~/miniconda3/envs/cse_v0/lib/python3.9/site-packages/networkx/drawing/nx_pylab.py\u001b[0m in \u001b[0;36m<listcomp>\u001b[0;34m(.0)\u001b[0m\n\u001b[1;32m    453\u001b[0m     \u001b[0;32mtry\u001b[0m\u001b[0;34m:\u001b[0m\u001b[0;34m\u001b[0m\u001b[0;34m\u001b[0m\u001b[0m\n\u001b[0;32m--> 454\u001b[0;31m         \u001b[0mxy\u001b[0m \u001b[0;34m=\u001b[0m \u001b[0mnp\u001b[0m\u001b[0;34m.\u001b[0m\u001b[0masarray\u001b[0m\u001b[0;34m(\u001b[0m\u001b[0;34m[\u001b[0m\u001b[0mpos\u001b[0m\u001b[0;34m[\u001b[0m\u001b[0mv\u001b[0m\u001b[0;34m]\u001b[0m \u001b[0;32mfor\u001b[0m \u001b[0mv\u001b[0m \u001b[0;32min\u001b[0m \u001b[0mnodelist\u001b[0m\u001b[0;34m]\u001b[0m\u001b[0;34m)\u001b[0m\u001b[0;34m\u001b[0m\u001b[0;34m\u001b[0m\u001b[0m\n\u001b[0m\u001b[1;32m    455\u001b[0m     \u001b[0;32mexcept\u001b[0m \u001b[0mKeyError\u001b[0m \u001b[0;32mas\u001b[0m \u001b[0me\u001b[0m\u001b[0;34m:\u001b[0m\u001b[0;34m\u001b[0m\u001b[0;34m\u001b[0m\u001b[0m\n",
      "\u001b[0;31mKeyError\u001b[0m: 'synqteam'",
      "\nThe above exception was the direct cause of the following exception:\n",
      "\u001b[0;31mNetworkXError\u001b[0m                             Traceback (most recent call last)",
      "\u001b[0;32m/tmp/ipykernel_507268/1723225979.py\u001b[0m in \u001b[0;36m<module>\u001b[0;34m\u001b[0m\n\u001b[1;32m      3\u001b[0m \u001b[0;31m# color the nodes according to their partition\u001b[0m\u001b[0;34m\u001b[0m\u001b[0;34m\u001b[0m\u001b[0m\n\u001b[1;32m      4\u001b[0m \u001b[0mcmap\u001b[0m \u001b[0;34m=\u001b[0m \u001b[0mcm\u001b[0m\u001b[0;34m.\u001b[0m\u001b[0mget_cmap\u001b[0m\u001b[0;34m(\u001b[0m\u001b[0;34m'viridis'\u001b[0m\u001b[0;34m,\u001b[0m \u001b[0mmax\u001b[0m\u001b[0;34m(\u001b[0m\u001b[0mpartition\u001b[0m\u001b[0;34m.\u001b[0m\u001b[0mvalues\u001b[0m\u001b[0;34m(\u001b[0m\u001b[0;34m)\u001b[0m\u001b[0;34m)\u001b[0m \u001b[0;34m+\u001b[0m \u001b[0;36m1\u001b[0m\u001b[0;34m)\u001b[0m\u001b[0;34m\u001b[0m\u001b[0;34m\u001b[0m\u001b[0m\n\u001b[0;32m----> 5\u001b[0;31m nx.draw_networkx_nodes(G, pos, partition.keys(), node_size=40,\n\u001b[0m\u001b[1;32m      6\u001b[0m                        cmap=cmap, node_color=list(partition.values()))\n\u001b[1;32m      7\u001b[0m \u001b[0mnx\u001b[0m\u001b[0;34m.\u001b[0m\u001b[0mdraw_networkx_edges\u001b[0m\u001b[0;34m(\u001b[0m\u001b[0mG\u001b[0m\u001b[0;34m,\u001b[0m \u001b[0mpos\u001b[0m\u001b[0;34m,\u001b[0m \u001b[0malpha\u001b[0m\u001b[0;34m=\u001b[0m\u001b[0;36m0.5\u001b[0m\u001b[0;34m)\u001b[0m\u001b[0;34m\u001b[0m\u001b[0;34m\u001b[0m\u001b[0m\n",
      "\u001b[0;32m~/miniconda3/envs/cse_v0/lib/python3.9/site-packages/networkx/drawing/nx_pylab.py\u001b[0m in \u001b[0;36mdraw_networkx_nodes\u001b[0;34m(G, pos, nodelist, node_size, node_color, node_shape, alpha, cmap, vmin, vmax, ax, linewidths, edgecolors, label, margins)\u001b[0m\n\u001b[1;32m    454\u001b[0m         \u001b[0mxy\u001b[0m \u001b[0;34m=\u001b[0m \u001b[0mnp\u001b[0m\u001b[0;34m.\u001b[0m\u001b[0masarray\u001b[0m\u001b[0;34m(\u001b[0m\u001b[0;34m[\u001b[0m\u001b[0mpos\u001b[0m\u001b[0;34m[\u001b[0m\u001b[0mv\u001b[0m\u001b[0;34m]\u001b[0m \u001b[0;32mfor\u001b[0m \u001b[0mv\u001b[0m \u001b[0;32min\u001b[0m \u001b[0mnodelist\u001b[0m\u001b[0;34m]\u001b[0m\u001b[0;34m)\u001b[0m\u001b[0;34m\u001b[0m\u001b[0;34m\u001b[0m\u001b[0m\n\u001b[1;32m    455\u001b[0m     \u001b[0;32mexcept\u001b[0m \u001b[0mKeyError\u001b[0m \u001b[0;32mas\u001b[0m \u001b[0me\u001b[0m\u001b[0;34m:\u001b[0m\u001b[0;34m\u001b[0m\u001b[0;34m\u001b[0m\u001b[0m\n\u001b[0;32m--> 456\u001b[0;31m         \u001b[0;32mraise\u001b[0m \u001b[0mnx\u001b[0m\u001b[0;34m.\u001b[0m\u001b[0mNetworkXError\u001b[0m\u001b[0;34m(\u001b[0m\u001b[0;34mf\"Node {e} has no position.\"\u001b[0m\u001b[0;34m)\u001b[0m \u001b[0;32mfrom\u001b[0m \u001b[0me\u001b[0m\u001b[0;34m\u001b[0m\u001b[0;34m\u001b[0m\u001b[0m\n\u001b[0m\u001b[1;32m    457\u001b[0m \u001b[0;34m\u001b[0m\u001b[0m\n\u001b[1;32m    458\u001b[0m     \u001b[0;32mif\u001b[0m \u001b[0misinstance\u001b[0m\u001b[0;34m(\u001b[0m\u001b[0malpha\u001b[0m\u001b[0;34m,\u001b[0m \u001b[0mIterable\u001b[0m\u001b[0;34m)\u001b[0m\u001b[0;34m:\u001b[0m\u001b[0;34m\u001b[0m\u001b[0;34m\u001b[0m\u001b[0m\n",
      "\u001b[0;31mNetworkXError\u001b[0m: Node 'synqteam' has no position."
     ]
    },
    {
     "data": {
      "image/png": "[encoded data removed]",
      "text/plain": [
       "<Figure size 432x288 with 1 Axes>"
      ]
     },
     "metadata": {
      "needs_background": "light"
     },
     "output_type": "display_data"
    }
   ],
   "source": [
    "# draw the graph\n",
    "# pos = nx.spring_layout(G)\n",
    "# color the nodes according to their partition\n",
    "cmap = cm.get_cmap('viridis', max(partition.values()) + 1)\n",
    "nx.draw_networkx_nodes(G, pos, partition.keys(), node_size=40,\n",
    "                       cmap=cmap, node_color=list(partition.values()))\n",
    "nx.draw_networkx_edges(G, pos, alpha=0.5)\n",
    "plt.show()"
   ]
  },
  {
   "cell_type": "code",
   "execution_count": null,
   "id": "735a2207-a518-4cf2-8cdb-d2f7b6be3ac5",
   "metadata": {},
   "outputs": [],
   "source": []
  }
 ],
 "metadata": {
  "kernelspec": {
   "display_name": "cse_v0",
   "language": "python",
   "name": "cse_v0"
  },
  "language_info": {
   "codemirror_mode": {
    "name": "ipython",
    "version": 3
   },
   "file_extension": ".py",
   "mimetype": "text/x-python",
   "name": "python",
   "nbconvert_exporter": "python",
   "pygments_lexer": "ipython3",
   "version": "3.9.7"
  }
 },
 "nbformat": 4,
 "nbformat_minor": 5
}

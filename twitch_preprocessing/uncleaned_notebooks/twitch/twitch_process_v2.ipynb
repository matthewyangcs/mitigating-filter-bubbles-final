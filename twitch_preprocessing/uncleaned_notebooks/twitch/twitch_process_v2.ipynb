{
 "cells": [
  {
   "cell_type": "code",
   "execution_count": 1,
   "id": "71b8f046-8a9d-403a-aafb-71c5f8163f11",
   "metadata": {},
   "outputs": [],
   "source": [
    "%load_ext autoreload\n",
    "%autoreload 2"
   ]
  },
  {
   "cell_type": "code",
   "execution_count": 2,
   "id": "13e1518a-a9ea-479a-b5f8-625c0143cb50",
   "metadata": {},
   "outputs": [],
   "source": [
    "import os\n",
    "import pandas as pd\n",
    "import community as community_louvain\n",
    "import matplotlib.cm as cm\n",
    "import matplotlib.pyplot as plt\n",
    "import networkx as nx\n",
    "import json\n",
    "from collections import Counter\n",
    "import time\n",
    "import seaborn as sns\n",
    "from communitygraph.bipartite import BipartiteCommunity as bp\n",
    "import communitygraph.util as util"
   ]
  },
  {
   "cell_type": "code",
   "execution_count": 3,
   "id": "27d5e63d-bca9-4dc3-8b07-7f1a49abc934",
   "metadata": {},
   "outputs": [],
   "source": [
    "PATH = os.path.join(os.getcwd(), 'data/100k_a.csv')"
   ]
  },
  {
   "cell_type": "code",
   "execution_count": 4,
   "id": "f0211af3-10f1-449a-85be-581ca092bfe5",
   "metadata": {},
   "outputs": [],
   "source": [
    "df = pd.read_csv(PATH, names=['user_id', 'stream_id', 'streamer_name', 'start_time', 'stop_time'])"
   ]
  },
  {
   "cell_type": "code",
   "execution_count": 5,
   "id": "cc3d9392-096d-4a60-be6e-c5ff7418ba01",
   "metadata": {},
   "outputs": [
    {
     "name": "stdout",
     "output_type": "stream",
     "text": [
      "Initializing...\n",
      "Filtering dataframe...\n",
      "Adding nodes...\n",
      "Adding edges...\n",
      "Completed.\n",
      "\n"
     ]
    }
   ],
   "source": [
    "twitch = bp(df, 'user_id', 'streamer_name', min_item_degree=50)"
   ]
  },
  {
   "cell_type": "code",
   "execution_count": 6,
   "id": "08eccb4b-91d8-4382-8ad4-1cc7d385f8dc",
   "metadata": {},
   "outputs": [
    {
     "name": "stdout",
     "output_type": "stream",
     "text": [
      "Total # of edges (interactions): 2367976\n",
      "\n",
      "# of unique user_id: 97027\n",
      "# of unique streamer_name: 6561\n",
      "# of unique edges: 1063130\n",
      "\n",
      "Average user_id weighted degree: 24.405330475022417\n",
      "Average streamer_name weighted degree: 360.91693339429963\n",
      "Average edge weight: 2.2273625991176997\n",
      "\n"
     ]
    }
   ],
   "source": [
    "twitch.describe_bipartite()"
   ]
  },
  {
   "cell_type": "code",
   "execution_count": 7,
   "id": "14a64a83-960a-4956-9b0e-0312996cdb49",
   "metadata": {},
   "outputs": [
    {
     "name": "stdout",
     "output_type": "stream",
     "text": [
      "Starting partition of items with resolution 1.0...\n",
      "Starting weighted projection...\n",
      "Finished weighted projection in 276.55392384529114\n",
      "\n",
      "Finished partition in 351.4926700592041\n"
     ]
    }
   ],
   "source": [
    "partition = twitch.partition_items()"
   ]
  },
  {
   "cell_type": "code",
   "execution_count": 12,
   "id": "e9be21b4-5b63-4b72-bf18-21dec644c9c7",
   "metadata": {},
   "outputs": [],
   "source": [
    "projected = twitch.project_onto_items()"
   ]
  },
  {
   "cell_type": "code",
   "execution_count": 13,
   "id": "c9ea3dbc-4776-49da-8b30-26a0163e149c",
   "metadata": {},
   "outputs": [
    {
     "data": {
      "text/plain": [
       "0.48250424482674"
      ]
     },
     "execution_count": 13,
     "metadata": {},
     "output_type": "execute_result"
    }
   ],
   "source": [
    "community_louvain.modularity(partition, projected)"
   ]
  },
  {
   "cell_type": "code",
   "execution_count": 14,
   "id": "986ecc7c-4ad1-4b77-aaca-07e55aa65945",
   "metadata": {},
   "outputs": [
    {
     "data": {
      "image/png": "[encoded data removed]",
      "text/plain": [
       "<Figure size 432x288 with 1 Axes>"
      ]
     },
     "execution_count": 14,
     "metadata": {},
     "output_type": "execute_result"
    },
    {
     "data": {
      "image/png": "[encoded data removed]",
      "text/plain": [
       "<Figure size 432x288 with 1 Axes>"
      ]
     },
     "metadata": {
      "needs_background": "light"
     },
     "output_type": "display_data"
    }
   ],
   "source": [
    "util.plot_partition_distribution(partition)"
   ]
  },
  {
   "cell_type": "code",
   "execution_count": 15,
   "id": "738799a7-d180-4d17-bb2a-b9023656f6da",
   "metadata": {},
   "outputs": [],
   "source": [
    "new_df = util.label_df_partition(df, 'streamer_name', partition)"
   ]
  },
  {
   "cell_type": "code",
   "execution_count": 16,
   "id": "6fe6892c-aab2-439d-966f-cc26c8c066c5",
   "metadata": {},
   "outputs": [],
   "source": [
    "new_df.to_csv(path_or_buf='/raid/home/myang349/cse8803-project/twitch/data/modified_100k.csv')"
   ]
  },
  {
   "cell_type": "code",
   "execution_count": 18,
   "id": "69c241fa-9ae2-43df-a162-b9108d8fd8df",
   "metadata": {},
   "outputs": [
    {
     "data": {
      "text/html": [
       "<div>\n",
       "<style scoped>\n",
       "    .dataframe tbody tr th:only-of-type {\n",
       "        vertical-align: middle;\n",
       "    }\n",
       "\n",
       "    .dataframe tbody tr th {\n",
       "        vertical-align: top;\n",
       "    }\n",
       "\n",
       "    .dataframe thead th {\n",
       "        text-align: right;\n",
       "    }\n",
       "</style>\n",
       "<table border=\"1\" class=\"dataframe\">\n",
       "  <thead>\n",
       "    <tr style=\"text-align: right;\">\n",
       "      <th></th>\n",
       "      <th>user_id</th>\n",
       "      <th>stream_id</th>\n",
       "      <th>streamer_name</th>\n",
       "      <th>start_time</th>\n",
       "      <th>stop_time</th>\n",
       "      <th>community</th>\n",
       "    </tr>\n",
       "  </thead>\n",
       "  <tbody>\n",
       "    <tr>\n",
       "      <th>0</th>\n",
       "      <td>1</td>\n",
       "      <td>33842865744</td>\n",
       "      <td>mithrain</td>\n",
       "      <td>154</td>\n",
       "      <td>156</td>\n",
       "      <td>5</td>\n",
       "    </tr>\n",
       "    <tr>\n",
       "      <th>1</th>\n",
       "      <td>1</td>\n",
       "      <td>33846768288</td>\n",
       "      <td>alptv</td>\n",
       "      <td>166</td>\n",
       "      <td>169</td>\n",
       "      <td>5</td>\n",
       "    </tr>\n",
       "    <tr>\n",
       "      <th>2</th>\n",
       "      <td>1</td>\n",
       "      <td>33886469056</td>\n",
       "      <td>mithrain</td>\n",
       "      <td>587</td>\n",
       "      <td>588</td>\n",
       "      <td>5</td>\n",
       "    </tr>\n",
       "    <tr>\n",
       "      <th>3</th>\n",
       "      <td>1</td>\n",
       "      <td>33887624992</td>\n",
       "      <td>wtcn</td>\n",
       "      <td>589</td>\n",
       "      <td>591</td>\n",
       "      <td>5</td>\n",
       "    </tr>\n",
       "    <tr>\n",
       "      <th>4</th>\n",
       "      <td>1</td>\n",
       "      <td>33890145056</td>\n",
       "      <td>jrokezftw</td>\n",
       "      <td>591</td>\n",
       "      <td>594</td>\n",
       "      <td>5</td>\n",
       "    </tr>\n",
       "    <tr>\n",
       "      <th>...</th>\n",
       "      <td>...</td>\n",
       "      <td>...</td>\n",
       "      <td>...</td>\n",
       "      <td>...</td>\n",
       "      <td>...</td>\n",
       "      <td>...</td>\n",
       "    </tr>\n",
       "    <tr>\n",
       "      <th>3051728</th>\n",
       "      <td>100000</td>\n",
       "      <td>34167930576</td>\n",
       "      <td>mckytv</td>\n",
       "      <td>3582</td>\n",
       "      <td>3583</td>\n",
       "      <td>3</td>\n",
       "    </tr>\n",
       "    <tr>\n",
       "      <th>3051729</th>\n",
       "      <td>100000</td>\n",
       "      <td>34168288656</td>\n",
       "      <td>natehill</td>\n",
       "      <td>3582</td>\n",
       "      <td>3583</td>\n",
       "      <td>0</td>\n",
       "    </tr>\n",
       "    <tr>\n",
       "      <th>3051730</th>\n",
       "      <td>100000</td>\n",
       "      <td>34169594512</td>\n",
       "      <td>fortnite</td>\n",
       "      <td>3582</td>\n",
       "      <td>3584</td>\n",
       "      <td>0</td>\n",
       "    </tr>\n",
       "    <tr>\n",
       "      <th>3051731</th>\n",
       "      <td>100000</td>\n",
       "      <td>34180223072</td>\n",
       "      <td>highdistortion</td>\n",
       "      <td>3709</td>\n",
       "      <td>3711</td>\n",
       "      <td>0</td>\n",
       "    </tr>\n",
       "    <tr>\n",
       "      <th>3051732</th>\n",
       "      <td>100000</td>\n",
       "      <td>34181187808</td>\n",
       "      <td>symfuhny</td>\n",
       "      <td>3706</td>\n",
       "      <td>3708</td>\n",
       "      <td>0</td>\n",
       "    </tr>\n",
       "  </tbody>\n",
       "</table>\n",
       "<p>2367976 rows × 6 columns</p>\n",
       "</div>"
      ],
      "text/plain": [
       "         user_id    stream_id   streamer_name  start_time  stop_time  \\\n",
       "0              1  33842865744        mithrain         154        156   \n",
       "1              1  33846768288           alptv         166        169   \n",
       "2              1  33886469056        mithrain         587        588   \n",
       "3              1  33887624992            wtcn         589        591   \n",
       "4              1  33890145056       jrokezftw         591        594   \n",
       "...          ...          ...             ...         ...        ...   \n",
       "3051728   100000  34167930576          mckytv        3582       3583   \n",
       "3051729   100000  34168288656        natehill        3582       3583   \n",
       "3051730   100000  34169594512        fortnite        3582       3584   \n",
       "3051731   100000  34180223072  highdistortion        3709       3711   \n",
       "3051732   100000  34181187808        symfuhny        3706       3708   \n",
       "\n",
       "         community  \n",
       "0                5  \n",
       "1                5  \n",
       "2                5  \n",
       "3                5  \n",
       "4                5  \n",
       "...            ...  \n",
       "3051728          3  \n",
       "3051729          0  \n",
       "3051730          0  \n",
       "3051731          0  \n",
       "3051732          0  \n",
       "\n",
       "[2367976 rows x 6 columns]"
      ]
     },
     "execution_count": 18,
     "metadata": {},
     "output_type": "execute_result"
    }
   ],
   "source": [
    "new_df"
   ]
  },
  {
   "cell_type": "code",
   "execution_count": 22,
   "id": "b4835be9-ca97-4a7f-ac09-f5b1d47fb4a3",
   "metadata": {},
   "outputs": [
    {
     "ename": "NetworkXError",
     "evalue": "`partition` is not a valid partition of the nodes of G",
     "output_type": "error",
     "traceback": [
      "\u001b[0;31m---------------------------------------------------------------------------\u001b[0m",
      "\u001b[0;31mNetworkXError\u001b[0m                             Traceback (most recent call last)",
      "\u001b[0;32m/tmp/ipykernel_3025666/3083285608.py\u001b[0m in \u001b[0;36m<module>\u001b[0;34m\u001b[0m\n\u001b[0;32m----> 1\u001b[0;31m \u001b[0mnx\u001b[0m\u001b[0;34m.\u001b[0m\u001b[0malgorithms\u001b[0m\u001b[0;34m.\u001b[0m\u001b[0mcommunity\u001b[0m\u001b[0;34m.\u001b[0m\u001b[0mpartition_quality\u001b[0m\u001b[0;34m(\u001b[0m\u001b[0mprojected\u001b[0m\u001b[0;34m,\u001b[0m \u001b[0mpartition\u001b[0m\u001b[0;34m)\u001b[0m\u001b[0;34m\u001b[0m\u001b[0;34m\u001b[0m\u001b[0m\n\u001b[0m",
      "\u001b[0;32m~/miniconda3/envs/cse_v0/lib/python3.9/site-packages/networkx/utils/decorators.py\u001b[0m in \u001b[0;36margmap_partition_quality_5\u001b[0;34m(G, partition)\u001b[0m\n\u001b[1;32m      1\u001b[0m \u001b[0;32mfrom\u001b[0m \u001b[0mcollections\u001b[0m \u001b[0;32mimport\u001b[0m \u001b[0mdefaultdict\u001b[0m\u001b[0;34m\u001b[0m\u001b[0;34m\u001b[0m\u001b[0m\n\u001b[1;32m      2\u001b[0m \u001b[0;32mfrom\u001b[0m \u001b[0mos\u001b[0m\u001b[0;34m.\u001b[0m\u001b[0mpath\u001b[0m \u001b[0;32mimport\u001b[0m \u001b[0msplitext\u001b[0m\u001b[0;34m\u001b[0m\u001b[0;34m\u001b[0m\u001b[0m\n\u001b[0;32m----> 3\u001b[0;31m \u001b[0;32mfrom\u001b[0m \u001b[0mcontextlib\u001b[0m \u001b[0;32mimport\u001b[0m \u001b[0mcontextmanager\u001b[0m\u001b[0;34m\u001b[0m\u001b[0;34m\u001b[0m\u001b[0m\n\u001b[0m\u001b[1;32m      4\u001b[0m \u001b[0;32mfrom\u001b[0m \u001b[0mpathlib\u001b[0m \u001b[0;32mimport\u001b[0m \u001b[0mPath\u001b[0m\u001b[0;34m\u001b[0m\u001b[0;34m\u001b[0m\u001b[0m\n\u001b[1;32m      5\u001b[0m \u001b[0;32mimport\u001b[0m \u001b[0mwarnings\u001b[0m\u001b[0;34m\u001b[0m\u001b[0;34m\u001b[0m\u001b[0m\n",
      "\u001b[0;32m~/miniconda3/envs/cse_v0/lib/python3.9/site-packages/networkx/algorithms/community/quality.py\u001b[0m in \u001b[0;36m_require_partition\u001b[0;34m(G, partition)\u001b[0m\n\u001b[1;32m     54\u001b[0m     \u001b[0;32mif\u001b[0m \u001b[0mis_partition\u001b[0m\u001b[0;34m(\u001b[0m\u001b[0mG\u001b[0m\u001b[0;34m,\u001b[0m \u001b[0mpartition\u001b[0m\u001b[0;34m)\u001b[0m\u001b[0;34m:\u001b[0m\u001b[0;34m\u001b[0m\u001b[0;34m\u001b[0m\u001b[0m\n\u001b[1;32m     55\u001b[0m         \u001b[0;32mreturn\u001b[0m \u001b[0mG\u001b[0m\u001b[0;34m,\u001b[0m \u001b[0mpartition\u001b[0m\u001b[0;34m\u001b[0m\u001b[0;34m\u001b[0m\u001b[0m\n\u001b[0;32m---> 56\u001b[0;31m     \u001b[0;32mraise\u001b[0m \u001b[0mnx\u001b[0m\u001b[0;34m.\u001b[0m\u001b[0mNetworkXError\u001b[0m\u001b[0;34m(\u001b[0m\u001b[0;34m\"`partition` is not a valid partition of the nodes of G\"\u001b[0m\u001b[0;34m)\u001b[0m\u001b[0;34m\u001b[0m\u001b[0;34m\u001b[0m\u001b[0m\n\u001b[0m\u001b[1;32m     57\u001b[0m \u001b[0;34m\u001b[0m\u001b[0m\n\u001b[1;32m     58\u001b[0m \u001b[0;34m\u001b[0m\u001b[0m\n",
      "\u001b[0;31mNetworkXError\u001b[0m: `partition` is not a valid partition of the nodes of G"
     ]
    }
   ],
   "source": [
    "nx.algorithms.community.partition_quality(projected, partition)"
   ]
  },
  {
   "cell_type": "code",
   "execution_count": 24,
   "id": "6d0418da-8215-4ee2-a197-6e98026c61b5",
   "metadata": {},
   "outputs": [
    {
     "data": {
      "text/plain": [
       "6561"
      ]
     },
     "execution_count": 24,
     "metadata": {},
     "output_type": "execute_result"
    }
   ],
   "source": [
    "len(partition)"
   ]
  },
  {
   "cell_type": "code",
   "execution_count": 25,
   "id": "73b99e6c-be54-4a09-abf7-64eaed3c3ed3",
   "metadata": {},
   "outputs": [
    {
     "data": {
      "text/plain": [
       "6561"
      ]
     },
     "execution_count": 25,
     "metadata": {},
     "output_type": "execute_result"
    }
   ],
   "source": [
    "len(set(projected.nodes))"
   ]
  },
  {
   "cell_type": "code",
   "execution_count": 28,
   "id": "736e7c15-acab-4edf-9a88-00833506e1b3",
   "metadata": {},
   "outputs": [
    {
     "data": {
      "text/plain": [
       "False"
      ]
     },
     "execution_count": 28,
     "metadata": {},
     "output_type": "execute_result"
    }
   ],
   "source": [
    "nx.algorithms.community.is_partition(projected, partition)"
   ]
  },
  {
   "cell_type": "code",
   "execution_count": null,
   "id": "592e6ace-648f-4a12-856b-1753ef6629da",
   "metadata": {},
   "outputs": [],
   "source": []
  }
 ],
 "metadata": {
  "kernelspec": {
   "display_name": "cse_prod_env",
   "language": "python",
   "name": "cse_prod_env"
  },
  "language_info": {
   "codemirror_mode": {
    "name": "ipython",
    "version": 3
   },
   "file_extension": ".py",
   "mimetype": "text/x-python",
   "name": "python",
   "nbconvert_exporter": "python",
   "pygments_lexer": "ipython3",
   "version": "3.9.7"
  }
 },
 "nbformat": 4,
 "nbformat_minor": 5
}
